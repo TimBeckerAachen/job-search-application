{
 "cells": [
  {
   "cell_type": "code",
   "execution_count": 5,
   "id": "d6b9dffe-c7dd-4611-be75-27cf4d1bb0f6",
   "metadata": {},
   "outputs": [],
   "source": [
    "import json\n",
    "\n",
    "import os\n",
    "import sys\n",
    "module_path = os.path.abspath(os.path.join('..'))\n",
    "if module_path not in sys.path:\n",
    "    sys.path.append(module_path)\n",
    "\n",
    "from job_search_application.minsearch import Index"
   ]
  },
  {
   "cell_type": "code",
   "execution_count": 12,
   "id": "3a5062cc-3373-47fd-aea0-ffdf63948319",
   "metadata": {},
   "outputs": [],
   "source": [
    "with open('../data/retrival_evaluation_data.json', 'r') as json_file:\n",
    "    eval_data = json.load(json_file)"
   ]
  },
  {
   "cell_type": "code",
   "execution_count": 13,
   "id": "da4339b5-7981-4f1f-83b1-5b392b667736",
   "metadata": {},
   "outputs": [
    {
     "data": {
      "text/plain": [
       "830"
      ]
     },
     "execution_count": 13,
     "metadata": {},
     "output_type": "execute_result"
    }
   ],
   "source": [
    "len(eval_data)"
   ]
  },
  {
   "cell_type": "code",
   "execution_count": 14,
   "id": "3cddf3ce-31b2-441c-a655-bdf6a8878a09",
   "metadata": {},
   "outputs": [],
   "source": [
    "with open('../data/job_data.json', 'r') as json_file:\n",
    "    job_data = json.load(json_file)"
   ]
  },
  {
   "cell_type": "code",
   "execution_count": 15,
   "id": "6a857a78-4b82-42ad-8dc0-99ea4478f4cc",
   "metadata": {},
   "outputs": [
    {
     "data": {
      "text/plain": [
       "167"
      ]
     },
     "execution_count": 15,
     "metadata": {},
     "output_type": "execute_result"
    }
   ],
   "source": [
    "len(job_data)"
   ]
  },
  {
   "cell_type": "code",
   "execution_count": 16,
   "id": "75af763d-c4b5-43c3-b65b-40d3973910af",
   "metadata": {},
   "outputs": [
    {
     "data": {
      "text/plain": [
       "<job_search_application.minsearch.Index at 0x7fc9a7fae090>"
      ]
     },
     "execution_count": 16,
     "metadata": {},
     "output_type": "execute_result"
    }
   ],
   "source": [
    "index = Index(\n",
    "    text_fields=[\n",
    "        \"title\",\n",
    "        \"company\",\n",
    "        \"locations\",\n",
    "        \"skills\",\n",
    "        \"posted_at\",\n",
    "        \"is_remote\",\n",
    "        \"snippet_fragments\",\n",
    "        \"description\"\n",
    "    ],\n",
    "    keyword_fields=[\"id\"]\n",
    ")\n",
    "\n",
    "index.fit(job_data)"
   ]
  },
  {
   "cell_type": "code",
   "execution_count": 17,
   "id": "3b3c199f-f565-44c3-9fdf-dbde3b74ed47",
   "metadata": {},
   "outputs": [],
   "source": [
    "def search(query):\n",
    "    boost = {}\n",
    "\n",
    "    results = index.search(\n",
    "        query=query,\n",
    "        filter_dict={},\n",
    "        boost_dict=boost,\n",
    "        num_results=3\n",
    "    )\n",
    "\n",
    "    return results"
   ]
  },
  {
   "cell_type": "code",
   "execution_count": 18,
   "id": "5b187451-0e03-4d54-863d-ebd7a706b88c",
   "metadata": {},
   "outputs": [
    {
     "name": "stdout",
     "output_type": "stream",
     "text": [
      "2 CRM Lead (m/w/d)\n",
      "141 Senior/Expert Data Privacy Engineer (f/m/d): Data Privacy-Preserving AI\n",
      "81 Senior/Expert Machine Learning Engineer (f/m/d): Data Privacy-Preserving AI\n"
     ]
    }
   ],
   "source": [
    "# test search\n",
    "query = \"I am looking for job as a CRM Lead in Berlin.\"\n",
    "search_results = search(query)\n",
    "\n",
    "for hit in search_results:\n",
    "    print(hit['id'], hit['title'])"
   ]
  },
  {
   "cell_type": "code",
   "execution_count": 19,
   "id": "4afcbf8a-2e69-4777-bacc-fa4cd9f3bf4a",
   "metadata": {},
   "outputs": [],
   "source": [
    "def evaluate(ground_truth, search_function):\n",
    "    relevance_total = []\n",
    "\n",
    "    for q in ground_truth:\n",
    "        doc_id = q['id']\n",
    "        results = search_function(q)\n",
    "        relevance = [d['id'] == doc_id for d in results]\n",
    "        relevance_total.append(relevance)\n",
    "\n",
    "    return {\n",
    "        'hit_rate': hit_rate(relevance_total),\n",
    "        'mrr': mrr(relevance_total),\n",
    "    }\n",
    "\n",
    "def hit_rate(relevance_total):\n",
    "    cnt = 0\n",
    "\n",
    "    for line in relevance_total:\n",
    "        if True in line:\n",
    "            cnt = cnt + 1\n",
    "\n",
    "    return cnt / len(relevance_total)\n",
    "\n",
    "def mrr(relevance_total):\n",
    "    total_score = 0.0\n",
    "\n",
    "    for line in relevance_total:\n",
    "        for rank in range(len(line)):\n",
    "            if line[rank] == True:\n",
    "                total_score = total_score + 1 / (rank + 1)\n",
    "\n",
    "    return total_score / len(relevance_total)"
   ]
  },
  {
   "cell_type": "code",
   "execution_count": 20,
   "id": "c571a400-130a-47d5-8dc5-5fed84bfff94",
   "metadata": {},
   "outputs": [
    {
     "data": {
      "text/plain": [
       "{'hit_rate': 0.6614457831325301, 'mrr': 0.5740963855421684}"
      ]
     },
     "execution_count": 20,
     "metadata": {},
     "output_type": "execute_result"
    }
   ],
   "source": [
    "evaluate(eval_data, lambda q: search(q['question']))"
   ]
  },
  {
   "cell_type": "code",
   "execution_count": 21,
   "id": "eccb5742-a359-4386-bc0d-dbee04fafdaf",
   "metadata": {},
   "outputs": [],
   "source": [
    "import random\n",
    "\n",
    "def simple_optimize(param_ranges, objective_function, val_data, n_iterations=5):\n",
    "    best_params = None\n",
    "    best_score = float('-inf')  # Assuming we're minimizing. Use float('-inf') if maximizing.\n",
    "\n",
    "    for _ in range(n_iterations):\n",
    "        # Generate random parameters\n",
    "        current_params = {}\n",
    "        for param, (min_val, max_val) in param_ranges.items():\n",
    "            if isinstance(min_val, int) and isinstance(max_val, int):\n",
    "                current_params[param] = random.randint(min_val, max_val)\n",
    "            else:\n",
    "                current_params[param] = random.uniform(min_val, max_val)\n",
    "        \n",
    "        # Evaluate the objective function\n",
    "        current_score = objective_function(current_params, val_data)\n",
    "        \n",
    "        # Update best if current is better\n",
    "        if current_score > best_score:  # Change to > if maximizing\n",
    "            best_score = current_score\n",
    "            best_params = current_params\n",
    "    \n",
    "    return best_params, best_score"
   ]
  },
  {
   "cell_type": "code",
   "execution_count": 22,
   "id": "823b9364-1b24-473a-bef6-2ba0a2b80fe0",
   "metadata": {},
   "outputs": [],
   "source": [
    "def minsearch_search(query, boost=None):\n",
    "    if boost is None:\n",
    "        boost = {}\n",
    "\n",
    "    results = index.search(\n",
    "        query=query,\n",
    "        filter_dict={},\n",
    "        boost_dict=boost,\n",
    "        num_results=3\n",
    "    )\n",
    "\n",
    "    return results"
   ]
  },
  {
   "cell_type": "code",
   "execution_count": 23,
   "id": "3923e8c2-155d-414d-a21a-408f7bf801ab",
   "metadata": {},
   "outputs": [],
   "source": [
    "param_ranges = {\n",
    "    \"title\": (0.0, 3.0),\n",
    "    \"company\": (0.0, 3.0),\n",
    "    \"locations\": (0.0, 3.0),\n",
    "    \"skills\": (0.0, 3.0),\n",
    "    \"posted_at\": (0.0, 3.0),\n",
    "    \"is_remote\": (0.0, 3.0),\n",
    "    \"snippet_fragments\": (0.0, 3.0),\n",
    "    \"description\": (0.0, 3.0),\n",
    "}\n",
    "\n",
    "def objective(boost_params, val_data):\n",
    "    def search_function(q):\n",
    "        return minsearch_search(q['question'], boost_params)\n",
    "\n",
    "    results = evaluate(val_data, search_function)\n",
    "    return results['mrr']"
   ]
  },
  {
   "cell_type": "code",
   "execution_count": 24,
   "id": "7c2ea28c-22d7-4836-b8c2-a684c542b919",
   "metadata": {},
   "outputs": [],
   "source": [
    "# TODO: random?\n",
    "validation_data = eval_data[:80*5]\n",
    "test_data = eval_data[5*80:]"
   ]
  },
  {
   "cell_type": "code",
   "execution_count": 25,
   "id": "d456d3fc-653b-499c-b2b7-27582def90e7",
   "metadata": {},
   "outputs": [
    {
     "data": {
      "text/plain": [
       "({'title': 1.2381302316564724,\n",
       "  'company': 1.1893658795325162,\n",
       "  'locations': 2.912048276332455,\n",
       "  'skills': 1.0518698887822846,\n",
       "  'posted_at': 2.08800533465675,\n",
       "  'is_remote': 0.8273411296050296,\n",
       "  'snippet_fragments': 0.5565008057082038,\n",
       "  'description': 2.197036708073208},\n",
       " 0.6758333333333337)"
      ]
     },
     "execution_count": 25,
     "metadata": {},
     "output_type": "execute_result"
    }
   ],
   "source": [
    "simple_optimize(param_ranges, objective, validation_data, n_iterations=20)"
   ]
  },
  {
   "cell_type": "code",
   "execution_count": 26,
   "id": "d511ccf0-59fb-4dc6-a55e-c09f5eb55d06",
   "metadata": {},
   "outputs": [],
   "source": [
    "def minsearch_improved(query):\n",
    "    boost = {\n",
    "      'title': 1.24,\n",
    "      'company': 1.2,\n",
    "      'locations': 2.91,\n",
    "      'skills': 1.05,\n",
    "      'posted_at': 2.09,\n",
    "      'is_remote': 0.83,\n",
    "      'snippet_fragments': 0.56,\n",
    "      'description': 2.18\n",
    "    }\n",
    "\n",
    "    results = index.search(\n",
    "        query=query,\n",
    "        filter_dict={},\n",
    "        boost_dict=boost,\n",
    "        num_results=3\n",
    "    )\n",
    "\n",
    "    return results"
   ]
  },
  {
   "cell_type": "code",
   "execution_count": 27,
   "id": "e350bb00-b0a7-422e-b986-7a97412d8cee",
   "metadata": {},
   "outputs": [
    {
     "data": {
      "text/plain": [
       "{'hit_rate': 0.76, 'mrr': 0.6762500000000002}"
      ]
     },
     "execution_count": 27,
     "metadata": {},
     "output_type": "execute_result"
    }
   ],
   "source": [
    "evaluate(validation_data, lambda q: minsearch_improved(q['question']))"
   ]
  },
  {
   "cell_type": "code",
   "execution_count": 28,
   "id": "a4844745-4ead-479e-b27c-262cce30e6f5",
   "metadata": {},
   "outputs": [
    {
     "data": {
      "text/plain": [
       "{'hit_rate': 0.586046511627907, 'mrr': 0.4934108527131784}"
      ]
     },
     "execution_count": 28,
     "metadata": {},
     "output_type": "execute_result"
    }
   ],
   "source": [
    "# TODO: dataset too small\n",
    "evaluate(test_data, lambda q: minsearch_improved(q['question']))"
   ]
  },
  {
   "cell_type": "code",
   "execution_count": 29,
   "id": "dc57d895-13aa-4745-9b08-073e18d97e19",
   "metadata": {},
   "outputs": [
    {
     "data": {
      "text/plain": [
       "{'hit_rate': 0.6698795180722892, 'mrr': 0.5815261044176704}"
      ]
     },
     "execution_count": 29,
     "metadata": {},
     "output_type": "execute_result"
    }
   ],
   "source": [
    "evaluate(eval_data, lambda q: minsearch_improved(q['question']))"
   ]
  },
  {
   "cell_type": "code",
   "execution_count": null,
   "id": "dc583e18-a697-47f7-94c8-5ff406a16cb6",
   "metadata": {},
   "outputs": [],
   "source": []
  }
 ],
 "metadata": {
  "kernelspec": {
   "display_name": "job-search-application",
   "language": "python",
   "name": "job-search-application"
  },
  "language_info": {
   "codemirror_mode": {
    "name": "ipython",
    "version": 3
   },
   "file_extension": ".py",
   "mimetype": "text/x-python",
   "name": "python",
   "nbconvert_exporter": "python",
   "pygments_lexer": "ipython3",
   "version": "3.12.7"
  }
 },
 "nbformat": 4,
 "nbformat_minor": 5
}
