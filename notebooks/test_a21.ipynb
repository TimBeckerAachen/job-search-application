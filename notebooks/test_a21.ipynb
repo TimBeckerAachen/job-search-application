{
 "cells": [
  {
   "cell_type": "code",
   "execution_count": 12,
   "id": "f860d62b-9d42-458b-b6d4-ec99e5c61fcd",
   "metadata": {},
   "outputs": [],
   "source": [
    "import os\n",
    "import json\n",
    "\n",
    "from ai21 import AI21Client\n",
    "from ai21.models.chat import ChatMessage"
   ]
  },
  {
   "cell_type": "code",
   "execution_count": 15,
   "id": "f0698620-e041-4e44-9e92-bb6e1cbbac53",
   "metadata": {},
   "outputs": [],
   "source": [
    "import sys\n",
    "module_path = os.path.abspath(os.path.join('..'))\n",
    "if module_path not in sys.path:\n",
    "    sys.path.append(module_path)\n",
    "\n",
    "from job_search_application.minsearch import Index"
   ]
  },
  {
   "cell_type": "code",
   "execution_count": 3,
   "id": "6bd24817-d474-41e5-a22b-407f87e2c164",
   "metadata": {},
   "outputs": [],
   "source": [
    "client = AI21Client()"
   ]
  },
  {
   "cell_type": "code",
   "execution_count": 4,
   "id": "648a5028-0119-4b47-95e2-57eeaff19014",
   "metadata": {},
   "outputs": [],
   "source": [
    "def suggest_product_title():\n",
    "    response = client.chat.completions.create(\n",
    "        model=\"jamba-instruct-preview\",  # Latest model\n",
    "        messages=[ChatMessage(   # Single message with a single prompt\n",
    "            role=\"user\",\n",
    "            content=\"Please return only 5 words.\"\n",
    "    )],\n",
    "        temperature=0.8,\n",
    "        max_tokens=200 # You can also mention a max length in the prompt \"limit responses to twenty words\"\n",
    "    )\n",
    "    print(response.choices[0].message.content)"
   ]
  },
  {
   "cell_type": "code",
   "execution_count": 7,
   "id": "caffd71c-8a7f-43cd-b26e-8f3fa5ae1942",
   "metadata": {},
   "outputs": [],
   "source": [
    "def a21_first_test():\n",
    "    response = client.chat.completions.create(\n",
    "        model=\"jamba-1.5-mini\",  # Latest model\n",
    "        messages=[ChatMessage(   # Single message with a single prompt\n",
    "            role=\"user\",\n",
    "            content=\"Please return only 5 words.\"\n",
    "    )],\n",
    "        temperature=0.8,\n",
    "        max_tokens=200 # You can also mention a max length in the prompt \"limit responses to twenty words\"\n",
    "    )\n",
    "    print(response.choices[0].message.content)\n",
    "    return response\n"
   ]
  },
  {
   "cell_type": "code",
   "execution_count": 8,
   "id": "27dd4892-ff75-4a46-a0e7-f86d40642d52",
   "metadata": {},
   "outputs": [
    {
     "name": "stdout",
     "output_type": "stream",
     "text": [
      "Customizable, predictive, intuitive, scalable, collaborative.\n"
     ]
    }
   ],
   "source": [
    "resp = a21_first_test()"
   ]
  },
  {
   "cell_type": "code",
   "execution_count": 9,
   "id": "15c6df52-a18c-4c63-9839-f15aebd4a5a4",
   "metadata": {},
   "outputs": [
    {
     "data": {
      "text/plain": [
       "ChatCompletionResponse(id='chat-54be4d21edb748108870717cabdb4c63', choices=[ChatCompletionResponseChoice(index=0, message=AssistantMessage(role='assistant', content='Customizable, predictive, intuitive, scalable, collaborative.', tool_calls=None), logprobs=None, finish_reason='stop')], usage=UsageInfo(prompt_tokens=17, completion_tokens=12, total_tokens=29))"
      ]
     },
     "execution_count": 9,
     "metadata": {},
     "output_type": "execute_result"
    }
   ],
   "source": [
    "resp"
   ]
  },
  {
   "cell_type": "code",
   "execution_count": null,
   "id": "df39e401-24af-4f04-bc1e-964a89c0002e",
   "metadata": {},
   "outputs": [],
   "source": []
  },
  {
   "cell_type": "code",
   "execution_count": 13,
   "id": "388437f8-9ce6-444b-aaf1-4a8f9f2dc282",
   "metadata": {},
   "outputs": [],
   "source": [
    "with open('../data/job_data.json', 'r') as json_file:\n",
    "    job_data = json.load(json_file)"
   ]
  },
  {
   "cell_type": "code",
   "execution_count": 16,
   "id": "11ec200c-4c9e-4529-bbc5-c7702fcc583a",
   "metadata": {},
   "outputs": [
    {
     "data": {
      "text/plain": [
       "<job_search_application.minsearch.Index at 0x7f8531364ce0>"
      ]
     },
     "execution_count": 16,
     "metadata": {},
     "output_type": "execute_result"
    }
   ],
   "source": [
    "index = Index(\n",
    "    text_fields=[\n",
    "        \"title\",\n",
    "        \"company\",\n",
    "        \"locations\",\n",
    "        \"skills\",\n",
    "        \"posted_at\",\n",
    "        \"is_remote\",\n",
    "        \"snippet_fragments\",\n",
    "        \"description\"\n",
    "    ],\n",
    "    keyword_fields=[\"id\"]\n",
    ")\n",
    "\n",
    "index.fit(job_data)"
   ]
  },
  {
   "cell_type": "code",
   "execution_count": 17,
   "id": "fe806e2f-fa30-4143-a65b-ce55c2c72373",
   "metadata": {},
   "outputs": [],
   "source": [
    "def search(query):\n",
    "    boost = {}\n",
    "\n",
    "    results = index.search(\n",
    "        query=query,\n",
    "        filter_dict={},\n",
    "        boost_dict=boost,\n",
    "        num_results=3\n",
    "    )\n",
    "\n",
    "    return results"
   ]
  },
  {
   "cell_type": "code",
   "execution_count": 18,
   "id": "306587b9-5f9f-43fe-bb60-24e6d7e8dca2",
   "metadata": {},
   "outputs": [],
   "source": [
    "query = \"I am looking for job as a CRM Lead in Berlin.\"\n",
    "search_results = search(query)"
   ]
  },
  {
   "cell_type": "code",
   "execution_count": 10,
   "id": "3da9bc03-06e9-41b0-849b-fe90bdb87a98",
   "metadata": {},
   "outputs": [],
   "source": [
    "prompt_template = \"\"\"\n",
    "You're an expert application coach. Answer the QUESTION based on the CONTEXT from the job database.\n",
    "Use only the facts from the CONTEXT when answering the QUESTION.\n",
    "\n",
    "QUESTION: {question}\n",
    "\n",
    "CONTEXT:\n",
    "{context}\n",
    "\"\"\".strip()\n",
    "\n",
    "entry_template = \"\"\"\n",
    "job_title: {title}\n",
    "company_name: {company}\n",
    "work locations: {locations}\n",
    "highlighted skills: {skills}\n",
    "date of posting: {posted_at}\n",
    "short job summary: {snippet_fragments}\n",
    "detailed job description: {description}\n",
    "\"\"\".strip()\n",
    "\n",
    "def build_prompt(query, search_results):\n",
    "    context = \"\"\n",
    "    \n",
    "    for doc in search_results:\n",
    "        context = context + entry_template.format(**doc) + \"\\n\\n\"\n",
    "\n",
    "    prompt = prompt_template.format(question=query, context=context).strip()\n",
    "    return prompt"
   ]
  },
  {
   "cell_type": "code",
   "execution_count": 30,
   "id": "70a557a2-963d-4022-83a4-630ac5c83dac",
   "metadata": {},
   "outputs": [],
   "source": [
    "# print(build_prompt(query, search_results))"
   ]
  },
  {
   "cell_type": "code",
   "execution_count": 24,
   "id": "0e3f479e-4bed-485e-8f6a-fc6a2273d9f5",
   "metadata": {},
   "outputs": [],
   "source": [
    "def llm(prompt, model='jamba-1.5-mini'):\n",
    "    response = client.chat.completions.create(\n",
    "    model=model,  \n",
    "    messages=[ChatMessage(   \n",
    "        role=\"user\",\n",
    "        content=prompt\n",
    "    )],\n",
    "        temperature=0.8,\n",
    "        max_tokens=200\n",
    "    )    \n",
    "    return response.choices[0].message.content, response"
   ]
  },
  {
   "cell_type": "code",
   "execution_count": 25,
   "id": "9c532430-544a-48bd-a8cc-f6a0e2a92fe0",
   "metadata": {},
   "outputs": [],
   "source": [
    "def rag(query, model='jamba-1.5-mini'):\n",
    "    search_results = search(query)\n",
    "    prompt = build_prompt(query, search_results)\n",
    "    answer, resp = llm(prompt, model=model)\n",
    "    return answer, resp"
   ]
  },
  {
   "cell_type": "code",
   "execution_count": 26,
   "id": "0b6de1be-f76c-4850-8c10-e58b383ff4fb",
   "metadata": {},
   "outputs": [],
   "source": [
    "answer, resp = rag(query)"
   ]
  },
  {
   "cell_type": "code",
   "execution_count": 27,
   "id": "b866181d-5d57-497d-ad81-95a36595e74f",
   "metadata": {},
   "outputs": [
    {
     "data": {
      "text/plain": [
       "'Given the job title \"CRM Lead\" and the requirement for experience in CRM, this job posting at FORMEL SKIN in Berlin is highly relevant.'"
      ]
     },
     "execution_count": 27,
     "metadata": {},
     "output_type": "execute_result"
    }
   ],
   "source": [
    "answer"
   ]
  },
  {
   "cell_type": "code",
   "execution_count": 28,
   "id": "6de89d2e-04dd-4f9d-94d9-10d44ea4cca9",
   "metadata": {},
   "outputs": [
    {
     "data": {
      "text/plain": [
       "ChatCompletionResponse(id='chat-e1d85d256c154d89848a6ebc9629f0e5', choices=[ChatCompletionResponseChoice(index=0, message=AssistantMessage(role='assistant', content='Given the job title \"CRM Lead\" and the requirement for experience in CRM, this job posting at FORMEL SKIN in Berlin is highly relevant.', tool_calls=None), logprobs=None, finish_reason='stop')], usage=UsageInfo(prompt_tokens=5896, completion_tokens=33, total_tokens=5929))"
      ]
     },
     "execution_count": 28,
     "metadata": {},
     "output_type": "execute_result"
    }
   ],
   "source": [
    "resp"
   ]
  }
 ],
 "metadata": {
  "kernelspec": {
   "display_name": "job-search-application",
   "language": "python",
   "name": "job-search-application"
  },
  "language_info": {
   "codemirror_mode": {
    "name": "ipython",
    "version": 3
   },
   "file_extension": ".py",
   "mimetype": "text/x-python",
   "name": "python",
   "nbconvert_exporter": "python",
   "pygments_lexer": "ipython3",
   "version": "3.12.7"
  }
 },
 "nbformat": 4,
 "nbformat_minor": 5
}
