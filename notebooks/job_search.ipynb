{
 "cells": [
  {
   "cell_type": "code",
   "execution_count": null,
   "id": "50120a3c-1f8d-4908-9971-a9b453e0e777",
   "metadata": {},
   "outputs": [],
   "source": []
  },
  {
   "cell_type": "code",
   "execution_count": 86,
   "id": "4c6f06fb-3587-4530-b46b-9f426d1a627c",
   "metadata": {},
   "outputs": [],
   "source": [
    "import time\n",
    "import json\n",
    "import requests\n",
    "from bs4 import BeautifulSoup"
   ]
  },
  {
   "cell_type": "code",
   "execution_count": 153,
   "id": "544f9ac0-8011-469d-a850-9301d3a01816",
   "metadata": {},
   "outputs": [],
   "source": [
    "# TODO: type hints\n",
    "def get_dict_from_url(url: str) -> dict:\n",
    "    headers = {\"User-Agent\": \"Mozilla/5.0 (Windows NT 10.0; Win64; x64) AppleWebKit/537.36 (KHTML, like Gecko) Chrome/58.0.3029.110 Safari/537.3\"}\n",
    "    response = requests.get(url, headers=headers)\n",
    "    \n",
    "    if response.status_code != 200:\n",
    "        raise\n",
    "        \n",
    "    json_data = get_dict_from_resp(response)\n",
    "    return json_data\n",
    "\n",
    "\n",
    "def get_dict_from_resp(response):\n",
    "    main_soup = BeautifulSoup(response.text, 'html.parser')\n",
    "    script_tag = main_soup.find('script', type='text/javascript')\n",
    "    script_content = script_tag.string.strip()\n",
    "    start_idx = script_content.find('{\"config\":')\n",
    "    raw_data = script_content[start_idx:-1]\n",
    "    json_data = json.loads(raw_data)\n",
    "    return json_data\n",
    "\n",
    "def parse_jobtensor_jobs():\n",
    "    # TODO: provide filter\n",
    "    url = \"https://jobtensor.com/search?q=data&m=Lead,Principal&l=Berlin\"\n",
    "\n",
    "    json_data = get_dict_from_url(url)\n",
    "    \n",
    "    per_page = json_data['config']['per_page']\n",
    "    total_jobs = json_data['total']\n",
    "    num_pages = int(total_jobs / per_page) + (total_jobs % per_page > 0)\n",
    "\n",
    "    for page_num in range(num_pages):\n",
    "        print(page_num)\n",
    "        current_url = f\"{url}&page={page_num+1}\"\n",
    "\n",
    "        json_data = get_dict_from_url(current_url)\n",
    "    \n",
    "        job_hits = json_data['hits']\n",
    "    \n",
    "        job_list = []\n",
    "    \n",
    "        for job in job_hits:\n",
    "            job_dict = {\n",
    "            \"title\": job[\"title\"],\n",
    "            \"company\": job[\"company\"],\n",
    "            \"locations\": job[\"locations\"],\n",
    "            \"skills\": job[\"skills\"],\n",
    "            \"posted_at\": job[\"posted_at\"],\n",
    "            \"is_remote\": job[\"is_remote\"],\n",
    "            \"snippet_fragments\": job[\"snippet_fragments\"],\n",
    "            }\n",
    "            posting_url = f\"https://jobtensor.com/job/{job['slug']}\"\n",
    "    \n",
    "            inner_json_data = get_dict_from_url(posting_url)\n",
    "            \n",
    "            job_dict['description'] = inner_json_data['job']['description']\n",
    "            \n",
    "            job_list.append(job_dict)\n",
    "            time.sleep(5)\n",
    "    \n",
    "    return job_list\n",
    "    "
   ]
  },
  {
   "cell_type": "code",
   "execution_count": 154,
   "id": "b5e6637a-2818-44cb-b7f8-58583f0d6892",
   "metadata": {},
   "outputs": [
    {
     "name": "stdout",
     "output_type": "stream",
     "text": [
      "0\n",
      "Mechatroniker / Elektroniker (m/w/d) Automatisierungstechnik für Spritzgussfertigung\n",
      "https://jobtensor.com/job/Mechatroniker-Elektroniker-mwd-Automatisierungstechnik-für-Spritzgussfertigung-MahskjlIViVy\n",
      "\n",
      "1\n",
      "Principal Product Manager - First, Middle and Last Mile (all genders)\n",
      "https://jobtensor.com/job/Principal-Product-Manager-First-Middle-and-Last-Mile-all-genders-36c75d8fca5a\n",
      "\n"
     ]
    },
    {
     "ename": "KeyboardInterrupt",
     "evalue": "",
     "output_type": "error",
     "traceback": [
      "\u001b[0;31m---------------------------------------------------------------------------\u001b[0m",
      "\u001b[0;31mKeyboardInterrupt\u001b[0m                         Traceback (most recent call last)",
      "Cell \u001b[0;32mIn[154], line 1\u001b[0m\n\u001b[0;32m----> 1\u001b[0m \u001b[43mparse_jobs\u001b[49m\u001b[43m(\u001b[49m\u001b[43m)\u001b[49m\n",
      "Cell \u001b[0;32mIn[151], line 73\u001b[0m, in \u001b[0;36mparse_jobs\u001b[0;34m()\u001b[0m\n\u001b[1;32m     70\u001b[0m         job_dict[\u001b[38;5;124m'\u001b[39m\u001b[38;5;124mdescription\u001b[39m\u001b[38;5;124m'\u001b[39m] \u001b[38;5;241m=\u001b[39m inner_json_data[\u001b[38;5;124m'\u001b[39m\u001b[38;5;124mjob\u001b[39m\u001b[38;5;124m'\u001b[39m][\u001b[38;5;124m'\u001b[39m\u001b[38;5;124mdescription\u001b[39m\u001b[38;5;124m'\u001b[39m]\n\u001b[1;32m     72\u001b[0m         job_list\u001b[38;5;241m.\u001b[39mappend(job_dict)\n\u001b[0;32m---> 73\u001b[0m         \u001b[43mtime\u001b[49m\u001b[38;5;241;43m.\u001b[39;49m\u001b[43msleep\u001b[49m\u001b[43m(\u001b[49m\u001b[38;5;241;43m5\u001b[39;49m\u001b[43m)\u001b[49m\n\u001b[1;32m     75\u001b[0m \u001b[38;5;28;01mreturn\u001b[39;00m job_list\n",
      "\u001b[0;31mKeyboardInterrupt\u001b[0m: "
     ]
    }
   ],
   "source": [
    "parse_jobs()"
   ]
  },
  {
   "cell_type": "code",
   "execution_count": 134,
   "id": "6beb94ad-cd68-4ce5-a867-e776f6745515",
   "metadata": {},
   "outputs": [],
   "source": [
    "resp = requests.get('https://jobtensor.com/job/Mechatroniker-Elektroniker-mwd-Automatisierungstechnik-für-Spritzgussfertigung-MahskjlIViVy', headers=headers)\n",
    "# resp = requests.get('https://jobtensor.com/job/CRM-Lead-mwd-a0d10e3ebe8e', headers=headers)\n",
    "job_soup = BeautifulSoup(resp.text, 'html.parser')\n",
    "script_tag = job_soup.find('script', type='text/javascript')"
   ]
  },
  {
   "cell_type": "code",
   "execution_count": 135,
   "id": "1a9fe889-4af2-4b19-a4a0-08168c38f3c2",
   "metadata": {},
   "outputs": [],
   "source": [
    "resp = requests.get('https://jobtensor.com/job/Mechatroniker-Elektroniker-mwd-Automatisierungstechnik-für-Spritzgussfertigung-MahskjlIViVy', headers=headers)\n",
    "# resp = requests.get('https://jobtensor.com/job/CRM-Lead-mwd-a0d10e3ebe8e', headers=headers)\n",
    "job_soup = BeautifulSoup(resp.text, 'html.parser')\n",
    "script_tag = job_soup.find('script', type='text/javascript')\n",
    "script_content = script_tag.string.strip()\n",
    "start_idx = script_content.find('{\"config\":')\n",
    "raw_data = script_content[start_idx:-1]\n",
    "json_data = json.loads(raw_data)\n",
    "json_data['job']['description']"
   ]
  },
  {
   "cell_type": "code",
   "execution_count": 136,
   "id": "9098f8ce-5e2a-4594-949e-4c06800a298f",
   "metadata": {},
   "outputs": [
    {
     "data": {
      "text/plain": [
       "'<div id=\"jobtempl\" itemscope itemtype=\"http://schema.org/JobPosting\"> \\n   <div id=\"wrapper\"> \\n     \\n     <p class=\"logo\"><a href=\"https://anzeigenvorschau.net/bestmedia/img/1064226/2056378/cl/2178a78eac4bca4bac7ca98a88afd24d452e6954/L3933903/JeyJvbGRsaW5rIjoiaHR0cHM6Ly93d3cubm92YXBheC5kZSIsInpsIjoiam9idGVuc29yLmNvbSJ9\" target=\"_blank\"></a></p> \\n      \\n     \\n     \\n     <div class=\"inner verticalspace\"> \\n      <div data-ker=\"wysiwyg\" data-ker-id=\"u_beschreibung\" itemprop=\"description\"> \\n       <p><b>NOVAPAX</b> ist ein mittelständisches Unter\\xadnehmen der Kunststoff verarbeitenden Industrie mit ca. 190 Mitarbeitenden\\xa0mit Sitz in Berlin. Schwer\\xadpunkt ist die Her\\xadstellung komplexer technischer Komponenten und Bau\\xadgruppen im Kunst\\xadstoff\\xadspritzguss für Kunden aus den Branchen Automobil, Elektronik, Bau, Medizin und Sanitär. Basis für die Realisierung der präzisen Komponenten ist der eigene Formen\\xadbau mit 75 Jahren Erfahrung. Der Maschinen\\xadpark der Spritzerei umfasst über 75 Einheiten von 35 bis 400 Tonnen Schließ\\xadkraft der Marken Arburg, Engel und Demag. Die Fertigungs\\xadkonzepte werden im Team von Projekt\\xadmanagement, Konstruktion, Formenbau, Fertigung, Betriebs- und Verfahrens\\xadtechnik sowie Quali\\xadtäts\\xadsicherung entwickelt.</p> \\n      </div> \\n      <div data-ker=\"wysiwyg\" data-ker-id=\"titel_einleitung\" itemprop=\"description\"> \\n       <p>Werden Sie Teil unseres Teams am Standort\\xa0<b>Berlin</b> als</p> \\n      </div> \\n      <h2 itemprop=\"description\"> <strong data-ker-id=\"titel\" data-ker=\"input\" class=\"hgross\"><strong>Mechatroniker / Elektroniker (m/w/d)\\xa0</strong></strong> <strong data-ker-id=\"untertitel\" data-ker=\"input\"><br> <strong data-ker=\"input\" data-ker-id=\"titel\"><strong>Mechatroniker / Elektroniker (m/w/d)\\xa0</strong></strong></strong> </h2> \\n       \\n      <h4 data-ker=\"input\" data-ker-id=\"label_aufgaben\">Freuen Sie sich auf Ihre neuen Aufgaben:</h4> \\n      <div data-ker=\"wysiwyg\" data-ker-id=\"aufgaben\" itemprop=\"responsibilities\"> \\n       <ul> \\n        <li>Mitwirkung bei der Konzeption, Anfrage und Beauftragung von Auto\\xadmations\\xadprozessen in Verbindung mit Spritz\\xadguss\\xadmaschinen für robuste Serien\\xadprozesse</li> \\n        <li>Begleitung ausgewählter\\xa0Lösungsanbieter für Auto\\xadmatisierungs\\xadtechnik während der Projek\\xadtierungs\\xadphasen bis hin zu einer effi\\xadzienten Serien\\xadfertigung</li> \\n        <li>Organisation von Vorabnahmen, Installationen, Inbetrieb\\xadnahmen und Abnahmen neuer Automations\\xadanlagen für die Serien\\xadproduktion</li> \\n        <li>Schulung der Mitarbeitenden zur Handhabung komplexer Anlagen und Maschinen</li> \\n        <li>Optimierung der Prozesse in Fertigungs\\xadanlagen, einschließlich Spritz\\xadguss\\xadmaschinen und Peripherie\\xadanlagen</li> \\n        <li>Sicherstellung der Anlagen\\xadverfüg\\xadbarkeit durch Behebung von Störungen und Fehlfunktionen</li> \\n        <li>Installation, Montage, Reparatur und Instand\\xadhaltung mecha\\xadtronischer Systeme</li> \\n        <li>Parametrier- und Programmier\\xadarbeiten an Anlagen und Maschinen</li> \\n        <li>Dokumentation durchgeführter Arbeiten, Erstellung von Wartungs\\xadprotokollen sowie Aktualisierung technischer Unterlagen und Pläne\\xa0im MES- bzw. ERP-System</li> \\n       </ul> \\n      </div> \\n      <h4 data-ker=\"input\" data-ker-id=\"label_profil\">Überzeugen Sie uns mit Ihrem Profil:</h4> \\n      <div data-ker=\"wysiwyg\" data-ker-id=\"profil\" itemprop=\"qualifications\"> \\n       <ul> \\n        <li>Abgeschlossene Ausbildung als Mechatroniker (m/w/d), Industrie\\xadelektriker (m/w/d) oder Elektroniker\\xa0(m/w/d) für Automatisierungs- und System\\xadtechnik bzw. eine vergleichbare Quali\\xadfikation</li> \\n        <li>Idealerweise praktische Erfahrung in der Kunst\\xadstoff\\xadspritz\\xadguss\\xadproduktion</li> \\n        <li>Mehrjährige Berufserfahrung in der Installation, Wartung und Reparatur elektrischer Anlagen und mecha\\xadtronischer Systeme</li> \\n        <li>Know-how in der Fehleranalyse und -behebung sowie Grundkenntnisse in der Programmierung von Steuerungs\\xadsystemen</li> \\n        <li>Routinierter Umgang mit MES- und ERP-Systemen sowie MS Office</li> \\n        <li>Gute Deutsch- und Englischkenntnisse in Wort und Schrift</li> \\n        <li>Bereitschaft zur Weiterbildung in den Bereichen Elektro\\xadtechnik, Mechanik und Automation</li> \\n        <li>Teamfähigkeit, Zuverlässig\\xadkeit, Flexibilität und Anpassungs\\xadfähig\\xadkeit in einem dynamischen Arbeits\\xadumfeld</li> \\n        <li>Hohe Lernbereitschaft und Engagement zur Verbesserung von Prozessen und Systemen</li> \\n        <li>Freude an der Weitergabe von Wissen an Ihre Kollegen (m/w/d) und der Über\\xadnahme neuer Aufgaben und Projekte</li> \\n        <li>Bereitschaft zur Arbeit im Mehr\\xadschicht\\xadsystem</li> \\n       </ul> \\n      </div> \\n      <h4 data-ker=\"input\" data-ker-id=\"label_wir_bieten\">Unser Angebot für Sie:</h4> \\n      <div data-ker=\"wysiwyg\" data-ker-id=\"wir_bieten\" itemprop=\"jobBenefits\"> \\n       <ul> \\n        <li>Ein erfolgreiches Familienunternehmen mit Wachstumspotenzial</li> \\n        <li>Interessante Aufgaben in einem\\xa0innovativen\\xa0Umfeld</li> \\n        <li>Ein umfassendes Einarbeitungsprogramm</li> \\n        <li>Eine leistungsgerechte, attraktive Vergütung</li> \\n        <li>30 Tage Urlaub</li> \\n        <li>Fort- und Weiterbildungsangebote</li> \\n        <li>Kostenfreie Mitarbeiterparkplätze sowie Zuschuss zum Deutschlandticket</li> \\n        <li>Arbeitgeberunterstützte Altersvorsorge und vermögenswirksame Leistungen</li> \\n       </ul> \\n      </div> \\n      <h4 data-ker=\"input\" data-ker-id=\"label_firmenkontakt\">Bereit für neue Wege?</h4> \\n      <div data-ker=\"wysiwyg\" data-ker-id=\"firmenkontakt\" itemprop=\"contact\"> \\n       <p>Dann freuen wir uns auf Ihre aussagekräftige Bewerbung unter Angabe Ihrer Gehaltsvorstellung und des frühestmöglichen Eintrittstermins per E-Mail an\\xa0<a href=\"mailto:jobs@novapax.de?subject=Bewerbung%20als%20Mechatroniker%20%2F%20Elektroniker%20%28m%2Fw%2Fd%29%20Automatisierungstechnik%20f%C3%BCr%20Spritzgussfertigung\">jobs@novapax.de</a>.</p> \\n       <p>Diese Position betreut unsere Kollegin Frau Bußmann. Gerne beantwortet sie Ihre Fragen vorab telefonisch unter\\xa0<span class=\"no-wrap\">030 70191443</span>.</p> \\n      </div> \\n     </div> \\n     \\n     \\n     <div data-ker=\"wysiwyg\" data-ker-id=\"adresse\" itemprop=\"contact\"> \\n      <p><b>NOVAPAX Kunststofftechnik </b><strong>Steiner GmbH & Co. KG</strong><br> Schätzelbergstraße 4–10, 12099 Berlin | <a href=\"https://anzeigenvorschau.net/bestmedia/img/1064226/2056378/cl/d96443e9b63fd35bc59558ceda6522d6f4113989/L3933905/JeyJvbGRsaW5rIjoiaHR0cHM6Ly93d3cubm92YXBheC5kZSIsInpsIjoiam9idGVuc29yLmNvbSJ9\" target=\"_blank\">www.novapax.de</a></p> \\n     </div> \\n     \\n   </div> \\n    \\n  </div>'"
      ]
     },
     "execution_count": 136,
     "metadata": {},
     "output_type": "execute_result"
    }
   ],
   "source": [
    "json_data['job']['description']"
   ]
  },
  {
   "cell_type": "code",
   "execution_count": 105,
   "id": "d34a1025-b257-42e0-b059-fd022165e818",
   "metadata": {},
   "outputs": [
    {
     "name": "stdout",
     "output_type": "stream",
     "text": [
      "Mechatroniker / Elektroniker (m/w/d) Automatisierungstechnik für Spritzgussfertigung\n",
      "https://jobtensor.com/job/Mechatroniker-Elektroniker-mwd-Automatisierungstechnik-für-Spritzgussfertigung-MahskjlIViVy\n",
      "<!DOCTYPE html>\n",
      "\n",
      "<html lang=\"de\">\n",
      "<head>\n",
      "<meta content=\"DPR, Width\" http-equiv=\"Accept-CH\"/>\n",
      "<meta charset=\"utf-8\">\n",
      "<meta content=\"geG8Swtpv32gtjeCDiExKujsQtFXNa4TFb2cZgVh\" name=\"csrf-token\"/>\n",
      "<meta content=\"width=device-width, initial-scale=1.0\" name=\"viewport\">\n",
      "<title>Mechatroniker / Elektroniker (m/w/d) Automatisierungstechnik für Spritzgussfertigung | jobtensor</title>\n",
      "<meta content=\"notranslate\" name=\"google\"/>\n",
      "<meta content=\"Mechatroniker / Elektroniker (m/w/d) Automatisierungstechnik für Spritzgussfertigung\" name=\"description\"/>\n",
      "<meta content=\"Mechatroniker / Elektroniker (m/w/d) Automatisierungstechnik für Spritzgussfertigung\" property=\"og:title\"/>\n",
      "<meta content=\"https://jobtensor.com/favicon/favicon-310.png\" property=\"og:image\"/>\n",
      "<meta content=\"Mechatroniker / Elektroniker (m/w/d) Automatisierungstechnik für Spritzgussfertigung\" property=\"og:description\"/>\n",
      "<meta content=\"summary\" name=\"twitter:card\"/>\n",
      "<meta content=\"@jobtensor\" name=\"twitter:creator\"/>\n",
      "<meta content=\"Mechatroniker / Elektroniker (m/w/d) Automatisierungstechnik für Spritzgussfertigung\" name=\"twitter:description\"/>\n",
      "<meta content=\"https://jobtensor.com/favicon/favicon-310.png\" name=\"twitter:image\"/>\n",
      "<meta content=\"@jobtensor\" name=\"twitter:site\"/>\n",
      "<meta content=\"Mechatroniker / Elektroniker (m/w/d) Automatisierungstechnik für Spritzgussfertigung\" name=\"twitter:title\"/>\n",
      "<meta content=\"https://jobtensor.com/job/Mechatroniker-Elektroniker-mwd-Automatisierungstechnik-f%C3%BCr-Spritzgussfertigung-MahskjlIViVy\" name=\"twitter:url\"/>\n",
      "<script type=\"application/ld+json\">{\"@context\":\"https:\\/\\/schema.org\",\"@type\":\"JobPosting\",\"title\":\"Mechatroniker \\/ Elektroniker (m\\/w\\/d) Automatisierungstechnik für Spritzgussfertigung\",\"description\":\"<div id=\\\"jobtempl\\\" itemscope itemtype=\\\"http:\\/\\/schema.org\\/JobPosting\\\"> \\n   <div id=\\\"wrapper\\\"> \\n     \\n     <p class=\\\"logo\\\"><a href=\\\"https:\\/\\/anzeigenvorschau.net\\/bestmedia\\/img\\/1064226\\/2056378\\/cl\\/2178a78eac4bca4bac7ca98a88afd24d452e6954\\/L3933903\\/JeyJvbGRsaW5rIjoiaHR0cHM6Ly93d3cubm92YXBheC5kZSIsInpsIjoiam9idGVuc29yLmNvbSJ9\\\" target=\\\"_blank\\\"><\\/a><\\/p> \\n      \\n     \\n     \\n     <div class=\\\"inner verticalspace\\\"> \\n      <div data-ker=\\\"wysiwyg\\\" data-ker-id=\\\"u_beschreibung\\\" itemprop=\\\"description\\\"> \\n       <p><b>NOVAPAX<\\/b> ist ein mittelständisches Unter­nehmen der Kunststoff verarbeitenden Industrie mit ca. 190 Mitarbeitenden mit Sitz in Berlin. Schwer­punkt ist die Her­stellung komplexer technischer Komponenten und Bau­gruppen im Kunst­stoff­spritzguss für Kunden aus den Branchen Automobil, Elektronik, Bau, Medizin und Sanitär. Basis für die Realisierung der präzisen Komponenten ist der eigene Formen­bau mit 75 Jahren Erfahrung. Der Maschinen­park der Spritzerei umfasst über 75 Einheiten von 35 bis 400 Tonnen Schließ­kraft der Marken Arburg, Engel und Demag. Die Fertigungs­konzepte werden im Team von Projekt­management, Konstruktion, Formenbau, Fertigung, Betriebs- und Verfahrens­technik sowie Quali­täts­sicherung entwickelt.<\\/p> \\n      <\\/div> \\n      <div data-ker=\\\"wysiwyg\\\" data-ker-id=\\\"titel_einleitung\\\" itemprop=\\\"description\\\"> \\n       <p>Werden Sie Teil unseres Teams am Standort <b>Berlin<\\/b> als<\\/p> \\n      <\\/div> \\n      <h2 itemprop=\\\"description\\\"> <strong data-ker-id=\\\"titel\\\" data-ker=\\\"input\\\" class=\\\"hgross\\\"><strong>Mechatroniker \\/ Elektroniker (m\\/w\\/d) <\\/strong><\\/strong> <strong data-ker-id=\\\"untertitel\\\" data-ker=\\\"input\\\"><br> <strong data-ker=\\\"input\\\" data-ker-id=\\\"titel\\\"><strong>Mechatroniker \\/ Elektroniker (m\\/w\\/d) <\\/strong><\\/strong><\\/strong> <\\/h2> \\n       \\n      <h4 data-ker=\\\"input\\\" data-ker-id=\\\"label_aufgaben\\\">Freuen Sie sich auf Ihre neuen Aufgaben:<\\/h4> \\n      <div data-ker=\\\"wysiwyg\\\" data-ker-id=\\\"aufgaben\\\" itemprop=\\\"responsibilities\\\"> \\n       <ul> \\n        <li>Mitwirkung bei der Konzeption, Anfrage und Beauftragung von Auto­mations­prozessen in Verbindung mit Spritz­guss­maschinen für robuste Serien­prozesse<\\/li> \\n        <li>Begleitung ausgewählter Lösungsanbieter für Auto­matisierungs­technik während der Projek­tierungs­phasen bis hin zu einer effi­zienten Serien­fertigung<\\/li> \\n        <li>Organisation von Vorabnahmen, Installationen, Inbetrieb­nahmen und Abnahmen neuer Automations­anlagen für die Serien­produktion<\\/li> \\n        <li>Schulung der Mitarbeitenden zur Handhabung komplexer Anlagen und Maschinen<\\/li> \\n        <li>Optimierung der Prozesse in Fertigungs­anlagen, einschließlich Spritz­guss­maschinen und Peripherie­anlagen<\\/li> \\n        <li>Sicherstellung der Anlagen­verfüg­barkeit durch Behebung von Störungen und Fehlfunktionen<\\/li> \\n        <li>Installation, Montage, Reparatur und Instand­haltung mecha­tronischer Systeme<\\/li> \\n        <li>Parametrier- und Programmier­arbeiten an Anlagen und Maschinen<\\/li> \\n        <li>Dokumentation durchgeführter Arbeiten, Erstellung von Wartungs­protokollen sowie Aktualisierung technischer Unterlagen und Pläne im MES- bzw. ERP-System<\\/li> \\n       <\\/ul> \\n      <\\/div> \\n      <h4 data-ker=\\\"input\\\" data-ker-id=\\\"label_profil\\\">Überzeugen Sie uns mit Ihrem Profil:<\\/h4> \\n      <div data-ker=\\\"wysiwyg\\\" data-ker-id=\\\"profil\\\" itemprop=\\\"qualifications\\\"> \\n       <ul> \\n        <li>Abgeschlossene Ausbildung als Mechatroniker (m\\/w\\/d), Industrie­elektriker (m\\/w\\/d) oder Elektroniker (m\\/w\\/d) für Automatisierungs- und System­technik bzw. eine vergleichbare Quali­fikation<\\/li> \\n        <li>Idealerweise praktische Erfahrung in der Kunst­stoff­spritz­guss­produktion<\\/li> \\n        <li>Mehrjährige Berufserfahrung in der Installation, Wartung und Reparatur elektrischer Anlagen und mecha­tronischer Systeme<\\/li> \\n        <li>Know-how in der Fehleranalyse und -behebung sowie Grundkenntnisse in der Programmierung von Steuerungs­systemen<\\/li> \\n        <li>Routinierter Umgang mit MES- und ERP-Systemen sowie MS Office<\\/li> \\n        <li>Gute Deutsch- und Englischkenntnisse in Wort und Schrift<\\/li> \\n        <li>Bereitschaft zur Weiterbildung in den Bereichen Elektro­technik, Mechanik und Automation<\\/li> \\n        <li>Teamfähigkeit, Zuverlässig­keit, Flexibilität und Anpassungs­fähig­keit in einem dynamischen Arbeits­umfeld<\\/li> \\n        <li>Hohe Lernbereitschaft und Engagement zur Verbesserung von Prozessen und Systemen<\\/li> \\n        <li>Freude an der Weitergabe von Wissen an Ihre Kollegen (m\\/w\\/d) und der Über­nahme neuer Aufgaben und Projekte<\\/li> \\n        <li>Bereitschaft zur Arbeit im Mehr­schicht­system<\\/li> \\n       <\\/ul> \\n      <\\/div> \\n      <h4 data-ker=\\\"input\\\" data-ker-id=\\\"label_wir_bieten\\\">Unser Angebot für Sie:<\\/h4> \\n      <div data-ker=\\\"wysiwyg\\\" data-ker-id=\\\"wir_bieten\\\" itemprop=\\\"jobBenefits\\\"> \\n       <ul> \\n        <li>Ein erfolgreiches Familienunternehmen mit Wachstumspotenzial<\\/li> \\n        <li>Interessante Aufgaben in einem innovativen Umfeld<\\/li> \\n        <li>Ein umfassendes Einarbeitungsprogramm<\\/li> \\n        <li>Eine leistungsgerechte, attraktive Vergütung<\\/li> \\n        <li>30 Tage Urlaub<\\/li> \\n        <li>Fort- und Weiterbildungsangebote<\\/li> \\n        <li>Kostenfreie Mitarbeiterparkplätze sowie Zuschuss zum Deutschlandticket<\\/li> \\n        <li>Arbeitgeberunterstützte Altersvorsorge und vermögenswirksame Leistungen<\\/li> \\n       <\\/ul> \\n      <\\/div> \\n      <h4 data-ker=\\\"input\\\" data-ker-id=\\\"label_firmenkontakt\\\">Bereit für neue Wege?<\\/h4> \\n      <div data-ker=\\\"wysiwyg\\\" data-ker-id=\\\"firmenkontakt\\\" itemprop=\\\"contact\\\"> \\n       <p>Dann freuen wir uns auf Ihre aussagekräftige Bewerbung unter Angabe Ihrer Gehaltsvorstellung und des frühestmöglichen Eintrittstermins per E-Mail an <a href=\\\"mailto:jobs@novapax.de?subject=Bewerbung%20als%20Mechatroniker%20%2F%20Elektroniker%20%28m%2Fw%2Fd%29%20Automatisierungstechnik%20f%C3%BCr%20Spritzgussfertigung\\\">jobs@novapax.de<\\/a>.<\\/p> \\n       <p>Diese Position betreut unsere Kollegin Frau Bußmann. Gerne beantwortet sie Ihre Fragen vorab telefonisch unter <span class=\\\"no-wrap\\\">030 70191443<\\/span>.<\\/p> \\n      <\\/div> \\n     <\\/div> \\n     \\n     \\n     <div data-ker=\\\"wysiwyg\\\" data-ker-id=\\\"adresse\\\" itemprop=\\\"contact\\\"> \\n      <p><b>NOVAPAX Kunststofftechnik <\\/b><strong>Steiner GmbH & Co. KG<\\/strong><br> Schätzelbergstraße 4–10, 12099 Berlin | <a href=\\\"https:\\/\\/anzeigenvorschau.net\\/bestmedia\\/img\\/1064226\\/2056378\\/cl\\/d96443e9b63fd35bc59558ceda6522d6f4113989\\/L3933905\\/JeyJvbGRsaW5rIjoiaHR0cHM6Ly93d3cubm92YXBheC5kZSIsInpsIjoiam9idGVuc29yLmNvbSJ9\\\" target=\\\"_blank\\\">www.novapax.de<\\/a><\\/p> \\n     <\\/div> \\n     \\n   <\\/div> \\n    \\n  <\\/div>\",\"datePosted\":\"2024-10-02\",\"validThrough\":\"2024-11-13\",\"employmentType\":\"PERMANENT\",\"hiringOrganization\":{\"@type\":\"Organization\",\"name\":\"Novapax Kunststofftechnik\",\"logo\":\"https:\\/\\/anzeigenvorschau.net\\/bestmedia\\/stream\\/du\\/2056378\\/nvf658839f833b1329a31b0421c889a35be5b79b48\\/1064226\\/1de2f3c379b23e7\\/logo_treffer.png\"},\"directApply\":1}</script>\n",
      "<link href=\"https://jobtensor.com/job/Mechatroniker-Elektroniker-mwd-Automatisierungstechnik-f%C3%BCr-Spritzgussfertigung-MahskjlIViVy\" rel=\"canonical\"/>\n",
      "<link href=\"https://jobtensor.com/favicon/favicon.ico\" rel=\"shortcut icon\"/>\n",
      "<link href=\"https://jobtensor.com/favicon/favicon.ico\" rel=\"icon\" sizes=\"16x16 32x32 64x64\"/>\n",
      "<link href=\"https://jobtensor.com/favicon/favicon-192.png\" rel=\"icon\" sizes=\"196x196\" type=\"image/png\"/>\n",
      "<link href=\"https://jobtensor.com/favicon/favicon-160.png\" rel=\"icon\" sizes=\"160x160\" type=\"image/png\"/>\n",
      "<link href=\"https://jobtensor.com/favicon/favicon-96.png\" rel=\"icon\" sizes=\"96x96\" type=\"image/png\"/>\n",
      "<link href=\"https://jobtensor.com/favicon/favicon-64.png\" rel=\"icon\" sizes=\"64x64\" type=\"image/png\"/>\n",
      "<link href=\"https://jobtensor.com/favicon/favicon-32.png\" rel=\"icon\" sizes=\"32x32\" type=\"image/png\"/>\n",
      "<link href=\"https://jobtensor.com/favicon/favicon-16.png\" rel=\"icon\" sizes=\"16x16\" type=\"image/png\"/>\n",
      "<link href=\"https://jobtensor.com/favicon/favicon-180.png\" rel=\"apple-touch-icon\"/>\n",
      "<meta content=\"#FFFFFF\" name=\"msapplication-TileColor\"/>\n",
      "<meta content=\"https://jobtensor.com/favicon/favicon-144.png\" name=\"msapplication-TileImage\"/>\n",
      "<meta content=\"https://jobtensor.com/favicon/browserconfig.xml\" name=\"msapplication-config\"/><link crossorigin=\"anonymous\" href=\"https://use.typekit.net/gfd7srs.css\" media=\"print\" onload=\"this.media='all'; this.onload=null;\" rel=\"stylesheet\">\n",
      "<link href=\"https://jobtensor.com/packages/mdi/css/materialdesignicons.css\" media=\"print\" onload=\"this.media='all'; this.onload=null;\" rel=\"stylesheet\"/>\n",
      "<script type=\"text/javascript\">window['context']={\"config\":{\"origin\":\"https:\\/\\/jobtensor.com\",\"origin_route\":\"search.preview-job\",\"base_path\":\"\\/\",\"urls\":{\"home\":\"https:\\/\\/jobtensor.com\",\"blog\":\"https:\\/\\/jobtensor.com\\/blog\\/\",\"about\":\"https:\\/\\/jobtensor.com\\/about\",\"post-a-job\":\"https:\\/\\/jobtensor.com\\/register\",\"pricing\":\"https:\\/\\/jobtensor.com\\/pricing\",\"imprint\":\"https:\\/\\/jobtensor.com\\/imprint\",\"data-security\":\"https:\\/\\/jobtensor.com\\/data-security\",\"support\":\"https:\\/\\/jobtensor.com\\/support\",\"partners\":\"https:\\/\\/jobtensor.com\\/partners\",\"sitemap\":\"https:\\/\\/jobtensor.com\\/sitemap\\/index\",\"login\":\"https:\\/\\/jobtensor.com\\/login\",\"logout\":\"https:\\/\\/jobtensor.com\\/logout\",\"register\":\"https:\\/\\/jobtensor.com\\/register\",\"shortlisted\":\"https:\\/\\/jobtensor.com\\/my\\/shortlisted\",\"skill-listing\":\"https:\\/\\/jobtensor.com\\/top-it-skills-kenntnisse\",\"occupation-listing\":\"https:\\/\\/jobtensor.com\\/top-occupations-it-branche\",\"study-hub\":\"https:\\/\\/jobtensor.com\\/Studium\",\"training-hub\":\"https:\\/\\/jobtensor.com\\/Ausbildung\",\"occupation-hub\":\"https:\\/\\/jobtensor.com\\/Beruf\",\"salary-hub\":\"https:\\/\\/jobtensor.com\\/Gehalt\",\"tutorial-hub\":\"https:\\/\\/jobtensor.com\\/Tutorial\\/de\",\"search\":\"https:\\/\\/jobtensor.com\\/search\",\"search.show\":\"https:\\/\\/jobtensor.com\\/:path\",\"search.preview-job\":\"https:\\/\\/jobtensor.com\\/job\\/:slug\",\"search.subscribe\":\"https:\\/\\/jobtensor.com\\/search\\/subscribe\",\"ajax.search\":\"https:\\/\\/jobtensor.com\\/ajax\\/search\\/:path\",\"ajax.search.suggest\":\"https:\\/\\/jobtensor.com\\/ajax\\/search\\/suggest\",\"ajax.search.preview-job\":\"https:\\/\\/jobtensor.com\\/ajax\\/search\\/jobs\\/:slug\",\"ajax.search.preview-job.meta\":\"https:\\/\\/jobtensor.com\\/ajax\\/search\\/jobs\\/:slug\\/job-meta\",\"ajax.search.preview-job.perform-action\":\"https:\\/\\/jobtensor.com\\/ajax\\/search\\/jobs\\/:slug\\/perform-action\",\"ajax.search.preview-job.perform-apply\":\"https:\\/\\/jobtensor.com\\/ajax\\/search\\/jobs\\/:slug\\/perform-apply\",\"ajax.search.preview-job.visit\":\"https:\\/\\/jobtensor.com\\/ajax\\/search\\/jobs\\/:slug\\/visit\",\"ajax.search.skill\":\"https:\\/\\/jobtensor.com\\/ajax\\/search\\/skill\",\"ajax.search.top-terms\":\"https:\\/\\/jobtensor.com\\/ajax\\/search\\/top-terms\",\"ajax.bookmarks.store\":\"https:\\/\\/jobtensor.com\\/ajax\\/bookmarks\",\"ajax.bookmarks.delete\":\"https:\\/\\/jobtensor.com\\/ajax\\/bookmarks\",\"ajax.jobs.apply\":\"https:\\/\\/jobtensor.com\\/ajax\\/jobs\\/:job\\/apply\",\"ajax.external-jobs.apply\":\"https:\\/\\/jobtensor.com\\/ajax\\/external-jobs\\/:external_job\\/apply\",\"employer.dashboard\":\"https:\\/\\/jobtensor.com\\/dashboard\",\"employer.jobs.create\":\"https:\\/\\/jobtensor.com\\/employer\\/jobs\\/create?step=1&action=create\",\"jobseeker.login\":\"https:\\/\\/jobtensor.com\\/login?jobseeker\",\"jobseeker.register\":\"https:\\/\\/jobtensor.com\\/register?jobseeker\",\"jobseeker.dashboard\":\"https:\\/\\/jobtensor.com\\/jobseeker\",\"jobseeker.shortlisted\":\"https:\\/\\/jobtensor.com\\/jobseeker\\/shortlisted\"},\"countries\":{\"GERMANY\":\"de\",\"UNITED_KINGDOM\":\"uk\",\"PHILIPPINES\":\"ph\"},\"default_country\":\"de\",\"current_country\":\"de\",\"supported_languages\":[\"de\",\"en\"],\"default_language\":\"de\",\"map_center\":[\"51.165694\",\"10.451500\"],\"per_page\":15,\"support\":{\"email\":\"support@jobtensor.com\",\"contact\":\"+49 201 999505-60\",\"copyright\":\"Copyright \\u00a9 Jobtensor 2024. All Rights reserved.\"}},\"user\":{\"id\":null,\"is_employer\":false,\"is_jobseeker\":false,\"email\":null,\"full_name\":null,\"cv_link\":null,\"resume\":null},\"language\":\"de\",\"path\":null,\"page\":1,\"seo\":{\"title\":\"Mechatroniker \\/ Elektroniker (m\\/w\\/d) Automatisierungstechnik f\\u00fcr Spritzgussfertigung\",\"description\":\"Mechatroniker \\/ Elektroniker (m\\/w\\/d) Automatisierungstechnik f\\u00fcr Spritzgussfertigung\",\"canonical\":\"https:\\/\\/jobtensor.com\\/job\\/Mechatroniker-Elektroniker-mwd-Automatisierungstechnik-f%C3%BCr-Spritzgussfertigung-MahskjlIViVy\"},\"title\":\"Mechatroniker \\/ Elektroniker (m\\/w\\/d) Automatisierungstechnik f\\u00fcr Spritzgussfertigung\",\"total\":1202052,\"hits\":[{\"id\":2020,\"is_premium\":true,\"title\":\"Senior Application Owner (m\\/f\\/d)\",\"company\":\"SEFE Energy GmbH\",\"company_cluster\":\"SEFE Energy GmbH\",\"company_logo\":\"https:\\/\\/res.cloudinary.com\\/inqbyteio\\/image\\/upload\\/f_auto,w_72\\/if_ar_gt_1.78,c_lpad,w_72,h_72\\/if_else,c_fill,w_72,h_72\\/v1727857567\\/zb4mhbi5gvslcsyjjwaz.png\",\"posted_at\":\"2024-10-02\",\"locations\":[\"Kassel\"],\"is_remote\":false,\"snippet_fragments\":[\"Aber auch dar\\u00fcber hinaus sehen wir uns als wichtigen Bestandteil der Europ\\u00e4ischen Energiewende\",\"SEFE ist entlang der Energie-Wertsch\\u00f6pfungskette aktiv\",\"Dank jahrzehntelanger Expertise im Energiehandel und dem kontinuierlichen Ausbau des LNG-Angebots ist SEFE mit einem j\\u00e4hrlichen Vertriebsvolumen von 200 TWh Gas und Strom einer der wichtigsten Lieferanten von Industriekunden in Europa\",\"SEFE beliefert \\u00fcber 50.000 Kunden, von kleinen Unternehmen bis hin zu Stadtwerken und multinationalen Konzernen\",\"Durch Investitionen in saubere Energien und insbesondere in das Wasserstoff-\\u00d6kosystem leistet SEFE einen wichtigen Beitrag zur Energiewende\",\"SEFE besch\\u00e4ftigt weltweit rund 2.000 Mitarbeiter und ist ein Unternehmen des Bundes\"],\"from_rate\":null,\"to_rate\":null,\"rate_currency\":null,\"rate_unit\":null,\"skills\":[\"Java\",\"Test Management\",\"Web Services\",\"CD\",\"Cloud\",\"Continuous Integration\",\"SOAP\",\"Windows\",\"XML\",\"Linux\"],\"is_new\":false,\"is_expired\":false,\"slug\":\"Senior-Application-Owner-mfd-efBKKACGpUPj\"},{\"id\":2024,\"is_premium\":true,\"title\":\"Softwareentwickler (m\\/w\\/d)\",\"company\":\"Bayerisches Landesamt f\\u00fcr Gesundheit und Lebensmittelsicherheit\",\"company_cluster\":\"Bayerisches Landesamt f\\u00fcr Gesundheit und Lebensmittelsicherheit\",\"company_logo\":\"https:\\/\\/anzeigenvorschau.net\\/bestmedia\\/stream\\/du\\/2061240\\/nv6defb240963cd36de9777f697933ab021702a610\\/1064544\\/da0e2dcd7b08060\\/logo_treffer.png\",\"posted_at\":\"2024-10-02\",\"locations\":[\"Erlangen\"],\"is_remote\":false,\"snippet_fragments\":[\"Konzeption, Realisierung, Pflege und Betrieb von IT-Verfahren und Anwendungen \",\" Erstellung von Dokumentation (Pflichtenhefte, Fachkonzepte etc.) f\\u00fcr die IT-Verfahren\",\"       Installation und Test der einzuf\\u00fchrenden Softwarepakete  \",\"       Unterst\\u00fctzung der Mitarbeiterinnen und Mitarbeiter bez\\u00fcglich der eingesetzten IT-Verfahren  \",\"       Ansprechpartner (m\\/w\\/d) f\\u00fcr beteiligte externe Firmen  \",\"       Abgeschlossene Ausbildung als Fachinformatiker (m\\/w\\/d) f\\u00fcr Anwendungsentwicklung oder vergleichbare Ausbildung und Erfahrung \",\"        Sicherer Umgang mit Visual Studio\\/ Eclipse\",\"       Aufgeschlossenheit im Umgang mit Kolleginnen und Kollegen sowie freundliches und sicheres Auftreten im Kontakt mit Anwenderinnen und Anwendern sowie Firmen \",\"       Sehr gute Deutschkenntnisse in Wort und Schrift (mindestens Sprachniveau C1 nach GER)  \",\"      30 Tage Urlaub plus Heiligabend und Silvester arbeitsfrei \",\"      Die Einstellung erfolgt im Wege eines unbefristeten tarifrechtlichen Arbeitsverh\\u00e4ltnisses\",\"Die Verg\\u00fctung richtet sich nach den Regelungen des TV-L\",\"Die beabsichtigte Eingruppierung erfolgt je nach Qualifikation und pers\\u00f6nlichen Voraussetzungen in der Entgeltgruppe E9b\",\"N\\u00e4here Informationen zur Verg\\u00fctung finden Sie unter \",\"      Wenn wir Ihr Interesse geweckt haben\",\"Weitere Informationen zum Bewerbungsverfahren, die Bestandteil dieser Ausschreibung sind, finden Sie ebenfalls auf unserer \"],\"from_rate\":null,\"to_rate\":null,\"rate_currency\":null,\"rate_unit\":null,\"skills\":[\".NET\",\"C#\",\"Java\",\"Microsoft Office\",\"NHibernate\",\"Visual Studio\",\"Eclipse\",\"Git\",\"Massenspektrometrie\"],\"is_new\":false,\"is_expired\":false,\"slug\":\"Softwareentwickler-mwd-f2kXfgcpnIIT\"},{\"id\":2022,\"is_premium\":true,\"title\":\"Mechatroniker \\/ Elektroniker (m\\/w\\/d) Automatisierungstechnik f\\u00fcr Spritzgussfertigung\",\"company\":\"Novapax Kunststofftechnik\",\"company_cluster\":\"Novapax Kunststofftechnik\",\"company_logo\":\"https:\\/\\/anzeigenvorschau.net\\/bestmedia\\/stream\\/du\\/2056378\\/nvf658839f833b1329a31b0421c889a35be5b79b48\\/1064226\\/1de2f3c379b23e7\\/logo_treffer.png\",\"posted_at\":\"2024-10-02\",\"locations\":[\"Berlin\"],\"is_remote\":false,\"snippet_fragments\":[\"       Werden Sie Teil unseres Teams am StandortBerlin als \",\"       Mechatroniker \\/ Elektroniker (m\\/w\\/d)  Mechatroniker \\/ Elektroniker (m\\/w\\/d)  \",\"Mitwirkung bei der Konzeption, Anfrage und Beauftragung von Automationsprozessen in Verbindung mit Spritzgussmaschinen f\\u00fcr robuste Serienprozesse\",\"        Begleitung ausgew\\u00e4hlterL\\u00f6sungsanbieter f\\u00fcr Automatisierungstechnik w\\u00e4hrend der Projektierungsphasen bis hin zu einer effizienten Serienfertigung \",\"Organisation von Vorabnahmen, Installationen, Inbetriebnahmen und Abnahmen neuer Automationsanlagen f\\u00fcr die Serienproduktion\",\"        Schulung der Mitarbeitenden zur Handhabung komplexer Anlagen und Maschinen \",\"Optimierung der Prozesse in Fertigungsanlagen, einschlie\\u00dflich Spritzgussmaschinen und Peripherieanlagen\",\"        Sicherstellung der Anlagenverf\\u00fcgbarkeit durch Behebung von St\\u00f6rungen und Fehlfunktionen \",\"Installation, Montage, Reparatur und Instandhaltung mechatronischer Systeme\",\"        Parametrier- und Programmierarbeiten an Anlagen und Maschinen \",\"Dokumentation durchgef\\u00fchrter Arbeiten, Erstellung von Wartungsprotokollen sowie Aktualisierung technischer Unterlagen und Pl\\u00e4neim MES- bzw\",\"Abgeschlossene Ausbildung als Mechatroniker (m\\/w\\/d), Industrieelektriker (m\\/w\\/d) oder Elektroniker(m\\/w\\/d) f\\u00fcr Automatisierungs- und Systemtechnik bzw\",\"        Idealerweise praktische Erfahrung in der Kunststoffspritzgussproduktion \",\"Mehrj\\u00e4hrige Berufserfahrung in der Installation, Wartung und Reparatur elektrischer Anlagen und mechatronischer Systeme\",\"        Know-how in der Fehleranalyse und -behebung sowie Grundkenntnisse in der Programmierung von Steuerungssystemen \",\"        Routinierter Umgang mit MES- und ERP-Systemen sowie MS Office \",\"        Gute Deutsch- und Englischkenntnisse in Wort und Schrift \",\"        Bereitschaft zur Weiterbildung in den Bereichen Elektrotechnik\",\"Teamf\\u00e4higkeit, Zuverl\\u00e4ssigkeit, Flexibilit\\u00e4t und Anpassungsf\\u00e4higkeit in einem dynamischen Arbeitsumfeld\",\"        Hohe Lernbereitschaft und Engagement zur Verbesserung von Prozessen und Systemen \",\"        Freude an der Weitergabe von Wissen an Ihre Kollegen (m\\/w\\/d) und der \\u00dcbernahme neuer Aufgaben und Projekte \",\"        Kostenfreie Mitarbeiterparkpl\\u00e4tze sowie Zuschuss zum Deutschlandticket \"],\"from_rate\":null,\"to_rate\":null,\"rate_currency\":null,\"rate_unit\":null,\"skills\":[\"Microsoft Office\",\"Elektronik\",\"Formenbau\",\"Kunststofftechnik\",\"Medizin\",\"Massenspektrometrie\"],\"is_new\":false,\"is_expired\":false,\"slug\":\"Mechatroniker-Elektroniker-mwd-Automatisierungstechnik-f\\u00fcr-Spritzgussfertigung-MahskjlIViVy\"},{\"id\":2023,\"is_premium\":true,\"title\":\"Entwicklungsingenieur im Bereich Spezialkabelentwicklung (m\\/w\\/d)\",\"company\":\"Kromberg & Schubert GmbH Cable & Wire\",\"company_cluster\":\"Kromberg & Schubert GmbH Cable & Wire\",\"company_logo\":\"https:\\/\\/anzeigenvorschau.net\\/bestmedia\\/stream\\/du\\/2060290\\/nv64b105a6a81b84463ab18e25dc69c9fe98614558\\/1064224\\/cad0032f77c8d86\\/logo_treffer.png\",\"posted_at\":\"2024-10-02\",\"locations\":[\"Rhede bei Bocholt\"],\"is_remote\":false,\"snippet_fragments\":[\"        Erfolgreich abgeschlossenes Studium der Fachrichtung Elektrotechnik\",\"        Mehrj\\u00e4hrige Berufserfahrung in der Kabelkonstruktion oder \\u00e4hnlichen T\\u00e4tigkeiten in kabelnahen Branchen w\\u00fcnschenswert \",\"Analytisches Denken, eigenst\\u00e4ndige Arbeitsweise und Proaktivit\\u00e4t\",\"        Sehr gute Deutsch- und Englischkenntnisse in Wort und Schrift  \",\"        Wir sind ein weltweit f\\u00fchrender Hersteller von Spezialkabeln\",\"        Wir erm\\u00f6glichen spannende Erfahrungen und Herausforderungen\",\"Wir leben Werte wie Vertrauen, Mitarbeiterzufriedenheit und Wertsch\\u00e4tzung.\",\"Wir stehen f\\u00fcr Optimismus, Innovation und Freude am Erfolg.\",\"      Klingt super?Dann gleich bewerben und Farbe bekennen\"],\"from_rate\":\"60.000\",\"to_rate\":\"80.000\",\"rate_currency\":\"\\u20ac\",\"rate_unit\":\"p.a.\",\"skills\":[\"Powerpoint\",\"Excel\",\"Medizintechnik\",\"Physik\"],\"is_new\":false,\"is_expired\":false,\"slug\":\"Entwicklungsingenieur-im-Bereich-Spezialkabelentwicklung-mwd-j7TrOJLy3vcs\"},{\"id\":2021,\"is_premium\":true,\"title\":\"Category Manager (m\\/w\\/d) Global Procurement\",\"company\":\"MEYER WERFT GmbH & Co. KG\",\"company_cluster\":\"MEYER WERFT GmbH & Co. KG\",\"company_logo\":\"https:\\/\\/anzeigenvorschau.net\\/bestmedia\\/stream\\/du\\/2061824\\/nv5bd1a5cf42db845ab22d18458aee133864c2e72a\\/1064179\\/62665b84550fe69\\/logo_treffer.png\",\"posted_at\":\"2024-10-02\",\"locations\":[\"Papenburg\"],\"is_remote\":false,\"snippet_fragments\":[\"        abgeschlossenes Studium im Bereich Betriebswirtschaft\\/Wirtschaftsingenieurwesen bzw\",\"dreij\\u00e4hrige kaufm\\u00e4nnische oder technische Berufsausbildung und einschl\\u00e4gige Berufserfahrung \",\"        Eine interessante und vielf\\u00e4ltige Aufgabe in einem international agierenden Familienunternehmen mit flachen Hierarchien \",\"verg\\u00fcnstigtes Mittagessen und Getr\\u00e4nke, Firmen-Fitnessrabatte etc.)\",\"Bei uns arbeitest du eigenverantwortlich, bringst eigene Ideen ins Team ein und tr\\u00e4gst so zum gemeinsamen Erfolg bei\",\"Eine offene und respektvolle Unternehmenskultur, bei der wir mit einem starken Wir-Gef\\u00fchl Ziele gemeinsam verfolgen\",\"        Auf die Vereinbarkeit von Beruf und Familie legen wir gro\\u00dfen Wert und betreiben seit 2013 gemeinsam mit dem Deutschen Roten Kreuz als Tr\\u00e4ger unsere Betriebs-Kita Nautilus mit flexiblen \\u00d6ffnungszeiten\"],\"from_rate\":null,\"to_rate\":null,\"rate_currency\":null,\"rate_unit\":null,\"skills\":[\"Wirtschaftsingenieurwesen\"],\"is_new\":false,\"is_expired\":false,\"slug\":\"Category-Manager-mwd-Global-Procurement-yV1SWW2Xehm4\"},{\"id\":2018,\"is_premium\":true,\"title\":\"IT-Projektkoordinator*in (m\\/w\\/d) mit eig. Programmierf\\u00e4higkeiten\",\"company\":\"Mut f\\u00f6rdern e.V.\",\"company_cluster\":\"Mut f\\u00f6rdern e.V.\",\"company_logo\":\"https:\\/\\/res.cloudinary.com\\/inqbyteio\\/image\\/upload\\/f_auto,w_72\\/if_ar_gt_1.78,c_lpad,w_72,h_72\\/if_else,c_fill,w_72,h_72\\/v1727789270\\/oosoxlfs6ler1orcj7ke.png\",\"posted_at\":\"2024-10-01\",\"locations\":[\"Bremen\"],\"is_remote\":true,\"snippet_fragments\":[\"Du holst dir proaktiv Feedback und sprichst Unklarheiten an\",\"Du hast Interesse an gesundheitsbezogenen Themen und der Selbsthilfe\",\"Es besteht die M\\u00f6glichkeit, sich die Arbeitstage frei einzuteilen, was dir eine hohe Flexibilit\\u00e4t erm\\u00f6glicht.\",\"Wenn n\\u00f6tig, stellen wir dir eine dienstliche eSim, einen Zweitbildschirm oder weitere EDV-Ausr\\u00fcstung zur Verf\\u00fcgung, um deine Arbeit zu unterst\\u00fctzen.\",\"Du kannst eigene Ideen einbringen und deine Rolle im Laufe der Zeit weiter ausbauen\",\"H\\u00e4nge deinen Lebenslauf als separates PDF (max\"],\"from_rate\":null,\"to_rate\":null,\"rate_currency\":null,\"rate_unit\":null,\"skills\":[\"C#\",\"Docker\",\"Keycloak\",\"Python\",\"Ubuntu\",\"WordPress\",\"FileMaker\",\"Git\",\"HTML\",\"React\"],\"is_new\":false,\"is_expired\":false,\"slug\":\"IT-Projektkoordinatorin-mwd-mit-eig-Programmierf\\u00e4higkeiten-KSVY6lIeU9Dj\"},{\"id\":2017,\"is_premium\":true,\"title\":\"Konstrukteur Maschinen- & Anlagenbau\",\"company\":\"LEWA GmbH\",\"company_cluster\":\"LEWA GmbH\",\"company_logo\":\"https:\\/\\/anzeigenvorschau.net\\/bestmedia\\/stream\\/du\\/2059665\\/nv5bc65aef68cf1dcf438c45eac0019062a36ef8be\\/1063257\\/1016b98e33cb031\\/logo_treffer.png\",\"posted_at\":\"2024-10-01\",\"locations\":[\"Leonberg\"],\"is_remote\":false,\"snippet_fragments\":[\"        Kenntnisse der branchen\\u00fcblichen Regelwerke und Normen \",\"        Werkstoffkenntnisse (Materialauswahl anhand von Spezifikationen und Einsatzbedingungen) \",\"          Erfahrung im Umgang mit SAP R3 bzgl\",\"        Freiwillige Zusatzzahlungen wie Urlaubs- und Weihnachtsgeld \"],\"from_rate\":null,\"to_rate\":null,\"rate_currency\":null,\"rate_unit\":null,\"skills\":[\"Adobe Edge\",\"IDS\",\"SAP\",\"SOLID\",\"Solid Edge\",\"Anlagenbau\",\"Maschinenbau\",\"Regelungstechnik\"],\"is_new\":false,\"is_expired\":false,\"slug\":\"Konstrukteur-Maschinen-Anlagenbau-hEC9EyN0VeWv\"},{\"id\":2016,\"is_premium\":true,\"title\":\"Systemadministrator (m\\/w\\/d)\",\"company\":\"Stadt Schriesheim Rhein-Neckar-Kreis\",\"company_cluster\":\"Stadt Schriesheim Rhein-Neckar-Kreis\",\"company_logo\":\"https:\\/\\/anzeigenvorschau.net\\/bestmedia\\/stream\\/du\\/2059799\\/nvb03106c60fdbb78c8344029a70c5103a588a31fc\\/1063379\\/bd2da132390fdd2\\/logo_treffer.png\",\"posted_at\":\"2024-10-01\",\"locations\":[\"Schriesheim bei Mannheim\"],\"is_remote\":false,\"snippet_fragments\":[\" Installation und Verwaltung von Hardware und Software sowie Konfiguration von Serversystemen und Netzwerkkomponenten\",\" First- und Second-Level-Support f\\u00fcr das Rathaus und die Au\\u00dfenstellen, Analyse von St\\u00f6rungen und Fehlermeldungen sowie deren Behebung\",\" Verwaltung von Benutzer- und Computerobjekten im AD DS\",\" Steuerung, Ausbau und Administration der IT-Sicherheitssysteme\",\" Mitwirkung bei IT-Projekten sowie bei der Implementierung neuer Technologien \",\"       Eine abgeschlossene Ausbildung als Fachinformatiker(m\\/w\\/d) f\\u00fcr Systemintegration oder ein vergleichbarer Abschluss \",\"       Gute Kenntnisse in VMware sowie Microsoft-Client- und Server-Betriebssystemen \",\"Einschl\\u00e4gige Kenntnisse in Windows PowerShell, Veeam Backup& Replication oder baramundi Management Suite w\\u00fcnschenswert\",\"      Wir bieten Ihnen einen abwechslungsreichen und zukunftsorientierten Arbeitsplatz in einem engagierten\",\"       Stadtverwaltung Schriesheim  Friedrichstra\\u00dfe 2830 69198 Schriesheim Tel\"],\"from_rate\":null,\"to_rate\":null,\"rate_currency\":null,\"rate_unit\":null,\"skills\":[\"PowerShell\",\"Mobile Device Management\",\"VMware\",\"Veeam\",\"Replication\",\"Windows\"],\"is_new\":false,\"is_expired\":false,\"slug\":\"Systemadministrator-mwd-tayHbOuMRdRO\"},{\"id\":2019,\"is_premium\":true,\"title\":\"Referatsleiter*in Technische Revision\",\"company\":\"Max-Planck-Gesellschaft zur F\\u00f6rderung der Wissenschaften e.V.\",\"company_cluster\":\"Max-Planck-Gesellschaft zur F\\u00f6rderung der Wissenschaften e.V.\",\"company_logo\":\"https:\\/\\/anzeigenvorschau.net\\/bestmedia\\/stream\\/du\\/2054547\\/nv2ec6604fab1a81b0a57ff5d75a63536475be1a7a\\/1060247\\/edee3449f429385\\/logo_treffer.png\",\"posted_at\":\"2024-10-01\",\"locations\":[\"M\\u00fcnchen\"],\"is_remote\":false,\"snippet_fragments\":[\"Unverbindliche Informationen zum Gehalt finden Sie in der Entgelttabelle des \\u00f6ffentlichen Dienstes (TV\\u00f6D Bund)\",\"Ihr Arbeitsplatz liegt in der Stadtmitte M\\u00fcnchens und ist gut mit \\u00f6ffentlichen Verkehrsmitteln zu erreichen\",\"In der N\\u00e4he des Dienstgeb\\u00e4udes sind Betreuungsm\\u00f6glichkeiten f\\u00fcr Kinder im Alter von sechs Monaten bis drei Jahren vorhanden\",\"       Was Sie von uns erwarten k\\u00f6nnen \",\"       Wir unterst\\u00fctzen Sie bei der Vereinbarkeit von Beruf und Familie durch flexible Arbeitszeitmodelle \",\"       Wir f\\u00f6rdern Ihre pers\\u00f6nliche Entwicklung durch vielf\\u00e4ltige individuelle Weiterbildungsma\\u00dfnahmen und bieten Ihnen ein umfangreiches Angebot zur Gesundheitsf\\u00f6rderung sowie eine betriebliche Altersvorsorge \",\"       Wir bieten verg\\u00fcnstigte Jobtickets zur Nutzung des \\u00f6ffentlichen Personennahverkehrs \",\"       Daneben werden die \\u00fcblichen Sozialleistungen des \\u00f6ffentlichen Dienstes (Bund) gew\\u00e4hrt \",\"       Wir bieten die M\\u00f6glichkeit des mobilen Arbeitens \",\"      Die Max-Planck-Gesellschaft hat sich zum Ziel gesetzt\",\" Die Max-Planck-Gesellschaft strebt nach Geschlechtergerechtigkeit und Vielfalt\",\"Wir freuen uns \\u00fcber Bewerber*innen jeglichen Hintergrunds\",\"      Haben wir Ihr Interesse geweckt? Dann freuen wir uns auf Ihre vollst\\u00e4ndige Onlinebewerbung (Kennziffer 114\\/24) inklusive Motivationsschreiben unter  www\"],\"from_rate\":null,\"to_rate\":null,\"rate_currency\":null,\"rate_unit\":null,\"skills\":[],\"is_new\":false,\"is_expired\":false,\"slug\":\"Referatsleiterin-Technische-Revision-xUDCwSlh8S6H\"},{\"id\":2015,\"is_premium\":true,\"title\":\"IT-Mitarbeiter*in f\\u00fcr das Produktmanagement im Bereich E-Mail\",\"company\":\"Deutsche Bundesbank\",\"company_cluster\":\"Deutsche Bundesbank\",\"company_logo\":\"https:\\/\\/res.cloudinary.com\\/inqbyteio\\/image\\/upload\\/f_auto,w_72\\/if_ar_gt_1.78,c_lpad,w_72,h_72\\/if_else,c_fill,w_72,h_72\\/v1727705268\\/wfrkiroognreyimsgm3d.jpg\",\"posted_at\":\"2024-09-30\",\"locations\":[\"Munich\"],\"is_remote\":false,\"snippet_fragments\":[\"Die Produktverantwortung f\\u00fcr E-Mail liegt in einem cross-funktionalen Team\",\"vergleichbarer Studiengang mit IT-Schwerpunkt oder vergleichbare Kenntnisse aus langj\\u00e4hriger BerufserfahrungMehrj\\u00e4hrige Berufserfahrung im Produkt- und Projektmanagement von IT-Systemen\",\"In seltenen F\\u00e4llen kann es auch zu Wochenendarbeit kommenSehr gute kommunikative wie auch analytische und konzeptionelle F\\u00e4higkeiten gepaart mit Organisationsgeschick und einem hohen Ma\\u00df an Eigenst\\u00e4ndigkeitSehr gute Deutsch- und gute Englischkenntnisse in Wort und SchriftWertvolle Arbeit verdient besondere VorteileVerg\\u00fctung &amp; Perspektiven&nbsp;Verg\\u00fctung in Anlehnung an den TV\\u00f6D auf Basis der Entgeltgruppe E 12, zzgl\",\"Bankzulage, zukunftsorientierter Arbeitsplatz im \\u00f6ffentlichen Dienst mit verl\\u00e4sslichen Arbeitsbedingungen, unbefristetes Arbeitsverh\\u00e4ltnis, abwechslungsreiche Aufgaben, grunds\\u00e4tzliche Verbeamtungsm\\u00f6glichkeit, M\\u00f6glichkeit zur Fortf\\u00fchrung eines bestehenden Beamtenverh\\u00e4ltnisses (bis A 12)&nbsp;Verg\\u00fctung in Anlehnung an den TV\\u00f6D auf Basis der Entgeltgruppe E 12, zzgl\",\"Bankzulage, zukunftsorientierter Arbeitsplatz im \\u00f6ffentlichen Dienst mit verl\\u00e4sslichen Arbeitsbedingungen, unbefristetes Arbeitsverh\\u00e4ltnis, abwechslungsreiche Aufgaben, grunds\\u00e4tzliche Verbeamtungsm\\u00f6glichkeit, M\\u00f6glichkeit zur Fortf\\u00fchrung eines bestehenden Beamtenverh\\u00e4ltnisses (bis A 12)\",\"betriebliches Gesundheitsmanagement, Gesundheits- und Sportkurse, kostenloses Jobticket, gute Verkehrsanbindung (Bus &amp; Bahn)&nbsp;betriebliches Gesundheitsmanagement, Gesundheits- und Sportkurse, kostenloses Jobticket, gute Verkehrsanbindung (Bus &amp; Bahn)\",\"Falls Sie im Voraus noch Fragen haben\",\"Schwerbehinderte Menschen werden bei gleicher Eignung bevorzugt ber\\u00fccksichtigt\"],\"from_rate\":null,\"to_rate\":null,\"rate_currency\":null,\"rate_unit\":null,\"skills\":[\"ITIL\",\"Cloud\",\"Microsoft Exchange\",\"Malware\",\"Microsoft Outlook\",\"Agile Testing\",\"Massenspektrometrie\"],\"is_new\":false,\"is_expired\":false,\"slug\":\"IT-Mitarbeiterin-f\\u00fcr-das-Produktmanagement-im-Bereich-E-Mail-wTRfEOXZsi29\"},{\"id\":2013,\"is_premium\":true,\"title\":\"Sachgebietsleitung Hochbau (d\\/m\\/w) in der Fachgruppe Geb\\u00e4ude- und Grundst\\u00fccksbewirtschaftung\",\"company\":\"Hansestadt Buxtehude\",\"company_cluster\":\"Hansestadt Buxtehude\",\"company_logo\":\"https:\\/\\/anzeigenvorschau.net\\/bestmedia\\/stream\\/du\\/2055562\\/nv30ae7f14b62190c5d1295320f6132a5a3b041936\\/1062622\\/dcf672219a20f10\\/logo_treffer.png\",\"posted_at\":\"2024-09-30\",\"locations\":[\"Buxtehude\"],\"is_remote\":false,\"snippet_fragments\":[\"       Bei geeigneter Bewerbungslage ist eine Besetzung in Teilzeit m\\u00f6glich\",\"       Im neu zu bildenden Sachgebiet Hochbau werden zuk\\u00fcnftig alle Neu-\",\"Die Organisationseinheit \\u00fcbernimmt dabei als Steuerungseinheit \\u00fcberwiegend die Bauherrenfunktion f\\u00fcr Neu-\",\"Das Investitionsvolumen liegt f\\u00fcr die n\\u00e4chsten 4 Jahre bei rd\",\"       Setzen Sie auf eine vertrauensvolle Arbeitskultur  gepr\\u00e4gt von Respekt und Toleranz\",\"       Sch\\u00f6pfen Sie Ihre Potenziale voll aus\",\"Wir bieten Ihnen Raum f\\u00fcr Mitgestaltung\",\"Verschiedene Arbeitszeitmodelle oder Telearbeit k\\u00f6nnen individuell an Ihre Lebensphase angepasst werden\",\"       Bleiben Sie mit uns am Ball\",\"\\u00dcber Aktionen zur F\\u00f6rderung eines gesunden Lebensstils mit dem Ziel\",\"Seien Sie sicher.Wir bieten eine unbefristete Besch\\u00e4ftigung.\",\"       Setzen Sie auf eine faire Verg\\u00fctung\",\"       Sie \\u00fcbernehmen allgemeine Leitungst\\u00e4tigkeiten mit Personalverantwortung f\\u00fcr 11 Mitarbeiter*innen mit dem Schwerpunkt Wirtschaftlichkeit und Nachhaltigkeit\",\"       Sie verantworten die Steuerungsaufgaben zur Sicherstellung der Umsetzung der im Haushalt der Hansestadt Buxtehude festgeschriebenen Bauma\\u00dfnahmen\",\"Sie f\\u00fchren Ergebniskontrollen (Kosten, Termine, Qualit\\u00e4t) durch und erstellen Statusberichte (Baucontrolling).\",\"Sie \\u00fcbernehmen die Projektleitung, das Projektmanagement sowie die Bauherrenvertretung f\\u00fcr gr\\u00f6\\u00dfere Bauvorhaben.\",\"       Sie verantworten die Sicherstellung des Informationsaustauschs und der Kommunikation (intern und extern) mit den Bedarfstr\\u00e4gern und Fachaussch\\u00fcssen\",\"       Sie sind zust\\u00e4ndig f\\u00fcr die Prozessoptimierung der bisherigen Verfahrensabl\\u00e4ufe gemeinsam mit der Fachgruppen- bzw\",\"       Sie sorgen f\\u00fcr die Entwicklungund Umsetzung der Digitalisierung innerhalb des Sachgebiets\",\"       Sie \\u00fcbernehmen die Haushaltsverantwortung f\\u00fcr die Projekte dieses Sachgebietes\",\"      Eine Anpassung des Stellenprofils ist vorbehalten\",\"       Sie haben ein abgeschlossenes Hochschulstudium (Diplom\\/Bachelor) der Fachrichtung Bauingenieurwesen\",\"       Sie verf\\u00fcgen \\u00fcber eine mehrj\\u00e4hrige einschl\\u00e4gige Berufserfahrung und umfassende Fachkenntnisse im Bereich Hochbau und bringen idealerweise Erfahrung in der F\\u00fchrung eines Teams mit\",\"       Sie haben vertiefte Kenntnisse im Vergabe- und Vertragswesen sowie betriebswirtschaftliche Kenntnisse und ein outputorientiertes Denken und Handeln\",\"       Sie verf\\u00fcgen \\u00fcber einschl\\u00e4gige Kenntnisse der relevanten Fachgesetze\",\"       Sie haben die F\\u00e4higkeit zur systematischen und eigenverantwortlichen Aufgabenerledigung und bringen eine ausgepr\\u00e4gte Kommunikationsf\\u00e4higkeit mit\",\"       Durchsetzungsverm\\u00f6gen sowie ein hohes Ma\\u00df an Eigenverantwortung bringen Sie au\\u00dferdem mit\",\"Und f\\u00fcr die Menschen, die hier leben.\"],\"from_rate\":null,\"to_rate\":null,\"rate_currency\":null,\"rate_unit\":null,\"skills\":[\"Bauingenieurwesen\",\"Wirtschaftsingenieurwesen\",\"Architektur\"],\"is_new\":false,\"is_expired\":false,\"slug\":\"Sachgebietsleitung-Hochbau-dmw-in-der-Fachgruppe-Geb\\u00e4ude-und-Grundst\\u00fccksbewirtschaftung-T97Uj5yEGJR2\"},{\"id\":2014,\"is_premium\":true,\"title\":\"Prozess- und IT-Specialist f\\u00fcr Transportmanagementsysteme (m\\/w\\/d)\",\"company\":\"DSV Road GmbH\",\"company_cluster\":\"DSV Road GmbH\",\"company_logo\":\"https:\\/\\/anzeigenvorschau.net\\/bestmedia\\/stream\\/du\\/2058005\\/nvaf03d3af2f860cab0255729f920e66b8f311a2fd\\/1062601\\/2623059b4f662ad\\/logo_treffer.png\",\"posted_at\":\"2024-09-30\",\"locations\":[\"Schwieberdingen\"],\"is_remote\":false,\"snippet_fragments\":[\"        Du bringst sehr gute Deutsch- und gute Englischkenntnisse in Wort und Schrift sowie einen routinierten Umgang mit MS Office mit \",\"        Du bist ein kommunikativer Teamplayer (m\\/w\\/d) und brennst daf\\u00fcr\",\"      So geht es weiter  dein Weg zu uns \",\"        Match! Du erh\\u00e4ltst deine Zusage und den Arbeitsvertrag \",\"Willkommen bei DSV! Training, Mentoring und Unterst\\u00fctzung durch deinen Buddy\",\"      Haben wir dein Interesse geweckt? Dann starte jetzt deine Karriere bei DSV! \",\"       Bitte bewirb dich \\u00fcber unsere Homepage mit deinem Lebenslauf\",\"Schwerbehinderte Menschen und ihnen Gleichgestellte werden bei gleicher Eignung bevorzugt ber\\u00fccksichtigt\",\"       Dein Kontakt Frau Selena Akdas HR Specialist\"],\"from_rate\":null,\"to_rate\":null,\"rate_currency\":null,\"rate_unit\":null,\"skills\":[\"Microsoft Office\",\"Massenspektrometrie\"],\"is_new\":false,\"is_expired\":false,\"slug\":\"Prozess-und-IT-Specialist-f\\u00fcr-Transportmanagementsysteme-mwd-MbInX9L3tsAX\"},{\"id\":2010,\"is_premium\":true,\"title\":\"Senior Pharmacometrician (all genders)\",\"company\":\"AbbVie Deutschland GmbH & Co. KG\",\"company_cluster\":\"AbbVie Deutschland GmbH & Co. KG\",\"company_logo\":\"https:\\/\\/res.cloudinary.com\\/inqbyteio\\/image\\/upload\\/f_auto,w_72\\/if_ar_gt_1.78,c_lpad,w_72,h_72\\/if_else,c_fill,w_72,h_72\\/v1727442102\\/repjh0hu1v4xowg1xyny.png\",\"posted_at\":\"2024-09-27\",\"locations\":[\"Ludwigshafen\"],\"is_remote\":false,\"snippet_fragments\":[\"Do you have a passion for improving health care around the world and for using your expertise to improve patients' quality of life? In a challenging work environment that allows you to broaden and develop your own skills? Youve found the right place!&nbsp;\",\"Further develop your expertise and join our team as\",\"(12 months temporary \\/ full- or part-time)\",\"It quantifies the various aspects of the (desired and undesired) effects of drugs in the context of disease\",\"The models are based on clinical data\",\"The Senior Pharmacometrician will independently perform high quality pharmacometric (PMx) analyses essential for internal decision making and successful regulatory submission\",\"Pharmacometrics at AbbVie is a subdivision of Clinical Pharmacology (ClinPharm) in the Clinical Development organization\",\"(e.g., dataset specifications, analysis plans, presentations, and reports, as well as other documents for regulatory interactions)\",\"Actively participating and presenting at ClinPharm project team meetings and to ClinPharm leadership\",\"Seeking to continually evaluate and implement novel PMx methods and approaches\",\"Delivering results for business needs and plays a role in positioning AbbVie for long-term success\",\"This i s how you can make a difference\",\"PhD with 0 years of experience, Masters Degree or equivalent education and typically 5years of experience in relevant field includes experience with data science, mathematics, biostatistics, modeling and simulation, Pharmacometrics or systems pharmacology\",\"Scripting languages (Python, R, Julia or similar)\",\"Please indicate your potential start date and salary expectations in your motivation letter\",\"Be a part of it and grow with us  go above and beyond! Sounds like the perfect career opportunity for you? We look forward to receiving your application\",\"All you need is a complete CV  anything else will be discussed in person\"],\"from_rate\":null,\"to_rate\":null,\"rate_currency\":null,\"rate_unit\":null,\"skills\":[\"Scripting Language\",\"Data Science\",\"Python\",\"Statistical modeling\",\"Julia\",\"R\",\"Biostatistics\",\"Immunologie\",\"Mathematik\",\"Neurowissenschaften\",\"Onkologie\",\"Pharmacometrics\",\"Pharmakologie\"],\"is_new\":false,\"is_expired\":false,\"slug\":\"Senior-Pharmacometrician-all-genders-Vttjg5ZYpWaW\"},{\"id\":2011,\"is_premium\":true,\"title\":\"SAP-Anwendungsbetreuer*in\",\"company\":\"hanseWasser Bremen GmbH\",\"company_cluster\":\"hanseWasser Bremen GmbH\",\"company_logo\":\"https:\\/\\/anzeigenvorschau.net\\/bestmedia\\/stream\\/du\\/2058130\\/nv206802c46ac5c4128660ff53e1e112c725f92529\\/1061862\\/e33666e4060fda1\\/logo_treffer.png\",\"posted_at\":\"2024-09-27\",\"locations\":[\"Bremen\"],\"is_remote\":false,\"snippet_fragments\":[\"       Jobsicherheit sowie Entwicklungsperspektiven durch Fort- und Weiterbildung\",\"       Ein offenes und respektvolles Miteinander im Rahmen einer modernen Unternehmenskultur\",\"Ein Arbeitsumfeld, in dem man sich wohlf\\u00fchlt und seinen Arbeitsalltag sowie die Aufgaben mitgestalten kann.\",\"       Menschen wie Siedie Lust auf eine Aufgabe mit Sinn und Perspektive haben und f\\u00fcr die der Nachhaltigkeitsgedanke ebenso wichtig ist wie f\\u00fcr uns\",\"       Abgeschlossenes Studium oder abgeschlossene kaufm\\u00e4nnische Ausbildung  Quereinsteiger*innensowie Berufserfahrene sind willkommen\",\"       Gro\\u00dfes Interesse sowie Lernbereitschaft f\\u00fcr den Themenbereich SAP und Begeisterung f\\u00fcr digitale Prozesse\",\"Analytische und prozessorientierte Denkweise, rasche Auffassungsgabe diverser Sachverhalte sowie ausgepr\\u00e4gte Kommunikationsf\\u00e4higkeit.\",\"Verhandlungssichere Deutschkenntnisse sind wichtig, gute Englischkenntnisse von Vorteil.\",\"      Wir bieten eine leistungsgerechte Bezahlung gem\\u00e4\\u00df TV\\u00f6D sowie attraktive Zusatzleistungen wie z\",\"mobile und flexible Arbeit, t\\u00e4glich leckeres Essen in der Kantine (auch zum Mitnehmen), Betriebssport inkl\",\"Firmenfitness, betriebliche Altersvorsorge (VBL) und vieles mehr.\",\"Wir freuen uns, wenn Sie sich direkt bei uns \\u00fcber das \",\"      Oder Sie kontaktieren uns einfach  wir beraten gern und geben detailliert Auskunft\",\"Ihr Ansprechpartner ist Job-Jan Meyer unter 0421 \\/ 988 - 1331. \"],\"from_rate\":\"48.000\",\"to_rate\":\"61.500\",\"rate_currency\":\"\\u20ac\",\"rate_unit\":\"p.a.\",\"skills\":[\"SAP\"],\"is_new\":false,\"is_expired\":false,\"slug\":\"SAP-Anwendungsbetreuerin-SiqqZ7mponpa\"},{\"id\":2012,\"is_premium\":true,\"title\":\"Systemadministrator (m\\/w\\/d)\",\"company\":\"F\\u00fcrstlich Castell\\u2019sche Bank\",\"company_cluster\":\"F\\u00fcrstlich Castell\\u2019sche Bank\",\"company_logo\":\"https:\\/\\/anzeigenvorschau.net\\/bestmedia\\/stream\\/du\\/2057657\\/nvdb525bf48e7237e1b8f7c7a695b9fc734f000e18\\/1062338\\/cdf659250e4b209\\/logo_treffer.png\",\"posted_at\":\"2024-09-27\",\"locations\":[\"W\\u00fcrzburg\"],\"is_remote\":false,\"snippet_fragments\":[\"Gemeinsam mit Ihrem gut funktionierenden, siebenk\\u00f6pfigen Team IT-Infrastruktur& IT-Betrieb stellen Sie den reibungslosen Betrieb der IT (mobile Endger\\u00e4te, Clients und Server) sowie der Infrastruktur (Netzwerke und Telefonie) sicher.\",\"       Sie unterst\\u00fctzen die Mitarbeitenden bei der Anwendung bzw\",\"       Zur Optimierung der Arbeitsprozesse planen und implementieren Sie neue Technologien\",\"       Sie koordinieren externe Dienstleister operativ und sorgen f\\u00fcr die Einhaltung vereinbarter Serviceleistungen\",\"       Sie \\u00fcbernehmen die Leitung von IT-Projekten und tragen die Verantwortung f\\u00fcr deren erfolgreiche Umsetzung\",\"       Sie besitzen ein abgeschlossenes Studium der Informatik oder eine vergleichbare Ausbildung wie z\",\"zum Fachinformatiker(m\\/w\\/d) Systemintegration und bringen mehrj\\u00e4hrige Berufserfahrung mit\",\"       Sie sind versiert im Umgang mit Windows Client und Server\",\"       Sie bringen umfassende Erfahrung hinsichtlich Monitoring sowie Betrieb von IT-L\\u00f6sungen (Endger\\u00e4te\\/ Clients und Server) mit und sind mit Verfahren zur Automatisierung vertraut\",\"       Sie haben ein solides Verst\\u00e4ndnis von IT-Architekturen sowie den spezifischen Sicherheitsanforderungen im IT-Bereich\",\"Kaufm\\u00e4nnisches Know-how, idealerweise im Bankwesen, ist von Vorteil, aber keine Voraussetzung.\",\"Sie kennen sich mit IT-Vertr\\u00e4gen, einschlie\\u00dflich Garantien sowie Service-Level-Agreements, aus und k\\u00f6nnen Ma\\u00dfnahmen zur Einhaltung dieser Vertr\\u00e4ge ableiten.\",\"Sie sind ein echter Teamplayer(m\\/w\\/d), treten sicher und freundlich auf und haben ein ausgepr\\u00e4gtes Dienstleistungsverst\\u00e4ndnis im Umgang mit Kolleginnen und Kollegen.\",\"       Zukunft braucht Herkunft wir verstehen uns als moderne und innovative Privatbank mit 250-j\\u00e4hriger Tradition\",\"       Wir schaffen zukunftsorientiert Mehrwert und f\\u00f6rdern Sie flexibel\",\"Unabh\\u00e4ngig, ob Eigent\\u00fcmer oder Fachkraft ein wertsch\\u00e4tzendes Miteinander innerhalb flacher Hierarchien ist uns wichtig.\",\"       Gemeinsam wollen wir vorankommen f\\u00fcr Ihre verantwortungsvollen T\\u00e4tigkeiten bieten wir Ihnen eine leistungsgerechte Verg\\u00fctung mit Sozialleistungen und zahlreichen Benefits\",\"       Wir stellen Sie in den Mittelpunkt mit 3Tagen mobilem Arbeiten pro Woche schaffen wir f\\u00fcr Sie ein flexibles und familienfreundliches Arbeitsumfeld\"],\"from_rate\":null,\"to_rate\":null,\"rate_currency\":null,\"rate_unit\":null,\"skills\":[\"Windows\"],\"is_new\":false,\"is_expired\":false,\"slug\":\"Systemadministrator-mwd-f8KGIOztIIWR\"}],\"suggestedHits\":[],\"pages\":20,\"skillCommonType\":\"it\",\"skillLogos\":{\".NET\":\"https:\\/\\/res.cloudinary.com\\/inqbyteio\\/image\\/upload\\/f_auto,w_40,h_40,c_pad\\/if_ar_gt_1.78,c_lpad,w_40,h_40\\/v1607047906\\/search\\/autosuggestion\\/microsoft-net_ql1goh.svg\",\"Adobe Edge\":\"https:\\/\\/res.cloudinary.com\\/inqbyteio\\/image\\/upload\\/f_auto,w_40,h_40,c_pad\\/if_ar_gt_1.78,c_lpad,w_40,h_40\\/v1596548058\\/search\\/autosuggestion\\/Adobe_Edge.svg\",\"Agile Testing\":\"https:\\/\\/res.cloudinary.com\\/inqbyteio\\/image\\/upload\\/f_auto,w_40,h_40,c_pad\\/if_ar_gt_1.78,c_lpad,w_40,h_40\\/v1596548110\\/search\\/autosuggestion\\/Agile_testing.jpg\",\"Anlagenbau\":\"https:\\/\\/res.cloudinary.com\\/inqbyteio\\/image\\/upload\\/f_auto,w_40,h_40,c_pad\\/if_ar_gt_1.78,c_lpad,w_40,h_40\\/v1643179186\\/search\\/autosuggestion\\/engineering_default_logo_ch5blc.svg\",\"Architektur\":\"https:\\/\\/res.cloudinary.com\\/inqbyteio\\/image\\/upload\\/f_auto,w_40,h_40,c_pad\\/if_ar_gt_1.78,c_lpad,w_40,h_40\\/v1643179186\\/search\\/autosuggestion\\/engineering_default_logo_ch5blc.svg\",\"Bauingenieurwesen\":\"https:\\/\\/res.cloudinary.com\\/inqbyteio\\/image\\/upload\\/f_auto,w_40,h_40,c_pad\\/if_ar_gt_1.78,c_lpad,w_40,h_40\\/v1643179186\\/search\\/autosuggestion\\/engineering_default_logo_ch5blc.svg\",\"Biostatistics\":\"https:\\/\\/res.cloudinary.com\\/inqbyteio\\/image\\/upload\\/f_auto,w_40,h_40,c_pad\\/if_ar_gt_1.78,c_lpad,w_40,h_40\\/v1643356202\\/search\\/autosuggestion\\/science_default_logo_w2yzyl.svg\",\"C#\":\"https:\\/\\/res.cloudinary.com\\/inqbyteio\\/image\\/upload\\/f_auto,w_40,h_40,c_pad\\/if_ar_gt_1.78,c_lpad,w_40,h_40\\/v1607051159\\/search\\/autosuggestion\\/c--4_cjgwzm.svg\",\"CD\":\"https:\\/\\/res.cloudinary.com\\/inqbyteio\\/image\\/upload\\/f_auto,w_40,h_40,c_pad\\/if_ar_gt_1.78,c_lpad,w_40,h_40\\/v1596548883\\/search\\/autosuggestion\\/Continuous_delivery.png\",\"Cloud\":\"https:\\/\\/res.cloudinary.com\\/inqbyteio\\/image\\/upload\\/f_auto,w_40,h_40,c_pad\\/if_ar_gt_1.78,c_lpad,w_40,h_40\\/v1596548843\\/search\\/autosuggestion\\/Cloud_computing.svg\",\"Continuous Integration\":\"https:\\/\\/res.cloudinary.com\\/inqbyteio\\/image\\/upload\\/f_auto,w_40,h_40,c_pad\\/if_ar_gt_1.78,c_lpad,w_40,h_40\\/v1596548883\\/search\\/autosuggestion\\/Continuous_integration.png\",\"Data Science\":\"https:\\/\\/res.cloudinary.com\\/inqbyteio\\/image\\/upload\\/f_auto,w_40,h_40,c_pad\\/if_ar_gt_1.78,c_lpad,w_40,h_40\\/v1596548975\\/search\\/autosuggestion\\/Data_science.png\",\"Docker\":\"https:\\/\\/res.cloudinary.com\\/inqbyteio\\/image\\/upload\\/f_auto,w_40,h_40,c_pad\\/if_ar_gt_1.78,c_lpad,w_40,h_40\\/v1607051775\\/search\\/autosuggestion\\/docker_brauxz.svg\",\"Eclipse\":\"https:\\/\\/res.cloudinary.com\\/inqbyteio\\/image\\/upload\\/f_auto,w_40,h_40,c_pad\\/if_ar_gt_1.78,c_lpad,w_40,h_40\\/v1607051911\\/search\\/autosuggestion\\/eclipse-11_l64acu.svg\",\"Elektronik\":\"https:\\/\\/res.cloudinary.com\\/inqbyteio\\/image\\/upload\\/f_auto,w_40,h_40,c_pad\\/if_ar_gt_1.78,c_lpad,w_40,h_40\\/v1643179186\\/search\\/autosuggestion\\/engineering_default_logo_ch5blc.svg\",\"Excel\":\"https:\\/\\/res.cloudinary.com\\/inqbyteio\\/image\\/upload\\/f_auto,w_40,h_40,c_pad\\/if_ar_gt_1.78,c_lpad,w_40,h_40\\/v1596550587\\/search\\/autosuggestion\\/Microsoft_Excel.svg\",\"FileMaker\":\"https:\\/\\/res.cloudinary.com\\/inqbyteio\\/image\\/upload\\/f_auto,w_40,h_40,c_pad\\/if_ar_gt_1.78,c_lpad,w_40,h_40\\/v1607052723\\/search\\/autosuggestion\\/filemaker_ua8ols.svg\",\"Formenbau\":\"https:\\/\\/res.cloudinary.com\\/inqbyteio\\/image\\/upload\\/f_auto,w_40,h_40,c_pad\\/if_ar_gt_1.78,c_lpad,w_40,h_40\\/v1643179186\\/search\\/autosuggestion\\/engineering_default_logo_ch5blc.svg\",\"Git\":\"https:\\/\\/res.cloudinary.com\\/inqbyteio\\/image\\/upload\\/f_auto,w_40,h_40,c_pad\\/if_ar_gt_1.78,c_lpad,w_40,h_40\\/v1607052775\\/search\\/autosuggestion\\/git-icon_eaawz7.svg\",\"HTML\":\"https:\\/\\/res.cloudinary.com\\/inqbyteio\\/image\\/upload\\/f_auto,w_40,h_40,c_pad\\/if_ar_gt_1.78,c_lpad,w_40,h_40\\/v1607053215\\/search\\/autosuggestion\\/html5_qvygqw.svg\",\"IDS\":\"https:\\/\\/res.cloudinary.com\\/inqbyteio\\/image\\/upload\\/f_auto,w_40,h_40,c_pad\\/if_ar_gt_1.78,c_lpad,w_40,h_40\\/v1596549782\\/search\\/autosuggestion\\/Intrusion_detection_system.png\",\"Immunologie\":\"https:\\/\\/res.cloudinary.com\\/inqbyteio\\/image\\/upload\\/f_auto,w_40,h_40,c_pad\\/if_ar_gt_1.78,c_lpad,w_40,h_40\\/v1643356202\\/search\\/autosuggestion\\/science_default_logo_w2yzyl.svg\",\"ITIL\":\"https:\\/\\/res.cloudinary.com\\/inqbyteio\\/image\\/upload\\/f_auto,w_40,h_40,c_pad\\/if_ar_gt_1.78,c_lpad,w_40,h_40\\/v1596549791\\/search\\/autosuggestion\\/ITIL.svg\",\"Java\":\"https:\\/\\/res.cloudinary.com\\/inqbyteio\\/image\\/upload\\/f_auto,w_40,h_40,c_pad\\/if_ar_gt_1.78,c_lpad,w_40,h_40\\/v1607053301\\/search\\/autosuggestion\\/java-14_ngek16.svg\",\"Julia\":\"https:\\/\\/res.cloudinary.com\\/inqbyteio\\/image\\/upload\\/f_auto,w_40,h_40,c_pad\\/if_ar_gt_1.78,c_lpad,w_40,h_40\\/v1596546671\\/search\\/autosuggestion\\/647b7cf75cb5662b96901bc521968e94.png\",\"Keycloak\":\"https:\\/\\/res.cloudinary.com\\/inqbyteio\\/image\\/upload\\/f_auto,w_40,h_40,c_pad\\/if_ar_gt_1.78,c_lpad,w_40,h_40\\/v1596549937\\/search\\/autosuggestion\\/Keycloak.png\",\"Kunststofftechnik\":\"https:\\/\\/res.cloudinary.com\\/inqbyteio\\/image\\/upload\\/f_auto,w_40,h_40,c_pad\\/if_ar_gt_1.78,c_lpad,w_40,h_40\\/v1643179186\\/search\\/autosuggestion\\/engineering_default_logo_ch5blc.svg\",\"Linux\":\"https:\\/\\/res.cloudinary.com\\/inqbyteio\\/image\\/upload\\/f_auto,w_40,h_40,c_pad\\/if_ar_gt_1.78,c_lpad,w_40,h_40\\/v1607053545\\/search\\/autosuggestion\\/linux-tux_lbphoh.svg\",\"Malware\":\"https:\\/\\/res.cloudinary.com\\/inqbyteio\\/image\\/upload\\/f_auto,w_40,h_40,c_pad\\/if_ar_gt_1.78,c_lpad,w_40,h_40\\/v1644217161\\/search\\/autosuggestion\\/IT_default_logo_ry9liu.svg\",\"Maschinenbau\":\"https:\\/\\/res.cloudinary.com\\/inqbyteio\\/image\\/upload\\/f_auto,w_40,h_40,c_pad\\/if_ar_gt_1.78,c_lpad,w_40,h_40\\/v1643179186\\/search\\/autosuggestion\\/engineering_default_logo_ch5blc.svg\",\"Massenspektrometrie\":\"https:\\/\\/res.cloudinary.com\\/inqbyteio\\/image\\/upload\\/f_auto,w_40,h_40,c_pad\\/if_ar_gt_1.78,c_lpad,w_40,h_40\\/v1643356202\\/search\\/autosuggestion\\/science_default_logo_w2yzyl.svg\",\"Mathematik\":\"https:\\/\\/res.cloudinary.com\\/inqbyteio\\/image\\/upload\\/f_auto,w_40,h_40,c_pad\\/if_ar_gt_1.78,c_lpad,w_40,h_40\\/v1643356202\\/search\\/autosuggestion\\/science_default_logo_w2yzyl.svg\",\"Medizin\":\"https:\\/\\/res.cloudinary.com\\/inqbyteio\\/image\\/upload\\/f_auto,w_40,h_40,c_pad\\/if_ar_gt_1.78,c_lpad,w_40,h_40\\/v1643356202\\/search\\/autosuggestion\\/science_default_logo_w2yzyl.svg\",\"Medizintechnik\":\"https:\\/\\/res.cloudinary.com\\/inqbyteio\\/image\\/upload\\/f_auto,w_40,h_40,c_pad\\/if_ar_gt_1.78,c_lpad,w_40,h_40\\/v1643179186\\/search\\/autosuggestion\\/engineering_default_logo_ch5blc.svg\",\"Microsoft Exchange\":\"https:\\/\\/res.cloudinary.com\\/inqbyteio\\/image\\/upload\\/f_auto,w_40,h_40,c_pad\\/if_ar_gt_1.78,c_lpad,w_40,h_40\\/v1596550588\\/search\\/autosuggestion\\/Microsoft_Exchange_Server.svg\",\"Microsoft Office\":\"https:\\/\\/res.cloudinary.com\\/inqbyteio\\/image\\/upload\\/f_auto,w_40,h_40,c_pad\\/if_ar_gt_1.78,c_lpad,w_40,h_40\\/v1596550591\\/search\\/autosuggestion\\/Microsoft_Office.svg\",\"Microsoft Outlook\":\"https:\\/\\/res.cloudinary.com\\/inqbyteio\\/image\\/upload\\/f_auto,w_40,h_40,c_pad\\/if_ar_gt_1.78,c_lpad,w_40,h_40\\/v1596550593\\/search\\/autosuggestion\\/Microsoft_Outlook.svg\",\"Mobile Device Management\":\"https:\\/\\/res.cloudinary.com\\/inqbyteio\\/image\\/upload\\/f_auto,w_40,h_40,c_pad\\/if_ar_gt_1.78,c_lpad,w_40,h_40\\/v1620652329\\/search\\/autosuggestion\\/mobile-device-management_ehd6ua.svg\",\"Neurowissenschaften\":\"https:\\/\\/res.cloudinary.com\\/inqbyteio\\/image\\/upload\\/f_auto,w_40,h_40,c_pad\\/if_ar_gt_1.78,c_lpad,w_40,h_40\\/v1643356202\\/search\\/autosuggestion\\/science_default_logo_w2yzyl.svg\",\"NHibernate\":\"https:\\/\\/res.cloudinary.com\\/inqbyteio\\/image\\/upload\\/f_auto,w_40,h_40,c_pad\\/if_ar_gt_1.78,c_lpad,w_40,h_40\\/v1596550622\\/search\\/autosuggestion\\/NHibernate.jpg\",\"Physik\":\"https:\\/\\/res.cloudinary.com\\/inqbyteio\\/image\\/upload\\/f_auto,w_40,h_40,c_pad\\/if_ar_gt_1.78,c_lpad,w_40,h_40\\/v1643356202\\/search\\/autosuggestion\\/science_default_logo_w2yzyl.svg\",\"Powerpoint\":\"https:\\/\\/res.cloudinary.com\\/inqbyteio\\/image\\/upload\\/f_auto,w_40,h_40,c_pad\\/if_ar_gt_1.78,c_lpad,w_40,h_40\\/v1596550594\\/search\\/autosuggestion\\/Microsoft_PowerPoint.svg\",\"PowerShell\":\"https:\\/\\/res.cloudinary.com\\/inqbyteio\\/image\\/upload\\/f_auto,w_40,h_40,c_pad\\/if_ar_gt_1.78,c_lpad,w_40,h_40\\/v1596554813\\/search\\/autosuggestion\\/powershell.png\",\"Python\":\"https:\\/\\/res.cloudinary.com\\/inqbyteio\\/image\\/upload\\/f_auto,w_40,h_40,c_pad\\/if_ar_gt_1.78,c_lpad,w_40,h_40\\/v1607041905\\/search\\/autosuggestion\\/python-5_pu9wog.svg\",\"R\":\"https:\\/\\/res.cloudinary.com\\/inqbyteio\\/image\\/upload\\/f_auto,w_40,h_40,c_pad\\/if_ar_gt_1.78,c_lpad,w_40,h_40\\/v1596615877\\/search\\/autosuggestion\\/r-logo.png\",\"React\":\"https:\\/\\/res.cloudinary.com\\/inqbyteio\\/image\\/upload\\/f_auto,w_40,h_40,c_pad\\/if_ar_gt_1.78,c_lpad,w_40,h_40\\/v1607055551\\/search\\/autosuggestion\\/react_kjnafo.svg\",\"Regelungstechnik\":\"https:\\/\\/res.cloudinary.com\\/inqbyteio\\/image\\/upload\\/f_auto,w_40,h_40,c_pad\\/if_ar_gt_1.78,c_lpad,w_40,h_40\\/v1643179186\\/search\\/autosuggestion\\/engineering_default_logo_ch5blc.svg\",\"Replication\":\"https:\\/\\/res.cloudinary.com\\/inqbyteio\\/image\\/upload\\/f_auto,w_40,h_40,c_pad\\/if_ar_gt_1.78,c_lpad,w_40,h_40\\/v1644217161\\/search\\/autosuggestion\\/IT_default_logo_ry9liu.svg\",\"SAP\":\"https:\\/\\/res.cloudinary.com\\/inqbyteio\\/image\\/upload\\/f_auto,w_40,h_40,c_pad\\/if_ar_gt_1.78,c_lpad,w_40,h_40\\/v1614251467\\/search\\/autosuggestion\\/SAP_2011_logo_ddrchf.svg\",\"Scripting Language\":\"https:\\/\\/res.cloudinary.com\\/inqbyteio\\/image\\/upload\\/f_auto,w_40,h_40,c_pad\\/if_ar_gt_1.78,c_lpad,w_40,h_40\\/v1644217161\\/search\\/autosuggestion\\/IT_default_logo_ry9liu.svg\",\"SOAP\":\"https:\\/\\/res.cloudinary.com\\/inqbyteio\\/image\\/upload\\/f_auto,w_40,h_40,c_pad\\/if_ar_gt_1.78,c_lpad,w_40,h_40\\/v1596551855\\/search\\/autosuggestion\\/SOAP.png\",\"SOLID\":\"https:\\/\\/res.cloudinary.com\\/inqbyteio\\/image\\/upload\\/f_auto,w_40,h_40,c_pad\\/if_ar_gt_1.78,c_lpad,w_40,h_40\\/v1644217161\\/search\\/autosuggestion\\/IT_default_logo_ry9liu.svg\",\"Solid Edge\":\"https:\\/\\/res.cloudinary.com\\/inqbyteio\\/image\\/upload\\/f_auto,w_40,h_40,c_pad\\/if_ar_gt_1.78,c_lpad,w_40,h_40\\/v1596551907\\/search\\/autosuggestion\\/Solid_Edge.jpg\",\"Statistical modeling\":\"https:\\/\\/res.cloudinary.com\\/inqbyteio\\/image\\/upload\\/f_auto,w_40,h_40,c_pad\\/if_ar_gt_1.78,c_lpad,w_40,h_40\\/v1644217161\\/search\\/autosuggestion\\/IT_default_logo_ry9liu.svg\",\"Test Management\":\"https:\\/\\/res.cloudinary.com\\/inqbyteio\\/image\\/upload\\/f_auto,w_40,h_40,c_pad\\/if_ar_gt_1.78,c_lpad,w_40,h_40\\/v1621583233\\/search\\/autosuggestion\\/test_management_poxnq8.svg\",\"Ubuntu\":\"https:\\/\\/res.cloudinary.com\\/inqbyteio\\/image\\/upload\\/f_auto,w_40,h_40,c_pad\\/if_ar_gt_1.78,c_lpad,w_40,h_40\\/v1603785140\\/search\\/autosuggestion\\/ubuntu-icon_o8rtjd.svg\",\"Veeam\":\"https:\\/\\/res.cloudinary.com\\/inqbyteio\\/image\\/upload\\/f_auto,w_40,h_40,c_pad\\/if_ar_gt_1.78,c_lpad,w_40,h_40\\/v1607088785\\/search\\/autosuggestion\\/Veeam_logo_uyiw2l.png\",\"Visual Studio\":\"https:\\/\\/res.cloudinary.com\\/inqbyteio\\/image\\/upload\\/f_auto,w_40,h_40,c_pad\\/if_ar_gt_1.78,c_lpad,w_40,h_40\\/v1607054878\\/search\\/autosuggestion\\/visual-studio-2013_dnparr.svg\",\"VMware\":\"https:\\/\\/res.cloudinary.com\\/inqbyteio\\/image\\/upload\\/f_auto,w_40,h_40,c_pad\\/if_ar_gt_1.78,c_lpad,w_40,h_40\\/v1603818819\\/search\\/autosuggestion\\/vmware_nsfzc9.svg\",\"Web Services\":\"https:\\/\\/res.cloudinary.com\\/inqbyteio\\/image\\/upload\\/f_auto,w_40,h_40,c_pad\\/if_ar_gt_1.78,c_lpad,w_40,h_40\\/v1596553176\\/search\\/autosuggestion\\/Web_service.svg\",\"Windows\":\"https:\\/\\/res.cloudinary.com\\/inqbyteio\\/image\\/upload\\/f_auto,w_40,h_40,c_pad\\/if_ar_gt_1.78,c_lpad,w_40,h_40\\/v1607054889\\/search\\/autosuggestion\\/microsoft-windows-22_mnf9ac.svg\",\"Wirtschaftsingenieurwesen\":\"https:\\/\\/res.cloudinary.com\\/inqbyteio\\/image\\/upload\\/f_auto,w_40,h_40,c_pad\\/if_ar_gt_1.78,c_lpad,w_40,h_40\\/v1643179186\\/search\\/autosuggestion\\/engineering_default_logo_ch5blc.svg\",\"WordPress\":\"https:\\/\\/res.cloudinary.com\\/inqbyteio\\/image\\/upload\\/f_auto,w_40,h_40,c_pad\\/if_ar_gt_1.78,c_lpad,w_40,h_40\\/v1603787332\\/search\\/autosuggestion\\/wordpress-icon-1_hksuhr.svg\",\"XML\":\"https:\\/\\/res.cloudinary.com\\/inqbyteio\\/image\\/upload\\/f_auto,w_40,h_40,c_pad\\/if_ar_gt_1.78,c_lpad,w_40,h_40\\/v1596615874\\/search\\/autosuggestion\\/XML.png\"},\"terms\":[],\"skills\":[],\"occupations\":[],\"modifiers\":[],\"companies\":[],\"locations\":[],\"workingHours\":null,\"isRecruitment\":null,\"skillFilters\":[],\"occupationFilters\":[],\"modifierFilters\":[],\"companyFilters\":[],\"locationFilters\":[],\"relatedPages\":{\"skills\":[],\"occupations\":[],\"modifiers\":[],\"companies\":[],\"locations\":[]},\"workingHoursSummary\":{\"Full Time\":1028462,\"Part Time\":173590},\"isRecruitmentSummary\":{\"false\":894443,\"true\":307609},\"coordinates\":[],\"viewport\":null,\"internalLinking\":[],\"bookmarks\":[],\"applications\":[],\"seen\":[{\"is_premium\":true,\"id\":2022}],\"job\":{\"id\":2022,\"is_premium\":true,\"title\":\"Mechatroniker \\/ Elektroniker (m\\/w\\/d) Automatisierungstechnik f\\u00fcr Spritzgussfertigung\",\"job_company\":\"Novapax Kunststofftechnik\",\"job_logo\":\"https:\\/\\/anzeigenvorschau.net\\/bestmedia\\/stream\\/du\\/2056378\\/nvf658839f833b1329a31b0421c889a35be5b79b48\\/1064226\\/1de2f3c379b23e7\\/logo_treffer.png\",\"company\":\"K\\u00f6nigsteiner\",\"company_logo\":null,\"company_url\":null,\"company_description\":\"\",\"locations\":[\"Berlin\"],\"is_remote\":false,\"modifiers\":[\"Principal\"],\"working_hours\":\"Vollzeit\",\"employment_type\":\"Festanstellung\",\"posted_at\":\"2024-10-02\",\"is_new\":false,\"from_rate\":null,\"to_rate\":null,\"rate_currency\":null,\"rate_unit\":null,\"essential_skills\":[\"Microsoft Office\",\"Elektronik\",\"Formenbau\",\"Kunststofftechnik\",\"Medizin\",\"Massenspektrometrie\"],\"optional_skills\":[],\"skill_logos\":{\"Elektronik\":\"https:\\/\\/res.cloudinary.com\\/inqbyteio\\/image\\/upload\\/f_auto,w_80\\/if_ar_gt_1.78,c_lpad,w_80,h_80\\/v1643179186\\/search\\/autosuggestion\\/engineering_default_logo_ch5blc.svg\",\"Formenbau\":\"https:\\/\\/res.cloudinary.com\\/inqbyteio\\/image\\/upload\\/f_auto,w_80\\/if_ar_gt_1.78,c_lpad,w_80,h_80\\/v1643179186\\/search\\/autosuggestion\\/engineering_default_logo_ch5blc.svg\",\"Kunststofftechnik\":\"https:\\/\\/res.cloudinary.com\\/inqbyteio\\/image\\/upload\\/f_auto,w_80\\/if_ar_gt_1.78,c_lpad,w_80,h_80\\/v1643179186\\/search\\/autosuggestion\\/engineering_default_logo_ch5blc.svg\",\"Massenspektrometrie\":\"https:\\/\\/res.cloudinary.com\\/inqbyteio\\/image\\/upload\\/f_auto,w_80\\/if_ar_gt_1.78,c_lpad,w_80,h_80\\/v1643356202\\/search\\/autosuggestion\\/science_default_logo_w2yzyl.svg\",\"Medizin\":\"https:\\/\\/res.cloudinary.com\\/inqbyteio\\/image\\/upload\\/f_auto,w_80\\/if_ar_gt_1.78,c_lpad,w_80,h_80\\/v1643356202\\/search\\/autosuggestion\\/science_default_logo_w2yzyl.svg\",\"Microsoft Office\":\"https:\\/\\/res.cloudinary.com\\/inqbyteio\\/image\\/upload\\/f_auto,w_80\\/if_ar_gt_1.78,c_lpad,w_80,h_80\\/v1596550591\\/search\\/autosuggestion\\/Microsoft_Office.svg\"},\"template\":null,\"description\":\"<div id=\\\"jobtempl\\\" itemscope itemtype=\\\"http:\\/\\/schema.org\\/JobPosting\\\"> \\n   <div id=\\\"wrapper\\\"> \\n     \\n     <p class=\\\"logo\\\"><a href=\\\"https:\\/\\/anzeigenvorschau.net\\/bestmedia\\/img\\/1064226\\/2056378\\/cl\\/2178a78eac4bca4bac7ca98a88afd24d452e6954\\/L3933903\\/JeyJvbGRsaW5rIjoiaHR0cHM6Ly93d3cubm92YXBheC5kZSIsInpsIjoiam9idGVuc29yLmNvbSJ9\\\" target=\\\"_blank\\\"><\\/a><\\/p> \\n      \\n     \\n     \\n     <div class=\\\"inner verticalspace\\\"> \\n      <div data-ker=\\\"wysiwyg\\\" data-ker-id=\\\"u_beschreibung\\\" itemprop=\\\"description\\\"> \\n       <p><b>NOVAPAX<\\/b> ist ein mittelst\\u00e4ndisches Unter\\u00adnehmen der Kunststoff verarbeitenden Industrie mit ca. 190 Mitarbeitenden\\u00a0mit Sitz in Berlin. Schwer\\u00adpunkt ist die Her\\u00adstellung komplexer technischer Komponenten und Bau\\u00adgruppen im Kunst\\u00adstoff\\u00adspritzguss f\\u00fcr Kunden aus den Branchen Automobil, Elektronik, Bau, Medizin und Sanit\\u00e4r. Basis f\\u00fcr die Realisierung der pr\\u00e4zisen Komponenten ist der eigene Formen\\u00adbau mit 75 Jahren Erfahrung. Der Maschinen\\u00adpark der Spritzerei umfasst \\u00fcber 75 Einheiten von 35 bis 400 Tonnen Schlie\\u00df\\u00adkraft der Marken Arburg, Engel und Demag. Die Fertigungs\\u00adkonzepte werden im Team von Projekt\\u00admanagement, Konstruktion, Formenbau, Fertigung, Betriebs- und Verfahrens\\u00adtechnik sowie Quali\\u00adt\\u00e4ts\\u00adsicherung entwickelt.<\\/p> \\n      <\\/div> \\n      <div data-ker=\\\"wysiwyg\\\" data-ker-id=\\\"titel_einleitung\\\" itemprop=\\\"description\\\"> \\n       <p>Werden Sie Teil unseres Teams am Standort\\u00a0<b>Berlin<\\/b> als<\\/p> \\n      <\\/div> \\n      <h2 itemprop=\\\"description\\\"> <strong data-ker-id=\\\"titel\\\" data-ker=\\\"input\\\" class=\\\"hgross\\\"><strong>Mechatroniker \\/ Elektroniker (m\\/w\\/d)\\u00a0<\\/strong><\\/strong> <strong data-ker-id=\\\"untertitel\\\" data-ker=\\\"input\\\"><br> <strong data-ker=\\\"input\\\" data-ker-id=\\\"titel\\\"><strong>Mechatroniker \\/ Elektroniker (m\\/w\\/d)\\u00a0<\\/strong><\\/strong><\\/strong> <\\/h2> \\n       \\n      <h4 data-ker=\\\"input\\\" data-ker-id=\\\"label_aufgaben\\\">Freuen Sie sich auf Ihre neuen Aufgaben:<\\/h4> \\n      <div data-ker=\\\"wysiwyg\\\" data-ker-id=\\\"aufgaben\\\" itemprop=\\\"responsibilities\\\"> \\n       <ul> \\n        <li>Mitwirkung bei der Konzeption, Anfrage und Beauftragung von Auto\\u00admations\\u00adprozessen in Verbindung mit Spritz\\u00adguss\\u00admaschinen f\\u00fcr robuste Serien\\u00adprozesse<\\/li> \\n        <li>Begleitung ausgew\\u00e4hlter\\u00a0L\\u00f6sungsanbieter f\\u00fcr Auto\\u00admatisierungs\\u00adtechnik w\\u00e4hrend der Projek\\u00adtierungs\\u00adphasen bis hin zu einer effi\\u00adzienten Serien\\u00adfertigung<\\/li> \\n        <li>Organisation von Vorabnahmen, Installationen, Inbetrieb\\u00adnahmen und Abnahmen neuer Automations\\u00adanlagen f\\u00fcr die Serien\\u00adproduktion<\\/li> \\n        <li>Schulung der Mitarbeitenden zur Handhabung komplexer Anlagen und Maschinen<\\/li> \\n        <li>Optimierung der Prozesse in Fertigungs\\u00adanlagen, einschlie\\u00dflich Spritz\\u00adguss\\u00admaschinen und Peripherie\\u00adanlagen<\\/li> \\n        <li>Sicherstellung der Anlagen\\u00adverf\\u00fcg\\u00adbarkeit durch Behebung von St\\u00f6rungen und Fehlfunktionen<\\/li> \\n        <li>Installation, Montage, Reparatur und Instand\\u00adhaltung mecha\\u00adtronischer Systeme<\\/li> \\n        <li>Parametrier- und Programmier\\u00adarbeiten an Anlagen und Maschinen<\\/li> \\n        <li>Dokumentation durchgef\\u00fchrter Arbeiten, Erstellung von Wartungs\\u00adprotokollen sowie Aktualisierung technischer Unterlagen und Pl\\u00e4ne\\u00a0im MES- bzw. ERP-System<\\/li> \\n       <\\/ul> \\n      <\\/div> \\n      <h4 data-ker=\\\"input\\\" data-ker-id=\\\"label_profil\\\">\\u00dcberzeugen Sie uns mit Ihrem Profil:<\\/h4> \\n      <div data-ker=\\\"wysiwyg\\\" data-ker-id=\\\"profil\\\" itemprop=\\\"qualifications\\\"> \\n       <ul> \\n        <li>Abgeschlossene Ausbildung als Mechatroniker (m\\/w\\/d), Industrie\\u00adelektriker (m\\/w\\/d) oder Elektroniker\\u00a0(m\\/w\\/d) f\\u00fcr Automatisierungs- und System\\u00adtechnik bzw. eine vergleichbare Quali\\u00adfikation<\\/li> \\n        <li>Idealerweise praktische Erfahrung in der Kunst\\u00adstoff\\u00adspritz\\u00adguss\\u00adproduktion<\\/li> \\n        <li>Mehrj\\u00e4hrige Berufserfahrung in der Installation, Wartung und Reparatur elektrischer Anlagen und mecha\\u00adtronischer Systeme<\\/li> \\n        <li>Know-how in der Fehleranalyse und -behebung sowie Grundkenntnisse in der Programmierung von Steuerungs\\u00adsystemen<\\/li> \\n        <li>Routinierter Umgang mit MES- und ERP-Systemen sowie MS Office<\\/li> \\n        <li>Gute Deutsch- und Englischkenntnisse in Wort und Schrift<\\/li> \\n        <li>Bereitschaft zur Weiterbildung in den Bereichen Elektro\\u00adtechnik, Mechanik und Automation<\\/li> \\n        <li>Teamf\\u00e4higkeit, Zuverl\\u00e4ssig\\u00adkeit, Flexibilit\\u00e4t und Anpassungs\\u00adf\\u00e4hig\\u00adkeit in einem dynamischen Arbeits\\u00adumfeld<\\/li> \\n        <li>Hohe Lernbereitschaft und Engagement zur Verbesserung von Prozessen und Systemen<\\/li> \\n        <li>Freude an der Weitergabe von Wissen an Ihre Kollegen (m\\/w\\/d) und der \\u00dcber\\u00adnahme neuer Aufgaben und Projekte<\\/li> \\n        <li>Bereitschaft zur Arbeit im Mehr\\u00adschicht\\u00adsystem<\\/li> \\n       <\\/ul> \\n      <\\/div> \\n      <h4 data-ker=\\\"input\\\" data-ker-id=\\\"label_wir_bieten\\\">Unser Angebot f\\u00fcr Sie:<\\/h4> \\n      <div data-ker=\\\"wysiwyg\\\" data-ker-id=\\\"wir_bieten\\\" itemprop=\\\"jobBenefits\\\"> \\n       <ul> \\n        <li>Ein erfolgreiches Familienunternehmen mit Wachstumspotenzial<\\/li> \\n        <li>Interessante Aufgaben in einem\\u00a0innovativen\\u00a0Umfeld<\\/li> \\n        <li>Ein umfassendes Einarbeitungsprogramm<\\/li> \\n        <li>Eine leistungsgerechte, attraktive Verg\\u00fctung<\\/li> \\n        <li>30 Tage Urlaub<\\/li> \\n        <li>Fort- und Weiterbildungsangebote<\\/li> \\n        <li>Kostenfreie Mitarbeiterparkpl\\u00e4tze sowie Zuschuss zum Deutschlandticket<\\/li> \\n        <li>Arbeitgeberunterst\\u00fctzte Altersvorsorge und verm\\u00f6genswirksame Leistungen<\\/li> \\n       <\\/ul> \\n      <\\/div> \\n      <h4 data-ker=\\\"input\\\" data-ker-id=\\\"label_firmenkontakt\\\">Bereit f\\u00fcr neue Wege?<\\/h4> \\n      <div data-ker=\\\"wysiwyg\\\" data-ker-id=\\\"firmenkontakt\\\" itemprop=\\\"contact\\\"> \\n       <p>Dann freuen wir uns auf Ihre aussagekr\\u00e4ftige Bewerbung unter Angabe Ihrer Gehaltsvorstellung und des fr\\u00fchestm\\u00f6glichen Eintrittstermins per E-Mail an\\u00a0<a href=\\\"mailto:jobs@novapax.de?subject=Bewerbung%20als%20Mechatroniker%20%2F%20Elektroniker%20%28m%2Fw%2Fd%29%20Automatisierungstechnik%20f%C3%BCr%20Spritzgussfertigung\\\">jobs@novapax.de<\\/a>.<\\/p> \\n       <p>Diese Position betreut unsere Kollegin Frau Bu\\u00dfmann. Gerne beantwortet sie Ihre Fragen vorab telefonisch unter\\u00a0<span class=\\\"no-wrap\\\">030 70191443<\\/span>.<\\/p> \\n      <\\/div> \\n     <\\/div> \\n     \\n     \\n     <div data-ker=\\\"wysiwyg\\\" data-ker-id=\\\"adresse\\\" itemprop=\\\"contact\\\"> \\n      <p><b>NOVAPAX Kunststofftechnik <\\/b><strong>Steiner GmbH & Co. KG<\\/strong><br> Sch\\u00e4tzelbergstra\\u00dfe 4\\u201310, 12099 Berlin | <a href=\\\"https:\\/\\/anzeigenvorschau.net\\/bestmedia\\/img\\/1064226\\/2056378\\/cl\\/d96443e9b63fd35bc59558ceda6522d6f4113989\\/L3933905\\/JeyJvbGRsaW5rIjoiaHR0cHM6Ly93d3cubm92YXBheC5kZSIsInpsIjoiam9idGVuc29yLmNvbSJ9\\\" target=\\\"_blank\\\">www.novapax.de<\\/a><\\/p> \\n     <\\/div> \\n     \\n   <\\/div> \\n    \\n  <\\/div>\",\"it_skills\":[\"Microsoft Office\"],\"non_it_skills\":[\"Elektronik\",\"Formenbau\",\"Kunststofftechnik\",\"Medizin\",\"Massenspektrometrie\"],\"skills_highlight\":{\"microsoft office\":[\"microsoft office\",\"microsoft office 2000\",\"microsoft office 2001\",\"microsoft office 2003\",\"microsoft office 2008 for mac\",\"microsoft office 2010\",\"microsoft office 3.0\",\"microsoft office 95\",\"microsoft office 97\",\"microsoft office 98 macintosh edition\",\"microsoft office xp\",\"microsoft office for mac 2011\",\"microsoft office 2007\",\"microsoft office 2013\",\"microsoft office 2016\",\"microsoft office suite\",\"ms office\",\"ms office 2000\",\"ms office 2007\",\"ms office 2010\",\"ms office 2013\",\"ms office 2016\",\"ms-office\",\"msoffice\",\"office 08\",\"office 2003\",\"office 2007\",\"office 2010\",\"office 2013\",\"office 2016\",\"office 97\",\"office xp\"]},\"occupations\":[],\"coordinates\":[[52.4555307,13.3993922]],\"apply_link\":\"\",\"country\":\"de\",\"slug\":\"Mechatroniker-Elektroniker-mwd-Automatisierungstechnik-f\\u00fcr-Spritzgussfertigung-MahskjlIViVy\",\"tracking_pixel\":null}};</script>\n",
      "<script crossorigin=\"\" src=\"/packages/search-v4/client/assets/messages-dfbdaf69.js\" type=\"module\"></script><link href=\"/packages/search-v4/client/assets/messages-cfde8f74.css\" rel=\"stylesheet\"/><script crossorigin=\"\" src=\"/packages/search-v4/client/assets/entry-client-16a4095f.js\" type=\"module\"></script><link href=\"/packages/search-v4/client/assets/entry-client-ad626dd0.css\" rel=\"stylesheet\"/>\n",
      "<!-- Start cookieyes banner --> <script id=\"cookieyes\" src=\"https://cdn-cookieyes.com/client_data/8d71d44af8e14b888ab5dd2f/script.js\" type=\"text/javascript\"></script> <!-- End cookieyes banner -->\n",
      "</link></meta></meta></head>\n",
      "<body>\n",
      "<div id=\"app\"></div>\n",
      "</body>\n",
      "</html>\n",
      "\n",
      "\n",
      "CRM Lead (m/w/d)\n",
      "https://jobtensor.com/job/CRM-Lead-mwd-a0d10e3ebe8e\n",
      "<!DOCTYPE html>\n",
      "\n",
      "<html lang=\"de\">\n",
      "<head>\n",
      "<meta content=\"DPR, Width\" http-equiv=\"Accept-CH\"/>\n",
      "<meta charset=\"utf-8\">\n",
      "<meta content=\"80B3z3nPxA2ZAgQJAq9FTna3mR02gYpm1VIcwzi6\" name=\"csrf-token\"/>\n",
      "<meta content=\"width=device-width, initial-scale=1.0\" name=\"viewport\">\n",
      "<title>CRM Lead (m/w/d) | jobtensor</title>\n",
      "<meta content=\"notranslate\" name=\"google\"/>\n",
      "<meta content=\"CRM Lead (m/w/d)\" name=\"description\"/>\n",
      "<meta content=\"CRM Lead (m/w/d)\" property=\"og:title\"/>\n",
      "<meta content=\"https://jobtensor.com/favicon/favicon-310.png\" property=\"og:image\"/>\n",
      "<meta content=\"CRM Lead (m/w/d)\" property=\"og:description\"/>\n",
      "<meta content=\"summary\" name=\"twitter:card\"/>\n",
      "<meta content=\"@jobtensor\" name=\"twitter:creator\"/>\n",
      "<meta content=\"CRM Lead (m/w/d)\" name=\"twitter:description\"/>\n",
      "<meta content=\"https://jobtensor.com/favicon/favicon-310.png\" name=\"twitter:image\"/>\n",
      "<meta content=\"@jobtensor\" name=\"twitter:site\"/>\n",
      "<meta content=\"CRM Lead (m/w/d)\" name=\"twitter:title\"/>\n",
      "<meta content=\"https://jobtensor.com/job/CRM-Lead-mwd-a0d10e3ebe8e\" name=\"twitter:url\"/>\n",
      "<script type=\"application/ld+json\">\"\"</script>\n",
      "<link href=\"https://jobtensor.com/job/CRM-Lead-mwd-a0d10e3ebe8e\" rel=\"canonical\"/>\n",
      "<link href=\"https://jobtensor.com/favicon/favicon.ico\" rel=\"shortcut icon\"/>\n",
      "<link href=\"https://jobtensor.com/favicon/favicon.ico\" rel=\"icon\" sizes=\"16x16 32x32 64x64\"/>\n",
      "<link href=\"https://jobtensor.com/favicon/favicon-192.png\" rel=\"icon\" sizes=\"196x196\" type=\"image/png\"/>\n",
      "<link href=\"https://jobtensor.com/favicon/favicon-160.png\" rel=\"icon\" sizes=\"160x160\" type=\"image/png\"/>\n",
      "<link href=\"https://jobtensor.com/favicon/favicon-96.png\" rel=\"icon\" sizes=\"96x96\" type=\"image/png\"/>\n",
      "<link href=\"https://jobtensor.com/favicon/favicon-64.png\" rel=\"icon\" sizes=\"64x64\" type=\"image/png\"/>\n",
      "<link href=\"https://jobtensor.com/favicon/favicon-32.png\" rel=\"icon\" sizes=\"32x32\" type=\"image/png\"/>\n",
      "<link href=\"https://jobtensor.com/favicon/favicon-16.png\" rel=\"icon\" sizes=\"16x16\" type=\"image/png\"/>\n",
      "<link href=\"https://jobtensor.com/favicon/favicon-180.png\" rel=\"apple-touch-icon\"/>\n",
      "<meta content=\"#FFFFFF\" name=\"msapplication-TileColor\"/>\n",
      "<meta content=\"https://jobtensor.com/favicon/favicon-144.png\" name=\"msapplication-TileImage\"/>\n",
      "<meta content=\"https://jobtensor.com/favicon/browserconfig.xml\" name=\"msapplication-config\"/><link crossorigin=\"anonymous\" href=\"https://use.typekit.net/gfd7srs.css\" media=\"print\" onload=\"this.media='all'; this.onload=null;\" rel=\"stylesheet\">\n",
      "<link href=\"https://jobtensor.com/packages/mdi/css/materialdesignicons.css\" media=\"print\" onload=\"this.media='all'; this.onload=null;\" rel=\"stylesheet\"/>\n",
      "<script type=\"text/javascript\">window['context']={\"config\":{\"origin\":\"https:\\/\\/jobtensor.com\",\"origin_route\":\"search.preview-job\",\"base_path\":\"\\/\",\"urls\":{\"home\":\"https:\\/\\/jobtensor.com\",\"blog\":\"https:\\/\\/jobtensor.com\\/blog\\/\",\"about\":\"https:\\/\\/jobtensor.com\\/about\",\"post-a-job\":\"https:\\/\\/jobtensor.com\\/register\",\"pricing\":\"https:\\/\\/jobtensor.com\\/pricing\",\"imprint\":\"https:\\/\\/jobtensor.com\\/imprint\",\"data-security\":\"https:\\/\\/jobtensor.com\\/data-security\",\"support\":\"https:\\/\\/jobtensor.com\\/support\",\"partners\":\"https:\\/\\/jobtensor.com\\/partners\",\"sitemap\":\"https:\\/\\/jobtensor.com\\/sitemap\\/index\",\"login\":\"https:\\/\\/jobtensor.com\\/login\",\"logout\":\"https:\\/\\/jobtensor.com\\/logout\",\"register\":\"https:\\/\\/jobtensor.com\\/register\",\"shortlisted\":\"https:\\/\\/jobtensor.com\\/my\\/shortlisted\",\"skill-listing\":\"https:\\/\\/jobtensor.com\\/top-it-skills-kenntnisse\",\"occupation-listing\":\"https:\\/\\/jobtensor.com\\/top-occupations-it-branche\",\"study-hub\":\"https:\\/\\/jobtensor.com\\/Studium\",\"training-hub\":\"https:\\/\\/jobtensor.com\\/Ausbildung\",\"occupation-hub\":\"https:\\/\\/jobtensor.com\\/Beruf\",\"salary-hub\":\"https:\\/\\/jobtensor.com\\/Gehalt\",\"tutorial-hub\":\"https:\\/\\/jobtensor.com\\/Tutorial\\/de\",\"search\":\"https:\\/\\/jobtensor.com\\/search\",\"search.show\":\"https:\\/\\/jobtensor.com\\/:path\",\"search.preview-job\":\"https:\\/\\/jobtensor.com\\/job\\/:slug\",\"search.subscribe\":\"https:\\/\\/jobtensor.com\\/search\\/subscribe\",\"ajax.search\":\"https:\\/\\/jobtensor.com\\/ajax\\/search\\/:path\",\"ajax.search.suggest\":\"https:\\/\\/jobtensor.com\\/ajax\\/search\\/suggest\",\"ajax.search.preview-job\":\"https:\\/\\/jobtensor.com\\/ajax\\/search\\/jobs\\/:slug\",\"ajax.search.preview-job.meta\":\"https:\\/\\/jobtensor.com\\/ajax\\/search\\/jobs\\/:slug\\/job-meta\",\"ajax.search.preview-job.perform-action\":\"https:\\/\\/jobtensor.com\\/ajax\\/search\\/jobs\\/:slug\\/perform-action\",\"ajax.search.preview-job.perform-apply\":\"https:\\/\\/jobtensor.com\\/ajax\\/search\\/jobs\\/:slug\\/perform-apply\",\"ajax.search.preview-job.visit\":\"https:\\/\\/jobtensor.com\\/ajax\\/search\\/jobs\\/:slug\\/visit\",\"ajax.search.skill\":\"https:\\/\\/jobtensor.com\\/ajax\\/search\\/skill\",\"ajax.search.top-terms\":\"https:\\/\\/jobtensor.com\\/ajax\\/search\\/top-terms\",\"ajax.bookmarks.store\":\"https:\\/\\/jobtensor.com\\/ajax\\/bookmarks\",\"ajax.bookmarks.delete\":\"https:\\/\\/jobtensor.com\\/ajax\\/bookmarks\",\"ajax.jobs.apply\":\"https:\\/\\/jobtensor.com\\/ajax\\/jobs\\/:job\\/apply\",\"ajax.external-jobs.apply\":\"https:\\/\\/jobtensor.com\\/ajax\\/external-jobs\\/:external_job\\/apply\",\"employer.dashboard\":\"https:\\/\\/jobtensor.com\\/dashboard\",\"employer.jobs.create\":\"https:\\/\\/jobtensor.com\\/employer\\/jobs\\/create?step=1&action=create\",\"jobseeker.login\":\"https:\\/\\/jobtensor.com\\/login?jobseeker\",\"jobseeker.register\":\"https:\\/\\/jobtensor.com\\/register?jobseeker\",\"jobseeker.dashboard\":\"https:\\/\\/jobtensor.com\\/jobseeker\",\"jobseeker.shortlisted\":\"https:\\/\\/jobtensor.com\\/jobseeker\\/shortlisted\"},\"countries\":{\"GERMANY\":\"de\",\"UNITED_KINGDOM\":\"uk\",\"PHILIPPINES\":\"ph\"},\"default_country\":\"de\",\"current_country\":\"de\",\"supported_languages\":[\"de\",\"en\"],\"default_language\":\"de\",\"map_center\":[\"51.165694\",\"10.451500\"],\"per_page\":15,\"support\":{\"email\":\"support@jobtensor.com\",\"contact\":\"+49 201 999505-60\",\"copyright\":\"Copyright \\u00a9 Jobtensor 2024. All Rights reserved.\"}},\"user\":{\"id\":null,\"is_employer\":false,\"is_jobseeker\":false,\"email\":null,\"full_name\":null,\"cv_link\":null,\"resume\":null},\"language\":\"de\",\"path\":null,\"page\":1,\"seo\":{\"title\":\"CRM Lead (m\\/w\\/d)\",\"description\":\"CRM Lead (m\\/w\\/d)\",\"canonical\":\"https:\\/\\/jobtensor.com\\/job\\/CRM-Lead-mwd-a0d10e3ebe8e\"},\"title\":\"CRM Lead (m\\/w\\/d)\",\"total\":1202052,\"hits\":[{\"id\":2020,\"is_premium\":true,\"title\":\"Senior Application Owner (m\\/f\\/d)\",\"company\":\"SEFE Energy GmbH\",\"company_cluster\":\"SEFE Energy GmbH\",\"company_logo\":\"https:\\/\\/res.cloudinary.com\\/inqbyteio\\/image\\/upload\\/f_auto,w_72\\/if_ar_gt_1.78,c_lpad,w_72,h_72\\/if_else,c_fill,w_72,h_72\\/v1727857567\\/zb4mhbi5gvslcsyjjwaz.png\",\"posted_at\":\"2024-10-02\",\"locations\":[\"Kassel\"],\"is_remote\":false,\"snippet_fragments\":[\"SEFE ist nicht nur unser Unternehmensname\",\"Aber auch dar\\u00fcber hinaus sehen wir uns als wichtigen Bestandteil der Europ\\u00e4ischen Energiewende\",\"SEFE ist entlang der Energie-Wertsch\\u00f6pfungskette aktiv\",\"Dank jahrzehntelanger Expertise im Energiehandel und dem kontinuierlichen Ausbau des LNG-Angebots ist SEFE mit einem j\\u00e4hrlichen Vertriebsvolumen von 200 TWh Gas und Strom einer der wichtigsten Lieferanten von Industriekunden in Europa\",\"SEFE beliefert \\u00fcber 50.000 Kunden, von kleinen Unternehmen bis hin zu Stadtwerken und multinationalen Konzernen\",\"Durch Investitionen in saubere Energien und insbesondere in das Wasserstoff-\\u00d6kosystem leistet SEFE einen wichtigen Beitrag zur Energiewende\",\"SEFE besch\\u00e4ftigt weltweit rund 2.000 Mitarbeiter und ist ein Unternehmen des Bundes\"],\"from_rate\":null,\"to_rate\":null,\"rate_currency\":null,\"rate_unit\":null,\"skills\":[\"Java\",\"Test Management\",\"Web Services\",\"CD\",\"Cloud\",\"Continuous Integration\",\"SOAP\",\"Windows\",\"XML\",\"Linux\"],\"is_new\":false,\"is_expired\":false,\"slug\":\"Senior-Application-Owner-mfd-efBKKACGpUPj\"},{\"id\":2024,\"is_premium\":true,\"title\":\"Softwareentwickler (m\\/w\\/d)\",\"company\":\"Bayerisches Landesamt f\\u00fcr Gesundheit und Lebensmittelsicherheit\",\"company_cluster\":\"Bayerisches Landesamt f\\u00fcr Gesundheit und Lebensmittelsicherheit\",\"company_logo\":\"https:\\/\\/anzeigenvorschau.net\\/bestmedia\\/stream\\/du\\/2061240\\/nv6defb240963cd36de9777f697933ab021702a610\\/1064544\\/da0e2dcd7b08060\\/logo_treffer.png\",\"posted_at\":\"2024-10-02\",\"locations\":[\"Erlangen\"],\"is_remote\":false,\"snippet_fragments\":[\" Erstellung von Dokumentation (Pflichtenhefte, Fachkonzepte etc.) f\\u00fcr die IT-Verfahren\",\"       Installation und Test der einzuf\\u00fchrenden Softwarepakete  \",\"       Unterst\\u00fctzung der Mitarbeiterinnen und Mitarbeiter bez\\u00fcglich der eingesetzten IT-Verfahren  \",\"       Ansprechpartner (m\\/w\\/d) f\\u00fcr beteiligte externe Firmen  \",\"       Abgeschlossene Ausbildung als Fachinformatiker (m\\/w\\/d) f\\u00fcr Anwendungsentwicklung oder vergleichbare Ausbildung und Erfahrung \",\"        Sicherer Umgang mit Visual Studio\\/ Eclipse\",\"       Aufgeschlossenheit im Umgang mit Kolleginnen und Kollegen sowie freundliches und sicheres Auftreten im Kontakt mit Anwenderinnen und Anwendern sowie Firmen \",\"       Sehr gute Deutschkenntnisse in Wort und Schrift (mindestens Sprachniveau C1 nach GER)  \",\"      30 Tage Urlaub plus Heiligabend und Silvester arbeitsfrei \",\"      Die Einstellung erfolgt im Wege eines unbefristeten tarifrechtlichen Arbeitsverh\\u00e4ltnisses\",\"Die Verg\\u00fctung richtet sich nach den Regelungen des TV-L\",\"Die beabsichtigte Eingruppierung erfolgt je nach Qualifikation und pers\\u00f6nlichen Voraussetzungen in der Entgeltgruppe E9b\",\"N\\u00e4here Informationen zur Verg\\u00fctung finden Sie unter \",\"      Wenn wir Ihr Interesse geweckt haben\",\"Weitere Informationen zum Bewerbungsverfahren, die Bestandteil dieser Ausschreibung sind, finden Sie ebenfalls auf unserer \"],\"from_rate\":null,\"to_rate\":null,\"rate_currency\":null,\"rate_unit\":null,\"skills\":[\".NET\",\"C#\",\"Java\",\"Microsoft Office\",\"NHibernate\",\"Visual Studio\",\"Eclipse\",\"Git\",\"Massenspektrometrie\"],\"is_new\":false,\"is_expired\":false,\"slug\":\"Softwareentwickler-mwd-f2kXfgcpnIIT\"},{\"id\":2022,\"is_premium\":true,\"title\":\"Mechatroniker \\/ Elektroniker (m\\/w\\/d) Automatisierungstechnik f\\u00fcr Spritzgussfertigung\",\"company\":\"Novapax Kunststofftechnik\",\"company_cluster\":\"Novapax Kunststofftechnik\",\"company_logo\":\"https:\\/\\/anzeigenvorschau.net\\/bestmedia\\/stream\\/du\\/2056378\\/nvf658839f833b1329a31b0421c889a35be5b79b48\\/1064226\\/1de2f3c379b23e7\\/logo_treffer.png\",\"posted_at\":\"2024-10-02\",\"locations\":[\"Berlin\"],\"is_remote\":false,\"snippet_fragments\":[\"Abgeschlossene Ausbildung als Mechatroniker (m\\/w\\/d), Industrieelektriker (m\\/w\\/d) oder Elektroniker(m\\/w\\/d) f\\u00fcr Automatisierungs- und Systemtechnik bzw\",\"        Idealerweise praktische Erfahrung in der Kunststoffspritzgussproduktion \",\"Mehrj\\u00e4hrige Berufserfahrung in der Installation, Wartung und Reparatur elektrischer Anlagen und mechatronischer Systeme\",\"        Know-how in der Fehleranalyse und -behebung sowie Grundkenntnisse in der Programmierung von Steuerungssystemen \",\"        Routinierter Umgang mit MES- und ERP-Systemen sowie MS Office \",\"        Gute Deutsch- und Englischkenntnisse in Wort und Schrift \",\"        Bereitschaft zur Weiterbildung in den Bereichen Elektrotechnik\",\"Teamf\\u00e4higkeit, Zuverl\\u00e4ssigkeit, Flexibilit\\u00e4t und Anpassungsf\\u00e4higkeit in einem dynamischen Arbeitsumfeld\",\"        Hohe Lernbereitschaft und Engagement zur Verbesserung von Prozessen und Systemen \",\"        Freude an der Weitergabe von Wissen an Ihre Kollegen (m\\/w\\/d) und der \\u00dcbernahme neuer Aufgaben und Projekte \",\"        Kostenfreie Mitarbeiterparkpl\\u00e4tze sowie Zuschuss zum Deutschlandticket \"],\"from_rate\":null,\"to_rate\":null,\"rate_currency\":null,\"rate_unit\":null,\"skills\":[\"Microsoft Office\",\"Elektronik\",\"Formenbau\",\"Kunststofftechnik\",\"Medizin\",\"Massenspektrometrie\"],\"is_new\":false,\"is_expired\":false,\"slug\":\"Mechatroniker-Elektroniker-mwd-Automatisierungstechnik-f\\u00fcr-Spritzgussfertigung-MahskjlIViVy\"},{\"id\":2023,\"is_premium\":true,\"title\":\"Entwicklungsingenieur im Bereich Spezialkabelentwicklung (m\\/w\\/d)\",\"company\":\"Kromberg & Schubert GmbH Cable & Wire\",\"company_cluster\":\"Kromberg & Schubert GmbH Cable & Wire\",\"company_logo\":\"https:\\/\\/anzeigenvorschau.net\\/bestmedia\\/stream\\/du\\/2060290\\/nv64b105a6a81b84463ab18e25dc69c9fe98614558\\/1064224\\/cad0032f77c8d86\\/logo_treffer.png\",\"posted_at\":\"2024-10-02\",\"locations\":[\"Rhede bei Bocholt\"],\"is_remote\":false,\"snippet_fragments\":[\"        Entwicklung und Konstruktion kundenspezifischer Kabel und Leitungen unter Ber\\u00fccksichtigung von Leitungsspezifikationen sowie nationalen und internationalen Normen \",\"         Fachlicher Ansprechpartner (m\\/w\\/d) f\\u00fcr unser Kundenportfolio (Automotive- sowie Industriebereich) \",\"        Eigenst\\u00e4ndige Abstimmung mit Kunden und Verantwortung f\\u00fcr den Projektfortschritt \",\"        Erstellung von Zeichnungen nach konstruktiven Vorgaben \",\"        Pr\\u00fcfung der Herstellbarkeit von Produkten in enger Zusammenarbeit mit den internen Fachabteilungen \",\"        Unterst\\u00fctzung des Angebotsprozesses sowie technische Auftragskl\\u00e4rung und Kalkulation \",\"        \\u00c4nderung bestehender Konstruktionen nach Vorgaben und Durchf\\u00fchrung des \\u00c4nderungsmanagements  \",\"Attraktives Gehalt, verschiedene Sonderzahlungen & Zusch\\u00fcsse\",\"        Erfolgreich abgeschlossenes Studium der Fachrichtung Elektrotechnik\",\"        Mehrj\\u00e4hrige Berufserfahrung in der Kabelkonstruktion oder \\u00e4hnlichen T\\u00e4tigkeiten in kabelnahen Branchen w\\u00fcnschenswert \",\"Analytisches Denken, eigenst\\u00e4ndige Arbeitsweise und Proaktivit\\u00e4t\",\"        Sehr gute Deutsch- und Englischkenntnisse in Wort und Schrift  \",\"        Wir sind ein weltweit f\\u00fchrender Hersteller von Spezialkabeln\",\"        Wir erm\\u00f6glichen spannende Erfahrungen und Herausforderungen\",\"Wir leben Werte wie Vertrauen, Mitarbeiterzufriedenheit und Wertsch\\u00e4tzung.\",\"Wir stehen f\\u00fcr Optimismus, Innovation und Freude am Erfolg.\",\"      Klingt super?Dann gleich bewerben und Farbe bekennen\"],\"from_rate\":\"60.000\",\"to_rate\":\"80.000\",\"rate_currency\":\"\\u20ac\",\"rate_unit\":\"p.a.\",\"skills\":[\"Powerpoint\",\"Excel\",\"Medizintechnik\",\"Physik\"],\"is_new\":false,\"is_expired\":false,\"slug\":\"Entwicklungsingenieur-im-Bereich-Spezialkabelentwicklung-mwd-j7TrOJLy3vcs\"},{\"id\":2021,\"is_premium\":true,\"title\":\"Category Manager (m\\/w\\/d) Global Procurement\",\"company\":\"MEYER WERFT GmbH & Co. KG\",\"company_cluster\":\"MEYER WERFT GmbH & Co. KG\",\"company_logo\":\"https:\\/\\/anzeigenvorschau.net\\/bestmedia\\/stream\\/du\\/2061824\\/nv5bd1a5cf42db845ab22d18458aee133864c2e72a\\/1064179\\/62665b84550fe69\\/logo_treffer.png\",\"posted_at\":\"2024-10-02\",\"locations\":[\"Papenburg\"],\"is_remote\":false,\"snippet_fragments\":[\"Betreuung von Auszubildenden, dualen Studierenden und Praktikanten (m\\/w\\/d)\",\"        abgeschlossenes Studium im Bereich Betriebswirtschaft\\/Wirtschaftsingenieurwesen bzw\",\"dreij\\u00e4hrige kaufm\\u00e4nnische oder technische Berufsausbildung und einschl\\u00e4gige Berufserfahrung \",\"        Eine interessante und vielf\\u00e4ltige Aufgabe in einem international agierenden Familienunternehmen mit flachen Hierarchien \",\"verg\\u00fcnstigtes Mittagessen und Getr\\u00e4nke, Firmen-Fitnessrabatte etc.)\",\"Bei uns arbeitest du eigenverantwortlich, bringst eigene Ideen ins Team ein und tr\\u00e4gst so zum gemeinsamen Erfolg bei\",\"Eine offene und respektvolle Unternehmenskultur, bei der wir mit einem starken Wir-Gef\\u00fchl Ziele gemeinsam verfolgen\",\"        Auf die Vereinbarkeit von Beruf und Familie legen wir gro\\u00dfen Wert und betreiben seit 2013 gemeinsam mit dem Deutschen Roten Kreuz als Tr\\u00e4ger unsere Betriebs-Kita Nautilus mit flexiblen \\u00d6ffnungszeiten\"],\"from_rate\":null,\"to_rate\":null,\"rate_currency\":null,\"rate_unit\":null,\"skills\":[\"Wirtschaftsingenieurwesen\"],\"is_new\":false,\"is_expired\":false,\"slug\":\"Category-Manager-mwd-Global-Procurement-yV1SWW2Xehm4\"},{\"id\":2018,\"is_premium\":true,\"title\":\"IT-Projektkoordinator*in (m\\/w\\/d) mit eig. Programmierf\\u00e4higkeiten\",\"company\":\"Mut f\\u00f6rdern e.V.\",\"company_cluster\":\"Mut f\\u00f6rdern e.V.\",\"company_logo\":\"https:\\/\\/res.cloudinary.com\\/inqbyteio\\/image\\/upload\\/f_auto,w_72\\/if_ar_gt_1.78,c_lpad,w_72,h_72\\/if_else,c_fill,w_72,h_72\\/v1727789270\\/oosoxlfs6ler1orcj7ke.png\",\"posted_at\":\"2024-10-01\",\"locations\":[\"Bremen\"],\"is_remote\":true,\"snippet_fragments\":[\"&nbsp;zum Ausbau unserer Projekte, speziell MUT-ATLAS, aber auch Webseiten mit eigenen Anwendungen, die die Kommunikation mit den ehrenamtlichen Teilnehmenden vor, w\\u00e4hrend und nach der MUT-TOUR erleichtern.\",\"Erfahrung in Ubuntu\\/Debian-Serververwaltung, Docker, Nextcloud, Keycloak, Filemaker, Git, React, Python, C#, Shell-Skripting, Datensicherung sowie HTML und Wordpress.\",\"Du holst dir proaktiv Feedback und sprichst Unklarheiten an\",\"Du hast Interesse an gesundheitsbezogenen Themen und der Selbsthilfe\",\"Es besteht die M\\u00f6glichkeit, sich die Arbeitstage frei einzuteilen, was dir eine hohe Flexibilit\\u00e4t erm\\u00f6glicht.\",\"Wenn n\\u00f6tig, stellen wir dir eine dienstliche eSim, einen Zweitbildschirm oder weitere EDV-Ausr\\u00fcstung zur Verf\\u00fcgung, um deine Arbeit zu unterst\\u00fctzen.\",\"Du kannst eigene Ideen einbringen und deine Rolle im Laufe der Zeit weiter ausbauen\",\"H\\u00e4nge deinen Lebenslauf als separates PDF (max\"],\"from_rate\":null,\"to_rate\":null,\"rate_currency\":null,\"rate_unit\":null,\"skills\":[\"C#\",\"Docker\",\"Keycloak\",\"Python\",\"Ubuntu\",\"WordPress\",\"FileMaker\",\"Git\",\"HTML\",\"React\"],\"is_new\":false,\"is_expired\":false,\"slug\":\"IT-Projektkoordinatorin-mwd-mit-eig-Programmierf\\u00e4higkeiten-KSVY6lIeU9Dj\"},{\"id\":2017,\"is_premium\":true,\"title\":\"Konstrukteur Maschinen- & Anlagenbau\",\"company\":\"LEWA GmbH\",\"company_cluster\":\"LEWA GmbH\",\"company_logo\":\"https:\\/\\/anzeigenvorschau.net\\/bestmedia\\/stream\\/du\\/2059665\\/nv5bc65aef68cf1dcf438c45eac0019062a36ef8be\\/1063257\\/1016b98e33cb031\\/logo_treffer.png\",\"posted_at\":\"2024-10-01\",\"locations\":[\"Leonberg\"],\"is_remote\":false,\"snippet_fragments\":[\"Sehr gute 3D-CAD-Kenntnisse, vorzugsweise Solid Edge\",\"        Kenntnisse der branchen\\u00fcblichen Regelwerke und Normen \",\"        Werkstoffkenntnisse (Materialauswahl anhand von Spezifikationen und Einsatzbedingungen) \",\"          Erfahrung im Umgang mit SAP R3 bzgl\",\"        Freiwillige Zusatzzahlungen wie Urlaubs- und Weihnachtsgeld \"],\"from_rate\":null,\"to_rate\":null,\"rate_currency\":null,\"rate_unit\":null,\"skills\":[\"Adobe Edge\",\"IDS\",\"SAP\",\"SOLID\",\"Solid Edge\",\"Anlagenbau\",\"Maschinenbau\",\"Regelungstechnik\"],\"is_new\":false,\"is_expired\":false,\"slug\":\"Konstrukteur-Maschinen-Anlagenbau-hEC9EyN0VeWv\"},{\"id\":2016,\"is_premium\":true,\"title\":\"Systemadministrator (m\\/w\\/d)\",\"company\":\"Stadt Schriesheim Rhein-Neckar-Kreis\",\"company_cluster\":\"Stadt Schriesheim Rhein-Neckar-Kreis\",\"company_logo\":\"https:\\/\\/anzeigenvorschau.net\\/bestmedia\\/stream\\/du\\/2059799\\/nvb03106c60fdbb78c8344029a70c5103a588a31fc\\/1063379\\/bd2da132390fdd2\\/logo_treffer.png\",\"posted_at\":\"2024-10-01\",\"locations\":[\"Schriesheim bei Mannheim\"],\"is_remote\":false,\"snippet_fragments\":[\"       Eine abgeschlossene Ausbildung als Fachinformatiker(m\\/w\\/d) f\\u00fcr Systemintegration oder ein vergleichbarer Abschluss \",\"       Gute Kenntnisse in VMware sowie Microsoft-Client- und Server-Betriebssystemen \",\"Einschl\\u00e4gige Kenntnisse in Windows PowerShell, Veeam Backup& Replication oder baramundi Management Suite w\\u00fcnschenswert\",\"      Wir bieten Ihnen einen abwechslungsreichen und zukunftsorientierten Arbeitsplatz in einem engagierten\",\"       Stadtverwaltung Schriesheim  Friedrichstra\\u00dfe 2830 69198 Schriesheim Tel\"],\"from_rate\":null,\"to_rate\":null,\"rate_currency\":null,\"rate_unit\":null,\"skills\":[\"PowerShell\",\"Mobile Device Management\",\"VMware\",\"Veeam\",\"Replication\",\"Windows\"],\"is_new\":false,\"is_expired\":false,\"slug\":\"Systemadministrator-mwd-tayHbOuMRdRO\"},{\"id\":2019,\"is_premium\":true,\"title\":\"Referatsleiter*in Technische Revision\",\"company\":\"Max-Planck-Gesellschaft zur F\\u00f6rderung der Wissenschaften e.V.\",\"company_cluster\":\"Max-Planck-Gesellschaft zur F\\u00f6rderung der Wissenschaften e.V.\",\"company_logo\":\"https:\\/\\/anzeigenvorschau.net\\/bestmedia\\/stream\\/du\\/2054547\\/nv2ec6604fab1a81b0a57ff5d75a63536475be1a7a\\/1060247\\/edee3449f429385\\/logo_treffer.png\",\"posted_at\":\"2024-10-01\",\"locations\":[\"M\\u00fcnchen\"],\"is_remote\":false,\"snippet_fragments\":[\"       Abgeschlossenes wissenschaftliches Hochschulstudium in einem der genannten relevanten Bereiche bzw\",\"       Sehr gute Kenntnisse der Regelungen im Zuwendungsbereich sowie Erkennen wesentlicher Normabweichungen und Handlungsbedarfen in den relevanten Bereichen \",\"Analytische und strukturierte Denkweise, zielorientierter und eigenst\\u00e4ndiger Arbeitsstil\",\"       Hohe Bereitschaft zur Weiterentwicklung der Aufgabenfelder des Referats im Rahmen der dynamischen Fortentwicklung der Abteilung Revision \",\"       Ausgezeichnete m\\u00fcndliche und schriftliche Formulierungsst\\u00e4rke sowohl in Deutsch als auch in Englisch \",\"      Im Rahmen eines unbefristeten Arbeitsverh\\u00e4ltnisses bieten wir Ihnen je nach Qualifikation und Berufserfahrung eine Bezahlung bis Entgeltgruppe 15 TV\\u00f6D (Bund) sowie verschiedene Sozialleistungen\",\"Unverbindliche Informationen zum Gehalt finden Sie in der Entgelttabelle des \\u00f6ffentlichen Dienstes (TV\\u00f6D Bund)\",\"Ihr Arbeitsplatz liegt in der Stadtmitte M\\u00fcnchens und ist gut mit \\u00f6ffentlichen Verkehrsmitteln zu erreichen\",\"In der N\\u00e4he des Dienstgeb\\u00e4udes sind Betreuungsm\\u00f6glichkeiten f\\u00fcr Kinder im Alter von sechs Monaten bis drei Jahren vorhanden\",\"       Was Sie von uns erwarten k\\u00f6nnen \",\"       Wir unterst\\u00fctzen Sie bei der Vereinbarkeit von Beruf und Familie durch flexible Arbeitszeitmodelle \",\"       Wir f\\u00f6rdern Ihre pers\\u00f6nliche Entwicklung durch vielf\\u00e4ltige individuelle Weiterbildungsma\\u00dfnahmen und bieten Ihnen ein umfangreiches Angebot zur Gesundheitsf\\u00f6rderung sowie eine betriebliche Altersvorsorge \",\"       Wir bieten verg\\u00fcnstigte Jobtickets zur Nutzung des \\u00f6ffentlichen Personennahverkehrs \",\"       Daneben werden die \\u00fcblichen Sozialleistungen des \\u00f6ffentlichen Dienstes (Bund) gew\\u00e4hrt \",\"       Wir bieten die M\\u00f6glichkeit des mobilen Arbeitens \",\"      Die Max-Planck-Gesellschaft hat sich zum Ziel gesetzt\",\" Die Max-Planck-Gesellschaft strebt nach Geschlechtergerechtigkeit und Vielfalt\",\"Wir freuen uns \\u00fcber Bewerber*innen jeglichen Hintergrunds\",\"      Haben wir Ihr Interesse geweckt? Dann freuen wir uns auf Ihre vollst\\u00e4ndige Onlinebewerbung (Kennziffer 114\\/24) inklusive Motivationsschreiben unter  www\"],\"from_rate\":null,\"to_rate\":null,\"rate_currency\":null,\"rate_unit\":null,\"skills\":[],\"is_new\":false,\"is_expired\":false,\"slug\":\"Referatsleiterin-Technische-Revision-xUDCwSlh8S6H\"},{\"id\":2015,\"is_premium\":true,\"title\":\"IT-Mitarbeiter*in f\\u00fcr das Produktmanagement im Bereich E-Mail\",\"company\":\"Deutsche Bundesbank\",\"company_cluster\":\"Deutsche Bundesbank\",\"company_logo\":\"https:\\/\\/res.cloudinary.com\\/inqbyteio\\/image\\/upload\\/f_auto,w_72\\/if_ar_gt_1.78,c_lpad,w_72,h_72\\/if_else,c_fill,w_72,h_72\\/v1727705268\\/wfrkiroognreyimsgm3d.jpg\",\"posted_at\":\"2024-09-30\",\"locations\":[\"Munich\"],\"is_remote\":false,\"snippet_fragments\":[\"Bankzulage, zukunftsorientierter Arbeitsplatz im \\u00f6ffentlichen Dienst mit verl\\u00e4sslichen Arbeitsbedingungen, unbefristetes Arbeitsverh\\u00e4ltnis, abwechslungsreiche Aufgaben, grunds\\u00e4tzliche Verbeamtungsm\\u00f6glichkeit, M\\u00f6glichkeit zur Fortf\\u00fchrung eines bestehenden Beamtenverh\\u00e4ltnisses (bis A 12)&nbsp;Verg\\u00fctung in Anlehnung an den TV\\u00f6D auf Basis der Entgeltgruppe E 12, zzgl\",\"Bankzulage, zukunftsorientierter Arbeitsplatz im \\u00f6ffentlichen Dienst mit verl\\u00e4sslichen Arbeitsbedingungen, unbefristetes Arbeitsverh\\u00e4ltnis, abwechslungsreiche Aufgaben, grunds\\u00e4tzliche Verbeamtungsm\\u00f6glichkeit, M\\u00f6glichkeit zur Fortf\\u00fchrung eines bestehenden Beamtenverh\\u00e4ltnisses (bis A 12)\",\"betriebliches Gesundheitsmanagement, Gesundheits- und Sportkurse, kostenloses Jobticket, gute Verkehrsanbindung (Bus &amp; Bahn)&nbsp;betriebliches Gesundheitsmanagement, Gesundheits- und Sportkurse, kostenloses Jobticket, gute Verkehrsanbindung (Bus &amp; Bahn)\",\"Falls Sie im Voraus noch Fragen haben\",\"Schwerbehinderte Menschen werden bei gleicher Eignung bevorzugt ber\\u00fccksichtigt\"],\"from_rate\":null,\"to_rate\":null,\"rate_currency\":null,\"rate_unit\":null,\"skills\":[\"ITIL\",\"Cloud\",\"Microsoft Exchange\",\"Malware\",\"Microsoft Outlook\",\"Agile Testing\",\"Massenspektrometrie\"],\"is_new\":false,\"is_expired\":false,\"slug\":\"IT-Mitarbeiterin-f\\u00fcr-das-Produktmanagement-im-Bereich-E-Mail-wTRfEOXZsi29\"},{\"id\":2013,\"is_premium\":true,\"title\":\"Sachgebietsleitung Hochbau (d\\/m\\/w) in der Fachgruppe Geb\\u00e4ude- und Grundst\\u00fccksbewirtschaftung\",\"company\":\"Hansestadt Buxtehude\",\"company_cluster\":\"Hansestadt Buxtehude\",\"company_logo\":\"https:\\/\\/anzeigenvorschau.net\\/bestmedia\\/stream\\/du\\/2055562\\/nv30ae7f14b62190c5d1295320f6132a5a3b041936\\/1062622\\/dcf672219a20f10\\/logo_treffer.png\",\"posted_at\":\"2024-09-30\",\"locations\":[\"Buxtehude\"],\"is_remote\":false,\"snippet_fragments\":[\"       Sie \\u00fcbernehmen allgemeine Leitungst\\u00e4tigkeiten mit Personalverantwortung f\\u00fcr 11 Mitarbeiter*innen mit dem Schwerpunkt Wirtschaftlichkeit und Nachhaltigkeit\",\"       Sie verantworten die Steuerungsaufgaben zur Sicherstellung der Umsetzung der im Haushalt der Hansestadt Buxtehude festgeschriebenen Bauma\\u00dfnahmen\",\"Sie f\\u00fchren Ergebniskontrollen (Kosten, Termine, Qualit\\u00e4t) durch und erstellen Statusberichte (Baucontrolling).\",\"Sie \\u00fcbernehmen die Projektleitung, das Projektmanagement sowie die Bauherrenvertretung f\\u00fcr gr\\u00f6\\u00dfere Bauvorhaben.\",\"       Sie verantworten die Sicherstellung des Informationsaustauschs und der Kommunikation (intern und extern) mit den Bedarfstr\\u00e4gern und Fachaussch\\u00fcssen\",\"       Sie sind zust\\u00e4ndig f\\u00fcr die Prozessoptimierung der bisherigen Verfahrensabl\\u00e4ufe gemeinsam mit der Fachgruppen- bzw\",\"       Sie sorgen f\\u00fcr die Entwicklungund Umsetzung der Digitalisierung innerhalb des Sachgebiets\",\"       Sie \\u00fcbernehmen die Haushaltsverantwortung f\\u00fcr die Projekte dieses Sachgebietes\",\"      Eine Anpassung des Stellenprofils ist vorbehalten\",\"       Sie haben ein abgeschlossenes Hochschulstudium (Diplom\\/Bachelor) der Fachrichtung Bauingenieurwesen\",\"       Sie verf\\u00fcgen \\u00fcber eine mehrj\\u00e4hrige einschl\\u00e4gige Berufserfahrung und umfassende Fachkenntnisse im Bereich Hochbau und bringen idealerweise Erfahrung in der F\\u00fchrung eines Teams mit\",\"       Sie haben vertiefte Kenntnisse im Vergabe- und Vertragswesen sowie betriebswirtschaftliche Kenntnisse und ein outputorientiertes Denken und Handeln\",\"       Sie verf\\u00fcgen \\u00fcber einschl\\u00e4gige Kenntnisse der relevanten Fachgesetze\",\"       Sie haben die F\\u00e4higkeit zur systematischen und eigenverantwortlichen Aufgabenerledigung und bringen eine ausgepr\\u00e4gte Kommunikationsf\\u00e4higkeit mit\",\"       Durchsetzungsverm\\u00f6gen sowie ein hohes Ma\\u00df an Eigenverantwortung bringen Sie au\\u00dferdem mit\",\"Und f\\u00fcr die Menschen, die hier leben.\"],\"from_rate\":null,\"to_rate\":null,\"rate_currency\":null,\"rate_unit\":null,\"skills\":[\"Bauingenieurwesen\",\"Wirtschaftsingenieurwesen\",\"Architektur\"],\"is_new\":false,\"is_expired\":false,\"slug\":\"Sachgebietsleitung-Hochbau-dmw-in-der-Fachgruppe-Geb\\u00e4ude-und-Grundst\\u00fccksbewirtschaftung-T97Uj5yEGJR2\"},{\"id\":2014,\"is_premium\":true,\"title\":\"Prozess- und IT-Specialist f\\u00fcr Transportmanagementsysteme (m\\/w\\/d)\",\"company\":\"DSV Road GmbH\",\"company_cluster\":\"DSV Road GmbH\",\"company_logo\":\"https:\\/\\/anzeigenvorschau.net\\/bestmedia\\/stream\\/du\\/2058005\\/nvaf03d3af2f860cab0255729f920e66b8f311a2fd\\/1062601\\/2623059b4f662ad\\/logo_treffer.png\",\"posted_at\":\"2024-09-30\",\"locations\":[\"Schwieberdingen\"],\"is_remote\":false,\"snippet_fragments\":[\"        Du koordinierst und \\u00fcberwachst unser Transportmanagementsystem im First-und Second-Level-Support \",\"        Du analysierst und optimierst unsere Speditionsprozesse im IT-Umfeld \",\"        Du bringst sehr gute Deutsch- und gute Englischkenntnisse in Wort und Schrift sowie einen routinierten Umgang mit MS Office mit \",\"        Du bist ein kommunikativer Teamplayer (m\\/w\\/d) und brennst daf\\u00fcr\",\"      So geht es weiter  dein Weg zu uns \",\"        Match! Du erh\\u00e4ltst deine Zusage und den Arbeitsvertrag \",\"Willkommen bei DSV! Training, Mentoring und Unterst\\u00fctzung durch deinen Buddy\",\"      Haben wir dein Interesse geweckt? Dann starte jetzt deine Karriere bei DSV! \",\"       Bitte bewirb dich \\u00fcber unsere Homepage mit deinem Lebenslauf\",\"Schwerbehinderte Menschen und ihnen Gleichgestellte werden bei gleicher Eignung bevorzugt ber\\u00fccksichtigt\",\"       Dein Kontakt Frau Selena Akdas HR Specialist\"],\"from_rate\":null,\"to_rate\":null,\"rate_currency\":null,\"rate_unit\":null,\"skills\":[\"Microsoft Office\",\"Massenspektrometrie\"],\"is_new\":false,\"is_expired\":false,\"slug\":\"Prozess-und-IT-Specialist-f\\u00fcr-Transportmanagementsysteme-mwd-MbInX9L3tsAX\"},{\"id\":2010,\"is_premium\":true,\"title\":\"Senior Pharmacometrician (all genders)\",\"company\":\"AbbVie Deutschland GmbH & Co. KG\",\"company_cluster\":\"AbbVie Deutschland GmbH & Co. KG\",\"company_logo\":\"https:\\/\\/res.cloudinary.com\\/inqbyteio\\/image\\/upload\\/f_auto,w_72\\/if_ar_gt_1.78,c_lpad,w_72,h_72\\/if_else,c_fill,w_72,h_72\\/v1727442102\\/repjh0hu1v4xowg1xyny.png\",\"posted_at\":\"2024-09-27\",\"locations\":[\"Ludwigshafen\"],\"is_remote\":false,\"snippet_fragments\":[\"The models are based on clinical data\",\"The Senior Pharmacometrician will independently perform high quality pharmacometric (PMx) analyses essential for internal decision making and successful regulatory submission\",\"Pharmacometrics at AbbVie is a subdivision of Clinical Pharmacology (ClinPharm) in the Clinical Development organization\",\"(e.g., dataset specifications, analysis plans, presentations, and reports, as well as other documents for regulatory interactions)\",\"Actively participating and presenting at ClinPharm project team meetings and to ClinPharm leadership\",\"Seeking to continually evaluate and implement novel PMx methods and approaches\",\"Delivering results for business needs and plays a role in positioning AbbVie for long-term success\",\"This i s how you can make a difference\",\"PhD with 0 years of experience, Masters Degree or equivalent education and typically 5years of experience in relevant field includes experience with data science, mathematics, biostatistics, modeling and simulation, Pharmacometrics or systems pharmacology\",\"Scripting languages (Python, R, Julia or similar)\",\"Please indicate your potential start date and salary expectations in your motivation letter\",\"Be a part of it and grow with us  go above and beyond! Sounds like the perfect career opportunity for you? We look forward to receiving your application\",\"All you need is a complete CV  anything else will be discussed in person\"],\"from_rate\":null,\"to_rate\":null,\"rate_currency\":null,\"rate_unit\":null,\"skills\":[\"Scripting Language\",\"Data Science\",\"Python\",\"Statistical modeling\",\"Julia\",\"R\",\"Biostatistics\",\"Immunologie\",\"Mathematik\",\"Neurowissenschaften\",\"Onkologie\",\"Pharmacometrics\",\"Pharmakologie\"],\"is_new\":false,\"is_expired\":false,\"slug\":\"Senior-Pharmacometrician-all-genders-Vttjg5ZYpWaW\"},{\"id\":2011,\"is_premium\":true,\"title\":\"SAP-Anwendungsbetreuer*in\",\"company\":\"hanseWasser Bremen GmbH\",\"company_cluster\":\"hanseWasser Bremen GmbH\",\"company_logo\":\"https:\\/\\/anzeigenvorschau.net\\/bestmedia\\/stream\\/du\\/2058130\\/nv206802c46ac5c4128660ff53e1e112c725f92529\\/1061862\\/e33666e4060fda1\\/logo_treffer.png\",\"posted_at\":\"2024-09-27\",\"locations\":[\"Bremen\"],\"is_remote\":false,\"snippet_fragments\":[\"Wir freuen uns, wenn Sie sich direkt bei uns \\u00fcber das \",\"      Oder Sie kontaktieren uns einfach  wir beraten gern und geben detailliert Auskunft\",\"Ihr Ansprechpartner ist Job-Jan Meyer unter 0421 \\/ 988 - 1331. \"],\"from_rate\":\"48.000\",\"to_rate\":\"61.500\",\"rate_currency\":\"\\u20ac\",\"rate_unit\":\"p.a.\",\"skills\":[\"SAP\"],\"is_new\":false,\"is_expired\":false,\"slug\":\"SAP-Anwendungsbetreuerin-SiqqZ7mponpa\"},{\"id\":2012,\"is_premium\":true,\"title\":\"Systemadministrator (m\\/w\\/d)\",\"company\":\"F\\u00fcrstlich Castell\\u2019sche Bank\",\"company_cluster\":\"F\\u00fcrstlich Castell\\u2019sche Bank\",\"company_logo\":\"https:\\/\\/anzeigenvorschau.net\\/bestmedia\\/stream\\/du\\/2057657\\/nvdb525bf48e7237e1b8f7c7a695b9fc734f000e18\\/1062338\\/cdf659250e4b209\\/logo_treffer.png\",\"posted_at\":\"2024-09-27\",\"locations\":[\"W\\u00fcrzburg\"],\"is_remote\":false,\"snippet_fragments\":[\"Gemeinsam mit Ihrem gut funktionierenden, siebenk\\u00f6pfigen Team IT-Infrastruktur& IT-Betrieb stellen Sie den reibungslosen Betrieb der IT (mobile Endger\\u00e4te, Clients und Server) sowie der Infrastruktur (Netzwerke und Telefonie) sicher.\",\"       Sie unterst\\u00fctzen die Mitarbeitenden bei der Anwendung bzw\",\"       Zur Optimierung der Arbeitsprozesse planen und implementieren Sie neue Technologien\",\"       Sie koordinieren externe Dienstleister operativ und sorgen f\\u00fcr die Einhaltung vereinbarter Serviceleistungen\",\"       Sie \\u00fcbernehmen die Leitung von IT-Projekten und tragen die Verantwortung f\\u00fcr deren erfolgreiche Umsetzung\",\"       Sie besitzen ein abgeschlossenes Studium der Informatik oder eine vergleichbare Ausbildung wie z\",\"zum Fachinformatiker(m\\/w\\/d) Systemintegration und bringen mehrj\\u00e4hrige Berufserfahrung mit\",\"       Sie sind versiert im Umgang mit Windows Client und Server\",\"       Sie bringen umfassende Erfahrung hinsichtlich Monitoring sowie Betrieb von IT-L\\u00f6sungen (Endger\\u00e4te\\/ Clients und Server) mit und sind mit Verfahren zur Automatisierung vertraut\",\"       Sie haben ein solides Verst\\u00e4ndnis von IT-Architekturen sowie den spezifischen Sicherheitsanforderungen im IT-Bereich\",\"Kaufm\\u00e4nnisches Know-how, idealerweise im Bankwesen, ist von Vorteil, aber keine Voraussetzung.\",\"Sie kennen sich mit IT-Vertr\\u00e4gen, einschlie\\u00dflich Garantien sowie Service-Level-Agreements, aus und k\\u00f6nnen Ma\\u00dfnahmen zur Einhaltung dieser Vertr\\u00e4ge ableiten.\",\"Sie sind ein echter Teamplayer(m\\/w\\/d), treten sicher und freundlich auf und haben ein ausgepr\\u00e4gtes Dienstleistungsverst\\u00e4ndnis im Umgang mit Kolleginnen und Kollegen.\",\"       Zukunft braucht Herkunft wir verstehen uns als moderne und innovative Privatbank mit 250-j\\u00e4hriger Tradition\",\"       Wir schaffen zukunftsorientiert Mehrwert und f\\u00f6rdern Sie flexibel\",\"Unabh\\u00e4ngig, ob Eigent\\u00fcmer oder Fachkraft ein wertsch\\u00e4tzendes Miteinander innerhalb flacher Hierarchien ist uns wichtig.\",\"       Gemeinsam wollen wir vorankommen f\\u00fcr Ihre verantwortungsvollen T\\u00e4tigkeiten bieten wir Ihnen eine leistungsgerechte Verg\\u00fctung mit Sozialleistungen und zahlreichen Benefits\",\"       Wir stellen Sie in den Mittelpunkt mit 3Tagen mobilem Arbeiten pro Woche schaffen wir f\\u00fcr Sie ein flexibles und familienfreundliches Arbeitsumfeld\"],\"from_rate\":null,\"to_rate\":null,\"rate_currency\":null,\"rate_unit\":null,\"skills\":[\"Windows\"],\"is_new\":false,\"is_expired\":false,\"slug\":\"Systemadministrator-mwd-f8KGIOztIIWR\"}],\"suggestedHits\":[],\"pages\":20,\"skillCommonType\":\"it\",\"skillLogos\":{\".NET\":\"https:\\/\\/res.cloudinary.com\\/inqbyteio\\/image\\/upload\\/f_auto,w_40,h_40,c_pad\\/if_ar_gt_1.78,c_lpad,w_40,h_40\\/v1607047906\\/search\\/autosuggestion\\/microsoft-net_ql1goh.svg\",\"Adobe Edge\":\"https:\\/\\/res.cloudinary.com\\/inqbyteio\\/image\\/upload\\/f_auto,w_40,h_40,c_pad\\/if_ar_gt_1.78,c_lpad,w_40,h_40\\/v1596548058\\/search\\/autosuggestion\\/Adobe_Edge.svg\",\"Agile Testing\":\"https:\\/\\/res.cloudinary.com\\/inqbyteio\\/image\\/upload\\/f_auto,w_40,h_40,c_pad\\/if_ar_gt_1.78,c_lpad,w_40,h_40\\/v1596548110\\/search\\/autosuggestion\\/Agile_testing.jpg\",\"Anlagenbau\":\"https:\\/\\/res.cloudinary.com\\/inqbyteio\\/image\\/upload\\/f_auto,w_40,h_40,c_pad\\/if_ar_gt_1.78,c_lpad,w_40,h_40\\/v1643179186\\/search\\/autosuggestion\\/engineering_default_logo_ch5blc.svg\",\"Architektur\":\"https:\\/\\/res.cloudinary.com\\/inqbyteio\\/image\\/upload\\/f_auto,w_40,h_40,c_pad\\/if_ar_gt_1.78,c_lpad,w_40,h_40\\/v1643179186\\/search\\/autosuggestion\\/engineering_default_logo_ch5blc.svg\",\"Bauingenieurwesen\":\"https:\\/\\/res.cloudinary.com\\/inqbyteio\\/image\\/upload\\/f_auto,w_40,h_40,c_pad\\/if_ar_gt_1.78,c_lpad,w_40,h_40\\/v1643179186\\/search\\/autosuggestion\\/engineering_default_logo_ch5blc.svg\",\"Biostatistics\":\"https:\\/\\/res.cloudinary.com\\/inqbyteio\\/image\\/upload\\/f_auto,w_40,h_40,c_pad\\/if_ar_gt_1.78,c_lpad,w_40,h_40\\/v1643356202\\/search\\/autosuggestion\\/science_default_logo_w2yzyl.svg\",\"C#\":\"https:\\/\\/res.cloudinary.com\\/inqbyteio\\/image\\/upload\\/f_auto,w_40,h_40,c_pad\\/if_ar_gt_1.78,c_lpad,w_40,h_40\\/v1607051159\\/search\\/autosuggestion\\/c--4_cjgwzm.svg\",\"CD\":\"https:\\/\\/res.cloudinary.com\\/inqbyteio\\/image\\/upload\\/f_auto,w_40,h_40,c_pad\\/if_ar_gt_1.78,c_lpad,w_40,h_40\\/v1596548883\\/search\\/autosuggestion\\/Continuous_delivery.png\",\"Cloud\":\"https:\\/\\/res.cloudinary.com\\/inqbyteio\\/image\\/upload\\/f_auto,w_40,h_40,c_pad\\/if_ar_gt_1.78,c_lpad,w_40,h_40\\/v1596548843\\/search\\/autosuggestion\\/Cloud_computing.svg\",\"Continuous Integration\":\"https:\\/\\/res.cloudinary.com\\/inqbyteio\\/image\\/upload\\/f_auto,w_40,h_40,c_pad\\/if_ar_gt_1.78,c_lpad,w_40,h_40\\/v1596548883\\/search\\/autosuggestion\\/Continuous_integration.png\",\"Data Science\":\"https:\\/\\/res.cloudinary.com\\/inqbyteio\\/image\\/upload\\/f_auto,w_40,h_40,c_pad\\/if_ar_gt_1.78,c_lpad,w_40,h_40\\/v1596548975\\/search\\/autosuggestion\\/Data_science.png\",\"Docker\":\"https:\\/\\/res.cloudinary.com\\/inqbyteio\\/image\\/upload\\/f_auto,w_40,h_40,c_pad\\/if_ar_gt_1.78,c_lpad,w_40,h_40\\/v1607051775\\/search\\/autosuggestion\\/docker_brauxz.svg\",\"Eclipse\":\"https:\\/\\/res.cloudinary.com\\/inqbyteio\\/image\\/upload\\/f_auto,w_40,h_40,c_pad\\/if_ar_gt_1.78,c_lpad,w_40,h_40\\/v1607051911\\/search\\/autosuggestion\\/eclipse-11_l64acu.svg\",\"Elektronik\":\"https:\\/\\/res.cloudinary.com\\/inqbyteio\\/image\\/upload\\/f_auto,w_40,h_40,c_pad\\/if_ar_gt_1.78,c_lpad,w_40,h_40\\/v1643179186\\/search\\/autosuggestion\\/engineering_default_logo_ch5blc.svg\",\"Excel\":\"https:\\/\\/res.cloudinary.com\\/inqbyteio\\/image\\/upload\\/f_auto,w_40,h_40,c_pad\\/if_ar_gt_1.78,c_lpad,w_40,h_40\\/v1596550587\\/search\\/autosuggestion\\/Microsoft_Excel.svg\",\"FileMaker\":\"https:\\/\\/res.cloudinary.com\\/inqbyteio\\/image\\/upload\\/f_auto,w_40,h_40,c_pad\\/if_ar_gt_1.78,c_lpad,w_40,h_40\\/v1607052723\\/search\\/autosuggestion\\/filemaker_ua8ols.svg\",\"Formenbau\":\"https:\\/\\/res.cloudinary.com\\/inqbyteio\\/image\\/upload\\/f_auto,w_40,h_40,c_pad\\/if_ar_gt_1.78,c_lpad,w_40,h_40\\/v1643179186\\/search\\/autosuggestion\\/engineering_default_logo_ch5blc.svg\",\"Git\":\"https:\\/\\/res.cloudinary.com\\/inqbyteio\\/image\\/upload\\/f_auto,w_40,h_40,c_pad\\/if_ar_gt_1.78,c_lpad,w_40,h_40\\/v1607052775\\/search\\/autosuggestion\\/git-icon_eaawz7.svg\",\"HTML\":\"https:\\/\\/res.cloudinary.com\\/inqbyteio\\/image\\/upload\\/f_auto,w_40,h_40,c_pad\\/if_ar_gt_1.78,c_lpad,w_40,h_40\\/v1607053215\\/search\\/autosuggestion\\/html5_qvygqw.svg\",\"IDS\":\"https:\\/\\/res.cloudinary.com\\/inqbyteio\\/image\\/upload\\/f_auto,w_40,h_40,c_pad\\/if_ar_gt_1.78,c_lpad,w_40,h_40\\/v1596549782\\/search\\/autosuggestion\\/Intrusion_detection_system.png\",\"Immunologie\":\"https:\\/\\/res.cloudinary.com\\/inqbyteio\\/image\\/upload\\/f_auto,w_40,h_40,c_pad\\/if_ar_gt_1.78,c_lpad,w_40,h_40\\/v1643356202\\/search\\/autosuggestion\\/science_default_logo_w2yzyl.svg\",\"ITIL\":\"https:\\/\\/res.cloudinary.com\\/inqbyteio\\/image\\/upload\\/f_auto,w_40,h_40,c_pad\\/if_ar_gt_1.78,c_lpad,w_40,h_40\\/v1596549791\\/search\\/autosuggestion\\/ITIL.svg\",\"Java\":\"https:\\/\\/res.cloudinary.com\\/inqbyteio\\/image\\/upload\\/f_auto,w_40,h_40,c_pad\\/if_ar_gt_1.78,c_lpad,w_40,h_40\\/v1607053301\\/search\\/autosuggestion\\/java-14_ngek16.svg\",\"Julia\":\"https:\\/\\/res.cloudinary.com\\/inqbyteio\\/image\\/upload\\/f_auto,w_40,h_40,c_pad\\/if_ar_gt_1.78,c_lpad,w_40,h_40\\/v1596546671\\/search\\/autosuggestion\\/647b7cf75cb5662b96901bc521968e94.png\",\"Keycloak\":\"https:\\/\\/res.cloudinary.com\\/inqbyteio\\/image\\/upload\\/f_auto,w_40,h_40,c_pad\\/if_ar_gt_1.78,c_lpad,w_40,h_40\\/v1596549937\\/search\\/autosuggestion\\/Keycloak.png\",\"Kunststofftechnik\":\"https:\\/\\/res.cloudinary.com\\/inqbyteio\\/image\\/upload\\/f_auto,w_40,h_40,c_pad\\/if_ar_gt_1.78,c_lpad,w_40,h_40\\/v1643179186\\/search\\/autosuggestion\\/engineering_default_logo_ch5blc.svg\",\"Linux\":\"https:\\/\\/res.cloudinary.com\\/inqbyteio\\/image\\/upload\\/f_auto,w_40,h_40,c_pad\\/if_ar_gt_1.78,c_lpad,w_40,h_40\\/v1607053545\\/search\\/autosuggestion\\/linux-tux_lbphoh.svg\",\"Malware\":\"https:\\/\\/res.cloudinary.com\\/inqbyteio\\/image\\/upload\\/f_auto,w_40,h_40,c_pad\\/if_ar_gt_1.78,c_lpad,w_40,h_40\\/v1644217161\\/search\\/autosuggestion\\/IT_default_logo_ry9liu.svg\",\"Maschinenbau\":\"https:\\/\\/res.cloudinary.com\\/inqbyteio\\/image\\/upload\\/f_auto,w_40,h_40,c_pad\\/if_ar_gt_1.78,c_lpad,w_40,h_40\\/v1643179186\\/search\\/autosuggestion\\/engineering_default_logo_ch5blc.svg\",\"Massenspektrometrie\":\"https:\\/\\/res.cloudinary.com\\/inqbyteio\\/image\\/upload\\/f_auto,w_40,h_40,c_pad\\/if_ar_gt_1.78,c_lpad,w_40,h_40\\/v1643356202\\/search\\/autosuggestion\\/science_default_logo_w2yzyl.svg\",\"Mathematik\":\"https:\\/\\/res.cloudinary.com\\/inqbyteio\\/image\\/upload\\/f_auto,w_40,h_40,c_pad\\/if_ar_gt_1.78,c_lpad,w_40,h_40\\/v1643356202\\/search\\/autosuggestion\\/science_default_logo_w2yzyl.svg\",\"Medizin\":\"https:\\/\\/res.cloudinary.com\\/inqbyteio\\/image\\/upload\\/f_auto,w_40,h_40,c_pad\\/if_ar_gt_1.78,c_lpad,w_40,h_40\\/v1643356202\\/search\\/autosuggestion\\/science_default_logo_w2yzyl.svg\",\"Medizintechnik\":\"https:\\/\\/res.cloudinary.com\\/inqbyteio\\/image\\/upload\\/f_auto,w_40,h_40,c_pad\\/if_ar_gt_1.78,c_lpad,w_40,h_40\\/v1643179186\\/search\\/autosuggestion\\/engineering_default_logo_ch5blc.svg\",\"Microsoft Exchange\":\"https:\\/\\/res.cloudinary.com\\/inqbyteio\\/image\\/upload\\/f_auto,w_40,h_40,c_pad\\/if_ar_gt_1.78,c_lpad,w_40,h_40\\/v1596550588\\/search\\/autosuggestion\\/Microsoft_Exchange_Server.svg\",\"Microsoft Office\":\"https:\\/\\/res.cloudinary.com\\/inqbyteio\\/image\\/upload\\/f_auto,w_40,h_40,c_pad\\/if_ar_gt_1.78,c_lpad,w_40,h_40\\/v1596550591\\/search\\/autosuggestion\\/Microsoft_Office.svg\",\"Microsoft Outlook\":\"https:\\/\\/res.cloudinary.com\\/inqbyteio\\/image\\/upload\\/f_auto,w_40,h_40,c_pad\\/if_ar_gt_1.78,c_lpad,w_40,h_40\\/v1596550593\\/search\\/autosuggestion\\/Microsoft_Outlook.svg\",\"Mobile Device Management\":\"https:\\/\\/res.cloudinary.com\\/inqbyteio\\/image\\/upload\\/f_auto,w_40,h_40,c_pad\\/if_ar_gt_1.78,c_lpad,w_40,h_40\\/v1620652329\\/search\\/autosuggestion\\/mobile-device-management_ehd6ua.svg\",\"Neurowissenschaften\":\"https:\\/\\/res.cloudinary.com\\/inqbyteio\\/image\\/upload\\/f_auto,w_40,h_40,c_pad\\/if_ar_gt_1.78,c_lpad,w_40,h_40\\/v1643356202\\/search\\/autosuggestion\\/science_default_logo_w2yzyl.svg\",\"NHibernate\":\"https:\\/\\/res.cloudinary.com\\/inqbyteio\\/image\\/upload\\/f_auto,w_40,h_40,c_pad\\/if_ar_gt_1.78,c_lpad,w_40,h_40\\/v1596550622\\/search\\/autosuggestion\\/NHibernate.jpg\",\"Physik\":\"https:\\/\\/res.cloudinary.com\\/inqbyteio\\/image\\/upload\\/f_auto,w_40,h_40,c_pad\\/if_ar_gt_1.78,c_lpad,w_40,h_40\\/v1643356202\\/search\\/autosuggestion\\/science_default_logo_w2yzyl.svg\",\"Powerpoint\":\"https:\\/\\/res.cloudinary.com\\/inqbyteio\\/image\\/upload\\/f_auto,w_40,h_40,c_pad\\/if_ar_gt_1.78,c_lpad,w_40,h_40\\/v1596550594\\/search\\/autosuggestion\\/Microsoft_PowerPoint.svg\",\"PowerShell\":\"https:\\/\\/res.cloudinary.com\\/inqbyteio\\/image\\/upload\\/f_auto,w_40,h_40,c_pad\\/if_ar_gt_1.78,c_lpad,w_40,h_40\\/v1596554813\\/search\\/autosuggestion\\/powershell.png\",\"Python\":\"https:\\/\\/res.cloudinary.com\\/inqbyteio\\/image\\/upload\\/f_auto,w_40,h_40,c_pad\\/if_ar_gt_1.78,c_lpad,w_40,h_40\\/v1607041905\\/search\\/autosuggestion\\/python-5_pu9wog.svg\",\"R\":\"https:\\/\\/res.cloudinary.com\\/inqbyteio\\/image\\/upload\\/f_auto,w_40,h_40,c_pad\\/if_ar_gt_1.78,c_lpad,w_40,h_40\\/v1596615877\\/search\\/autosuggestion\\/r-logo.png\",\"React\":\"https:\\/\\/res.cloudinary.com\\/inqbyteio\\/image\\/upload\\/f_auto,w_40,h_40,c_pad\\/if_ar_gt_1.78,c_lpad,w_40,h_40\\/v1607055551\\/search\\/autosuggestion\\/react_kjnafo.svg\",\"Regelungstechnik\":\"https:\\/\\/res.cloudinary.com\\/inqbyteio\\/image\\/upload\\/f_auto,w_40,h_40,c_pad\\/if_ar_gt_1.78,c_lpad,w_40,h_40\\/v1643179186\\/search\\/autosuggestion\\/engineering_default_logo_ch5blc.svg\",\"Replication\":\"https:\\/\\/res.cloudinary.com\\/inqbyteio\\/image\\/upload\\/f_auto,w_40,h_40,c_pad\\/if_ar_gt_1.78,c_lpad,w_40,h_40\\/v1644217161\\/search\\/autosuggestion\\/IT_default_logo_ry9liu.svg\",\"SAP\":\"https:\\/\\/res.cloudinary.com\\/inqbyteio\\/image\\/upload\\/f_auto,w_40,h_40,c_pad\\/if_ar_gt_1.78,c_lpad,w_40,h_40\\/v1614251467\\/search\\/autosuggestion\\/SAP_2011_logo_ddrchf.svg\",\"Scripting Language\":\"https:\\/\\/res.cloudinary.com\\/inqbyteio\\/image\\/upload\\/f_auto,w_40,h_40,c_pad\\/if_ar_gt_1.78,c_lpad,w_40,h_40\\/v1644217161\\/search\\/autosuggestion\\/IT_default_logo_ry9liu.svg\",\"SOAP\":\"https:\\/\\/res.cloudinary.com\\/inqbyteio\\/image\\/upload\\/f_auto,w_40,h_40,c_pad\\/if_ar_gt_1.78,c_lpad,w_40,h_40\\/v1596551855\\/search\\/autosuggestion\\/SOAP.png\",\"SOLID\":\"https:\\/\\/res.cloudinary.com\\/inqbyteio\\/image\\/upload\\/f_auto,w_40,h_40,c_pad\\/if_ar_gt_1.78,c_lpad,w_40,h_40\\/v1644217161\\/search\\/autosuggestion\\/IT_default_logo_ry9liu.svg\",\"Solid Edge\":\"https:\\/\\/res.cloudinary.com\\/inqbyteio\\/image\\/upload\\/f_auto,w_40,h_40,c_pad\\/if_ar_gt_1.78,c_lpad,w_40,h_40\\/v1596551907\\/search\\/autosuggestion\\/Solid_Edge.jpg\",\"Statistical modeling\":\"https:\\/\\/res.cloudinary.com\\/inqbyteio\\/image\\/upload\\/f_auto,w_40,h_40,c_pad\\/if_ar_gt_1.78,c_lpad,w_40,h_40\\/v1644217161\\/search\\/autosuggestion\\/IT_default_logo_ry9liu.svg\",\"Test Management\":\"https:\\/\\/res.cloudinary.com\\/inqbyteio\\/image\\/upload\\/f_auto,w_40,h_40,c_pad\\/if_ar_gt_1.78,c_lpad,w_40,h_40\\/v1621583233\\/search\\/autosuggestion\\/test_management_poxnq8.svg\",\"Ubuntu\":\"https:\\/\\/res.cloudinary.com\\/inqbyteio\\/image\\/upload\\/f_auto,w_40,h_40,c_pad\\/if_ar_gt_1.78,c_lpad,w_40,h_40\\/v1603785140\\/search\\/autosuggestion\\/ubuntu-icon_o8rtjd.svg\",\"Veeam\":\"https:\\/\\/res.cloudinary.com\\/inqbyteio\\/image\\/upload\\/f_auto,w_40,h_40,c_pad\\/if_ar_gt_1.78,c_lpad,w_40,h_40\\/v1607088785\\/search\\/autosuggestion\\/Veeam_logo_uyiw2l.png\",\"Visual Studio\":\"https:\\/\\/res.cloudinary.com\\/inqbyteio\\/image\\/upload\\/f_auto,w_40,h_40,c_pad\\/if_ar_gt_1.78,c_lpad,w_40,h_40\\/v1607054878\\/search\\/autosuggestion\\/visual-studio-2013_dnparr.svg\",\"VMware\":\"https:\\/\\/res.cloudinary.com\\/inqbyteio\\/image\\/upload\\/f_auto,w_40,h_40,c_pad\\/if_ar_gt_1.78,c_lpad,w_40,h_40\\/v1603818819\\/search\\/autosuggestion\\/vmware_nsfzc9.svg\",\"Web Services\":\"https:\\/\\/res.cloudinary.com\\/inqbyteio\\/image\\/upload\\/f_auto,w_40,h_40,c_pad\\/if_ar_gt_1.78,c_lpad,w_40,h_40\\/v1596553176\\/search\\/autosuggestion\\/Web_service.svg\",\"Windows\":\"https:\\/\\/res.cloudinary.com\\/inqbyteio\\/image\\/upload\\/f_auto,w_40,h_40,c_pad\\/if_ar_gt_1.78,c_lpad,w_40,h_40\\/v1607054889\\/search\\/autosuggestion\\/microsoft-windows-22_mnf9ac.svg\",\"Wirtschaftsingenieurwesen\":\"https:\\/\\/res.cloudinary.com\\/inqbyteio\\/image\\/upload\\/f_auto,w_40,h_40,c_pad\\/if_ar_gt_1.78,c_lpad,w_40,h_40\\/v1643179186\\/search\\/autosuggestion\\/engineering_default_logo_ch5blc.svg\",\"WordPress\":\"https:\\/\\/res.cloudinary.com\\/inqbyteio\\/image\\/upload\\/f_auto,w_40,h_40,c_pad\\/if_ar_gt_1.78,c_lpad,w_40,h_40\\/v1603787332\\/search\\/autosuggestion\\/wordpress-icon-1_hksuhr.svg\",\"XML\":\"https:\\/\\/res.cloudinary.com\\/inqbyteio\\/image\\/upload\\/f_auto,w_40,h_40,c_pad\\/if_ar_gt_1.78,c_lpad,w_40,h_40\\/v1596615874\\/search\\/autosuggestion\\/XML.png\"},\"terms\":[],\"skills\":[],\"occupations\":[],\"modifiers\":[],\"companies\":[],\"locations\":[],\"workingHours\":null,\"isRecruitment\":null,\"skillFilters\":[],\"occupationFilters\":[],\"modifierFilters\":[],\"companyFilters\":[],\"locationFilters\":[],\"relatedPages\":{\"skills\":[],\"occupations\":[],\"modifiers\":[],\"companies\":[],\"locations\":[]},\"workingHoursSummary\":{\"Full Time\":1028462,\"Part Time\":173590},\"isRecruitmentSummary\":{\"false\":894443,\"true\":307609},\"coordinates\":[],\"viewport\":null,\"internalLinking\":[],\"bookmarks\":[],\"applications\":[],\"seen\":[{\"is_premium\":false,\"id\":6342745}],\"job\":{\"id\":6342745,\"is_premium\":false,\"title\":\"CRM Lead (m\\/w\\/d)\",\"job_company\":\"FORMEL SKIN\",\"job_logo\":null,\"company\":\"FORMEL SKIN\",\"company_logo\":null,\"company_url\":null,\"company_description\":\"\",\"locations\":[\"Berlin\"],\"is_remote\":false,\"modifiers\":[\"Lead\"],\"working_hours\":\"Vollzeit\",\"employment_type\":\"Permanent\",\"posted_at\":\"2024-09-30\",\"is_new\":true,\"from_rate\":null,\"to_rate\":null,\"rate_currency\":null,\"rate_unit\":null,\"essential_skills\":[\"Data Science\",\"Mailchimp\",\"SendGrid\",\"CRM\",\"Dermatologie\"],\"optional_skills\":[],\"skill_logos\":{\"CRM\":\"https:\\/\\/res.cloudinary.com\\/inqbyteio\\/image\\/upload\\/f_auto,w_80\\/if_ar_gt_1.78,c_lpad,w_80,h_80\\/v1596615756\\/search\\/autosuggestion\\/crm.png\",\"Data Science\":\"https:\\/\\/res.cloudinary.com\\/inqbyteio\\/image\\/upload\\/f_auto,w_80\\/if_ar_gt_1.78,c_lpad,w_80,h_80\\/v1596548975\\/search\\/autosuggestion\\/Data_science.png\",\"Dermatologie\":\"https:\\/\\/res.cloudinary.com\\/inqbyteio\\/image\\/upload\\/f_auto,w_80\\/if_ar_gt_1.78,c_lpad,w_80,h_80\\/v1643356202\\/search\\/autosuggestion\\/science_default_logo_w2yzyl.svg\",\"Mailchimp\":\"https:\\/\\/res.cloudinary.com\\/inqbyteio\\/image\\/upload\\/f_auto,w_80\\/if_ar_gt_1.78,c_lpad,w_80,h_80\\/v1603819017\\/search\\/autosuggestion\\/mailchimp-freddie-icon_lmuunu.svg\",\"SendGrid\":\"https:\\/\\/res.cloudinary.com\\/inqbyteio\\/image\\/upload\\/f_auto,w_80\\/if_ar_gt_1.78,c_lpad,w_80,h_80\\/v1606225455\\/search\\/autosuggestion\\/sendgrid-1_ulrgz9.svg\"},\"template\":null,\"description\":\"<p><strong>WER SIND WIR?<\\/strong><\\/p><br><p>Bei FORMEL SKIN sind wir Vorreiter bei der Revolutionierung der Dermatologie und der Neugestaltung des Gesundheitswesens. Unsere Mission besteht darin, eine weltweit f\\u00fchrende Online-Dermatologieklinik zu schaffen, die hochwirksame dermatologische Behandlungen f\\u00fcr jeden einfach zug\\u00e4nglich macht. Wir haben bedeutende Fortschritte erzielt und die Unterst\\u00fctzung einiger der prominentesten Gesundheits- und Consumer-Tech Investoren Europas erhalten. Im Dezember 2021 haben wir einen bedeutenden Erfolg erzielt, indem wir in der gr\\u00f6\\u00dften Serie-A-Finanzierungsrunde f\\u00fcr Gesundheitstechnologie in Deutschland insgesamt 30 Millionen Euro gesammelt haben.<\\/p><br><p>Bis heute haben wir fast eine Million Behandlungen f\\u00fcr unsere Patienten erfolgreich durchgef\\u00fchrt. Unser dynamisches Team ist leidenschaftlich, ehrgeizig und bringt eine F\\u00fclle von Erfahrungen aus erfolgreichen Gesundheits- und Verbraucher-Tech-Unternehmen mit. Mit Sitz in Berlin, einer Stadt bekannt f\\u00fcr ihre Lebendigkeit, sind wir entschlossen, unsere Reichweite und unseren Einfluss zu erweitern und bieten Ihnen die M\\u00f6glichkeit, Teil unserer spannenden Reise zu sein.<\\/p><br><p>Als <strong>CRM Lead (m\\/w\\/d)<\\/strong> bei FORMEL SKIN spielst du eine zentrale Rolle bei der Skalierung unserer Customer Relationship Management (CRM) Initiativen. Du treibst das Engagement und Wachstum voran, indem du innovative Multi-Channel-CRM-Programme entwickelst, die auf die Bed\\u00fcrfnisse der Kunden und die verschiedenen Phasen des Kundenlebenszyklus abgestimmt sind.<\\/p><br><p><strong>WAS SIND DEINE AUFGABEN?<\\/strong><\\/p><ul><li><br><strong>Leitung der CRM-Strategieentwicklung<\\/strong>: Du leitest die Ideenfindung und Entwicklung von Multi-Channel-CRM-Programmen, die auf unsere Wachstumsstrategien und Schl\\u00fcsselinvestitionen abgestimmt sind.<\\/li><li><br><strong>Management des Kundenlebenszyklus<\\/strong>: Du planst und f\\u00fchrst strategische Kommunikations- und Lebenszyklusprogramme durch und stellst sicher, dass qualitativ hochwertige Ergebnisse rechtzeitig geliefert werden.<\\/li><li><br><strong>Kundensegmentierung<\\/strong>: Du erstellst Personas und definierst Kundensegmente, um Kunden zur richtigen Zeit mit der richtigen Nachricht \\u00fcber die verschiedenen Phasen des Kundenlebenszyklus anzusprechen.<\\/li><li><br><strong>Innovation im CRM<\\/strong>: Du entwickelst kontinuierlich personalisierte CRM-Programme weiter und richtest Kampagnen und Journeys ein, um den Customer Lifetime Value zu erh\\u00f6hen.<\\/li><li><br><strong>Kampagnenoptimierung<\\/strong>: Du strukturierst A\\/B- und Multivariate-Tests, um CRM-Kampagnen zu optimieren und deren Leistung kontinuierlich zu verbessern.<\\/li><li><br><strong>Berichterstattung und Analyse<\\/strong>: Du erstellst regelm\\u00e4\\u00dfige Berichte zur Kampagnenleistung und f\\u00fchrst Post-Mortem-Analysen durch, um die CRM-Unterst\\u00fctzung zu verbessern und zuk\\u00fcnftige Strategien zu informieren.<\\/li><li><br><strong>Teamf\\u00fchrung<\\/strong>: Du leitest und unterst\\u00fctzt dein Team und stellst sicher, dass es sich selbstst\\u00e4ndig weiterentwickelt und Ziele erreicht.<\\/li><\\/ul><p><strong>WAS SOLLTEST DU MITBRINGEN?<\\/strong><\\/p><ul><li><br><strong>Erfahrung im CRM<\\/strong>: Du hast mindestens 5 Jahre Erfahrung im Lifecycle-Marketing und hast erfolgreich CRM-Prozesse und -Tools implementiert und optimiert.<\\/li><li><br><strong>Abonnementgesch\\u00e4ft<\\/strong>: Erfahrung in einem abonnementbasierten Unternehmen ist ein starkes Plus.<\\/li><li><br><strong>Ganzheitlicher Ansatz<\\/strong>: Du hast bewiesen, dass du komplexe CRM-Kampagnen mit einer Ownership-Mentalit\\u00e4t aufsetzen, managen und optimieren kannst.<\\/li><li><br><strong>Kundenfokus<\\/strong>: Du hast eine starke Empathie und kennst die verschiedenen Phasen des Kundenlebenszyklus.<\\/li><li><br><strong>Wachstumsmentalit\\u00e4t<\\/strong>: Eine Leidenschaft f\\u00fcr Growth Marketing und eine proaktive, l\\u00f6sungsorientierte Einstellung zeichnen dich aus.<\\/li><li><br><strong>Technisches Know-how<\\/strong>: Du bist vertraut mit E-Mail-Marketing-Tools (z. B. Sendgrid, Mailchimp); Kenntnisse in Data Science und Datenbanken sind ein Plus.<\\/li><li><br><strong>Kommunikationsst\\u00e4rke<\\/strong>: Du verf\\u00fcgst \\u00fcber ausgezeichnete zwischenmenschliche und strategische Kommunikationsf\\u00e4higkeiten.<\\/li><li><br><strong>Sprachkenntnisse<\\/strong>: Flie\\u00dfende Englischkenntnisse sind erforderlich, flie\\u00dfende Deutschkenntnisse sind ein Plus.<\\/li><\\/ul><p><strong>WARUM WIR?<\\/strong><\\/p><ul><li><br><strong>Eine gro\\u00dfartige Gelegenheit, die Zukunft des CRM mitzugestalten:<\\/strong> Bei FORMEL SKIN hast du die M\\u00f6glichkeit, direkt Einfluss darauf zu nehmen, wie wir mit unseren Kunden interagieren und sie unterst\\u00fctzen. Durch die Leitung innovativer CRM-Strategien spielst du eine entscheidende Rolle bei der F\\u00f6rderung des Kundenengagements und der Kundentreue, w\\u00e4hrend du mit einem leidenschaftlichen Team die Dermatologiebranche revolutionierst.<\\/li><li><br><strong>Vorteile, die perfekt zu dir passen<\\/strong>: Jeder Kandidat ist einzigartig, und wir engagieren uns daf\\u00fcr, deine spezifischen Bed\\u00fcrfnisse und W\\u00fcnsche zu unterst\\u00fctzen. Um dies zu unterst\\u00fctzen, bieten wir ein vielf\\u00e4ltiges Leistungspaket an, darunter 28 Tage Urlaub, eine Mitgliedschaft bei NAVIT oder dem Urban Sports Club, Mitarbeiterrabatte auf unsere Produkte, ein Budget f\\u00fcr berufliche Weiterentwicklung, flexible Arbeitszeiten und ein Remote Work M\\u00f6glichkeit.<\\/li><li><br><strong>Gemeinsam ein gro\\u00dfartiges Team aufbauen<\\/strong>: Wir glauben, dass der Aufbau eines gro\\u00dfartigen Teams und die F\\u00f6rderung starker zwischenmenschlicher Beziehungen f\\u00fcr unseren Erfolg grundlegend sind. Deshalb bieten wir folgendes an: regelm\\u00e4\\u00dfige Firmenveranstaltungen, ein Budget f\\u00fcr Teamevents und Pr\\u00e4mien f\\u00fcr Mitarbeiterempfehlungen.<\\/li><\\/ul><p><strong>\\u00dcBER UNS<\\/strong><\\/p><br><p>Mit FORMEL SKIN bauen wir Deutschlands f\\u00fchrende dermatologische Plattform auf, um Patienten mit allen Hautproblemen einen sofortigen Zugang zu personalisierten medizinischen Behandlungen zu erm\\u00f6glichen. Unser Team aus erfahrenen \\u00c4rzt:innen, Apotheker:innen und Innovator:innen arbeitet hart daran, Patient:innen auf ihrer Hautgesundheitsjourney zu behandeln, zu beraten und zu unterst\\u00fctzen. Als Marke im Gesundheitswesen konzentrieren wir uns auf eine klare und schnelle Kommunikation mit unseren Patient:innen, auf Vertrauen, das durch unsere medizinische Expertise und unsere umfassende Erfahrung untermauert wird, und auf unser Engagement f\\u00fcr alles, was wir tun. Unser Ziel ist es, dermatologische Versorgung f\\u00fcr alle zug\\u00e4nglich zu machen - unabh\\u00e4ngig davon, wie gro\\u00df oder klein das Hautproblem sein mag.<\\/p><br><p>Genau wie wir einen inklusiven Dermatologie-Service aufbauen wollen, m\\u00f6chten wir auch einen inklusiven Arbeitsplatz mit au\\u00dfergew\\u00f6hnlichen Menschen schaffen, die sich einer gemeinsamen Mission verschrieben haben. FORMEL SKIN ist ein Arbeitgeber, der Chancengleichheit f\\u00f6rdert. Daher begr\\u00fc\\u00dfen wir alle Bewerbungen: Menschen jeder Rasse, Ethnizit\\u00e4t, Nationalit\\u00e4t und Religion, LGBTQAI+-Menschen, Menschen mit Behinderungen (sichtbar und unsichtbar), Menschen jeden Alters oder Familienstands.<\\/p><br>\",\"it_skills\":[\"Data Science\",\"Mailchimp\",\"SendGrid\",\"CRM\"],\"non_it_skills\":[\"Dermatologie\"],\"skills_highlight\":{\"data science\":[\"Data science\"],\"mailchimp\":[\"mailchimp\"],\"sendgrid\":[\"SendGrid\"],\"crm\":[\"crm\",\"Customer Relationship Management\",\"crms\"],\"dermatologie\":[\"Dermatology\",\"Dermatologie\"]},\"occupations\":[],\"coordinates\":[[52.52865,13.415623]],\"apply_link\":null,\"country\":\"de\",\"slug\":\"CRM-Lead-mwd-a0d10e3ebe8e\",\"tracking_pixel\":null}};</script>\n",
      "<script crossorigin=\"\" src=\"/packages/search-v4/client/assets/messages-dfbdaf69.js\" type=\"module\"></script><link href=\"/packages/search-v4/client/assets/messages-cfde8f74.css\" rel=\"stylesheet\"/><script crossorigin=\"\" src=\"/packages/search-v4/client/assets/entry-client-16a4095f.js\" type=\"module\"></script><link href=\"/packages/search-v4/client/assets/entry-client-ad626dd0.css\" rel=\"stylesheet\"/>\n",
      "<!-- Start cookieyes banner --> <script id=\"cookieyes\" src=\"https://cdn-cookieyes.com/client_data/8d71d44af8e14b888ab5dd2f/script.js\" type=\"text/javascript\"></script> <!-- End cookieyes banner -->\n",
      "</link></meta></meta></head>\n",
      "<body>\n",
      "<div id=\"app\"></div>\n",
      "</body>\n",
      "</html>\n",
      "\n",
      "\n"
     ]
    },
    {
     "ename": "TypeError",
     "evalue": "string indices must be integers, not 'str'",
     "output_type": "error",
     "traceback": [
      "\u001b[0;31m---------------------------------------------------------------------------\u001b[0m",
      "\u001b[0;31mTypeError\u001b[0m                                 Traceback (most recent call last)",
      "Cell \u001b[0;32mIn[105], line 1\u001b[0m\n\u001b[0;32m----> 1\u001b[0m \u001b[43mparse_jobs\u001b[49m\u001b[43m(\u001b[49m\u001b[43m)\u001b[49m\n",
      "Cell \u001b[0;32mIn[104], line 49\u001b[0m, in \u001b[0;36mparse_jobs\u001b[0;34m()\u001b[0m\n\u001b[1;32m     47\u001b[0m script_tag \u001b[38;5;241m=\u001b[39m job_soup\u001b[38;5;241m.\u001b[39mfind(\u001b[38;5;124m'\u001b[39m\u001b[38;5;124mscript\u001b[39m\u001b[38;5;124m'\u001b[39m, \u001b[38;5;28mtype\u001b[39m\u001b[38;5;241m=\u001b[39m\u001b[38;5;124m'\u001b[39m\u001b[38;5;124mapplication/ld+json\u001b[39m\u001b[38;5;124m'\u001b[39m)\n\u001b[1;32m     48\u001b[0m json_data_job \u001b[38;5;241m=\u001b[39m json\u001b[38;5;241m.\u001b[39mloads(script_tag\u001b[38;5;241m.\u001b[39mstring)\n\u001b[0;32m---> 49\u001b[0m description_soup \u001b[38;5;241m=\u001b[39m BeautifulSoup(\u001b[43mjson_data_job\u001b[49m\u001b[43m[\u001b[49m\u001b[38;5;124;43m'\u001b[39;49m\u001b[38;5;124;43mdescription\u001b[39;49m\u001b[38;5;124;43m'\u001b[39;49m\u001b[43m]\u001b[49m, \u001b[38;5;124m'\u001b[39m\u001b[38;5;124mhtml.parser\u001b[39m\u001b[38;5;124m'\u001b[39m)\n\u001b[1;32m     51\u001b[0m data_ker_ids \u001b[38;5;241m=\u001b[39m [\u001b[38;5;124m\"\u001b[39m\u001b[38;5;124mu_beschreibung\u001b[39m\u001b[38;5;124m\"\u001b[39m, \u001b[38;5;124m\"\u001b[39m\u001b[38;5;124maufgaben\u001b[39m\u001b[38;5;124m\"\u001b[39m, \u001b[38;5;124m\"\u001b[39m\u001b[38;5;124mprofil\u001b[39m\u001b[38;5;124m\"\u001b[39m, \u001b[38;5;124m\"\u001b[39m\u001b[38;5;124mwir_bieten\u001b[39m\u001b[38;5;124m\"\u001b[39m]\n\u001b[1;32m     52\u001b[0m extracted_content \u001b[38;5;241m=\u001b[39m {}\n",
      "\u001b[0;31mTypeError\u001b[0m: string indices must be integers, not 'str'"
     ]
    }
   ],
   "source": [
    "parse_jobs()"
   ]
  },
  {
   "cell_type": "code",
   "execution_count": 41,
   "id": "a05e677a-0e2c-4f2f-88dc-512b1f678934",
   "metadata": {},
   "outputs": [],
   "source": [
    "headers = {\"User-Agent\": \"Mozilla/5.0 (Windows NT 10.0; Win64; x64) AppleWebKit/537.36 (KHTML, like Gecko) Chrome/58.0.3029.110 Safari/537.3\"} \n",
    "url = \"https://jobtensor.com/search?q=data&m=Lead,Principal&l=Berlin\"\n",
    "# dict_keys(['id', 'is_premium', 'title', 'company', 'company_cluster', 'company_logo', 'posted_at', 'locations', 'is_remote', 'snippet_fragments', 'from_rate', 'to_rate', 'rate_currency', 'rate_unit', 'skills', 'is_new', 'is_expired', 'slug'])"
   ]
  },
  {
   "cell_type": "code",
   "execution_count": 42,
   "id": "f8a10974-4038-4f29-a98c-1887b0f42338",
   "metadata": {},
   "outputs": [],
   "source": [
    "response = requests.get(url, headers=headers)"
   ]
  },
  {
   "cell_type": "code",
   "execution_count": 43,
   "id": "414837bd-49b4-4120-bce2-c357878be02b",
   "metadata": {},
   "outputs": [
    {
     "data": {
      "text/plain": [
       "<Response [200]>"
      ]
     },
     "execution_count": 43,
     "metadata": {},
     "output_type": "execute_result"
    }
   ],
   "source": [
    "response"
   ]
  },
  {
   "cell_type": "code",
   "execution_count": 44,
   "id": "b5472645-1679-48b4-9220-fe7563d5ec30",
   "metadata": {},
   "outputs": [],
   "source": [
    "soup = BeautifulSoup(response.text, 'html.parser')"
   ]
  },
  {
   "cell_type": "code",
   "execution_count": 45,
   "id": "5d6591a6-a035-44aa-ba9d-f0d8bd818427",
   "metadata": {},
   "outputs": [],
   "source": [
    "script_tag = soup.find('script', type='text/javascript')"
   ]
  },
  {
   "cell_type": "code",
   "execution_count": 46,
   "id": "d31bff5a-d499-4428-9aea-5c3981f39b11",
   "metadata": {},
   "outputs": [],
   "source": [
    "script_content = script_tag.string.strip()"
   ]
  },
  {
   "cell_type": "code",
   "execution_count": 47,
   "id": "a9f3db38-67ad-4184-8aff-0b7c77f204dd",
   "metadata": {},
   "outputs": [],
   "source": [
    "json_start = script_content.find('{\"config\":')\n",
    "json_data = script_content[json_start:]  # Extract from the first occurrence of the JSON structure\n",
    "# data = json.loads(json_data)"
   ]
  },
  {
   "cell_type": "code",
   "execution_count": 54,
   "id": "6ef719bf-1b90-4f30-a4c5-0e38bb447682",
   "metadata": {},
   "outputs": [
    {
     "data": {
      "text/plain": [
       "15"
      ]
     },
     "execution_count": 54,
     "metadata": {},
     "output_type": "execute_result"
    }
   ],
   "source": [
    "json.loads(json_data[:-1])['config']['per_page']"
   ]
  },
  {
   "cell_type": "code",
   "execution_count": 56,
   "id": "5f331f60-9673-4db6-88ea-af4c3f1e1907",
   "metadata": {},
   "outputs": [
    {
     "data": {
      "text/plain": [
       "121"
      ]
     },
     "execution_count": 56,
     "metadata": {},
     "output_type": "execute_result"
    }
   ],
   "source": [
    "json.loads(json_data[:-1])['total']"
   ]
  },
  {
   "cell_type": "code",
   "execution_count": 48,
   "id": "663fde44-d334-428b-bd34-95f0028341fa",
   "metadata": {
    "scrolled": true
   },
   "outputs": [
    {
     "data": {
      "text/plain": [
       "'{\"config\":{\"origin\":\"https:\\\\/\\\\/jobtensor.com\",\"origin_route\":\"search\",\"base_path\":\"\\\\/\",\"urls\":{\"home\":\"https:\\\\/\\\\/jobtensor.com\",\"blog\":\"https:\\\\/\\\\/jobtensor.com\\\\/blog\\\\/\",\"about\":\"https:\\\\/\\\\/jobtensor.com\\\\/about\",\"post-a-job\":\"https:\\\\/\\\\/jobtensor.com\\\\/register\",\"pricing\":\"https:\\\\/\\\\/jobtensor.com\\\\/pricing\",\"imprint\":\"https:\\\\/\\\\/jobtensor.com\\\\/imprint\",\"data-security\":\"https:\\\\/\\\\/jobtensor.com\\\\/data-security\",\"support\":\"https:\\\\/\\\\/jobtensor.com\\\\/support\",\"partners\":\"https:\\\\/\\\\/jobtensor.com\\\\/partners\",\"sitemap\":\"https:\\\\/\\\\/jobtensor.com\\\\/sitemap\\\\/index\",\"login\":\"https:\\\\/\\\\/jobtensor.com\\\\/login\",\"logout\":\"https:\\\\/\\\\/jobtensor.com\\\\/logout\",\"register\":\"https:\\\\/\\\\/jobtensor.com\\\\/register\",\"shortlisted\":\"https:\\\\/\\\\/jobtensor.com\\\\/my\\\\/shortlisted\",\"skill-listing\":\"https:\\\\/\\\\/jobtensor.com\\\\/top-it-skills-kenntnisse\",\"occupation-listing\":\"https:\\\\/\\\\/jobtensor.com\\\\/top-occupations-it-branche\",\"study-hub\":\"https:\\\\/\\\\/jobtensor.com\\\\/Studium\",\"training-hub\":\"https:\\\\/\\\\/jobtensor.com\\\\/Ausbildung\",\"occupation-hub\":\"https:\\\\/\\\\/jobtensor.com\\\\/Beruf\",\"salary-hub\":\"https:\\\\/\\\\/jobtensor.com\\\\/Gehalt\",\"tutorial-hub\":\"https:\\\\/\\\\/jobtensor.com\\\\/Tutorial\\\\/de\",\"search\":\"https:\\\\/\\\\/jobtensor.com\\\\/search\",\"search.show\":\"https:\\\\/\\\\/jobtensor.com\\\\/:path\",\"search.preview-job\":\"https:\\\\/\\\\/jobtensor.com\\\\/job\\\\/:slug\",\"search.subscribe\":\"https:\\\\/\\\\/jobtensor.com\\\\/search\\\\/subscribe\",\"ajax.search\":\"https:\\\\/\\\\/jobtensor.com\\\\/ajax\\\\/search\\\\/:path\",\"ajax.search.suggest\":\"https:\\\\/\\\\/jobtensor.com\\\\/ajax\\\\/search\\\\/suggest\",\"ajax.search.preview-job\":\"https:\\\\/\\\\/jobtensor.com\\\\/ajax\\\\/search\\\\/jobs\\\\/:slug\",\"ajax.search.preview-job.meta\":\"https:\\\\/\\\\/jobtensor.com\\\\/ajax\\\\/search\\\\/jobs\\\\/:slug\\\\/job-meta\",\"ajax.search.preview-job.perform-action\":\"https:\\\\/\\\\/jobtensor.com\\\\/ajax\\\\/search\\\\/jobs\\\\/:slug\\\\/perform-action\",\"ajax.search.preview-job.perform-apply\":\"https:\\\\/\\\\/jobtensor.com\\\\/ajax\\\\/search\\\\/jobs\\\\/:slug\\\\/perform-apply\",\"ajax.search.preview-job.visit\":\"https:\\\\/\\\\/jobtensor.com\\\\/ajax\\\\/search\\\\/jobs\\\\/:slug\\\\/visit\",\"ajax.search.skill\":\"https:\\\\/\\\\/jobtensor.com\\\\/ajax\\\\/search\\\\/skill\",\"ajax.search.top-terms\":\"https:\\\\/\\\\/jobtensor.com\\\\/ajax\\\\/search\\\\/top-terms\",\"ajax.bookmarks.store\":\"https:\\\\/\\\\/jobtensor.com\\\\/ajax\\\\/bookmarks\",\"ajax.bookmarks.delete\":\"https:\\\\/\\\\/jobtensor.com\\\\/ajax\\\\/bookmarks\",\"ajax.jobs.apply\":\"https:\\\\/\\\\/jobtensor.com\\\\/ajax\\\\/jobs\\\\/:job\\\\/apply\",\"ajax.external-jobs.apply\":\"https:\\\\/\\\\/jobtensor.com\\\\/ajax\\\\/external-jobs\\\\/:external_job\\\\/apply\",\"employer.dashboard\":\"https:\\\\/\\\\/jobtensor.com\\\\/dashboard\",\"employer.jobs.create\":\"https:\\\\/\\\\/jobtensor.com\\\\/employer\\\\/jobs\\\\/create?step=1&action=create\",\"jobseeker.login\":\"https:\\\\/\\\\/jobtensor.com\\\\/login?jobseeker\",\"jobseeker.register\":\"https:\\\\/\\\\/jobtensor.com\\\\/register?jobseeker\",\"jobseeker.dashboard\":\"https:\\\\/\\\\/jobtensor.com\\\\/jobseeker\",\"jobseeker.shortlisted\":\"https:\\\\/\\\\/jobtensor.com\\\\/jobseeker\\\\/shortlisted\"},\"countries\":{\"GERMANY\":\"de\",\"UNITED_KINGDOM\":\"uk\",\"PHILIPPINES\":\"ph\"},\"default_country\":\"de\",\"current_country\":\"de\",\"supported_languages\":[\"de\",\"en\"],\"default_language\":\"de\",\"map_center\":[\"51.165694\",\"10.451500\"],\"per_page\":15,\"support\":{\"email\":\"support@jobtensor.com\",\"contact\":\"+49 201 999505-60\",\"copyright\":\"Copyright \\\\u00a9 Jobtensor 2024. All Rights reserved.\"}},\"user\":{\"id\":null,\"is_employer\":false,\"is_jobseeker\":false,\"email\":null,\"full_name\":null,\"cv_link\":null,\"resume\":null},\"language\":\"de\",\"path\":null,\"page\":1,\"seo\":{\"title\":\"Schlauer und Schneller Suchen mit Jobtensor AI\",\"description\":\"Mit der von Jobtensor entwickelten KI findest du alle relevanten Stellenangebote innerhalb von Sekunden | jobtensor\",\"canonical\":null},\"title\":\"Lead Principal data Jobs Berlin\",\"total\":121,\"hits\":[{\"id\":2022,\"is_premium\":true,\"title\":\"Mechatroniker \\\\/ Elektroniker (m\\\\/w\\\\/d) Automatisierungstechnik f\\\\u00fcr Spritzgussfertigung\",\"company\":\"Novapax Kunststofftechnik\",\"company_cluster\":\"Novapax Kunststofftechnik\",\"company_logo\":\"https:\\\\/\\\\/anzeigenvorschau.net\\\\/bestmedia\\\\/stream\\\\/du\\\\/2056378\\\\/nvf658839f833b1329a31b0421c889a35be5b79b48\\\\/1064226\\\\/1de2f3c379b23e7\\\\/logo_treffer.png\",\"posted_at\":\"2024-10-02\",\"locations\":[\"Berlin\"],\"is_remote\":false,\"snippet_fragments\":[\"       Werden Sie Teil unseres Teams am StandortBerlin als \",\"       Mechatroniker \\\\/ Elektroniker (m\\\\/w\\\\/d)  Mechatroniker \\\\/ Elektroniker (m\\\\/w\\\\/d)  \",\"Mitwirkung bei der Konzeption, Anfrage und Beauftragung von Automationsprozessen in Verbindung mit Spritzgussmaschinen f\\\\u00fcr robuste Serienprozesse\",\"        Begleitung ausgew\\\\u00e4hlterL\\\\u00f6sungsanbieter f\\\\u00fcr Automatisierungstechnik w\\\\u00e4hrend der Projektierungsphasen bis hin zu einer effizienten Serienfertigung \",\"Organisation von Vorabnahmen, Installationen, Inbetriebnahmen und Abnahmen neuer Automationsanlagen f\\\\u00fcr die Serienproduktion\",\"        Schulung der Mitarbeitenden zur Handhabung komplexer Anlagen und Maschinen \",\"Optimierung der Prozesse in Fertigungsanlagen, einschlie\\\\u00dflich Spritzgussmaschinen und Peripherieanlagen\",\"        Sicherstellung der Anlagenverf\\\\u00fcgbarkeit durch Behebung von St\\\\u00f6rungen und Fehlfunktionen \",\"Installation, Montage, Reparatur und Instandhaltung mechatronischer Systeme\",\"        Parametrier- und Programmierarbeiten an Anlagen und Maschinen \",\"Dokumentation durchgef\\\\u00fchrter Arbeiten, Erstellung von Wartungsprotokollen sowie Aktualisierung technischer Unterlagen und Pl\\\\u00e4neim MES- bzw\",\"Abgeschlossene Ausbildung als Mechatroniker (m\\\\/w\\\\/d), Industrieelektriker (m\\\\/w\\\\/d) oder Elektroniker(m\\\\/w\\\\/d) f\\\\u00fcr Automatisierungs- und Systemtechnik bzw\",\"        Idealerweise praktische Erfahrung in der Kunststoffspritzgussproduktion \",\"Mehrj\\\\u00e4hrige Berufserfahrung in der Installation, Wartung und Reparatur elektrischer Anlagen und mechatronischer Systeme\",\"        Know-how in der Fehleranalyse und -behebung sowie Grundkenntnisse in der Programmierung von Steuerungssystemen \",\"        Routinierter Umgang mit MES- und ERP-Systemen sowie MS Office \",\"        Gute Deutsch- und Englischkenntnisse in Wort und Schrift \",\"        Bereitschaft zur Weiterbildung in den Bereichen Elektrotechnik\",\"Teamf\\\\u00e4higkeit, Zuverl\\\\u00e4ssigkeit, Flexibilit\\\\u00e4t und Anpassungsf\\\\u00e4higkeit in einem dynamischen Arbeitsumfeld\",\"        Hohe Lernbereitschaft und Engagement zur Verbesserung von Prozessen und Systemen \",\"        Freude an der Weitergabe von Wissen an Ihre Kollegen (m\\\\/w\\\\/d) und der \\\\u00dcbernahme neuer Aufgaben und Projekte \",\"        Kostenfreie Mitarbeiterparkpl\\\\u00e4tze sowie Zuschuss zum Deutschlandticket \"],\"from_rate\":null,\"to_rate\":null,\"rate_currency\":null,\"rate_unit\":null,\"skills\":[\"Microsoft Office\",\"Elektronik\",\"Formenbau\",\"Kunststofftechnik\",\"Medizin\",\"Massenspektrometrie\"],\"is_new\":false,\"is_expired\":false,\"slug\":\"Mechatroniker-Elektroniker-mwd-Automatisierungstechnik-f\\\\u00fcr-Spritzgussfertigung-MahskjlIViVy\"},{\"id\":6342745,\"is_premium\":false,\"title\":\"CRM Lead (m\\\\/w\\\\/d)\",\"company\":\"FORMEL SKIN\",\"company_cluster\":\"FORMEL SKIN\",\"company_logo\":null,\"posted_at\":\"2024-09-30\",\"locations\":[\"Berlin\"],\"is_remote\":false,\"snippet_fragments\":[\"Sendgrid, Mailchimp); Kenntnisse in Data Science und Datenbanken sind ein Plus.\",\" Bei FORMEL SKIN hast du die M\\\\u00f6glichkeit, direkt Einfluss darauf zu nehmen, wie wir mit unseren Kunden interagieren und sie unterst\\\\u00fctzen\",\"Durch die Leitung innovativer CRM-Strategien spielst du eine entscheidende Rolle bei der F\\\\u00f6rderung des Kundenengagements und der Kundentreue\",\" Vorteile, die perfekt zu dir passen\",\"Um dies zu unterst\\\\u00fctzen, bieten wir ein vielf\\\\u00e4ltiges Leistungspaket an, darunter 28 Tage Urlaub, eine Mitgliedschaft bei NAVIT oder dem Urban Sports Club, Mitarbeiterrabatte auf unsere Produkte, ein Budget f\\\\u00fcr berufliche Weiterentwicklung, flexible Arbeitszeiten und ein Remote Work M\\\\u00f6glichkeit.\"],\"from_rate\":null,\"to_rate\":null,\"rate_currency\":null,\"rate_unit\":null,\"skills\":[\"Data Science\",\"Mailchimp\",\"SendGrid\",\"CRM\",\"Dermatologie\"],\"is_new\":true,\"is_expired\":false,\"slug\":\"CRM-Lead-mwd-a0d10e3ebe8e\"},{\"id\":6342646,\"is_premium\":false,\"title\":\"Lead Pricing & Yield Management (f\\\\/m\\\\/x\\\\/d)\",\"company\":\"MILES Mobility\",\"company_cluster\":\"MILES Mobility\",\"company_logo\":null,\"posted_at\":\"2024-09-28\",\"locations\":[\"Berlin\"],\"is_remote\":false,\"snippet_fragments\":[\" You have extensive work experience (5 years) in pricing\",\" You are an experienced strategic thinker with the proven ability to develop and execute strategic pricing and yield management initiatives\",\" You have a data-driven mind-set and demonstrated expertise with SQL\",\" You are independent and pragmatic in handling business challenges in a fast-paced environment\",\"You are great at problem-solving, structuring and communication skills\",\"You provide clear & concise guidance through all forms of communication to effectively drive decision-making and execution\",\" You have a university degree in business administration\",\" You can factor in soft factors in the buying or pricing decision\",\" You are fluent in English and ideally also in German\"],\"from_rate\":null,\"to_rate\":null,\"rate_currency\":null,\"rate_unit\":null,\"skills\":[\"Data Analysis\",\"SQL\",\"Excel\",\"Test Design\",\"Data Visualization\",\"A\\\\/B testing\",\"Statistik\",\"Wirtschaftsingenieurwesen\"],\"is_new\":false,\"is_expired\":false,\"slug\":\"Lead-Pricing-Yield-Management-fmxd-10b81d470392\"},{\"id\":6342099,\"is_premium\":false,\"title\":\"Lead Data Engineer\",\"company\":\"Almedia\",\"company_cluster\":\"Almedia\",\"company_logo\":null,\"posted_at\":\"2024-09-27\",\"locations\":[\"Berlin\"],\"is_remote\":false,\"snippet_fragments\":[\"  Collaborate across teams to integrate data-driven insights into daily operations\",\"  Handle the operational aspects of the data warehouse\",\"  Experience in data engineering (4 years)\",\"  Expertise in SQL and experience with scripting languages (e\",\"  Experience in building and optimising data pipelines\",\"  Knowledge and competence within Data Science & Data Analytics\",\"  Strong analytical skills related to working with unstructured datasets\",\"  Ability to lead projects and collaborate effectively with diverse teams\",\"  An opportunity to work in an innovative\"],\"from_rate\":null,\"to_rate\":null,\"rate_currency\":null,\"rate_unit\":null,\"skills\":[\"Data Analysis\",\"Python\",\"SQL\",\"GCP\",\"Data Science\",\"BigQuery\",\"APIs\",\"Data Warehouse\",\"Orchestration\",\"Data Pipelines\",\"Scripting Language\",\"Data Lake\"],\"is_new\":false,\"is_expired\":false,\"slug\":\"Lead-Data-Engineer-16a3536e7c54\"},{\"id\":6340869,\"is_premium\":false,\"title\":\"Senior Android Technical Lead\",\"company\":\"Cloud orbit Technologies\",\"company_cluster\":\"Cloud orbit Technologies\",\"company_logo\":null,\"posted_at\":\"2024-09-25\",\"locations\":[\"Berlin\"],\"is_remote\":false,\"snippet_fragments\":[\"Good knowledge of dependency injection Dagger and Android Navigation Component navigation controller etc\",\"Expert in using Android architecture components (Observable Live Data\",\"Software Engineering Best Practices, Clean Architecture, SOLID principles, Coding Standards, design patterns (MVP, MVVM etc.)\",\"Good understanding of Bluetooth Connection Profiles HFP\",\"Experience in Configuration, Defect, Requirement & Change Mgmt\",\"tools e.g., JIRA, GIT, CI\\\\/CD and build tools.\",\"Proactive team player with good communication skills\"],\"from_rate\":null,\"to_rate\":null,\"rate_currency\":null,\"rate_unit\":null,\"skills\":[\"Architektur\",\"Continuous Integration\",\"CD\",\"Android\",\"Android Studio\",\"Gradle\",\"Jenkins\",\"Jira\",\"Kotlin\",\"SonarQube\",\"Design Patterns\",\"Mockito\",\"Bluetooth\",\"Dagger\",\"MVVM\",\"Debuggers\",\"Dependency Injection\",\"Robolectric\",\"Git\",\"SOLID\",\"Android Jetpack\"],\"is_new\":false,\"is_expired\":false,\"slug\":\"Senior-Android-Technical-Lead-fe7dd5a63b03\"},{\"id\":6338653,\"is_premium\":false,\"title\":\"IT Team lead (m\\\\/f\\\\/d)\",\"company\":\"Acrolinx\",\"company_cluster\":\"Acrolinx\",\"company_logo\":null,\"posted_at\":\"2024-09-24\",\"locations\":[\"Berlin\"],\"is_remote\":false,\"snippet_fragments\":[\" Experience in the procurement of IT hardware and software, including negotiation with vendors and contract management.\",\" Broad knowledge of IT infrastructure, networking, and cloud computing, with hands-on experience in managing IT projects and teams.\",\" Excellent verbal and written communication skills, with the ability to explain complex IT concepts in simple terms to non-technical stakeholders.\",\" Strong analytical and problem-solving skills, with a proactive approach to identifying and resolving issues before they impact services.\",\"Experience in managing IT projects from inception to completion, ensuring they are delivered on time, within budget, and to the required quality standards.\",\" Knowledge of current cybersecurity trends and best practices, including the management of security policies, audits, and incident response.\",\"We believe amazing content changes the engagement between a company and its customers  thats the space youll be working in\",\"With a hybrid model of working\",\"  We want you to fulfill your potential\",\"We invest in our employees and have regular feedback cycles\",\"We care about the mental health of our employees and aim to support them wherever we can\"],\"from_rate\":null,\"to_rate\":null,\"rate_currency\":null,\"rate_unit\":null,\"skills\":[\"Cloud\",\"AI\",\"G Suite\",\"ITIL\",\"Style Guides\",\"SaaS\",\"Cybersecurity\"],\"is_new\":false,\"is_expired\":false,\"slug\":\"IT-Team-lead-mfd-6559dc4c99fd\"},{\"id\":6339211,\"is_premium\":false,\"title\":\"Team Lead Operations (f\\\\/m\\\\/x)\",\"company\":\"AUTO1 Group\",\"company_cluster\":\"AUTO1 Group\",\"company_logo\":null,\"posted_at\":\"2024-09-24\",\"locations\":[\"Berlin\"],\"is_remote\":true,\"snippet_fragments\":[\"  Professional experience in a startup or a dynamic\",\"Confident in handling numbers, a process-oriented way of working combined with very good communication and analytical skills\",\"  You are characterized by entrepreneurial thinking\",\"  Experience in business process modeling and fluency in both German and English\",\"   750 starting bonus for all new starters until the end of the month\",\"Once a unicorn, now a listed public company, be part of our success story!\",\"  A very international working environment with exciting projects\",\"  Your life-work balance is very important to us\"],\"from_rate\":null,\"to_rate\":null,\"rate_currency\":null,\"rate_unit\":null,\"skills\":[],\"is_new\":false,\"is_expired\":false,\"slug\":\"Team-Lead-Operations-fmx-0775b800f37b\"},{\"id\":6334792,\"is_premium\":false,\"title\":\"Chapter Lead Data Engineering, BI & Data Science (m\\\\/w\\\\/d)\",\"company\":\"ista Express Service GmbH\",\"company_cluster\":\"ista Express Service GmbH\",\"company_logo\":null,\"posted_at\":\"2024-09-21\",\"locations\":[\"Berlin\"],\"is_remote\":false,\"snippet_fragments\":[\"  Mehrj\\\\u00e4hrige Erfahrung im Bereich Data Engineering\",\"  Erfahrung in der F\\\\u00fchrung und Weiterentwicklung von Teams\",\"Strategische Denkweise und die F\\\\u00e4higkeit, komplexe Herausforderungen zu analysieren und datengetriebene L\\\\u00f6sungen zu entwickeln.\",\"  Sehr gute Deutsch- und Englischkenntnisse in Wort und Schrift\",\"  Einen unbefristeten Arbeitsvertrag mit einem attraktiven Gehalt in einem jungen\",\"durch flache Hierarchien, kurze Entscheidungswege und Can-Do-Attitude\",\"Wir arbeiten agil orientiert am Spotify-Modell\",\"   Spannende und abwechslungsreiche Aufgaben mit viel Raum f\\\\u00fcr eigenverantwortliches Arbeiten\",\"   Work-Life Balance - flexible Arbeitszeiten und 30 Tage Urlaub\",\"  Du bekommst von uns eine zugeschnittene Einarbeitung mit vielen Trainings- und Qualifizierungsma\\\\u00dfnahmen\",\"   Zahlreiche Weiterentwicklungsm\\\\u00f6glichkeiten dank eines starken Expansionskurses und einem komplexen Umfeld\",\" Du arbeitest in modernen B\\\\u00fcror\\\\u00e4umlichkeiten im Herzen Berlins mit ergonomischen Arbeitspl\\\\u00e4tzen und bester Hardware - Du w\\\\u00e4hlst selbst zwischen Mac und PC.\",\"   Mitarbeiterrabatte bei \\\\u00fcber 800 Anbietern wie Zalando\"],\"from_rate\":null,\"to_rate\":null,\"rate_currency\":null,\"rate_unit\":null,\"skills\":[\"Python\",\"SQL\",\"Azure\",\"Java\",\"AWS\",\"GCP\",\"Data Science\",\"Kanban\",\"NoSQL\",\"Scrum\",\"Business Intelligence\",\"Mac\",\"Mathematik\"],\"is_new\":false,\"is_expired\":false,\"slug\":\"Chapter-Lead-Data-Engineering-BI-Data-Science-mwd-650356a5d9c6\"},{\"id\":6334391,\"is_premium\":false,\"title\":\"Data and Analytics Team lead (f\\\\/m\\\\/d)\",\"company\":\"Tentamus Group GmbH\",\"company_cluster\":\"Tentamus Group GmbH\",\"company_logo\":null,\"posted_at\":\"2024-09-21\",\"locations\":[\"Berlin\"],\"is_remote\":false,\"snippet_fragments\":[\" Create and maintain data-driven culture across the organization\",\"Design, build and maintain data pipelines, analytics, dashboards for multiple departments.\",\" Ensure that quality data collection processes for each department are documented and in place\",\"Lead data management, governance, attribution rules, and data quality with other functional data owners to ensure data integrity across different departments.\",\" Metrics explanation and interpretation to non-analytical people\",\" Communication of business performance to the management team\",\" Support product team and engineers in the design of essential product events collection framework\",\" Support the design and launch of experiments; uncover opportunities and surface new ideas that may lead to breakthroughs in growth or challenges\",\" Research and build metrics for product performance\",\" Research market trends in the industry\",\"Introduce data science, ML and AI in to processes where it makes sense.\",\" Bachelor\\'s or masters degree in Computer Science\",\" At least 5 years of professional experience in data engineering and analytical role\",\"Proficiency in Databricks, SQL, Python, ML and PowerBI or other visualization tools.\",\" Familiar with standard statistical methods and applications (A\\\\/B testing\",\" Azure experience is a big plus\",\" Good communication skills as a collaborative team player in across-cultural and cross-functional environments\",\"Ability to synthesize and communicate complex concepts and analyses in an easy-to-understand way\",\" Written and oral fluency in English\",\"Travel is expected and may occasionally occur for educational\\\\/career development purposes\",\"Please note this job description is not designed to cover or contain a comprehensive listing of activities\"],\"from_rate\":null,\"to_rate\":null,\"rate_currency\":null,\"rate_unit\":null,\"skills\":[\"AI\",\"Python\",\"SQL\",\"Azure\",\"Machine Learning\",\"Data Science\",\"A\\\\/B testing\",\"Dashboards\",\"Power BI\",\"Databricks\",\"Data Pipelines\",\"Statistik\",\"Physik\"],\"is_new\":false,\"is_expired\":false,\"slug\":\"Data-and-Analytics-Team-lead-fmd-096434b9ddf0\"},{\"id\":6334987,\"is_premium\":false,\"title\":\"Principal Frontend Engineer\\\\/D\\\\u00e9veloppeur Frontend Principal\",\"company\":\"Reliant AI\",\"company_cluster\":\"Reliant AI\",\"company_logo\":null,\"posted_at\":\"2024-09-21\",\"locations\":[\"Berlin\"],\"is_remote\":false,\"snippet_fragments\":[\"As the ideal candidate, you have a successful career in software engineering to show for\",\"You have managed engineering teams (with a focus on frontend) and you will have been responsible for building large applications with particular emphasis on code architecture; developer experience; scalability and security\",\"  8 years as a software engineer and manager with a particular emphasis on frontend architecture\",\"  A proven track record of shipping innovative software products from conceptualizing and discovery all the way to launch and iterations\",\"  Excellent communication skills with the ability to articulate complex technical concepts Great managerial track-record \",\"  - people follow your lead and you can get the best out of them\"],\"from_rate\":null,\"to_rate\":null,\"rate_currency\":null,\"rate_unit\":null,\"skills\":[\"Architektur\",\"Data Analysis\",\"AI\",\"Machine Learning\",\"Software quality\"],\"is_new\":false,\"is_expired\":false,\"slug\":\"Principal-Frontend-EngineerD\\\\u00e9veloppeur-Frontend-Principal-5a7120a00475\"},{\"id\":6334760,\"is_premium\":false,\"title\":\"Full Stack Engineer \\\\/ Technical Lead (m\\\\/w\\\\/d) in ClimateTech\",\"company\":\"VARM\",\"company_cluster\":\"VARM\",\"company_logo\":null,\"posted_at\":\"2024-09-21\",\"locations\":[\"Berlin\"],\"is_remote\":false,\"snippet_fragments\":[\"  Join VARM as our Full Stack Engineer \\\\/ Technical Lead to\",\"  Take ownership of the end-to-end development of our platform\",\"  Work closely with the Product lead to transform vision into working products by leading and executing hands-on full-stack developmentfrom front-end user interfaces to back-end services\",\"  Ensure the integration of no-code\\\\/low-code solutions into the infrastructure\",\"  Design and manage the data infrastructure\",\"  Ensure that technological innovations align with business needs and product requirements\",\"  Apply AI-driven automation to streamline and automate administrative tasks\",\"  Proven experience in leading the development of mobile and web applications\",\"  Several years of experience in startups in a technical roleperhaps you\\'ve started your own company or worked in a fast-paced startup environment\",\"  Prior experience building and leading small engineering teams\",\"  Youre not just an engineeryou care about the product\",\"Adaptable, curious, and eager to tackle challenges, always with a focus on continuous improvement\",\"  Experience with no-code\\\\/low-code platforms and GenAI models is a plus\",\"Be part of our core-team, building in a super-hot phase of an early-stage climate-tech startup\",\"  Nothing is set in stone - you have a direct impact\"],\"from_rate\":null,\"to_rate\":null,\"rate_currency\":null,\"rate_unit\":null,\"skills\":[\"UX\",\"Adobe Streamline\"],\"is_new\":false,\"is_expired\":false,\"slug\":\"Full-Stack-Engineer-Technical-Lead-mwd-in-ClimateTech-cb63b3bc7b32\"},{\"id\":6334981,\"is_premium\":false,\"title\":\"Expert Lead Customer Success - Public (f\\\\/m\\\\/d)\",\"company\":\"Aleph Alpha\",\"company_cluster\":\"Aleph Alpha\",\"company_logo\":null,\"posted_at\":\"2024-09-21\",\"locations\":[\"Berlin\"],\"is_remote\":false,\"snippet_fragments\":[\"  Support customers during the solution deployment and activation process\",\"Be the first contact to our customers for their project plans\",\"  Understand clients\\' business objectives and tailor our solutions to meet their specific needs\",\"  Proactively drive customer retention through identification of opportunities for clients to optimize and expand their use of our products and services\",\"  Serve as the primary point of contact for client inquiries\",\"  Develop and deliver regular reports and presentations to clients\",\"  Collaborate with the sales and product development teams to relay client feedback and contribute to the enhancement of our AI offerings\",\"  Proven experience in a customer-facing role\",\"  Experience in managing complex customer projects with large high-touch and tech-touch customers\",\"  Strong understanding of artificial intelligence and data engineering concepts and applications\",\"Exceptional communication, interpersonal, and negotiation skills.\"],\"from_rate\":null,\"to_rate\":null,\"rate_currency\":null,\"rate_unit\":null,\"skills\":[],\"is_new\":false,\"is_expired\":false,\"slug\":\"Expert-Lead-Customer-Success-Public-fmd-6c04d0499900\"},{\"id\":6335896,\"is_premium\":false,\"title\":\"Logistics Controlling Team Lead (m\\\\/f\\\\/x)\",\"company\":\"AUTO1 Group\",\"company_cluster\":\"AUTO1 Group\",\"company_logo\":null,\"posted_at\":\"2024-09-21\",\"locations\":[\"Berlin\"],\"is_remote\":false,\"snippet_fragments\":[\"in Logistics, Supply Chain, Business, Economics, Finance, or a related field.\",\"Experience in accounting, cost control, automotive logistics, or transportation is a plus but not mandatory.\",\"  Strong leadership and team management skills\",\"  Proven ability to take ownership of tasks\",\"Excellent communication skills, with an emphasis on proactive, transparent communication both upward to senior stakeholders and downward to the team.\",\"Attention to detail, with a willingness to learn Auto1s internal processes and tools and become a subject matter expert.\",\"Experience managing multiple priorities simultaneously, meeting time-sensitive deadlines, and maintaining budget discipline.\",\"Strong analytical skills, with the ability to distill complex quantitative concepts into understandable insights.\",\"Proficiency in additional European languages is a plus\",\"Once a unicorn, now a listed public company, be part of our success story!\",\"  An international working environment with exciting national and international projects\",\"  Our dynamic startup environment constantly offers new challenges for personal growth\",\"Everything you do has a direct business impact\",\"  Open communication and delivering results are more important to us than a dress code  wear whatever you want\",\"  Your future is important to us\",\"  We offer discounts on well-known brands such as Flaconi\"],\"from_rate\":null,\"to_rate\":null,\"rate_currency\":null,\"rate_unit\":null,\"skills\":[],\"is_new\":false,\"is_expired\":false,\"slug\":\"Logistics-Controlling-Team-Lead-mfx-0893a8ec180f\"},{\"id\":6334289,\"is_premium\":false,\"title\":\"Teamleiter Linux-Systemadministrator (m\\\\/w\\\\/d)\",\"company\":\"index Internet und Mediaforschung GmbH\",\"company_cluster\":\"index Internet und Mediaforschung\",\"company_logo\":null,\"posted_at\":\"2024-09-20\",\"locations\":[\"Berlin\"],\"is_remote\":false,\"snippet_fragments\":[\"Problemanalyse, Administration und Weiterentwickelung von Linux-Systemen, Firewalls, Netzwerken und komplexen Anwendungssystemen\",\"Die Zufriedenheit und das pers\\\\u00f6nliche Wachstum unserer Mitarbeitenden sind uns sehr wichtig\",\"Die Vereinbarkeit von Arbeit und Privatleben ist nicht nur eine Floskel\",\" eine unbefristete Festanstellung mit flexiblen Arbeitszeiten und fairer Verg\\\\u00fctung\",\" ein modernes B\\\\u00fcro mit Sonnendeck und gem\\\\u00fctlicher Lounge direkt in der Friedrichstra\\\\u00dfe\",\" ein strukturiertes Onboarding inklusive Coachings sowie individuelle Entwicklungsm\\\\u00f6glichkeiten\",\"ein herzliches Miteinander, eine entspannte Arbeitsatmosph\\\\u00e4re und gegenseitige Unterst\\\\u00fctzung\",\" die Zusammenarbeit mit einem gro\\\\u00dfartigen IT-Team bestehend aus Expert*innen mit Studienabschl\\\\u00fcssen in Informatik\",\"Du arbeitest zuverl\\\\u00e4ssig, strukturiert, engagiert und hast Freude an der Zusammenarbeit mit Menschen\",\" erfolgreich abgeschlossene Ausbildung als Fachinformatiker f\\\\u00fcr Systemintegration o\",\" fundierte Erfahrungen im Aufbau und Betrieb von IT-Infrastrukturen sowie einschl\\\\u00e4gige Kenntnisse im Linux-Umfeld\",\"idealerweise Erfahrungen mit Ubuntu, Ansible, Proxmox, Docker, PostgreSQL, Apache, Nginx, Zabbix, Nagios, Bacula, Routing, Firewall, VPN, Load Balancing, ZFS, DNS, sFTP, Jenkins, Mailserver, PHP, Lucee, Wordpress\",\" Bereitschaft zur kontinuierlichen Verbesserung der eigenen Qualifikation und Spa\\\\u00df an technischen Innovationen\",\"Klingt nach einem Job wie f\\\\u00fcr Dich gemacht? Aber du hast noch Fragen? Dann z\\\\u00f6gere nicht und melde Dich direkt bei Melina oder Susan unter T\"],\"from_rate\":null,\"to_rate\":null,\"rate_currency\":null,\"rate_unit\":null,\"skills\":[\"Ansible\",\"Docker\",\"Jenkins\",\"Linux\",\"Load Balancing\",\"Nagios\",\"Nginx\",\"PostgreSQL\",\"Routing\",\"Ubuntu\",\"WordPress\",\"Zabbix\",\"Firewalls\",\"SFTP\",\"Proxmox\",\"PHP\",\"ZFS\",\"VPN\",\"DNS\",\"Mathematik\"],\"is_new\":false,\"is_expired\":false,\"slug\":\"Teamleiter-Linux-Systemadministrator-mwd-d3c75099873d\"},{\"id\":6330343,\"is_premium\":false,\"title\":\"Lead Developer Mobile Apps (iOS \\\\/ Android) for Digital Health - Consulting (German Speaking)\",\"company\":\"EY\",\"company_cluster\":\"EY\",\"company_logo\":null,\"posted_at\":\"2024-09-19\",\"locations\":[\"Berlin\"],\"is_remote\":false,\"snippet_fragments\":[\"Bachelors degree in informatics, Mathematics, (Software) Engineering or other related field with strong IT focus\",\"Master\\'s or further certification are advantageous\",\"  Minimum of 2 years of working experience in a healthcare context and particular focus on implementing custom applications on mobile operating systems\",\"  Deep understanding of development in iOS and Android using e\",\"Swift, SwiftUI, Kotlin, and Jetpack Compose\",\"Basic understanding of both operating systems is a prerequisite\",\"  Expert knowledge of software architecture on all levels\",\"network, infrastructure, security, persistence, application, and frontend.\",\"  Proven work experience in driving international development teams and managing different stakeholder groups\",\"project managers, Scrum masters, product owners, business analysts, developers, and infrastructure and security architects.\",\"  Deep understanding of programming patterns (e\",\"MVC, MVVM), tools, and frameworks for development (e.g\",\"  A reliable network in the healthcare industry and a consulting track record\",\"  A good overview of industry technology trends and emerging technologies\",\"  A solid understanding of health-specific interoperability formats\",\"  A good knowledge of system integration in medical system landscapes between software products of various clinical domains\",\"Electronic Medical Records (EMR), Clinical Information Systems (CIS), Clinical Data Repositories (CDR), Laboratory Information Management Systems (LIMS), communication servers and interoperability platforms.\",\" We are looking for an experienced Senior Developer with strong technical skills and a proven track record working in a healthcare context\",\"As part of this role, you\\'ll work in a highly integrated, global team with the opportunity and tools to grow, develop and drive your career forward\",\"Here, you can combine global opportunity with flexible working\",\"The EY benefits package goes above and beyond too\",\"Your recruiter can talk to you about the benefits available in your country\"],\"from_rate\":null,\"to_rate\":null,\"rate_currency\":null,\"rate_unit\":null,\"skills\":[\"Architektur\",\"Android\",\"Angular\",\"Kotlin\",\"React\",\"Scrum\",\"Swift\",\"Xamarin\",\"MVVM\",\"FHIR\",\"iOS\",\"MVC\",\"UI\",\"UX\",\"Android Jetpack\",\"Mathematik\"],\"is_new\":false,\"is_expired\":false,\"slug\":\"Lead-Developer-Mobile-Apps-iOS-Android-for-Digital-Health-Consulting-German-Speaking-1a69bc9c6e25\"}],\"suggestedHits\":[],\"pages\":9,\"skillCommonType\":\"it\",\"skillLogos\":{\"A\\\\/B testing\":\"https:\\\\/\\\\/res.cloudinary.com\\\\/inqbyteio\\\\/image\\\\/upload\\\\/f_auto,w_40,h_40,c_pad\\\\/if_ar_gt_1.78,c_lpad,w_40,h_40\\\\/v1596549939\\\\/search\\\\/autosuggestion\\\\/kissmetrics_Abtestkit_headerimage.webp\",\"Adobe Streamline\":\"https:\\\\/\\\\/res.cloudinary.com\\\\/inqbyteio\\\\/image\\\\/upload\\\\/f_auto,w_40,h_40,c_pad\\\\/if_ar_gt_1.78,c_lpad,w_40,h_40\\\\/v1644217161\\\\/search\\\\/autosuggestion\\\\/IT_default_logo_ry9liu.svg\",\"Agile\":\"https:\\\\/\\\\/res.cloudinary.com\\\\/inqbyteio\\\\/image\\\\/upload\\\\/f_auto,w_40,h_40,c_pad\\\\/if_ar_gt_1.78,c_lpad,w_40,h_40\\\\/v1607048082\\\\/search\\\\/autosuggestion\\\\/agile-software_nayh86.svg\",\"AI\":\"https:\\\\/\\\\/res.cloudinary.com\\\\/inqbyteio\\\\/image\\\\/upload\\\\/f_auto,w_40,h_40,c_pad\\\\/if_ar_gt_1.78,c_lpad,w_40,h_40\\\\/v1596548394\\\\/search\\\\/autosuggestion\\\\/Artificial_intelligence.svg\",\"Android\":\"https:\\\\/\\\\/res.cloudinary.com\\\\/inqbyteio\\\\/image\\\\/upload\\\\/f_auto,w_40,h_40,c_pad\\\\/if_ar_gt_1.78,c_lpad,w_40,h_40\\\\/v1607048448\\\\/search\\\\/autosuggestion\\\\/android_rvqovc.svg\",\"Android Studio\":\"https:\\\\/\\\\/res.cloudinary.com\\\\/inqbyteio\\\\/image\\\\/upload\\\\/f_auto,w_40,h_40,c_pad\\\\/if_ar_gt_1.78,c_lpad,w_40,h_40\\\\/v1620638513\\\\/search\\\\/autosuggestion\\\\/Android_Studio_axinmd.svg\",\"Angular\":\"https:\\\\/\\\\/res.cloudinary.com\\\\/inqbyteio\\\\/image\\\\/upload\\\\/f_auto,w_40,h_40,c_pad\\\\/if_ar_gt_1.78,c_lpad,w_40,h_40\\\\/v1596548170\\\\/search\\\\/autosuggestion\\\\/AngularJS.svg\",\"Ansible\":\"https:\\\\/\\\\/res.cloudinary.com\\\\/inqbyteio\\\\/image\\\\/upload\\\\/f_auto,w_40,h_40,c_pad\\\\/if_ar_gt_1.78,c_lpad,w_40,h_40\\\\/v1607048573\\\\/search\\\\/autosuggestion\\\\/ansible_u19peg.svg\",\"APIs\":\"https:\\\\/\\\\/res.cloudinary.com\\\\/inqbyteio\\\\/image\\\\/upload\\\\/f_auto,w_40,h_40,c_pad\\\\/if_ar_gt_1.78,c_lpad,w_40,h_40\\\\/v1596548358\\\\/search\\\\/autosuggestion\\\\/apis.svg\",\"Architektur\":\"https:\\\\/\\\\/res.cloudinary.com\\\\/inqbyteio\\\\/image\\\\/upload\\\\/f_auto,w_40,h_40,c_pad\\\\/if_ar_gt_1.78,c_lpad,w_40,h_40\\\\/v1643179186\\\\/search\\\\/autosuggestion\\\\/engineering_default_logo_ch5blc.svg\",\"AWS\":\"https:\\\\/\\\\/res.cloudinary.com\\\\/inqbyteio\\\\/image\\\\/upload\\\\/f_auto,w_40,h_40,c_pad\\\\/if_ar_gt_1.78,c_lpad,w_40,h_40\\\\/v1607048386\\\\/search\\\\/autosuggestion\\\\/amazon-web-services-2_wjsu7z.svg\",\"Azure\":\"https:\\\\/\\\\/res.cloudinary.com\\\\/inqbyteio\\\\/image\\\\/upload\\\\/f_auto,w_40,h_40,c_pad\\\\/if_ar_gt_1.78,c_lpad,w_40,h_40\\\\/v1607054856\\\\/search\\\\/autosuggestion\\\\/azure-1_b89hjg.svg\",\"Big Data\":\"https:\\\\/\\\\/res.cloudinary.com\\\\/inqbyteio\\\\/image\\\\/upload\\\\/f_auto,w_40,h_40,c_pad\\\\/if_ar_gt_1.78,c_lpad,w_40,h_40\\\\/v1596548531\\\\/search\\\\/autosuggestion\\\\/Big_data.svg\",\"BigQuery\":\"https:\\\\/\\\\/res.cloudinary.com\\\\/inqbyteio\\\\/image\\\\/upload\\\\/f_auto,w_40,h_40,c_pad\\\\/if_ar_gt_1.78,c_lpad,w_40,h_40\\\\/v1607050991\\\\/search\\\\/autosuggestion\\\\/google-bigquery-logo-1_ootsoq.svg\",\"CD\":\"https:\\\\/\\\\/res.cloudinary.com\\\\/inqbyteio\\\\/image\\\\/upload\\\\/f_auto,w_40,h_40,c_pad\\\\/if_ar_gt_1.78,c_lpad,w_40,h_40\\\\/v1596548883\\\\/search\\\\/autosuggestion\\\\/Continuous_delivery.png\",\"Cloud\":\"https:\\\\/\\\\/res.cloudinary.com\\\\/inqbyteio\\\\/image\\\\/upload\\\\/f_auto,w_40,h_40,c_pad\\\\/if_ar_gt_1.78,c_lpad,w_40,h_40\\\\/v1596548843\\\\/search\\\\/autosuggestion\\\\/Cloud_computing.svg\",\"Continuous Integration\":\"https:\\\\/\\\\/res.cloudinary.com\\\\/inqbyteio\\\\/image\\\\/upload\\\\/f_auto,w_40,h_40,c_pad\\\\/if_ar_gt_1.78,c_lpad,w_40,h_40\\\\/v1596548883\\\\/search\\\\/autosuggestion\\\\/Continuous_integration.png\",\"CRM\":\"https:\\\\/\\\\/res.cloudinary.com\\\\/inqbyteio\\\\/image\\\\/upload\\\\/f_auto,w_40,h_40,c_pad\\\\/if_ar_gt_1.78,c_lpad,w_40,h_40\\\\/v1596615756\\\\/search\\\\/autosuggestion\\\\/crm.png\",\"Cybersecurity\":\"https:\\\\/\\\\/res.cloudinary.com\\\\/inqbyteio\\\\/image\\\\/upload\\\\/f_auto,w_40,h_40,c_pad\\\\/if_ar_gt_1.78,c_lpad,w_40,h_40\\\\/v1644217161\\\\/search\\\\/autosuggestion\\\\/IT_default_logo_ry9liu.svg\",\"Dashboards\":\"https:\\\\/\\\\/res.cloudinary.com\\\\/inqbyteio\\\\/image\\\\/upload\\\\/f_auto,w_40,h_40,c_pad\\\\/if_ar_gt_1.78,c_lpad,w_40,h_40\\\\/v1596548942\\\\/search\\\\/autosuggestion\\\\/Dashboard.png\",\"Data Analysis\":\"https:\\\\/\\\\/res.cloudinary.com\\\\/inqbyteio\\\\/image\\\\/upload\\\\/f_auto,w_40,h_40,c_pad\\\\/if_ar_gt_1.78,c_lpad,w_40,h_40\\\\/v1596548940\\\\/search\\\\/autosuggestion\\\\/Data_analysis.png\",\"Data Pipelines\":\"https:\\\\/\\\\/res.cloudinary.com\\\\/inqbyteio\\\\/image\\\\/upload\\\\/f_auto,w_40,h_40,c_pad\\\\/if_ar_gt_1.78,c_lpad,w_40,h_40\\\\/v1644217161\\\\/search\\\\/autosuggestion\\\\/IT_default_logo_ry9liu.svg\",\"Data Science\":\"https:\\\\/\\\\/res.cloudinary.com\\\\/inqbyteio\\\\/image\\\\/upload\\\\/f_auto,w_40,h_40,c_pad\\\\/if_ar_gt_1.78,c_lpad,w_40,h_40\\\\/v1596548975\\\\/search\\\\/autosuggestion\\\\/Data_science.png\",\"Data Visualization\":\"https:\\\\/\\\\/res.cloudinary.com\\\\/inqbyteio\\\\/image\\\\/upload\\\\/f_auto,w_40,h_40,c_pad\\\\/if_ar_gt_1.78,c_lpad,w_40,h_40\\\\/v1596548979\\\\/search\\\\/autosuggestion\\\\/data_visualization.png\",\"Data Warehouse\":\"https:\\\\/\\\\/res.cloudinary.com\\\\/inqbyteio\\\\/image\\\\/upload\\\\/f_auto,w_40,h_40,c_pad\\\\/if_ar_gt_1.78,c_lpad,w_40,h_40\\\\/v1596548980\\\\/search\\\\/autosuggestion\\\\/Data_Warehouse.png\",\"Databricks\":\"https:\\\\/\\\\/res.cloudinary.com\\\\/inqbyteio\\\\/image\\\\/upload\\\\/f_auto,w_40,h_40,c_pad\\\\/if_ar_gt_1.78,c_lpad,w_40,h_40\\\\/v1596548980\\\\/search\\\\/autosuggestion\\\\/databricks.png\",\"Dermatologie\":\"https:\\\\/\\\\/res.cloudinary.com\\\\/inqbyteio\\\\/image\\\\/upload\\\\/f_auto,w_40,h_40,c_pad\\\\/if_ar_gt_1.78,c_lpad,w_40,h_40\\\\/v1643356202\\\\/search\\\\/autosuggestion\\\\/science_default_logo_w2yzyl.svg\",\"DevOps\":\"https:\\\\/\\\\/res.cloudinary.com\\\\/inqbyteio\\\\/image\\\\/upload\\\\/f_auto,w_40,h_40,c_pad\\\\/if_ar_gt_1.78,c_lpad,w_40,h_40\\\\/v1596549006\\\\/search\\\\/autosuggestion\\\\/devops.png\",\"Docker\":\"https:\\\\/\\\\/res.cloudinary.com\\\\/inqbyteio\\\\/image\\\\/upload\\\\/f_auto,w_40,h_40,c_pad\\\\/if_ar_gt_1.78,c_lpad,w_40,h_40\\\\/v1607051775\\\\/search\\\\/autosuggestion\\\\/docker_brauxz.svg\",\"Elektronik\":\"https:\\\\/\\\\/res.cloudinary.com\\\\/inqbyteio\\\\/image\\\\/upload\\\\/f_auto,w_40,h_40,c_pad\\\\/if_ar_gt_1.78,c_lpad,w_40,h_40\\\\/v1643179186\\\\/search\\\\/autosuggestion\\\\/engineering_default_logo_ch5blc.svg\",\"Excel\":\"https:\\\\/\\\\/res.cloudinary.com\\\\/inqbyteio\\\\/image\\\\/upload\\\\/f_auto,w_40,h_40,c_pad\\\\/if_ar_gt_1.78,c_lpad,w_40,h_40\\\\/v1596550587\\\\/search\\\\/autosuggestion\\\\/Microsoft_Excel.svg\",\"FHIR\":\"https:\\\\/\\\\/res.cloudinary.com\\\\/inqbyteio\\\\/image\\\\/upload\\\\/f_auto,w_40,h_40,c_pad\\\\/if_ar_gt_1.78,c_lpad,w_40,h_40\\\\/v1596549356\\\\/search\\\\/autosuggestion\\\\/fhir.png\",\"Formenbau\":\"https:\\\\/\\\\/res.cloudinary.com\\\\/inqbyteio\\\\/image\\\\/upload\\\\/f_auto,w_40,h_40,c_pad\\\\/if_ar_gt_1.78,c_lpad,w_40,h_40\\\\/v1643179186\\\\/search\\\\/autosuggestion\\\\/engineering_default_logo_ch5blc.svg\",\"G Suite\":\"https:\\\\/\\\\/res.cloudinary.com\\\\/inqbyteio\\\\/image\\\\/upload\\\\/f_auto,w_40,h_40,c_pad\\\\/if_ar_gt_1.78,c_lpad,w_40,h_40\\\\/v1596549431\\\\/search\\\\/autosuggestion\\\\/G_Suite.svg\",\"GCP\":\"https:\\\\/\\\\/res.cloudinary.com\\\\/inqbyteio\\\\/image\\\\/upload\\\\/f_auto,w_40,h_40,c_pad\\\\/if_ar_gt_1.78,c_lpad,w_40,h_40\\\\/v1607052906\\\\/search\\\\/autosuggestion\\\\/google-cloud-1_ieyylt.svg\",\"Gradle\":\"https:\\\\/\\\\/res.cloudinary.com\\\\/inqbyteio\\\\/image\\\\/upload\\\\/f_auto,w_40,h_40,c_pad\\\\/if_ar_gt_1.78,c_lpad,w_40,h_40\\\\/v1607052974\\\\/search\\\\/autosuggestion\\\\/gradle_m0geua.svg\",\"ITIL\":\"https:\\\\/\\\\/res.cloudinary.com\\\\/inqbyteio\\\\/image\\\\/upload\\\\/f_auto,w_40,h_40,c_pad\\\\/if_ar_gt_1.78,c_lpad,w_40,h_40\\\\/v1596549791\\\\/search\\\\/autosuggestion\\\\/ITIL.svg\",\"Java\":\"https:\\\\/\\\\/res.cloudinary.com\\\\/inqbyteio\\\\/image\\\\/upload\\\\/f_auto,w_40,h_40,c_pad\\\\/if_ar_gt_1.78,c_lpad,w_40,h_40\\\\/v1607053301\\\\/search\\\\/autosuggestion\\\\/java-14_ngek16.svg\",\"Jenkins\":\"https:\\\\/\\\\/res.cloudinary.com\\\\/inqbyteio\\\\/image\\\\/upload\\\\/f_auto,w_40,h_40,c_pad\\\\/if_ar_gt_1.78,c_lpad,w_40,h_40\\\\/v1607053319\\\\/search\\\\/autosuggestion\\\\/jenkins-1_c360qw.svg\",\"Jira\":\"https:\\\\/\\\\/res.cloudinary.com\\\\/inqbyteio\\\\/image\\\\/upload\\\\/f_auto,w_40,h_40,c_pad\\\\/if_ar_gt_1.78,c_lpad,w_40,h_40\\\\/v1607053449\\\\/search\\\\/autosuggestion\\\\/jira-1_ipprhr.svg\",\"Kanban\":\"https:\\\\/\\\\/res.cloudinary.com\\\\/inqbyteio\\\\/image\\\\/upload\\\\/f_auto,w_40,h_40,c_pad\\\\/if_ar_gt_1.78,c_lpad,w_40,h_40\\\\/v1596549916\\\\/search\\\\/autosuggestion\\\\/Kanban.svg\",\"Kotlin\":\"https:\\\\/\\\\/res.cloudinary.com\\\\/inqbyteio\\\\/image\\\\/upload\\\\/f_auto,w_40,h_40,c_pad\\\\/if_ar_gt_1.78,c_lpad,w_40,h_40\\\\/v1607053494\\\\/search\\\\/autosuggestion\\\\/kotlin-1_n6gsko.svg\",\"Kubernetes\":\"https:\\\\/\\\\/res.cloudinary.com\\\\/inqbyteio\\\\/image\\\\/upload\\\\/f_auto,w_40,h_40,c_pad\\\\/if_ar_gt_1.78,c_lpad,w_40,h_40\\\\/v1607053507\\\\/search\\\\/autosuggestion\\\\/kubernets_z04tqj.svg\",\"Kunststofftechnik\":\"https:\\\\/\\\\/res.cloudinary.com\\\\/inqbyteio\\\\/image\\\\/upload\\\\/f_auto,w_40,h_40,c_pad\\\\/if_ar_gt_1.78,c_lpad,w_40,h_40\\\\/v1643179186\\\\/search\\\\/autosuggestion\\\\/engineering_default_logo_ch5blc.svg\",\"Linux\":\"https:\\\\/\\\\/res.cloudinary.com\\\\/inqbyteio\\\\/image\\\\/upload\\\\/f_auto,w_40,h_40,c_pad\\\\/if_ar_gt_1.78,c_lpad,w_40,h_40\\\\/v1607053545\\\\/search\\\\/autosuggestion\\\\/linux-tux_lbphoh.svg\",\"Load Balancing\":\"https:\\\\/\\\\/res.cloudinary.com\\\\/inqbyteio\\\\/image\\\\/upload\\\\/f_auto,w_40,h_40,c_pad\\\\/if_ar_gt_1.78,c_lpad,w_40,h_40\\\\/v1596548435\\\\/search\\\\/autosuggestion\\\\/aws-elastic-load-balancing.png\",\"Machine Learning\":\"https:\\\\/\\\\/res.cloudinary.com\\\\/inqbyteio\\\\/image\\\\/upload\\\\/f_auto,w_40,h_40,c_pad\\\\/if_ar_gt_1.78,c_lpad,w_40,h_40\\\\/v1596550573\\\\/search\\\\/autosuggestion\\\\/Machine_learning.svg\",\"Mailchimp\":\"https:\\\\/\\\\/res.cloudinary.com\\\\/inqbyteio\\\\/image\\\\/upload\\\\/f_auto,w_40,h_40,c_pad\\\\/if_ar_gt_1.78,c_lpad,w_40,h_40\\\\/v1603819017\\\\/search\\\\/autosuggestion\\\\/mailchimp-freddie-icon_lmuunu.svg\",\"Massenspektrometrie\":\"https:\\\\/\\\\/res.cloudinary.com\\\\/inqbyteio\\\\/image\\\\/upload\\\\/f_auto,w_40,h_40,c_pad\\\\/if_ar_gt_1.78,c_lpad,w_40,h_40\\\\/v1643356202\\\\/search\\\\/autosuggestion\\\\/science_default_logo_w2yzyl.svg\",\"Medizin\":\"https:\\\\/\\\\/res.cloudinary.com\\\\/inqbyteio\\\\/image\\\\/upload\\\\/f_auto,w_40,h_40,c_pad\\\\/if_ar_gt_1.78,c_lpad,w_40,h_40\\\\/v1643356202\\\\/search\\\\/autosuggestion\\\\/science_default_logo_w2yzyl.svg\",\"Microsoft Office\":\"https:\\\\/\\\\/res.cloudinary.com\\\\/inqbyteio\\\\/image\\\\/upload\\\\/f_auto,w_40,h_40,c_pad\\\\/if_ar_gt_1.78,c_lpad,w_40,h_40\\\\/v1596550591\\\\/search\\\\/autosuggestion\\\\/Microsoft_Office.svg\",\"MVVM\":\"https:\\\\/\\\\/res.cloudinary.com\\\\/inqbyteio\\\\/image\\\\/upload\\\\/f_auto,w_40,h_40,c_pad\\\\/if_ar_gt_1.78,c_lpad,w_40,h_40\\\\/v1624260706\\\\/search\\\\/autosuggestion\\\\/MVVM_mkziji.svg\",\"Nagios\":\"https:\\\\/\\\\/res.cloudinary.com\\\\/inqbyteio\\\\/image\\\\/upload\\\\/f_auto,w_40,h_40,c_pad\\\\/if_ar_gt_1.78,c_lpad,w_40,h_40\\\\/v1596546422\\\\/search\\\\/autosuggestion\\\\/3gaoi2h254k0canb4hxj.png\",\"Nginx\":\"https:\\\\/\\\\/res.cloudinary.com\\\\/inqbyteio\\\\/image\\\\/upload\\\\/f_auto,w_40,h_40,c_pad\\\\/if_ar_gt_1.78,c_lpad,w_40,h_40\\\\/v1596550621\\\\/search\\\\/autosuggestion\\\\/Nginx.svg\",\"NoSQL\":\"https:\\\\/\\\\/res.cloudinary.com\\\\/inqbyteio\\\\/image\\\\/upload\\\\/f_auto,w_40,h_40,c_pad\\\\/if_ar_gt_1.78,c_lpad,w_40,h_40\\\\/v1596550625\\\\/search\\\\/autosuggestion\\\\/NoSQL.png\",\"Orchestration\":\"https:\\\\/\\\\/res.cloudinary.com\\\\/inqbyteio\\\\/image\\\\/upload\\\\/f_auto,w_40,h_40,c_pad\\\\/if_ar_gt_1.78,c_lpad,w_40,h_40\\\\/v1644217161\\\\/search\\\\/autosuggestion\\\\/IT_default_logo_ry9liu.svg\",\"PostgreSQL\":\"https:\\\\/\\\\/res.cloudinary.com\\\\/inqbyteio\\\\/image\\\\/upload\\\\/f_auto,w_40,h_40,c_pad\\\\/if_ar_gt_1.78,c_lpad,w_40,h_40\\\\/v1607055469\\\\/search\\\\/autosuggestion\\\\/postgresql_veyobd.svg\",\"Power BI\":\"https:\\\\/\\\\/res.cloudinary.com\\\\/inqbyteio\\\\/image\\\\/upload\\\\/f_auto,w_40,h_40,c_pad\\\\/if_ar_gt_1.78,c_lpad,w_40,h_40\\\\/v1607055479\\\\/search\\\\/autosuggestion\\\\/power-bi_duj9yb.svg\",\"Python\":\"https:\\\\/\\\\/res.cloudinary.com\\\\/inqbyteio\\\\/image\\\\/upload\\\\/f_auto,w_40,h_40,c_pad\\\\/if_ar_gt_1.78,c_lpad,w_40,h_40\\\\/v1607041905\\\\/search\\\\/autosuggestion\\\\/python-5_pu9wog.svg\",\"React\":\"https:\\\\/\\\\/res.cloudinary.com\\\\/inqbyteio\\\\/image\\\\/upload\\\\/f_auto,w_40,h_40,c_pad\\\\/if_ar_gt_1.78,c_lpad,w_40,h_40\\\\/v1607055551\\\\/search\\\\/autosuggestion\\\\/react_kjnafo.svg\",\"Routing\":\"https:\\\\/\\\\/res.cloudinary.com\\\\/inqbyteio\\\\/image\\\\/upload\\\\/f_auto,w_40,h_40,c_pad\\\\/if_ar_gt_1.78,c_lpad,w_40,h_40\\\\/v1596615877\\\\/search\\\\/autosuggestion\\\\/Routing.png\",\"SaaS\":\"https:\\\\/\\\\/res.cloudinary.com\\\\/inqbyteio\\\\/image\\\\/upload\\\\/f_auto,w_40,h_40,c_pad\\\\/if_ar_gt_1.78,c_lpad,w_40,h_40\\\\/v1596615880\\\\/search\\\\/autosuggestion\\\\/saas.jpg\",\"Scrum\":\"https:\\\\/\\\\/res.cloudinary.com\\\\/inqbyteio\\\\/image\\\\/upload\\\\/f_auto,w_40,h_40,c_pad\\\\/if_ar_gt_1.78,c_lpad,w_40,h_40\\\\/v1596615884\\\\/search\\\\/autosuggestion\\\\/Scrum.png\",\"SendGrid\":\"https:\\\\/\\\\/res.cloudinary.com\\\\/inqbyteio\\\\/image\\\\/upload\\\\/f_auto,w_40,h_40,c_pad\\\\/if_ar_gt_1.78,c_lpad,w_40,h_40\\\\/v1606225455\\\\/search\\\\/autosuggestion\\\\/sendgrid-1_ulrgz9.svg\",\"Software quality\":\"https:\\\\/\\\\/res.cloudinary.com\\\\/inqbyteio\\\\/image\\\\/upload\\\\/f_auto,w_40,h_40,c_pad\\\\/if_ar_gt_1.78,c_lpad,w_40,h_40\\\\/v1621584624\\\\/search\\\\/autosuggestion\\\\/software_quality_o29jpd.svg\",\"SonarQube\":\"https:\\\\/\\\\/res.cloudinary.com\\\\/inqbyteio\\\\/image\\\\/upload\\\\/f_auto,w_40,h_40,c_pad\\\\/if_ar_gt_1.78,c_lpad,w_40,h_40\\\\/v1607055996\\\\/search\\\\/autosuggestion\\\\/sonarqube_xd50ka.svg\",\"SQL\":\"https:\\\\/\\\\/res.cloudinary.com\\\\/inqbyteio\\\\/image\\\\/upload\\\\/f_auto,w_40,h_40,c_pad\\\\/if_ar_gt_1.78,c_lpad,w_40,h_40\\\\/v1596615887\\\\/search\\\\/autosuggestion\\\\/SQL.png\",\"Statistik\":\"https:\\\\/\\\\/res.cloudinary.com\\\\/inqbyteio\\\\/image\\\\/upload\\\\/f_auto,w_40,h_40,c_pad\\\\/if_ar_gt_1.78,c_lpad,w_40,h_40\\\\/v1643356202\\\\/search\\\\/autosuggestion\\\\/science_default_logo_w2yzyl.svg\",\"Style Guides\":\"https:\\\\/\\\\/res.cloudinary.com\\\\/inqbyteio\\\\/image\\\\/upload\\\\/f_auto,w_40,h_40,c_pad\\\\/if_ar_gt_1.78,c_lpad,w_40,h_40\\\\/v1644217161\\\\/search\\\\/autosuggestion\\\\/IT_default_logo_ry9liu.svg\",\"Swift\":\"https:\\\\/\\\\/res.cloudinary.com\\\\/inqbyteio\\\\/image\\\\/upload\\\\/f_auto,w_40,h_40,c_pad\\\\/if_ar_gt_1.78,c_lpad,w_40,h_40\\\\/v1603781124\\\\/search\\\\/autosuggestion\\\\/swift-15_xp8sv4.svg\",\"Test Design\":\"https:\\\\/\\\\/res.cloudinary.com\\\\/inqbyteio\\\\/image\\\\/upload\\\\/f_auto,w_40,h_40,c_pad\\\\/if_ar_gt_1.78,c_lpad,w_40,h_40\\\\/v1644217161\\\\/search\\\\/autosuggestion\\\\/IT_default_logo_ry9liu.svg\",\"Ubuntu\":\"https:\\\\/\\\\/res.cloudinary.com\\\\/inqbyteio\\\\/image\\\\/upload\\\\/f_auto,w_40,h_40,c_pad\\\\/if_ar_gt_1.78,c_lpad,w_40,h_40\\\\/v1603785140\\\\/search\\\\/autosuggestion\\\\/ubuntu-icon_o8rtjd.svg\",\"UX\":\"https:\\\\/\\\\/res.cloudinary.com\\\\/inqbyteio\\\\/image\\\\/upload\\\\/f_auto,w_40,h_40,c_pad\\\\/if_ar_gt_1.78,c_lpad,w_40,h_40\\\\/v1596552881\\\\/search\\\\/autosuggestion\\\\/ux.jpg\",\"Wirtschaftsingenieurwesen\":\"https:\\\\/\\\\/res.cloudinary.com\\\\/inqbyteio\\\\/image\\\\/upload\\\\/f_auto,w_40,h_40,c_pad\\\\/if_ar_gt_1.78,c_lpad,w_40,h_40\\\\/v1643179186\\\\/search\\\\/autosuggestion\\\\/engineering_default_logo_ch5blc.svg\",\"Xamarin\":\"https:\\\\/\\\\/res.cloudinary.com\\\\/inqbyteio\\\\/image\\\\/upload\\\\/f_auto,w_40,h_40,c_pad\\\\/if_ar_gt_1.78,c_lpad,w_40,h_40\\\\/v1603820762\\\\/search\\\\/autosuggestion\\\\/xamarin_qvzna4.svg\"},\"terms\":[\"data\"],\"skills\":[],\"occupations\":[],\"modifiers\":[\"Lead\",\"Principal\"],\"companies\":[],\"locations\":[\"Berlin\"],\"workingHours\":null,\"isRecruitment\":null,\"skillFilters\":[\"Cloud\",\"Architektur\",\"Data Analysis\",\"AI\",\"Python\",\"SQL\",\"Agile\",\"Azure\",\"Big Data\",\"DevOps\",\"Machine Learning\",\"Continuous Integration\",\"Java\",\"Excel\",\"AWS\",\"CD\",\"GCP\",\"Data Science\",\"Kubernetes\",\"Microsoft Office\"],\"occupationFilters\":[\"Software Engineer\",\"Tech Lead\",\"Technical Lead\",\"Data Engineer\",\"Developer\",\"IT Lead\",\"Scientist\",\"BI Consultant\",\"Data Scientist\",\"Delivery Lead\",\"IT Consultant\",\"IT Informatiker\",\"IT Teamleiter\",\"Informatiker\",\"Machine Learning Lead\",\"Machine Learning Scientist\",\"Platform Engineer\",\"Technology Lead\",\"AI Engineer\",\"AI Software Engineer\"],\"modifierFilters\":[\"Lead\",\"Principal\",\"Senior\",\"Junior\",\"Trainee\",\"Postdoc\",\"Doktorand\",\"Absolvent\",\"Praktikant\",\"Abschlussarbeit\",\"Student\",\"Ausbildung\"],\"companyFilters\":[\"Almedia\",\"Bayer\",\"SAP\",\"msg systems ag\",\"AUTO1 Group\",\"BEAT81\",\"DBB DATA Steuerberatung GmbH\",\"Flix\",\"Flix SE\",\"Justplay GmbH\",\"NEXT Data Service\",\"Robert Koch Institut\",\"Sanofi US\",\"Snowflake\",\"SumUp\",\"Tentamus Group GmbH\",\"YOC\",\"Zalando\",\"enclaive GmbH\",\"ASML\"],\"locationFilters\":[\"Berlin\",\"Homeoffice\",\"M\\\\u00fcnchen\",\"Hamburg\",\"Deutschland\",\"Frankfurt am Main\",\"Hybrides Arbeiten in Berlin\",\"K\\\\u00f6ln\",\"D\\\\u00fcsseldorf\",\"Stuttgart\",\"Hybrides Arbeiten in M\\\\u00fcnchen\",\"Bad Homburg vor der H\\\\u00f6he\",\"Homeoffice in Berlin\",\"Biberach an der Ri\\\\u00df\",\"Darmstadt\",\"Berlin-Kreuzberg\",\"Erfurt\",\"Hybrides Arbeiten in 20095 Hamburg\",\"Bonn\",\"Dresden\"],\"relatedPages\":{\"skills\":{\"Cloud\":{\"url\":\"https:\\\\/\\\\/jobtensor.com\\\\/search?q=data&s=Cloud&o=&m=Lead%2CPrincipal&c=&l=Berlin\",\"is_sitemap\":false},\"Architektur\":{\"url\":\"https:\\\\/\\\\/jobtensor.com\\\\/search?q=data&s=Architektur&o=&m=Lead%2CPrincipal&c=&l=Berlin\",\"is_sitemap\":false},\"Data Analysis\":{\"url\":\"https:\\\\/\\\\/jobtensor.com\\\\/search?q=data&s=Data%20Analysis&o=&m=Lead%2CPrincipal&c=&l=Berlin\",\"is_sitemap\":false},\"AI\":{\"url\":\"https:\\\\/\\\\/jobtensor.com\\\\/search?q=data&s=AI&o=&m=Lead%2CPrincipal&c=&l=Berlin\",\"is_sitemap\":false},\"Python\":{\"url\":\"https:\\\\/\\\\/jobtensor.com\\\\/search?q=data&s=Python&o=&m=Lead%2CPrincipal&c=&l=Berlin\",\"is_sitemap\":false},\"SQL\":{\"url\":\"https:\\\\/\\\\/jobtensor.com\\\\/search?q=data&s=SQL&o=&m=Lead%2CPrincipal&c=&l=Berlin\",\"is_sitemap\":false},\"Agile\":{\"url\":\"https:\\\\/\\\\/jobtensor.com\\\\/search?q=data&s=Agile&o=&m=Lead%2CPrincipal&c=&l=Berlin\",\"is_sitemap\":false},\"Azure\":{\"url\":\"https:\\\\/\\\\/jobtensor.com\\\\/search?q=data&s=Azure&o=&m=Lead%2CPrincipal&c=&l=Berlin\",\"is_sitemap\":false},\"Big Data\":{\"url\":\"https:\\\\/\\\\/jobtensor.com\\\\/search?q=data&s=Big%20Data&o=&m=Lead%2CPrincipal&c=&l=Berlin\",\"is_sitemap\":false},\"DevOps\":{\"url\":\"https:\\\\/\\\\/jobtensor.com\\\\/search?q=data&s=DevOps&o=&m=Lead%2CPrincipal&c=&l=Berlin\",\"is_sitemap\":false},\"Machine Learning\":{\"url\":\"https:\\\\/\\\\/jobtensor.com\\\\/search?q=data&s=Machine%20Learning&o=&m=Lead%2CPrincipal&c=&l=Berlin\",\"is_sitemap\":false},\"Continuous Integration\":{\"url\":\"https:\\\\/\\\\/jobtensor.com\\\\/search?q=data&s=Continuous%20Integration&o=&m=Lead%2CPrincipal&c=&l=Berlin\",\"is_sitemap\":false},\"Java\":{\"url\":\"https:\\\\/\\\\/jobtensor.com\\\\/search?q=data&s=Java&o=&m=Lead%2CPrincipal&c=&l=Berlin\",\"is_sitemap\":false},\"Excel\":{\"url\":\"https:\\\\/\\\\/jobtensor.com\\\\/search?q=data&s=Excel&o=&m=Lead%2CPrincipal&c=&l=Berlin\",\"is_sitemap\":false},\"AWS\":{\"url\":\"https:\\\\/\\\\/jobtensor.com\\\\/search?q=data&s=AWS&o=&m=Lead%2CPrincipal&c=&l=Berlin\",\"is_sitemap\":false},\"CD\":{\"url\":\"https:\\\\/\\\\/jobtensor.com\\\\/search?q=data&s=CD&o=&m=Lead%2CPrincipal&c=&l=Berlin\",\"is_sitemap\":false},\"GCP\":{\"url\":\"https:\\\\/\\\\/jobtensor.com\\\\/search?q=data&s=GCP&o=&m=Lead%2CPrincipal&c=&l=Berlin\",\"is_sitemap\":false},\"Data Science\":{\"url\":\"https:\\\\/\\\\/jobtensor.com\\\\/search?q=data&s=Data%20Science&o=&m=Lead%2CPrincipal&c=&l=Berlin\",\"is_sitemap\":false},\"Kubernetes\":{\"url\":\"https:\\\\/\\\\/jobtensor.com\\\\/search?q=data&s=Kubernetes&o=&m=Lead%2CPrincipal&c=&l=Berlin\",\"is_sitemap\":false},\"Microsoft Office\":{\"url\":\"https:\\\\/\\\\/jobtensor.com\\\\/search?q=data&s=Microsoft%20Office&o=&m=Lead%2CPrincipal&c=&l=Berlin\",\"is_sitemap\":false}},\"occupations\":{\"Software Engineer\":{\"url\":\"https:\\\\/\\\\/jobtensor.com\\\\/search?q=data&s=&o=Software%20Engineer&m=Lead%2CPrincipal&c=&l=Berlin\",\"is_sitemap\":false},\"Tech Lead\":{\"url\":\"https:\\\\/\\\\/jobtensor.com\\\\/search?q=data&s=&o=Tech%20Lead&m=Lead%2CPrincipal&c=&l=Berlin\",\"is_sitemap\":false},\"Technical Lead\":{\"url\":\"https:\\\\/\\\\/jobtensor.com\\\\/search?q=data&s=&o=Technical%20Lead&m=Lead%2CPrincipal&c=&l=Berlin\",\"is_sitemap\":false},\"Data Engineer\":{\"url\":\"https:\\\\/\\\\/jobtensor.com\\\\/search?q=data&s=&o=Data%20Engineer&m=Lead%2CPrincipal&c=&l=Berlin\",\"is_sitemap\":false},\"Developer\":{\"url\":\"https:\\\\/\\\\/jobtensor.com\\\\/search?q=data&s=&o=Developer&m=Lead%2CPrincipal&c=&l=Berlin\",\"is_sitemap\":false},\"IT Lead\":{\"url\":\"https:\\\\/\\\\/jobtensor.com\\\\/search?q=data&s=&o=IT%20Lead&m=Lead%2CPrincipal&c=&l=Berlin\",\"is_sitemap\":false},\"Scientist\":{\"url\":\"https:\\\\/\\\\/jobtensor.com\\\\/search?q=data&s=&o=Scientist&m=Lead%2CPrincipal&c=&l=Berlin\",\"is_sitemap\":false},\"BI Consultant\":{\"url\":\"https:\\\\/\\\\/jobtensor.com\\\\/search?q=data&s=&o=BI%20Consultant&m=Lead%2CPrincipal&c=&l=Berlin\",\"is_sitemap\":false},\"Data Scientist\":{\"url\":\"https:\\\\/\\\\/jobtensor.com\\\\/search?q=data&s=&o=Data%20Scientist&m=Lead%2CPrincipal&c=&l=Berlin\",\"is_sitemap\":false},\"Delivery Lead\":{\"url\":\"https:\\\\/\\\\/jobtensor.com\\\\/search?q=data&s=&o=Delivery%20Lead&m=Lead%2CPrincipal&c=&l=Berlin\",\"is_sitemap\":false},\"IT Consultant\":{\"url\":\"https:\\\\/\\\\/jobtensor.com\\\\/search?q=data&s=&o=IT%20Consultant&m=Lead%2CPrincipal&c=&l=Berlin\",\"is_sitemap\":false},\"IT Informatiker\":{\"url\":\"https:\\\\/\\\\/jobtensor.com\\\\/search?q=data&s=&o=IT%20Informatiker&m=Lead%2CPrincipal&c=&l=Berlin\",\"is_sitemap\":false},\"IT Teamleiter\":{\"url\":\"https:\\\\/\\\\/jobtensor.com\\\\/search?q=data&s=&o=IT%20Teamleiter&m=Lead%2CPrincipal&c=&l=Berlin\",\"is_sitemap\":false},\"Informatiker\":{\"url\":\"https:\\\\/\\\\/jobtensor.com\\\\/search?q=data&s=&o=Informatiker&m=Lead%2CPrincipal&c=&l=Berlin\",\"is_sitemap\":false},\"Machine Learning Lead\":{\"url\":\"https:\\\\/\\\\/jobtensor.com\\\\/search?q=data&s=&o=Machine%20Learning%20Lead&m=Lead%2CPrincipal&c=&l=Berlin\",\"is_sitemap\":false},\"Machine Learning Scientist\":{\"url\":\"https:\\\\/\\\\/jobtensor.com\\\\/search?q=data&s=&o=Machine%20Learning%20Scientist&m=Lead%2CPrincipal&c=&l=Berlin\",\"is_sitemap\":false},\"Platform Engineer\":{\"url\":\"https:\\\\/\\\\/jobtensor.com\\\\/search?q=data&s=&o=Platform%20Engineer&m=Lead%2CPrincipal&c=&l=Berlin\",\"is_sitemap\":false},\"Technology Lead\":{\"url\":\"https:\\\\/\\\\/jobtensor.com\\\\/search?q=data&s=&o=Technology%20Lead&m=Lead%2CPrincipal&c=&l=Berlin\",\"is_sitemap\":false},\"AI Engineer\":{\"url\":\"https:\\\\/\\\\/jobtensor.com\\\\/search?q=data&s=&o=AI%20Engineer&m=Lead%2CPrincipal&c=&l=Berlin\",\"is_sitemap\":false},\"AI Software Engineer\":{\"url\":\"https:\\\\/\\\\/jobtensor.com\\\\/search?q=data&s=&o=AI%20Software%20Engineer&m=Lead%2CPrincipal&c=&l=Berlin\",\"is_sitemap\":false}},\"modifiers\":{\"Lead\":{\"url\":\"https:\\\\/\\\\/jobtensor.com\\\\/search?q=data&s=&o=&m=Principal&c=&l=Berlin\",\"is_sitemap\":false},\"Principal\":{\"url\":\"https:\\\\/\\\\/jobtensor.com\\\\/search?q=data&s=&o=&m=Lead&c=&l=Berlin\",\"is_sitemap\":false},\"Senior\":{\"url\":\"https:\\\\/\\\\/jobtensor.com\\\\/search?q=data&s=&o=&m=Lead%2CPrincipal%2CSenior&c=&l=Berlin\",\"is_sitemap\":false},\"Junior\":{\"url\":\"https:\\\\/\\\\/jobtensor.com\\\\/search?q=data&s=&o=&m=Lead%2CPrincipal%2CJunior&c=&l=Berlin\",\"is_sitemap\":false},\"Trainee\":{\"url\":\"https:\\\\/\\\\/jobtensor.com\\\\/search?q=data&s=&o=&m=Lead%2CPrincipal%2CTrainee&c=&l=Berlin\",\"is_sitemap\":false},\"Postdoc\":{\"url\":\"https:\\\\/\\\\/jobtensor.com\\\\/search?q=data&s=&o=&m=Lead%2CPrincipal%2CPostdoc&c=&l=Berlin\",\"is_sitemap\":false},\"Doktorand\":{\"url\":\"https:\\\\/\\\\/jobtensor.com\\\\/search?q=data&s=&o=&m=Lead%2CPrincipal%2CDoktorand&c=&l=Berlin\",\"is_sitemap\":false},\"Absolvent\":{\"url\":\"https:\\\\/\\\\/jobtensor.com\\\\/search?q=data&s=&o=&m=Lead%2CPrincipal%2CAbsolvent&c=&l=Berlin\",\"is_sitemap\":false},\"Praktikant\":{\"url\":\"https:\\\\/\\\\/jobtensor.com\\\\/search?q=data&s=&o=&m=Lead%2CPrincipal%2CPraktikant&c=&l=Berlin\",\"is_sitemap\":false},\"Abschlussarbeit\":{\"url\":\"https:\\\\/\\\\/jobtensor.com\\\\/search?q=data&s=&o=&m=Lead%2CPrincipal%2CAbschlussarbeit&c=&l=Berlin\",\"is_sitemap\":false},\"Student\":{\"url\":\"https:\\\\/\\\\/jobtensor.com\\\\/search?q=data&s=&o=&m=Lead%2CPrincipal%2CStudent&c=&l=Berlin\",\"is_sitemap\":false},\"Ausbildung\":{\"url\":\"https:\\\\/\\\\/jobtensor.com\\\\/search?q=data&s=&o=&m=Lead%2CPrincipal%2CAusbildung&c=&l=Berlin\",\"is_sitemap\":false}},\"companies\":{\"Almedia\":{\"url\":\"https:\\\\/\\\\/jobtensor.com\\\\/search?q=data&s=&o=&m=Lead%2CPrincipal&c=Almedia&l=Berlin\",\"is_sitemap\":false},\"Bayer\":{\"url\":\"https:\\\\/\\\\/jobtensor.com\\\\/search?q=data&s=&o=&m=Lead%2CPrincipal&c=Bayer&l=Berlin\",\"is_sitemap\":false},\"SAP\":{\"url\":\"https:\\\\/\\\\/jobtensor.com\\\\/search?q=data&s=&o=&m=Lead%2CPrincipal&c=SAP&l=Berlin\",\"is_sitemap\":false},\"msg systems ag\":{\"url\":\"https:\\\\/\\\\/jobtensor.com\\\\/search?q=data&s=&o=&m=Lead%2CPrincipal&c=msg%20systems%20ag&l=Berlin\",\"is_sitemap\":false},\"AUTO1 Group\":{\"url\":\"https:\\\\/\\\\/jobtensor.com\\\\/search?q=data&s=&o=&m=Lead%2CPrincipal&c=AUTO1%20Group&l=Berlin\",\"is_sitemap\":false},\"BEAT81\":{\"url\":\"https:\\\\/\\\\/jobtensor.com\\\\/search?q=data&s=&o=&m=Lead%2CPrincipal&c=BEAT81&l=Berlin\",\"is_sitemap\":false},\"DBB DATA Steuerberatung GmbH\":{\"url\":\"https:\\\\/\\\\/jobtensor.com\\\\/search?q=data&s=&o=&m=Lead%2CPrincipal&c=DBB%20DATA%20Steuerberatung%20GmbH&l=Berlin\",\"is_sitemap\":false},\"Flix\":{\"url\":\"https:\\\\/\\\\/jobtensor.com\\\\/search?q=data&s=&o=&m=Lead%2CPrincipal&c=Flix&l=Berlin\",\"is_sitemap\":false},\"Flix SE\":{\"url\":\"https:\\\\/\\\\/jobtensor.com\\\\/search?q=data&s=&o=&m=Lead%2CPrincipal&c=Flix%20SE&l=Berlin\",\"is_sitemap\":false},\"Justplay GmbH\":{\"url\":\"https:\\\\/\\\\/jobtensor.com\\\\/search?q=data&s=&o=&m=Lead%2CPrincipal&c=Justplay%20GmbH&l=Berlin\",\"is_sitemap\":false},\"NEXT Data Service\":{\"url\":\"https:\\\\/\\\\/jobtensor.com\\\\/search?q=data&s=&o=&m=Lead%2CPrincipal&c=NEXT%20Data%20Service&l=Berlin\",\"is_sitemap\":false},\"Robert Koch Institut\":{\"url\":\"https:\\\\/\\\\/jobtensor.com\\\\/search?q=data&s=&o=&m=Lead%2CPrincipal&c=Robert%20Koch%20Institut&l=Berlin\",\"is_sitemap\":false},\"Sanofi US\":{\"url\":\"https:\\\\/\\\\/jobtensor.com\\\\/search?q=data&s=&o=&m=Lead%2CPrincipal&c=Sanofi%20US&l=Berlin\",\"is_sitemap\":false},\"Snowflake\":{\"url\":\"https:\\\\/\\\\/jobtensor.com\\\\/search?q=data&s=&o=&m=Lead%2CPrincipal&c=Snowflake&l=Berlin\",\"is_sitemap\":false},\"SumUp\":{\"url\":\"https:\\\\/\\\\/jobtensor.com\\\\/search?q=data&s=&o=&m=Lead%2CPrincipal&c=SumUp&l=Berlin\",\"is_sitemap\":false},\"Tentamus Group GmbH\":{\"url\":\"https:\\\\/\\\\/jobtensor.com\\\\/search?q=data&s=&o=&m=Lead%2CPrincipal&c=Tentamus%20Group%20GmbH&l=Berlin\",\"is_sitemap\":false},\"YOC\":{\"url\":\"https:\\\\/\\\\/jobtensor.com\\\\/search?q=data&s=&o=&m=Lead%2CPrincipal&c=YOC&l=Berlin\",\"is_sitemap\":false},\"Zalando\":{\"url\":\"https:\\\\/\\\\/jobtensor.com\\\\/search?q=data&s=&o=&m=Lead%2CPrincipal&c=Zalando&l=Berlin\",\"is_sitemap\":false},\"enclaive GmbH\":{\"url\":\"https:\\\\/\\\\/jobtensor.com\\\\/search?q=data&s=&o=&m=Lead%2CPrincipal&c=enclaive%20GmbH&l=Berlin\",\"is_sitemap\":false},\"ASML\":{\"url\":\"https:\\\\/\\\\/jobtensor.com\\\\/search?q=data&s=&o=&m=Lead%2CPrincipal&c=ASML&l=Berlin\",\"is_sitemap\":false}},\"locations\":{\"Berlin\":{\"url\":\"https:\\\\/\\\\/jobtensor.com\\\\/search?q=data&s=&o=&m=Lead%2CPrincipal&c=&l=\",\"is_sitemap\":false},\"Homeoffice\":{\"url\":\"https:\\\\/\\\\/jobtensor.com\\\\/search?q=data&s=&o=&m=Lead%2CPrincipal&c=&l=Homeoffice\",\"is_sitemap\":false},\"M\\\\u00fcnchen\":{\"url\":\"https:\\\\/\\\\/jobtensor.com\\\\/search?q=data&s=&o=&m=Lead%2CPrincipal&c=&l=M%C3%BCnchen\",\"is_sitemap\":false},\"Hamburg\":{\"url\":\"https:\\\\/\\\\/jobtensor.com\\\\/search?q=data&s=&o=&m=Lead%2CPrincipal&c=&l=Hamburg\",\"is_sitemap\":false},\"Deutschland\":{\"url\":\"https:\\\\/\\\\/jobtensor.com\\\\/search?q=data&s=&o=&m=Lead%2CPrincipal&c=&l=Deutschland\",\"is_sitemap\":false},\"Frankfurt am Main\":{\"url\":\"https:\\\\/\\\\/jobtensor.com\\\\/search?q=data&s=&o=&m=Lead%2CPrincipal&c=&l=Frankfurt%20am%20Main\",\"is_sitemap\":false},\"Hybrides Arbeiten in Berlin\":{\"url\":\"https:\\\\/\\\\/jobtensor.com\\\\/search?q=data&s=&o=&m=Lead%2CPrincipal&c=&l=Hybrides%20Arbeiten%20in%20Berlin\",\"is_sitemap\":false},\"K\\\\u00f6ln\":{\"url\":\"https:\\\\/\\\\/jobtensor.com\\\\/search?q=data&s=&o=&m=Lead%2CPrincipal&c=&l=K%C3%B6ln\",\"is_sitemap\":false},\"D\\\\u00fcsseldorf\":{\"url\":\"https:\\\\/\\\\/jobtensor.com\\\\/search?q=data&s=&o=&m=Lead%2CPrincipal&c=&l=D%C3%BCsseldorf\",\"is_sitemap\":false},\"Stuttgart\":{\"url\":\"https:\\\\/\\\\/jobtensor.com\\\\/search?q=data&s=&o=&m=Lead%2CPrincipal&c=&l=Stuttgart\",\"is_sitemap\":false},\"Hybrides Arbeiten in M\\\\u00fcnchen\":{\"url\":\"https:\\\\/\\\\/jobtensor.com\\\\/search?q=data&s=&o=&m=Lead%2CPrincipal&c=&l=Hybrides%20Arbeiten%20in%20M%C3%BCnchen\",\"is_sitemap\":false},\"Bad Homburg vor der H\\\\u00f6he\":{\"url\":\"https:\\\\/\\\\/jobtensor.com\\\\/search?q=data&s=&o=&m=Lead%2CPrincipal&c=&l=Bad%20Homburg%20vor%20der%20H%C3%B6he\",\"is_sitemap\":false},\"Homeoffice in Berlin\":{\"url\":\"https:\\\\/\\\\/jobtensor.com\\\\/search?q=data&s=&o=&m=Lead%2CPrincipal&c=&l=Homeoffice%20in%20Berlin\",\"is_sitemap\":false},\"Biberach an der Ri\\\\u00df\":{\"url\":\"https:\\\\/\\\\/jobtensor.com\\\\/search?q=data&s=&o=&m=Lead%2CPrincipal&c=&l=Biberach%20an%20der%20Ri%C3%9F\",\"is_sitemap\":false},\"Darmstadt\":{\"url\":\"https:\\\\/\\\\/jobtensor.com\\\\/search?q=data&s=&o=&m=Lead%2CPrincipal&c=&l=Darmstadt\",\"is_sitemap\":false},\"Berlin-Kreuzberg\":{\"url\":\"https:\\\\/\\\\/jobtensor.com\\\\/search?q=data&s=&o=&m=Lead%2CPrincipal&c=&l=Berlin-Kreuzberg\",\"is_sitemap\":false},\"Erfurt\":{\"url\":\"https:\\\\/\\\\/jobtensor.com\\\\/search?q=data&s=&o=&m=Lead%2CPrincipal&c=&l=Erfurt\",\"is_sitemap\":false},\"Hybrides Arbeiten in 20095 Hamburg\":{\"url\":\"https:\\\\/\\\\/jobtensor.com\\\\/search?q=data&s=&o=&m=Lead%2CPrincipal&c=&l=Hybrides%20Arbeiten%20in%2020095%20Hamburg\",\"is_sitemap\":false},\"Bonn\":{\"url\":\"https:\\\\/\\\\/jobtensor.com\\\\/search?q=data&s=&o=&m=Lead%2CPrincipal&c=&l=Bonn\",\"is_sitemap\":false},\"Dresden\":{\"url\":\"https:\\\\/\\\\/jobtensor.com\\\\/search?q=data&s=&o=&m=Lead%2CPrincipal&c=&l=Dresden\",\"is_sitemap\":false}}},\"workingHoursSummary\":{\"Full Time\":113,\"Part Time\":8},\"isRecruitmentSummary\":{\"false\":115,\"true\":6},\"coordinates\":[],\"viewport\":null,\"internalLinking\":[],\"bookmarks\":[],\"applications\":[],\"seen\":[],\"job\":null};'"
      ]
     },
     "execution_count": 48,
     "metadata": {},
     "output_type": "execute_result"
    }
   ],
   "source": [
    "json_data"
   ]
  },
  {
   "cell_type": "code",
   "execution_count": null,
   "id": "1426428e-566b-40fa-be3b-6390f2ddd2bd",
   "metadata": {},
   "outputs": [],
   "source": [
    "https://jobtensor.com/job/Mechatroniker-Elektroniker-mwd-Automatisierungstechnik-f%C3%BCr-Spritzgussfertigung-MahskjlIViVy\n",
    "Mechatroniker-Elektroniker-mwd-Automatisierungstechnik-für-Spritzgussfertigung-MahskjlIViVy"
   ]
  },
  {
   "cell_type": "code",
   "execution_count": 21,
   "id": "6e587d8b-fe64-4aa9-b7bf-bf5eb757e7be",
   "metadata": {},
   "outputs": [],
   "source": [
    "jobs_dict = json.loads(json_data[:-1])['hits']"
   ]
  },
  {
   "cell_type": "code",
   "execution_count": 49,
   "id": "2b281ca1-4e1b-48ff-840c-e794593d77bb",
   "metadata": {},
   "outputs": [
    {
     "data": {
      "text/plain": [
       "15"
      ]
     },
     "execution_count": 49,
     "metadata": {},
     "output_type": "execute_result"
    }
   ],
   "source": [
    "len(jobs_dict)"
   ]
  },
  {
   "cell_type": "code",
   "execution_count": null,
   "id": "0a78be88-0fc4-4905-9164-7bdfa4822306",
   "metadata": {},
   "outputs": [],
   "source": []
  },
  {
   "cell_type": "code",
   "execution_count": 38,
   "id": "ff200dbe-bd0f-47c8-8985-ffcfda0ecb1b",
   "metadata": {},
   "outputs": [
    {
     "name": "stdout",
     "output_type": "stream",
     "text": [
      "{'id': 2022, 'is_premium': True, 'title': 'Mechatroniker / Elektroniker (m/w/d) Automatisierungstechnik für Spritzgussfertigung', 'company': 'Novapax Kunststofftechnik', 'company_cluster': 'Novapax Kunststofftechnik', 'company_logo': 'https://anzeigenvorschau.net/bestmedia/stream/du/2056378/nvf658839f833b1329a31b0421c889a35be5b79b48/1064226/1de2f3c379b23e7/logo_treffer.png', 'posted_at': '2024-10-02', 'locations': ['Berlin'], 'is_remote': False, 'snippet_fragments': ['Dokumentation durchgeführter Arbeiten, Erstellung von Wartungsprotokollen sowie Aktualisierung technischer Unterlagen und Pläneim MES- bzw', 'Abgeschlossene Ausbildung als Mechatroniker (m/w/d), Industrieelektriker (m/w/d) oder Elektroniker(m/w/d) für Automatisierungs- und Systemtechnik bzw', '        Idealerweise praktische Erfahrung in der Kunststoffspritzgussproduktion ', 'Mehrjährige Berufserfahrung in der Installation, Wartung und Reparatur elektrischer Anlagen und mechatronischer Systeme', '        Know-how in der Fehleranalyse und -behebung sowie Grundkenntnisse in der Programmierung von Steuerungssystemen ', '        Routinierter Umgang mit MES- und ERP-Systemen sowie MS Office ', '        Gute Deutsch- und Englischkenntnisse in Wort und Schrift ', '        Bereitschaft zur Weiterbildung in den Bereichen Elektrotechnik', 'Teamfähigkeit, Zuverlässigkeit, Flexibilität und Anpassungsfähigkeit in einem dynamischen Arbeitsumfeld', '        Hohe Lernbereitschaft und Engagement zur Verbesserung von Prozessen und Systemen ', '        Freude an der Weitergabe von Wissen an Ihre Kollegen (m/w/d) und der Übernahme neuer Aufgaben und Projekte ', '        Kostenfreie Mitarbeiterparkplätze sowie Zuschuss zum Deutschlandticket '], 'from_rate': None, 'to_rate': None, 'rate_currency': None, 'rate_unit': None, 'skills': ['Microsoft Office', 'Elektronik', 'Formenbau', 'Kunststofftechnik', 'Medizin', 'Massenspektrometrie'], 'is_new': False, 'is_expired': False, 'slug': 'Mechatroniker-Elektroniker-mwd-Automatisierungstechnik-für-Spritzgussfertigung-MahskjlIViVy'}\n",
      "Mechatroniker-Elektroniker-mwd-Automatisierungstechnik-für-Spritzgussfertigung-MahskjlIViVy\n"
     ]
    }
   ],
   "source": [
    "for job in jobs_dict[:1]:\n",
    "    print(job)\n",
    "    print(job['slug'])"
   ]
  },
  {
   "cell_type": "code",
   "execution_count": 39,
   "id": "2d03261b-7638-41b9-8203-6fc6f8e201c1",
   "metadata": {},
   "outputs": [
    {
     "data": {
      "text/plain": [
       "dict_keys(['id', 'is_premium', 'title', 'company', 'company_cluster', 'company_logo', 'posted_at', 'locations', 'is_remote', 'snippet_fragments', 'from_rate', 'to_rate', 'rate_currency', 'rate_unit', 'skills', 'is_new', 'is_expired', 'slug'])"
      ]
     },
     "execution_count": 39,
     "metadata": {},
     "output_type": "execute_result"
    }
   ],
   "source": [
    "job.keys()"
   ]
  },
  {
   "cell_type": "code",
   "execution_count": null,
   "id": "8cece21c-c69b-4abc-be72-d21f0996a6fd",
   "metadata": {},
   "outputs": [],
   "source": []
  },
  {
   "cell_type": "code",
   "execution_count": 67,
   "id": "63e78f3e-8e6e-4565-b658-ec29040e8a66",
   "metadata": {},
   "outputs": [],
   "source": [
    "url = 'https://jobtensor.com/job/Mechatroniker-Elektroniker-mwd-Automatisierungstechnik-f%C3%BCr-Spritzgussfertigung-MahskjlIViVy'\n",
    "response = requests.get(url, headers=headers)"
   ]
  },
  {
   "cell_type": "code",
   "execution_count": 68,
   "id": "399b8b70-46fb-4e8d-a0e3-fa687926950b",
   "metadata": {},
   "outputs": [
    {
     "data": {
      "text/plain": [
       "<Response [200]>"
      ]
     },
     "execution_count": 68,
     "metadata": {},
     "output_type": "execute_result"
    }
   ],
   "source": [
    "response"
   ]
  },
  {
   "cell_type": "code",
   "execution_count": 76,
   "id": "eaec5c48-d9b5-497f-a6b5-942cce75394e",
   "metadata": {},
   "outputs": [],
   "source": [
    "soup = BeautifulSoup(response.text, 'html.parser')"
   ]
  },
  {
   "cell_type": "code",
   "execution_count": 85,
   "id": "8eaa29e8-38fe-47b6-a53f-a81de43af95a",
   "metadata": {},
   "outputs": [
    {
     "name": "stdout",
     "output_type": "stream",
     "text": [
      "u_beschreibung: NOVAPAXist ein mittelständisches Unter­nehmen der Kunststoff verarbeitenden Industrie mit ca. 190 Mitarbeitenden mit Sitz in Berlin. Schwer­punkt ist die Her­stellung komplexer technischer Komponenten und Bau­gruppen im Kunst­stoff­spritzguss für Kunden aus den Branchen Automobil, Elektronik, Bau, Medizin und Sanitär. Basis für die Realisierung der präzisen Komponenten ist der eigene Formen­bau mit 75 Jahren Erfahrung. Der Maschinen­park der Spritzerei umfasst über 75 Einheiten von 35 bis 400 Tonnen Schließ­kraft der Marken Arburg, Engel und Demag. Die Fertigungs­konzepte werden im Team von Projekt­management, Konstruktion, Formenbau, Fertigung, Betriebs- und Verfahrens­technik sowie Quali­täts­sicherung entwickelt.\n",
      "aufgaben: Mitwirkung bei der Konzeption, Anfrage und Beauftragung von Auto­mations­prozessen in Verbindung mit Spritz­guss­maschinen für robuste Serien­prozesseBegleitung ausgewählter Lösungsanbieter für Auto­matisierungs­technik während der Projek­tierungs­phasen bis hin zu einer effi­zienten Serien­fertigungOrganisation von Vorabnahmen, Installationen, Inbetrieb­nahmen und Abnahmen neuer Automations­anlagen für die Serien­produktionSchulung der Mitarbeitenden zur Handhabung komplexer Anlagen und MaschinenOptimierung der Prozesse in Fertigungs­anlagen, einschließlich Spritz­guss­maschinen und Peripherie­anlagenSicherstellung der Anlagen­verfüg­barkeit durch Behebung von Störungen und FehlfunktionenInstallation, Montage, Reparatur und Instand­haltung mecha­tronischer SystemeParametrier- und Programmier­arbeiten an Anlagen und MaschinenDokumentation durchgeführter Arbeiten, Erstellung von Wartungs­protokollen sowie Aktualisierung technischer Unterlagen und Pläne im MES- bzw. ERP-System\n",
      "profil: Abgeschlossene Ausbildung als Mechatroniker (m/w/d), Industrie­elektriker (m/w/d) oder Elektroniker (m/w/d) für Automatisierungs- und System­technik bzw. eine vergleichbare Quali­fikationIdealerweise praktische Erfahrung in der Kunst­stoff­spritz­guss­produktionMehrjährige Berufserfahrung in der Installation, Wartung und Reparatur elektrischer Anlagen und mecha­tronischer SystemeKnow-how in der Fehleranalyse und -behebung sowie Grundkenntnisse in der Programmierung von Steuerungs­systemenRoutinierter Umgang mit MES- und ERP-Systemen sowie MS OfficeGute Deutsch- und Englischkenntnisse in Wort und SchriftBereitschaft zur Weiterbildung in den Bereichen Elektro­technik, Mechanik und AutomationTeamfähigkeit, Zuverlässig­keit, Flexibilität und Anpassungs­fähig­keit in einem dynamischen Arbeits­umfeldHohe Lernbereitschaft und Engagement zur Verbesserung von Prozessen und SystemenFreude an der Weitergabe von Wissen an Ihre Kollegen (m/w/d) und der Über­nahme neuer Aufgaben und ProjekteBereitschaft zur Arbeit im Mehr­schicht­system\n",
      "wir_bieten: Ein erfolgreiches Familienunternehmen mit WachstumspotenzialInteressante Aufgaben in einem innovativen UmfeldEin umfassendes EinarbeitungsprogrammEine leistungsgerechte, attraktive Vergütung30 Tage UrlaubFort- und WeiterbildungsangeboteKostenfreie Mitarbeiterparkplätze sowie Zuschuss zum DeutschlandticketArbeitgeberunterstützte Altersvorsorge und vermögenswirksame Leistungen\n"
     ]
    }
   ],
   "source": [
    "data_ker_ids = [\"u_beschreibung\", \"aufgaben\", \"profil\", \"wir_bieten\"]\n",
    "\n",
    "# Dictionary to store the extracted content\n",
    "extracted_content = {}\n",
    "\n",
    "# Loop through the data-ker-ids and extract the corresponding divs\n",
    "for ker_id in data_ker_ids:\n",
    "    div = soup.find('div', {'data-ker-id': ker_id})\n",
    "    if div:\n",
    "        extracted_content[ker_id] = div.get_text(strip=True)\n",
    "\n",
    "# Print the extracted content\n",
    "for key, value in extracted_content.items():\n",
    "    print(f\"{key}: {value}\")"
   ]
  },
  {
   "cell_type": "code",
   "execution_count": 77,
   "id": "687e7c2b-8703-4f99-8ed9-1352f535ba4a",
   "metadata": {},
   "outputs": [],
   "source": [
    "script_tag = soup.find('script', type='application/ld+json')"
   ]
  },
  {
   "cell_type": "code",
   "execution_count": 79,
   "id": "cc1a3419-c7f0-4883-8f79-b43217e8c439",
   "metadata": {},
   "outputs": [
    {
     "data": {
      "text/plain": [
       "<script type=\"application/ld+json\">{\"@context\":\"https:\\/\\/schema.org\",\"@type\":\"JobPosting\",\"title\":\"Mechatroniker \\/ Elektroniker (m\\/w\\/d) Automatisierungstechnik für Spritzgussfertigung\",\"description\":\"<div id=\\\"jobtempl\\\" itemscope itemtype=\\\"http:\\/\\/schema.org\\/JobPosting\\\"> \\n   <div id=\\\"wrapper\\\"> \\n     \\n     <p class=\\\"logo\\\"><a href=\\\"https:\\/\\/anzeigenvorschau.net\\/bestmedia\\/img\\/1064226\\/2056378\\/cl\\/2178a78eac4bca4bac7ca98a88afd24d452e6954\\/L3933903\\/JeyJvbGRsaW5rIjoiaHR0cHM6Ly93d3cubm92YXBheC5kZSIsInpsIjoiam9idGVuc29yLmNvbSJ9\\\" target=\\\"_blank\\\"><\\/a><\\/p> \\n      \\n     \\n     \\n     <div class=\\\"inner verticalspace\\\"> \\n      <div data-ker=\\\"wysiwyg\\\" data-ker-id=\\\"u_beschreibung\\\" itemprop=\\\"description\\\"> \\n       <p><b>NOVAPAX<\\/b> ist ein mittelständisches Unter­nehmen der Kunststoff verarbeitenden Industrie mit ca. 190 Mitarbeitenden mit Sitz in Berlin. Schwer­punkt ist die Her­stellung komplexer technischer Komponenten und Bau­gruppen im Kunst­stoff­spritzguss für Kunden aus den Branchen Automobil, Elektronik, Bau, Medizin und Sanitär. Basis für die Realisierung der präzisen Komponenten ist der eigene Formen­bau mit 75 Jahren Erfahrung. Der Maschinen­park der Spritzerei umfasst über 75 Einheiten von 35 bis 400 Tonnen Schließ­kraft der Marken Arburg, Engel und Demag. Die Fertigungs­konzepte werden im Team von Projekt­management, Konstruktion, Formenbau, Fertigung, Betriebs- und Verfahrens­technik sowie Quali­täts­sicherung entwickelt.<\\/p> \\n      <\\/div> \\n      <div data-ker=\\\"wysiwyg\\\" data-ker-id=\\\"titel_einleitung\\\" itemprop=\\\"description\\\"> \\n       <p>Werden Sie Teil unseres Teams am Standort <b>Berlin<\\/b> als<\\/p> \\n      <\\/div> \\n      <h2 itemprop=\\\"description\\\"> <strong data-ker-id=\\\"titel\\\" data-ker=\\\"input\\\" class=\\\"hgross\\\"><strong>Mechatroniker \\/ Elektroniker (m\\/w\\/d) <\\/strong><\\/strong> <strong data-ker-id=\\\"untertitel\\\" data-ker=\\\"input\\\"><br> <strong data-ker=\\\"input\\\" data-ker-id=\\\"titel\\\"><strong>Mechatroniker \\/ Elektroniker (m\\/w\\/d) <\\/strong><\\/strong><\\/strong> <\\/h2> \\n       \\n      <h4 data-ker=\\\"input\\\" data-ker-id=\\\"label_aufgaben\\\">Freuen Sie sich auf Ihre neuen Aufgaben:<\\/h4> \\n      <div data-ker=\\\"wysiwyg\\\" data-ker-id=\\\"aufgaben\\\" itemprop=\\\"responsibilities\\\"> \\n       <ul> \\n        <li>Mitwirkung bei der Konzeption, Anfrage und Beauftragung von Auto­mations­prozessen in Verbindung mit Spritz­guss­maschinen für robuste Serien­prozesse<\\/li> \\n        <li>Begleitung ausgewählter Lösungsanbieter für Auto­matisierungs­technik während der Projek­tierungs­phasen bis hin zu einer effi­zienten Serien­fertigung<\\/li> \\n        <li>Organisation von Vorabnahmen, Installationen, Inbetrieb­nahmen und Abnahmen neuer Automations­anlagen für die Serien­produktion<\\/li> \\n        <li>Schulung der Mitarbeitenden zur Handhabung komplexer Anlagen und Maschinen<\\/li> \\n        <li>Optimierung der Prozesse in Fertigungs­anlagen, einschließlich Spritz­guss­maschinen und Peripherie­anlagen<\\/li> \\n        <li>Sicherstellung der Anlagen­verfüg­barkeit durch Behebung von Störungen und Fehlfunktionen<\\/li> \\n        <li>Installation, Montage, Reparatur und Instand­haltung mecha­tronischer Systeme<\\/li> \\n        <li>Parametrier- und Programmier­arbeiten an Anlagen und Maschinen<\\/li> \\n        <li>Dokumentation durchgeführter Arbeiten, Erstellung von Wartungs­protokollen sowie Aktualisierung technischer Unterlagen und Pläne im MES- bzw. ERP-System<\\/li> \\n       <\\/ul> \\n      <\\/div> \\n      <h4 data-ker=\\\"input\\\" data-ker-id=\\\"label_profil\\\">Überzeugen Sie uns mit Ihrem Profil:<\\/h4> \\n      <div data-ker=\\\"wysiwyg\\\" data-ker-id=\\\"profil\\\" itemprop=\\\"qualifications\\\"> \\n       <ul> \\n        <li>Abgeschlossene Ausbildung als Mechatroniker (m\\/w\\/d), Industrie­elektriker (m\\/w\\/d) oder Elektroniker (m\\/w\\/d) für Automatisierungs- und System­technik bzw. eine vergleichbare Quali­fikation<\\/li> \\n        <li>Idealerweise praktische Erfahrung in der Kunst­stoff­spritz­guss­produktion<\\/li> \\n        <li>Mehrjährige Berufserfahrung in der Installation, Wartung und Reparatur elektrischer Anlagen und mecha­tronischer Systeme<\\/li> \\n        <li>Know-how in der Fehleranalyse und -behebung sowie Grundkenntnisse in der Programmierung von Steuerungs­systemen<\\/li> \\n        <li>Routinierter Umgang mit MES- und ERP-Systemen sowie MS Office<\\/li> \\n        <li>Gute Deutsch- und Englischkenntnisse in Wort und Schrift<\\/li> \\n        <li>Bereitschaft zur Weiterbildung in den Bereichen Elektro­technik, Mechanik und Automation<\\/li> \\n        <li>Teamfähigkeit, Zuverlässig­keit, Flexibilität und Anpassungs­fähig­keit in einem dynamischen Arbeits­umfeld<\\/li> \\n        <li>Hohe Lernbereitschaft und Engagement zur Verbesserung von Prozessen und Systemen<\\/li> \\n        <li>Freude an der Weitergabe von Wissen an Ihre Kollegen (m\\/w\\/d) und der Über­nahme neuer Aufgaben und Projekte<\\/li> \\n        <li>Bereitschaft zur Arbeit im Mehr­schicht­system<\\/li> \\n       <\\/ul> \\n      <\\/div> \\n      <h4 data-ker=\\\"input\\\" data-ker-id=\\\"label_wir_bieten\\\">Unser Angebot für Sie:<\\/h4> \\n      <div data-ker=\\\"wysiwyg\\\" data-ker-id=\\\"wir_bieten\\\" itemprop=\\\"jobBenefits\\\"> \\n       <ul> \\n        <li>Ein erfolgreiches Familienunternehmen mit Wachstumspotenzial<\\/li> \\n        <li>Interessante Aufgaben in einem innovativen Umfeld<\\/li> \\n        <li>Ein umfassendes Einarbeitungsprogramm<\\/li> \\n        <li>Eine leistungsgerechte, attraktive Vergütung<\\/li> \\n        <li>30 Tage Urlaub<\\/li> \\n        <li>Fort- und Weiterbildungsangebote<\\/li> \\n        <li>Kostenfreie Mitarbeiterparkplätze sowie Zuschuss zum Deutschlandticket<\\/li> \\n        <li>Arbeitgeberunterstützte Altersvorsorge und vermögenswirksame Leistungen<\\/li> \\n       <\\/ul> \\n      <\\/div> \\n      <h4 data-ker=\\\"input\\\" data-ker-id=\\\"label_firmenkontakt\\\">Bereit für neue Wege?<\\/h4> \\n      <div data-ker=\\\"wysiwyg\\\" data-ker-id=\\\"firmenkontakt\\\" itemprop=\\\"contact\\\"> \\n       <p>Dann freuen wir uns auf Ihre aussagekräftige Bewerbung unter Angabe Ihrer Gehaltsvorstellung und des frühestmöglichen Eintrittstermins per E-Mail an <a href=\\\"mailto:jobs@novapax.de?subject=Bewerbung%20als%20Mechatroniker%20%2F%20Elektroniker%20%28m%2Fw%2Fd%29%20Automatisierungstechnik%20f%C3%BCr%20Spritzgussfertigung\\\">jobs@novapax.de<\\/a>.<\\/p> \\n       <p>Diese Position betreut unsere Kollegin Frau Bußmann. Gerne beantwortet sie Ihre Fragen vorab telefonisch unter <span class=\\\"no-wrap\\\">030 70191443<\\/span>.<\\/p> \\n      <\\/div> \\n     <\\/div> \\n     \\n     \\n     <div data-ker=\\\"wysiwyg\\\" data-ker-id=\\\"adresse\\\" itemprop=\\\"contact\\\"> \\n      <p><b>NOVAPAX Kunststofftechnik <\\/b><strong>Steiner GmbH & Co. KG<\\/strong><br> Schätzelbergstraße 4–10, 12099 Berlin | <a href=\\\"https:\\/\\/anzeigenvorschau.net\\/bestmedia\\/img\\/1064226\\/2056378\\/cl\\/d96443e9b63fd35bc59558ceda6522d6f4113989\\/L3933905\\/JeyJvbGRsaW5rIjoiaHR0cHM6Ly93d3cubm92YXBheC5kZSIsInpsIjoiam9idGVuc29yLmNvbSJ9\\\" target=\\\"_blank\\\">www.novapax.de<\\/a><\\/p> \\n     <\\/div> \\n     \\n   <\\/div> \\n    \\n  <\\/div>\",\"datePosted\":\"2024-10-02\",\"validThrough\":\"2024-11-13\",\"employmentType\":\"PERMANENT\",\"hiringOrganization\":{\"@type\":\"Organization\",\"name\":\"Novapax Kunststofftechnik\",\"logo\":\"https:\\/\\/anzeigenvorschau.net\\/bestmedia\\/stream\\/du\\/2056378\\/nvf658839f833b1329a31b0421c889a35be5b79b48\\/1064226\\/1de2f3c379b23e7\\/logo_treffer.png\"},\"directApply\":1}</script>"
      ]
     },
     "execution_count": 79,
     "metadata": {},
     "output_type": "execute_result"
    }
   ],
   "source": [
    "script_tag"
   ]
  },
  {
   "cell_type": "code",
   "execution_count": 80,
   "id": "a16b7988-0249-4854-a095-6d10d27db0ff",
   "metadata": {},
   "outputs": [],
   "source": [
    "json_data = json.loads(script_tag.string)"
   ]
  },
  {
   "cell_type": "code",
   "execution_count": 84,
   "id": "ae041070-d145-4018-b405-baeff7f484fb",
   "metadata": {},
   "outputs": [
    {
     "data": {
      "text/plain": [
       "<div data-ker=\"wysiwyg\" data-ker-id=\"u_beschreibung\" itemprop=\"description\">\n",
       "<p><b>NOVAPAX</b> ist ein mittelständisches Unter­nehmen der Kunststoff verarbeitenden Industrie mit ca. 190 Mitarbeitenden mit Sitz in Berlin. Schwer­punkt ist die Her­stellung komplexer technischer Komponenten und Bau­gruppen im Kunst­stoff­spritzguss für Kunden aus den Branchen Automobil, Elektronik, Bau, Medizin und Sanitär. Basis für die Realisierung der präzisen Komponenten ist der eigene Formen­bau mit 75 Jahren Erfahrung. Der Maschinen­park der Spritzerei umfasst über 75 Einheiten von 35 bis 400 Tonnen Schließ­kraft der Marken Arburg, Engel und Demag. Die Fertigungs­konzepte werden im Team von Projekt­management, Konstruktion, Formenbau, Fertigung, Betriebs- und Verfahrens­technik sowie Quali­täts­sicherung entwickelt.</p>\n",
       "</div>"
      ]
     },
     "execution_count": 84,
     "metadata": {},
     "output_type": "execute_result"
    }
   ],
   "source": [
    "soup = BeautifulSoup(json_data['description'], 'html.parser')\n",
    "soup.find('div', {'data-ker-id': \"u_beschreibung\"})"
   ]
  },
  {
   "cell_type": "code",
   "execution_count": null,
   "id": "daa274d9-b7fd-481a-8065-0812b95db51a",
   "metadata": {},
   "outputs": [],
   "source": []
  },
  {
   "cell_type": "code",
   "execution_count": 72,
   "id": "37a15887-f942-494e-a694-f8c54f51f229",
   "metadata": {},
   "outputs": [],
   "source": [
    "soup.find('div', {'data-ker-id': 'u_beschreibung'})"
   ]
  },
  {
   "cell_type": "code",
   "execution_count": null,
   "id": "42a5ab31-9319-4a8c-96ab-21f723934f42",
   "metadata": {},
   "outputs": [],
   "source": []
  },
  {
   "cell_type": "code",
   "execution_count": 28,
   "id": "0e2b0d08-dc4e-4baa-a588-f63e1f5506dc",
   "metadata": {},
   "outputs": [],
   "source": [
    "script_tag = soup.find('script', type='application/ld+json')"
   ]
  },
  {
   "cell_type": "code",
   "execution_count": 33,
   "id": "a592287d-ae90-4f38-afe2-a023a3a583d2",
   "metadata": {},
   "outputs": [],
   "source": [
    "script_tag = soup.find('script', type='application/ld+json')\n",
    "json_data = json.loads(script_tag.string)"
   ]
  },
  {
   "cell_type": "code",
   "execution_count": 35,
   "id": "c18515c3-1587-4d62-bead-d7c72164c532",
   "metadata": {},
   "outputs": [
    {
     "name": "stdout",
     "output_type": "stream",
     "text": [
      "{\n",
      "  \"@context\": \"https://schema.org\",\n",
      "  \"@type\": \"JobPosting\",\n",
      "  \"title\": \"Mechatroniker / Elektroniker (m/w/d) Automatisierungstechnik für Spritzgussfertigung\",\n",
      "  \"description\": \"<div id=\\\"jobtempl\\\" itemscope itemtype=\\\"http://schema.org/JobPosting\\\"> \\n   <div id=\\\"wrapper\\\"> \\n     \\n     <p class=\\\"logo\\\"><a href=\\\"https://anzeigenvorschau.net/bestmedia/img/1064226/2056378/cl/2178a78eac4bca4bac7ca98a88afd24d452e6954/L3933903/JeyJvbGRsaW5rIjoiaHR0cHM6Ly93d3cubm92YXBheC5kZSIsInpsIjoiam9idGVuc29yLmNvbSJ9\\\" target=\\\"_blank\\\"></a></p> \\n      \\n     \\n     \\n     <div class=\\\"inner verticalspace\\\"> \\n      <div data-ker=\\\"wysiwyg\\\" data-ker-id=\\\"u_beschreibung\\\" itemprop=\\\"description\\\"> \\n       <p><b>NOVAPAX</b> ist ein mittelständisches Unter­nehmen der Kunststoff verarbeitenden Industrie mit ca. 190 Mitarbeitenden mit Sitz in Berlin. Schwer­punkt ist die Her­stellung komplexer technischer Komponenten und Bau­gruppen im Kunst­stoff­spritzguss für Kunden aus den Branchen Automobil, Elektronik, Bau, Medizin und Sanitär. Basis für die Realisierung der präzisen Komponenten ist der eigene Formen­bau mit 75 Jahren Erfahrung. Der Maschinen­park der Spritzerei umfasst über 75 Einheiten von 35 bis 400 Tonnen Schließ­kraft der Marken Arburg, Engel und Demag. Die Fertigungs­konzepte werden im Team von Projekt­management, Konstruktion, Formenbau, Fertigung, Betriebs- und Verfahrens­technik sowie Quali­täts­sicherung entwickelt.</p> \\n      </div> \\n      <div data-ker=\\\"wysiwyg\\\" data-ker-id=\\\"titel_einleitung\\\" itemprop=\\\"description\\\"> \\n       <p>Werden Sie Teil unseres Teams am Standort <b>Berlin</b> als</p> \\n      </div> \\n      <h2 itemprop=\\\"description\\\"> <strong data-ker-id=\\\"titel\\\" data-ker=\\\"input\\\" class=\\\"hgross\\\"><strong>Mechatroniker / Elektroniker (m/w/d) </strong></strong> <strong data-ker-id=\\\"untertitel\\\" data-ker=\\\"input\\\"><br> <strong data-ker=\\\"input\\\" data-ker-id=\\\"titel\\\"><strong>Mechatroniker / Elektroniker (m/w/d) </strong></strong></strong> </h2> \\n       \\n      <h4 data-ker=\\\"input\\\" data-ker-id=\\\"label_aufgaben\\\">Freuen Sie sich auf Ihre neuen Aufgaben:</h4> \\n      <div data-ker=\\\"wysiwyg\\\" data-ker-id=\\\"aufgaben\\\" itemprop=\\\"responsibilities\\\"> \\n       <ul> \\n        <li>Mitwirkung bei der Konzeption, Anfrage und Beauftragung von Auto­mations­prozessen in Verbindung mit Spritz­guss­maschinen für robuste Serien­prozesse</li> \\n        <li>Begleitung ausgewählter Lösungsanbieter für Auto­matisierungs­technik während der Projek­tierungs­phasen bis hin zu einer effi­zienten Serien­fertigung</li> \\n        <li>Organisation von Vorabnahmen, Installationen, Inbetrieb­nahmen und Abnahmen neuer Automations­anlagen für die Serien­produktion</li> \\n        <li>Schulung der Mitarbeitenden zur Handhabung komplexer Anlagen und Maschinen</li> \\n        <li>Optimierung der Prozesse in Fertigungs­anlagen, einschließlich Spritz­guss­maschinen und Peripherie­anlagen</li> \\n        <li>Sicherstellung der Anlagen­verfüg­barkeit durch Behebung von Störungen und Fehlfunktionen</li> \\n        <li>Installation, Montage, Reparatur und Instand­haltung mecha­tronischer Systeme</li> \\n        <li>Parametrier- und Programmier­arbeiten an Anlagen und Maschinen</li> \\n        <li>Dokumentation durchgeführter Arbeiten, Erstellung von Wartungs­protokollen sowie Aktualisierung technischer Unterlagen und Pläne im MES- bzw. ERP-System</li> \\n       </ul> \\n      </div> \\n      <h4 data-ker=\\\"input\\\" data-ker-id=\\\"label_profil\\\">Überzeugen Sie uns mit Ihrem Profil:</h4> \\n      <div data-ker=\\\"wysiwyg\\\" data-ker-id=\\\"profil\\\" itemprop=\\\"qualifications\\\"> \\n       <ul> \\n        <li>Abgeschlossene Ausbildung als Mechatroniker (m/w/d), Industrie­elektriker (m/w/d) oder Elektroniker (m/w/d) für Automatisierungs- und System­technik bzw. eine vergleichbare Quali­fikation</li> \\n        <li>Idealerweise praktische Erfahrung in der Kunst­stoff­spritz­guss­produktion</li> \\n        <li>Mehrjährige Berufserfahrung in der Installation, Wartung und Reparatur elektrischer Anlagen und mecha­tronischer Systeme</li> \\n        <li>Know-how in der Fehleranalyse und -behebung sowie Grundkenntnisse in der Programmierung von Steuerungs­systemen</li> \\n        <li>Routinierter Umgang mit MES- und ERP-Systemen sowie MS Office</li> \\n        <li>Gute Deutsch- und Englischkenntnisse in Wort und Schrift</li> \\n        <li>Bereitschaft zur Weiterbildung in den Bereichen Elektro­technik, Mechanik und Automation</li> \\n        <li>Teamfähigkeit, Zuverlässig­keit, Flexibilität und Anpassungs­fähig­keit in einem dynamischen Arbeits­umfeld</li> \\n        <li>Hohe Lernbereitschaft und Engagement zur Verbesserung von Prozessen und Systemen</li> \\n        <li>Freude an der Weitergabe von Wissen an Ihre Kollegen (m/w/d) und der Über­nahme neuer Aufgaben und Projekte</li> \\n        <li>Bereitschaft zur Arbeit im Mehr­schicht­system</li> \\n       </ul> \\n      </div> \\n      <h4 data-ker=\\\"input\\\" data-ker-id=\\\"label_wir_bieten\\\">Unser Angebot für Sie:</h4> \\n      <div data-ker=\\\"wysiwyg\\\" data-ker-id=\\\"wir_bieten\\\" itemprop=\\\"jobBenefits\\\"> \\n       <ul> \\n        <li>Ein erfolgreiches Familienunternehmen mit Wachstumspotenzial</li> \\n        <li>Interessante Aufgaben in einem innovativen Umfeld</li> \\n        <li>Ein umfassendes Einarbeitungsprogramm</li> \\n        <li>Eine leistungsgerechte, attraktive Vergütung</li> \\n        <li>30 Tage Urlaub</li> \\n        <li>Fort- und Weiterbildungsangebote</li> \\n        <li>Kostenfreie Mitarbeiterparkplätze sowie Zuschuss zum Deutschlandticket</li> \\n        <li>Arbeitgeberunterstützte Altersvorsorge und vermögenswirksame Leistungen</li> \\n       </ul> \\n      </div> \\n      <h4 data-ker=\\\"input\\\" data-ker-id=\\\"label_firmenkontakt\\\">Bereit für neue Wege?</h4> \\n      <div data-ker=\\\"wysiwyg\\\" data-ker-id=\\\"firmenkontakt\\\" itemprop=\\\"contact\\\"> \\n       <p>Dann freuen wir uns auf Ihre aussagekräftige Bewerbung unter Angabe Ihrer Gehaltsvorstellung und des frühestmöglichen Eintrittstermins per E-Mail an <a href=\\\"mailto:jobs@novapax.de?subject=Bewerbung%20als%20Mechatroniker%20%2F%20Elektroniker%20%28m%2Fw%2Fd%29%20Automatisierungstechnik%20f%C3%BCr%20Spritzgussfertigung\\\">jobs@novapax.de</a>.</p> \\n       <p>Diese Position betreut unsere Kollegin Frau Bußmann. Gerne beantwortet sie Ihre Fragen vorab telefonisch unter <span class=\\\"no-wrap\\\">030 70191443</span>.</p> \\n      </div> \\n     </div> \\n     \\n     \\n     <div data-ker=\\\"wysiwyg\\\" data-ker-id=\\\"adresse\\\" itemprop=\\\"contact\\\"> \\n      <p><b>NOVAPAX Kunststofftechnik </b><strong>Steiner GmbH & Co. KG</strong><br> Schätzelbergstraße 4–10, 12099 Berlin | <a href=\\\"https://anzeigenvorschau.net/bestmedia/img/1064226/2056378/cl/d96443e9b63fd35bc59558ceda6522d6f4113989/L3933905/JeyJvbGRsaW5rIjoiaHR0cHM6Ly93d3cubm92YXBheC5kZSIsInpsIjoiam9idGVuc29yLmNvbSJ9\\\" target=\\\"_blank\\\">www.novapax.de</a></p> \\n     </div> \\n     \\n   </div> \\n    \\n  </div>\",\n",
      "  \"datePosted\": \"2024-10-02\",\n",
      "  \"validThrough\": \"2024-11-13\",\n",
      "  \"employmentType\": \"PERMANENT\",\n",
      "  \"hiringOrganization\": {\n",
      "    \"@type\": \"Organization\",\n",
      "    \"name\": \"Novapax Kunststofftechnik\",\n",
      "    \"logo\": \"https://anzeigenvorschau.net/bestmedia/stream/du/2056378/nvf658839f833b1329a31b0421c889a35be5b79b48/1064226/1de2f3c379b23e7/logo_treffer.png\"\n",
      "  },\n",
      "  \"directApply\": 1\n",
      "}\n"
     ]
    }
   ],
   "source": [
    "print(json.dumps(json_data, indent=2, ensure_ascii=False))"
   ]
  },
  {
   "cell_type": "code",
   "execution_count": 36,
   "id": "f1f7fb07-c639-4caa-95a9-e641220ab535",
   "metadata": {
    "scrolled": true
   },
   "outputs": [
    {
     "data": {
      "text/plain": [
       "'<div id=\"jobtempl\" itemscope itemtype=\"http://schema.org/JobPosting\"> \\n   <div id=\"wrapper\"> \\n     \\n     <p class=\"logo\"><a href=\"https://anzeigenvorschau.net/bestmedia/img/1064226/2056378/cl/2178a78eac4bca4bac7ca98a88afd24d452e6954/L3933903/JeyJvbGRsaW5rIjoiaHR0cHM6Ly93d3cubm92YXBheC5kZSIsInpsIjoiam9idGVuc29yLmNvbSJ9\" target=\"_blank\"></a></p> \\n      \\n     \\n     \\n     <div class=\"inner verticalspace\"> \\n      <div data-ker=\"wysiwyg\" data-ker-id=\"u_beschreibung\" itemprop=\"description\"> \\n       <p><b>NOVAPAX</b> ist ein mittelständisches Unter\\xadnehmen der Kunststoff verarbeitenden Industrie mit ca. 190 Mitarbeitenden\\xa0mit Sitz in Berlin. Schwer\\xadpunkt ist die Her\\xadstellung komplexer technischer Komponenten und Bau\\xadgruppen im Kunst\\xadstoff\\xadspritzguss für Kunden aus den Branchen Automobil, Elektronik, Bau, Medizin und Sanitär. Basis für die Realisierung der präzisen Komponenten ist der eigene Formen\\xadbau mit 75 Jahren Erfahrung. Der Maschinen\\xadpark der Spritzerei umfasst über 75 Einheiten von 35 bis 400 Tonnen Schließ\\xadkraft der Marken Arburg, Engel und Demag. Die Fertigungs\\xadkonzepte werden im Team von Projekt\\xadmanagement, Konstruktion, Formenbau, Fertigung, Betriebs- und Verfahrens\\xadtechnik sowie Quali\\xadtäts\\xadsicherung entwickelt.</p> \\n      </div> \\n      <div data-ker=\"wysiwyg\" data-ker-id=\"titel_einleitung\" itemprop=\"description\"> \\n       <p>Werden Sie Teil unseres Teams am Standort\\xa0<b>Berlin</b> als</p> \\n      </div> \\n      <h2 itemprop=\"description\"> <strong data-ker-id=\"titel\" data-ker=\"input\" class=\"hgross\"><strong>Mechatroniker / Elektroniker (m/w/d)\\xa0</strong></strong> <strong data-ker-id=\"untertitel\" data-ker=\"input\"><br> <strong data-ker=\"input\" data-ker-id=\"titel\"><strong>Mechatroniker / Elektroniker (m/w/d)\\xa0</strong></strong></strong> </h2> \\n       \\n      <h4 data-ker=\"input\" data-ker-id=\"label_aufgaben\">Freuen Sie sich auf Ihre neuen Aufgaben:</h4> \\n      <div data-ker=\"wysiwyg\" data-ker-id=\"aufgaben\" itemprop=\"responsibilities\"> \\n       <ul> \\n        <li>Mitwirkung bei der Konzeption, Anfrage und Beauftragung von Auto\\xadmations\\xadprozessen in Verbindung mit Spritz\\xadguss\\xadmaschinen für robuste Serien\\xadprozesse</li> \\n        <li>Begleitung ausgewählter\\xa0Lösungsanbieter für Auto\\xadmatisierungs\\xadtechnik während der Projek\\xadtierungs\\xadphasen bis hin zu einer effi\\xadzienten Serien\\xadfertigung</li> \\n        <li>Organisation von Vorabnahmen, Installationen, Inbetrieb\\xadnahmen und Abnahmen neuer Automations\\xadanlagen für die Serien\\xadproduktion</li> \\n        <li>Schulung der Mitarbeitenden zur Handhabung komplexer Anlagen und Maschinen</li> \\n        <li>Optimierung der Prozesse in Fertigungs\\xadanlagen, einschließlich Spritz\\xadguss\\xadmaschinen und Peripherie\\xadanlagen</li> \\n        <li>Sicherstellung der Anlagen\\xadverfüg\\xadbarkeit durch Behebung von Störungen und Fehlfunktionen</li> \\n        <li>Installation, Montage, Reparatur und Instand\\xadhaltung mecha\\xadtronischer Systeme</li> \\n        <li>Parametrier- und Programmier\\xadarbeiten an Anlagen und Maschinen</li> \\n        <li>Dokumentation durchgeführter Arbeiten, Erstellung von Wartungs\\xadprotokollen sowie Aktualisierung technischer Unterlagen und Pläne\\xa0im MES- bzw. ERP-System</li> \\n       </ul> \\n      </div> \\n      <h4 data-ker=\"input\" data-ker-id=\"label_profil\">Überzeugen Sie uns mit Ihrem Profil:</h4> \\n      <div data-ker=\"wysiwyg\" data-ker-id=\"profil\" itemprop=\"qualifications\"> \\n       <ul> \\n        <li>Abgeschlossene Ausbildung als Mechatroniker (m/w/d), Industrie\\xadelektriker (m/w/d) oder Elektroniker\\xa0(m/w/d) für Automatisierungs- und System\\xadtechnik bzw. eine vergleichbare Quali\\xadfikation</li> \\n        <li>Idealerweise praktische Erfahrung in der Kunst\\xadstoff\\xadspritz\\xadguss\\xadproduktion</li> \\n        <li>Mehrjährige Berufserfahrung in der Installation, Wartung und Reparatur elektrischer Anlagen und mecha\\xadtronischer Systeme</li> \\n        <li>Know-how in der Fehleranalyse und -behebung sowie Grundkenntnisse in der Programmierung von Steuerungs\\xadsystemen</li> \\n        <li>Routinierter Umgang mit MES- und ERP-Systemen sowie MS Office</li> \\n        <li>Gute Deutsch- und Englischkenntnisse in Wort und Schrift</li> \\n        <li>Bereitschaft zur Weiterbildung in den Bereichen Elektro\\xadtechnik, Mechanik und Automation</li> \\n        <li>Teamfähigkeit, Zuverlässig\\xadkeit, Flexibilität und Anpassungs\\xadfähig\\xadkeit in einem dynamischen Arbeits\\xadumfeld</li> \\n        <li>Hohe Lernbereitschaft und Engagement zur Verbesserung von Prozessen und Systemen</li> \\n        <li>Freude an der Weitergabe von Wissen an Ihre Kollegen (m/w/d) und der Über\\xadnahme neuer Aufgaben und Projekte</li> \\n        <li>Bereitschaft zur Arbeit im Mehr\\xadschicht\\xadsystem</li> \\n       </ul> \\n      </div> \\n      <h4 data-ker=\"input\" data-ker-id=\"label_wir_bieten\">Unser Angebot für Sie:</h4> \\n      <div data-ker=\"wysiwyg\" data-ker-id=\"wir_bieten\" itemprop=\"jobBenefits\"> \\n       <ul> \\n        <li>Ein erfolgreiches Familienunternehmen mit Wachstumspotenzial</li> \\n        <li>Interessante Aufgaben in einem\\xa0innovativen\\xa0Umfeld</li> \\n        <li>Ein umfassendes Einarbeitungsprogramm</li> \\n        <li>Eine leistungsgerechte, attraktive Vergütung</li> \\n        <li>30 Tage Urlaub</li> \\n        <li>Fort- und Weiterbildungsangebote</li> \\n        <li>Kostenfreie Mitarbeiterparkplätze sowie Zuschuss zum Deutschlandticket</li> \\n        <li>Arbeitgeberunterstützte Altersvorsorge und vermögenswirksame Leistungen</li> \\n       </ul> \\n      </div> \\n      <h4 data-ker=\"input\" data-ker-id=\"label_firmenkontakt\">Bereit für neue Wege?</h4> \\n      <div data-ker=\"wysiwyg\" data-ker-id=\"firmenkontakt\" itemprop=\"contact\"> \\n       <p>Dann freuen wir uns auf Ihre aussagekräftige Bewerbung unter Angabe Ihrer Gehaltsvorstellung und des frühestmöglichen Eintrittstermins per E-Mail an\\xa0<a href=\"mailto:jobs@novapax.de?subject=Bewerbung%20als%20Mechatroniker%20%2F%20Elektroniker%20%28m%2Fw%2Fd%29%20Automatisierungstechnik%20f%C3%BCr%20Spritzgussfertigung\">jobs@novapax.de</a>.</p> \\n       <p>Diese Position betreut unsere Kollegin Frau Bußmann. Gerne beantwortet sie Ihre Fragen vorab telefonisch unter\\xa0<span class=\"no-wrap\">030 70191443</span>.</p> \\n      </div> \\n     </div> \\n     \\n     \\n     <div data-ker=\"wysiwyg\" data-ker-id=\"adresse\" itemprop=\"contact\"> \\n      <p><b>NOVAPAX Kunststofftechnik </b><strong>Steiner GmbH & Co. KG</strong><br> Schätzelbergstraße 4–10, 12099 Berlin | <a href=\"https://anzeigenvorschau.net/bestmedia/img/1064226/2056378/cl/d96443e9b63fd35bc59558ceda6522d6f4113989/L3933905/JeyJvbGRsaW5rIjoiaHR0cHM6Ly93d3cubm92YXBheC5kZSIsInpsIjoiam9idGVuc29yLmNvbSJ9\" target=\"_blank\">www.novapax.de</a></p> \\n     </div> \\n     \\n   </div> \\n    \\n  </div>'"
      ]
     },
     "execution_count": 36,
     "metadata": {},
     "output_type": "execute_result"
    }
   ],
   "source": [
    "json_data[\"description\"]"
   ]
  },
  {
   "cell_type": "code",
   "execution_count": null,
   "id": "04dd6df2-6095-4046-aff0-d57f9142e8db",
   "metadata": {},
   "outputs": [],
   "source": [
    "<div data-ker=\"wysiwyg\" data-ker-id=\"u_beschreibung\" itemprop=\"description\">\n",
    "<div data-ker=\"wysiwyg\" data-ker-id=\"aufgaben\" itemprop=\"responsibilities\">\n",
    "<div data-ker=\"wysiwyg\" data-ker-id=\"profil\" itemprop=\"qualifications\">\n",
    "<div data-ker=\"wysiwyg\" data-ker-id=\"wir_bieten\" itemprop=\"jobBenefits\">"
   ]
  },
  {
   "cell_type": "code",
   "execution_count": 37,
   "id": "17888d84-5675-4939-bfd2-614f4e6479c4",
   "metadata": {},
   "outputs": [
    {
     "name": "stdout",
     "output_type": "stream",
     "text": [
      "Div 1:\n",
      "<div id=\"jobtempl\" itemscope=\"\" itemtype=\"http://schema.org/JobPosting\">\n",
      " <div id=\"wrapper\">\n",
      "  <p class=\"logo\">\n",
      "   <a href=\"https://anzeigenvorschau.net/bestmedia/img/1064226/2056378/cl/2178a78eac4bca4bac7ca98a88afd24d452e6954/L3933903/JeyJvbGRsaW5rIjoiaHR0cHM6Ly93d3cubm92YXBheC5kZSIsInpsIjoiam9idGVuc29yLmNvbSJ9\" target=\"_blank\">\n",
      "   </a>\n",
      "  </p>\n",
      "  <div class=\"inner verticalspace\">\n",
      "   <div data-ker=\"wysiwyg\" data-ker-id=\"u_beschreibung\" itemprop=\"description\">\n",
      "    <p>\n",
      "     <b>\n",
      "      NOVAPAX\n",
      "     </b>\n",
      "     ist ein mittelständisches Unter­nehmen der Kunststoff verarbeitenden Industrie mit ca. 190 Mitarbeitenden mit Sitz in Berlin. Schwer­punkt ist die Her­stellung komplexer technischer Komponenten und Bau­gruppen im Kunst­stoff­spritzguss für Kunden aus den Branchen Automobil, Elektronik, Bau, Medizin und Sanitär. Basis für die Realisierung der präzisen Komponenten ist der eigene Formen­bau mit 75 Jahren Erfahrung. Der Maschinen­park der Spritzerei umfasst über 75 Einheiten von 35 bis 400 Tonnen Schließ­kraft der Marken Arburg, Engel und Demag. Die Fertigungs­konzepte werden im Team von Projekt­management, Konstruktion, Formenbau, Fertigung, Betriebs- und Verfahrens­technik sowie Quali­täts­sicherung entwickelt.\n",
      "    </p>\n",
      "   </div>\n",
      "   <div data-ker=\"wysiwyg\" data-ker-id=\"titel_einleitung\" itemprop=\"description\">\n",
      "    <p>\n",
      "     Werden Sie Teil unseres Teams am Standort\n",
      "     <b>\n",
      "      Berlin\n",
      "     </b>\n",
      "     als\n",
      "    </p>\n",
      "   </div>\n",
      "   <h2 itemprop=\"description\">\n",
      "    <strong class=\"hgross\" data-ker=\"input\" data-ker-id=\"titel\">\n",
      "     <strong>\n",
      "      Mechatroniker / Elektroniker (m/w/d)\n",
      "     </strong>\n",
      "    </strong>\n",
      "    <strong data-ker=\"input\" data-ker-id=\"untertitel\">\n",
      "     <br/>\n",
      "     <strong data-ker=\"input\" data-ker-id=\"titel\">\n",
      "      <strong>\n",
      "       Mechatroniker / Elektroniker (m/w/d)\n",
      "      </strong>\n",
      "     </strong>\n",
      "    </strong>\n",
      "   </h2>\n",
      "   <h4 data-ker=\"input\" data-ker-id=\"label_aufgaben\">\n",
      "    Freuen Sie sich auf Ihre neuen Aufgaben:\n",
      "   </h4>\n",
      "   <div data-ker=\"wysiwyg\" data-ker-id=\"aufgaben\" itemprop=\"responsibilities\">\n",
      "    <ul>\n",
      "     <li>\n",
      "      Mitwirkung bei der Konzeption, Anfrage und Beauftragung von Auto­mations­prozessen in Verbindung mit Spritz­guss­maschinen für robuste Serien­prozesse\n",
      "     </li>\n",
      "     <li>\n",
      "      Begleitung ausgewählter Lösungsanbieter für Auto­matisierungs­technik während der Projek­tierungs­phasen bis hin zu einer effi­zienten Serien­fertigung\n",
      "     </li>\n",
      "     <li>\n",
      "      Organisation von Vorabnahmen, Installationen, Inbetrieb­nahmen und Abnahmen neuer Automations­anlagen für die Serien­produktion\n",
      "     </li>\n",
      "     <li>\n",
      "      Schulung der Mitarbeitenden zur Handhabung komplexer Anlagen und Maschinen\n",
      "     </li>\n",
      "     <li>\n",
      "      Optimierung der Prozesse in Fertigungs­anlagen, einschließlich Spritz­guss­maschinen und Peripherie­anlagen\n",
      "     </li>\n",
      "     <li>\n",
      "      Sicherstellung der Anlagen­verfüg­barkeit durch Behebung von Störungen und Fehlfunktionen\n",
      "     </li>\n",
      "     <li>\n",
      "      Installation, Montage, Reparatur und Instand­haltung mecha­tronischer Systeme\n",
      "     </li>\n",
      "     <li>\n",
      "      Parametrier- und Programmier­arbeiten an Anlagen und Maschinen\n",
      "     </li>\n",
      "     <li>\n",
      "      Dokumentation durchgeführter Arbeiten, Erstellung von Wartungs­protokollen sowie Aktualisierung technischer Unterlagen und Pläne im MES- bzw. ERP-System\n",
      "     </li>\n",
      "    </ul>\n",
      "   </div>\n",
      "   <h4 data-ker=\"input\" data-ker-id=\"label_profil\">\n",
      "    Überzeugen Sie uns mit Ihrem Profil:\n",
      "   </h4>\n",
      "   <div data-ker=\"wysiwyg\" data-ker-id=\"profil\" itemprop=\"qualifications\">\n",
      "    <ul>\n",
      "     <li>\n",
      "      Abgeschlossene Ausbildung als Mechatroniker (m/w/d), Industrie­elektriker (m/w/d) oder Elektroniker (m/w/d) für Automatisierungs- und System­technik bzw. eine vergleichbare Quali­fikation\n",
      "     </li>\n",
      "     <li>\n",
      "      Idealerweise praktische Erfahrung in der Kunst­stoff­spritz­guss­produktion\n",
      "     </li>\n",
      "     <li>\n",
      "      Mehrjährige Berufserfahrung in der Installation, Wartung und Reparatur elektrischer Anlagen und mecha­tronischer Systeme\n",
      "     </li>\n",
      "     <li>\n",
      "      Know-how in der Fehleranalyse und -behebung sowie Grundkenntnisse in der Programmierung von Steuerungs­systemen\n",
      "     </li>\n",
      "     <li>\n",
      "      Routinierter Umgang mit MES- und ERP-Systemen sowie MS Office\n",
      "     </li>\n",
      "     <li>\n",
      "      Gute Deutsch- und Englischkenntnisse in Wort und Schrift\n",
      "     </li>\n",
      "     <li>\n",
      "      Bereitschaft zur Weiterbildung in den Bereichen Elektro­technik, Mechanik und Automation\n",
      "     </li>\n",
      "     <li>\n",
      "      Teamfähigkeit, Zuverlässig­keit, Flexibilität und Anpassungs­fähig­keit in einem dynamischen Arbeits­umfeld\n",
      "     </li>\n",
      "     <li>\n",
      "      Hohe Lernbereitschaft und Engagement zur Verbesserung von Prozessen und Systemen\n",
      "     </li>\n",
      "     <li>\n",
      "      Freude an der Weitergabe von Wissen an Ihre Kollegen (m/w/d) und der Über­nahme neuer Aufgaben und Projekte\n",
      "     </li>\n",
      "     <li>\n",
      "      Bereitschaft zur Arbeit im Mehr­schicht­system\n",
      "     </li>\n",
      "    </ul>\n",
      "   </div>\n",
      "   <h4 data-ker=\"input\" data-ker-id=\"label_wir_bieten\">\n",
      "    Unser Angebot für Sie:\n",
      "   </h4>\n",
      "   <div data-ker=\"wysiwyg\" data-ker-id=\"wir_bieten\" itemprop=\"jobBenefits\">\n",
      "    <ul>\n",
      "     <li>\n",
      "      Ein erfolgreiches Familienunternehmen mit Wachstumspotenzial\n",
      "     </li>\n",
      "     <li>\n",
      "      Interessante Aufgaben in einem innovativen Umfeld\n",
      "     </li>\n",
      "     <li>\n",
      "      Ein umfassendes Einarbeitungsprogramm\n",
      "     </li>\n",
      "     <li>\n",
      "      Eine leistungsgerechte, attraktive Vergütung\n",
      "     </li>\n",
      "     <li>\n",
      "      30 Tage Urlaub\n",
      "     </li>\n",
      "     <li>\n",
      "      Fort- und Weiterbildungsangebote\n",
      "     </li>\n",
      "     <li>\n",
      "      Kostenfreie Mitarbeiterparkplätze sowie Zuschuss zum Deutschlandticket\n",
      "     </li>\n",
      "     <li>\n",
      "      Arbeitgeberunterstützte Altersvorsorge und vermögenswirksame Leistungen\n",
      "     </li>\n",
      "    </ul>\n",
      "   </div>\n",
      "   <h4 data-ker=\"input\" data-ker-id=\"label_firmenkontakt\">\n",
      "    Bereit für neue Wege?\n",
      "   </h4>\n",
      "   <div data-ker=\"wysiwyg\" data-ker-id=\"firmenkontakt\" itemprop=\"contact\">\n",
      "    <p>\n",
      "     Dann freuen wir uns auf Ihre aussagekräftige Bewerbung unter Angabe Ihrer Gehaltsvorstellung und des frühestmöglichen Eintrittstermins per E-Mail an\n",
      "     <a href=\"mailto:jobs@novapax.de?subject=Bewerbung%20als%20Mechatroniker%20%2F%20Elektroniker%20%28m%2Fw%2Fd%29%20Automatisierungstechnik%20f%C3%BCr%20Spritzgussfertigung\">\n",
      "      jobs@novapax.de\n",
      "     </a>\n",
      "     .\n",
      "    </p>\n",
      "    <p>\n",
      "     Diese Position betreut unsere Kollegin Frau Bußmann. Gerne beantwortet sie Ihre Fragen vorab telefonisch unter\n",
      "     <span class=\"no-wrap\">\n",
      "      030 70191443\n",
      "     </span>\n",
      "     .\n",
      "    </p>\n",
      "   </div>\n",
      "  </div>\n",
      "  <div data-ker=\"wysiwyg\" data-ker-id=\"adresse\" itemprop=\"contact\">\n",
      "   <p>\n",
      "    <b>\n",
      "     NOVAPAX Kunststofftechnik\n",
      "    </b>\n",
      "    <strong>\n",
      "     Steiner GmbH &amp; Co. KG\n",
      "    </strong>\n",
      "    <br/>\n",
      "    Schätzelbergstraße 4–10, 12099 Berlin |\n",
      "    <a href=\"https://anzeigenvorschau.net/bestmedia/img/1064226/2056378/cl/d96443e9b63fd35bc59558ceda6522d6f4113989/L3933905/JeyJvbGRsaW5rIjoiaHR0cHM6Ly93d3cubm92YXBheC5kZSIsInpsIjoiam9idGVuc29yLmNvbSJ9\" target=\"_blank\">\n",
      "     www.novapax.de\n",
      "    </a>\n",
      "   </p>\n",
      "  </div>\n",
      " </div>\n",
      "</div>\n",
      "--------------------------------------------------\n",
      "Div 2:\n",
      "<div id=\"wrapper\">\n",
      " <p class=\"logo\">\n",
      "  <a href=\"https://anzeigenvorschau.net/bestmedia/img/1064226/2056378/cl/2178a78eac4bca4bac7ca98a88afd24d452e6954/L3933903/JeyJvbGRsaW5rIjoiaHR0cHM6Ly93d3cubm92YXBheC5kZSIsInpsIjoiam9idGVuc29yLmNvbSJ9\" target=\"_blank\">\n",
      "  </a>\n",
      " </p>\n",
      " <div class=\"inner verticalspace\">\n",
      "  <div data-ker=\"wysiwyg\" data-ker-id=\"u_beschreibung\" itemprop=\"description\">\n",
      "   <p>\n",
      "    <b>\n",
      "     NOVAPAX\n",
      "    </b>\n",
      "    ist ein mittelständisches Unter­nehmen der Kunststoff verarbeitenden Industrie mit ca. 190 Mitarbeitenden mit Sitz in Berlin. Schwer­punkt ist die Her­stellung komplexer technischer Komponenten und Bau­gruppen im Kunst­stoff­spritzguss für Kunden aus den Branchen Automobil, Elektronik, Bau, Medizin und Sanitär. Basis für die Realisierung der präzisen Komponenten ist der eigene Formen­bau mit 75 Jahren Erfahrung. Der Maschinen­park der Spritzerei umfasst über 75 Einheiten von 35 bis 400 Tonnen Schließ­kraft der Marken Arburg, Engel und Demag. Die Fertigungs­konzepte werden im Team von Projekt­management, Konstruktion, Formenbau, Fertigung, Betriebs- und Verfahrens­technik sowie Quali­täts­sicherung entwickelt.\n",
      "   </p>\n",
      "  </div>\n",
      "  <div data-ker=\"wysiwyg\" data-ker-id=\"titel_einleitung\" itemprop=\"description\">\n",
      "   <p>\n",
      "    Werden Sie Teil unseres Teams am Standort\n",
      "    <b>\n",
      "     Berlin\n",
      "    </b>\n",
      "    als\n",
      "   </p>\n",
      "  </div>\n",
      "  <h2 itemprop=\"description\">\n",
      "   <strong class=\"hgross\" data-ker=\"input\" data-ker-id=\"titel\">\n",
      "    <strong>\n",
      "     Mechatroniker / Elektroniker (m/w/d)\n",
      "    </strong>\n",
      "   </strong>\n",
      "   <strong data-ker=\"input\" data-ker-id=\"untertitel\">\n",
      "    <br/>\n",
      "    <strong data-ker=\"input\" data-ker-id=\"titel\">\n",
      "     <strong>\n",
      "      Mechatroniker / Elektroniker (m/w/d)\n",
      "     </strong>\n",
      "    </strong>\n",
      "   </strong>\n",
      "  </h2>\n",
      "  <h4 data-ker=\"input\" data-ker-id=\"label_aufgaben\">\n",
      "   Freuen Sie sich auf Ihre neuen Aufgaben:\n",
      "  </h4>\n",
      "  <div data-ker=\"wysiwyg\" data-ker-id=\"aufgaben\" itemprop=\"responsibilities\">\n",
      "   <ul>\n",
      "    <li>\n",
      "     Mitwirkung bei der Konzeption, Anfrage und Beauftragung von Auto­mations­prozessen in Verbindung mit Spritz­guss­maschinen für robuste Serien­prozesse\n",
      "    </li>\n",
      "    <li>\n",
      "     Begleitung ausgewählter Lösungsanbieter für Auto­matisierungs­technik während der Projek­tierungs­phasen bis hin zu einer effi­zienten Serien­fertigung\n",
      "    </li>\n",
      "    <li>\n",
      "     Organisation von Vorabnahmen, Installationen, Inbetrieb­nahmen und Abnahmen neuer Automations­anlagen für die Serien­produktion\n",
      "    </li>\n",
      "    <li>\n",
      "     Schulung der Mitarbeitenden zur Handhabung komplexer Anlagen und Maschinen\n",
      "    </li>\n",
      "    <li>\n",
      "     Optimierung der Prozesse in Fertigungs­anlagen, einschließlich Spritz­guss­maschinen und Peripherie­anlagen\n",
      "    </li>\n",
      "    <li>\n",
      "     Sicherstellung der Anlagen­verfüg­barkeit durch Behebung von Störungen und Fehlfunktionen\n",
      "    </li>\n",
      "    <li>\n",
      "     Installation, Montage, Reparatur und Instand­haltung mecha­tronischer Systeme\n",
      "    </li>\n",
      "    <li>\n",
      "     Parametrier- und Programmier­arbeiten an Anlagen und Maschinen\n",
      "    </li>\n",
      "    <li>\n",
      "     Dokumentation durchgeführter Arbeiten, Erstellung von Wartungs­protokollen sowie Aktualisierung technischer Unterlagen und Pläne im MES- bzw. ERP-System\n",
      "    </li>\n",
      "   </ul>\n",
      "  </div>\n",
      "  <h4 data-ker=\"input\" data-ker-id=\"label_profil\">\n",
      "   Überzeugen Sie uns mit Ihrem Profil:\n",
      "  </h4>\n",
      "  <div data-ker=\"wysiwyg\" data-ker-id=\"profil\" itemprop=\"qualifications\">\n",
      "   <ul>\n",
      "    <li>\n",
      "     Abgeschlossene Ausbildung als Mechatroniker (m/w/d), Industrie­elektriker (m/w/d) oder Elektroniker (m/w/d) für Automatisierungs- und System­technik bzw. eine vergleichbare Quali­fikation\n",
      "    </li>\n",
      "    <li>\n",
      "     Idealerweise praktische Erfahrung in der Kunst­stoff­spritz­guss­produktion\n",
      "    </li>\n",
      "    <li>\n",
      "     Mehrjährige Berufserfahrung in der Installation, Wartung und Reparatur elektrischer Anlagen und mecha­tronischer Systeme\n",
      "    </li>\n",
      "    <li>\n",
      "     Know-how in der Fehleranalyse und -behebung sowie Grundkenntnisse in der Programmierung von Steuerungs­systemen\n",
      "    </li>\n",
      "    <li>\n",
      "     Routinierter Umgang mit MES- und ERP-Systemen sowie MS Office\n",
      "    </li>\n",
      "    <li>\n",
      "     Gute Deutsch- und Englischkenntnisse in Wort und Schrift\n",
      "    </li>\n",
      "    <li>\n",
      "     Bereitschaft zur Weiterbildung in den Bereichen Elektro­technik, Mechanik und Automation\n",
      "    </li>\n",
      "    <li>\n",
      "     Teamfähigkeit, Zuverlässig­keit, Flexibilität und Anpassungs­fähig­keit in einem dynamischen Arbeits­umfeld\n",
      "    </li>\n",
      "    <li>\n",
      "     Hohe Lernbereitschaft und Engagement zur Verbesserung von Prozessen und Systemen\n",
      "    </li>\n",
      "    <li>\n",
      "     Freude an der Weitergabe von Wissen an Ihre Kollegen (m/w/d) und der Über­nahme neuer Aufgaben und Projekte\n",
      "    </li>\n",
      "    <li>\n",
      "     Bereitschaft zur Arbeit im Mehr­schicht­system\n",
      "    </li>\n",
      "   </ul>\n",
      "  </div>\n",
      "  <h4 data-ker=\"input\" data-ker-id=\"label_wir_bieten\">\n",
      "   Unser Angebot für Sie:\n",
      "  </h4>\n",
      "  <div data-ker=\"wysiwyg\" data-ker-id=\"wir_bieten\" itemprop=\"jobBenefits\">\n",
      "   <ul>\n",
      "    <li>\n",
      "     Ein erfolgreiches Familienunternehmen mit Wachstumspotenzial\n",
      "    </li>\n",
      "    <li>\n",
      "     Interessante Aufgaben in einem innovativen Umfeld\n",
      "    </li>\n",
      "    <li>\n",
      "     Ein umfassendes Einarbeitungsprogramm\n",
      "    </li>\n",
      "    <li>\n",
      "     Eine leistungsgerechte, attraktive Vergütung\n",
      "    </li>\n",
      "    <li>\n",
      "     30 Tage Urlaub\n",
      "    </li>\n",
      "    <li>\n",
      "     Fort- und Weiterbildungsangebote\n",
      "    </li>\n",
      "    <li>\n",
      "     Kostenfreie Mitarbeiterparkplätze sowie Zuschuss zum Deutschlandticket\n",
      "    </li>\n",
      "    <li>\n",
      "     Arbeitgeberunterstützte Altersvorsorge und vermögenswirksame Leistungen\n",
      "    </li>\n",
      "   </ul>\n",
      "  </div>\n",
      "  <h4 data-ker=\"input\" data-ker-id=\"label_firmenkontakt\">\n",
      "   Bereit für neue Wege?\n",
      "  </h4>\n",
      "  <div data-ker=\"wysiwyg\" data-ker-id=\"firmenkontakt\" itemprop=\"contact\">\n",
      "   <p>\n",
      "    Dann freuen wir uns auf Ihre aussagekräftige Bewerbung unter Angabe Ihrer Gehaltsvorstellung und des frühestmöglichen Eintrittstermins per E-Mail an\n",
      "    <a href=\"mailto:jobs@novapax.de?subject=Bewerbung%20als%20Mechatroniker%20%2F%20Elektroniker%20%28m%2Fw%2Fd%29%20Automatisierungstechnik%20f%C3%BCr%20Spritzgussfertigung\">\n",
      "     jobs@novapax.de\n",
      "    </a>\n",
      "    .\n",
      "   </p>\n",
      "   <p>\n",
      "    Diese Position betreut unsere Kollegin Frau Bußmann. Gerne beantwortet sie Ihre Fragen vorab telefonisch unter\n",
      "    <span class=\"no-wrap\">\n",
      "     030 70191443\n",
      "    </span>\n",
      "    .\n",
      "   </p>\n",
      "  </div>\n",
      " </div>\n",
      " <div data-ker=\"wysiwyg\" data-ker-id=\"adresse\" itemprop=\"contact\">\n",
      "  <p>\n",
      "   <b>\n",
      "    NOVAPAX Kunststofftechnik\n",
      "   </b>\n",
      "   <strong>\n",
      "    Steiner GmbH &amp; Co. KG\n",
      "   </strong>\n",
      "   <br/>\n",
      "   Schätzelbergstraße 4–10, 12099 Berlin |\n",
      "   <a href=\"https://anzeigenvorschau.net/bestmedia/img/1064226/2056378/cl/d96443e9b63fd35bc59558ceda6522d6f4113989/L3933905/JeyJvbGRsaW5rIjoiaHR0cHM6Ly93d3cubm92YXBheC5kZSIsInpsIjoiam9idGVuc29yLmNvbSJ9\" target=\"_blank\">\n",
      "    www.novapax.de\n",
      "   </a>\n",
      "  </p>\n",
      " </div>\n",
      "</div>\n",
      "\n",
      "--------------------------------------------------\n",
      "Div 3:\n",
      "<div class=\"inner verticalspace\">\n",
      " <div data-ker=\"wysiwyg\" data-ker-id=\"u_beschreibung\" itemprop=\"description\">\n",
      "  <p>\n",
      "   <b>\n",
      "    NOVAPAX\n",
      "   </b>\n",
      "   ist ein mittelständisches Unter­nehmen der Kunststoff verarbeitenden Industrie mit ca. 190 Mitarbeitenden mit Sitz in Berlin. Schwer­punkt ist die Her­stellung komplexer technischer Komponenten und Bau­gruppen im Kunst­stoff­spritzguss für Kunden aus den Branchen Automobil, Elektronik, Bau, Medizin und Sanitär. Basis für die Realisierung der präzisen Komponenten ist der eigene Formen­bau mit 75 Jahren Erfahrung. Der Maschinen­park der Spritzerei umfasst über 75 Einheiten von 35 bis 400 Tonnen Schließ­kraft der Marken Arburg, Engel und Demag. Die Fertigungs­konzepte werden im Team von Projekt­management, Konstruktion, Formenbau, Fertigung, Betriebs- und Verfahrens­technik sowie Quali­täts­sicherung entwickelt.\n",
      "  </p>\n",
      " </div>\n",
      " <div data-ker=\"wysiwyg\" data-ker-id=\"titel_einleitung\" itemprop=\"description\">\n",
      "  <p>\n",
      "   Werden Sie Teil unseres Teams am Standort\n",
      "   <b>\n",
      "    Berlin\n",
      "   </b>\n",
      "   als\n",
      "  </p>\n",
      " </div>\n",
      " <h2 itemprop=\"description\">\n",
      "  <strong class=\"hgross\" data-ker=\"input\" data-ker-id=\"titel\">\n",
      "   <strong>\n",
      "    Mechatroniker / Elektroniker (m/w/d)\n",
      "   </strong>\n",
      "  </strong>\n",
      "  <strong data-ker=\"input\" data-ker-id=\"untertitel\">\n",
      "   <br/>\n",
      "   <strong data-ker=\"input\" data-ker-id=\"titel\">\n",
      "    <strong>\n",
      "     Mechatroniker / Elektroniker (m/w/d)\n",
      "    </strong>\n",
      "   </strong>\n",
      "  </strong>\n",
      " </h2>\n",
      " <h4 data-ker=\"input\" data-ker-id=\"label_aufgaben\">\n",
      "  Freuen Sie sich auf Ihre neuen Aufgaben:\n",
      " </h4>\n",
      " <div data-ker=\"wysiwyg\" data-ker-id=\"aufgaben\" itemprop=\"responsibilities\">\n",
      "  <ul>\n",
      "   <li>\n",
      "    Mitwirkung bei der Konzeption, Anfrage und Beauftragung von Auto­mations­prozessen in Verbindung mit Spritz­guss­maschinen für robuste Serien­prozesse\n",
      "   </li>\n",
      "   <li>\n",
      "    Begleitung ausgewählter Lösungsanbieter für Auto­matisierungs­technik während der Projek­tierungs­phasen bis hin zu einer effi­zienten Serien­fertigung\n",
      "   </li>\n",
      "   <li>\n",
      "    Organisation von Vorabnahmen, Installationen, Inbetrieb­nahmen und Abnahmen neuer Automations­anlagen für die Serien­produktion\n",
      "   </li>\n",
      "   <li>\n",
      "    Schulung der Mitarbeitenden zur Handhabung komplexer Anlagen und Maschinen\n",
      "   </li>\n",
      "   <li>\n",
      "    Optimierung der Prozesse in Fertigungs­anlagen, einschließlich Spritz­guss­maschinen und Peripherie­anlagen\n",
      "   </li>\n",
      "   <li>\n",
      "    Sicherstellung der Anlagen­verfüg­barkeit durch Behebung von Störungen und Fehlfunktionen\n",
      "   </li>\n",
      "   <li>\n",
      "    Installation, Montage, Reparatur und Instand­haltung mecha­tronischer Systeme\n",
      "   </li>\n",
      "   <li>\n",
      "    Parametrier- und Programmier­arbeiten an Anlagen und Maschinen\n",
      "   </li>\n",
      "   <li>\n",
      "    Dokumentation durchgeführter Arbeiten, Erstellung von Wartungs­protokollen sowie Aktualisierung technischer Unterlagen und Pläne im MES- bzw. ERP-System\n",
      "   </li>\n",
      "  </ul>\n",
      " </div>\n",
      " <h4 data-ker=\"input\" data-ker-id=\"label_profil\">\n",
      "  Überzeugen Sie uns mit Ihrem Profil:\n",
      " </h4>\n",
      " <div data-ker=\"wysiwyg\" data-ker-id=\"profil\" itemprop=\"qualifications\">\n",
      "  <ul>\n",
      "   <li>\n",
      "    Abgeschlossene Ausbildung als Mechatroniker (m/w/d), Industrie­elektriker (m/w/d) oder Elektroniker (m/w/d) für Automatisierungs- und System­technik bzw. eine vergleichbare Quali­fikation\n",
      "   </li>\n",
      "   <li>\n",
      "    Idealerweise praktische Erfahrung in der Kunst­stoff­spritz­guss­produktion\n",
      "   </li>\n",
      "   <li>\n",
      "    Mehrjährige Berufserfahrung in der Installation, Wartung und Reparatur elektrischer Anlagen und mecha­tronischer Systeme\n",
      "   </li>\n",
      "   <li>\n",
      "    Know-how in der Fehleranalyse und -behebung sowie Grundkenntnisse in der Programmierung von Steuerungs­systemen\n",
      "   </li>\n",
      "   <li>\n",
      "    Routinierter Umgang mit MES- und ERP-Systemen sowie MS Office\n",
      "   </li>\n",
      "   <li>\n",
      "    Gute Deutsch- und Englischkenntnisse in Wort und Schrift\n",
      "   </li>\n",
      "   <li>\n",
      "    Bereitschaft zur Weiterbildung in den Bereichen Elektro­technik, Mechanik und Automation\n",
      "   </li>\n",
      "   <li>\n",
      "    Teamfähigkeit, Zuverlässig­keit, Flexibilität und Anpassungs­fähig­keit in einem dynamischen Arbeits­umfeld\n",
      "   </li>\n",
      "   <li>\n",
      "    Hohe Lernbereitschaft und Engagement zur Verbesserung von Prozessen und Systemen\n",
      "   </li>\n",
      "   <li>\n",
      "    Freude an der Weitergabe von Wissen an Ihre Kollegen (m/w/d) und der Über­nahme neuer Aufgaben und Projekte\n",
      "   </li>\n",
      "   <li>\n",
      "    Bereitschaft zur Arbeit im Mehr­schicht­system\n",
      "   </li>\n",
      "  </ul>\n",
      " </div>\n",
      " <h4 data-ker=\"input\" data-ker-id=\"label_wir_bieten\">\n",
      "  Unser Angebot für Sie:\n",
      " </h4>\n",
      " <div data-ker=\"wysiwyg\" data-ker-id=\"wir_bieten\" itemprop=\"jobBenefits\">\n",
      "  <ul>\n",
      "   <li>\n",
      "    Ein erfolgreiches Familienunternehmen mit Wachstumspotenzial\n",
      "   </li>\n",
      "   <li>\n",
      "    Interessante Aufgaben in einem innovativen Umfeld\n",
      "   </li>\n",
      "   <li>\n",
      "    Ein umfassendes Einarbeitungsprogramm\n",
      "   </li>\n",
      "   <li>\n",
      "    Eine leistungsgerechte, attraktive Vergütung\n",
      "   </li>\n",
      "   <li>\n",
      "    30 Tage Urlaub\n",
      "   </li>\n",
      "   <li>\n",
      "    Fort- und Weiterbildungsangebote\n",
      "   </li>\n",
      "   <li>\n",
      "    Kostenfreie Mitarbeiterparkplätze sowie Zuschuss zum Deutschlandticket\n",
      "   </li>\n",
      "   <li>\n",
      "    Arbeitgeberunterstützte Altersvorsorge und vermögenswirksame Leistungen\n",
      "   </li>\n",
      "  </ul>\n",
      " </div>\n",
      " <h4 data-ker=\"input\" data-ker-id=\"label_firmenkontakt\">\n",
      "  Bereit für neue Wege?\n",
      " </h4>\n",
      " <div data-ker=\"wysiwyg\" data-ker-id=\"firmenkontakt\" itemprop=\"contact\">\n",
      "  <p>\n",
      "   Dann freuen wir uns auf Ihre aussagekräftige Bewerbung unter Angabe Ihrer Gehaltsvorstellung und des frühestmöglichen Eintrittstermins per E-Mail an\n",
      "   <a href=\"mailto:jobs@novapax.de?subject=Bewerbung%20als%20Mechatroniker%20%2F%20Elektroniker%20%28m%2Fw%2Fd%29%20Automatisierungstechnik%20f%C3%BCr%20Spritzgussfertigung\">\n",
      "    jobs@novapax.de\n",
      "   </a>\n",
      "   .\n",
      "  </p>\n",
      "  <p>\n",
      "   Diese Position betreut unsere Kollegin Frau Bußmann. Gerne beantwortet sie Ihre Fragen vorab telefonisch unter\n",
      "   <span class=\"no-wrap\">\n",
      "    030 70191443\n",
      "   </span>\n",
      "   .\n",
      "  </p>\n",
      " </div>\n",
      "</div>\n",
      "\n",
      "--------------------------------------------------\n",
      "Div 4:\n",
      "<div data-ker=\"wysiwyg\" data-ker-id=\"u_beschreibung\" itemprop=\"description\">\n",
      " <p>\n",
      "  <b>\n",
      "   NOVAPAX\n",
      "  </b>\n",
      "  ist ein mittelständisches Unter­nehmen der Kunststoff verarbeitenden Industrie mit ca. 190 Mitarbeitenden mit Sitz in Berlin. Schwer­punkt ist die Her­stellung komplexer technischer Komponenten und Bau­gruppen im Kunst­stoff­spritzguss für Kunden aus den Branchen Automobil, Elektronik, Bau, Medizin und Sanitär. Basis für die Realisierung der präzisen Komponenten ist der eigene Formen­bau mit 75 Jahren Erfahrung. Der Maschinen­park der Spritzerei umfasst über 75 Einheiten von 35 bis 400 Tonnen Schließ­kraft der Marken Arburg, Engel und Demag. Die Fertigungs­konzepte werden im Team von Projekt­management, Konstruktion, Formenbau, Fertigung, Betriebs- und Verfahrens­technik sowie Quali­täts­sicherung entwickelt.\n",
      " </p>\n",
      "</div>\n",
      "\n",
      "--------------------------------------------------\n",
      "Div 5:\n",
      "<div data-ker=\"wysiwyg\" data-ker-id=\"titel_einleitung\" itemprop=\"description\">\n",
      " <p>\n",
      "  Werden Sie Teil unseres Teams am Standort\n",
      "  <b>\n",
      "   Berlin\n",
      "  </b>\n",
      "  als\n",
      " </p>\n",
      "</div>\n",
      "\n",
      "--------------------------------------------------\n",
      "Div 6:\n",
      "<div data-ker=\"wysiwyg\" data-ker-id=\"aufgaben\" itemprop=\"responsibilities\">\n",
      " <ul>\n",
      "  <li>\n",
      "   Mitwirkung bei der Konzeption, Anfrage und Beauftragung von Auto­mations­prozessen in Verbindung mit Spritz­guss­maschinen für robuste Serien­prozesse\n",
      "  </li>\n",
      "  <li>\n",
      "   Begleitung ausgewählter Lösungsanbieter für Auto­matisierungs­technik während der Projek­tierungs­phasen bis hin zu einer effi­zienten Serien­fertigung\n",
      "  </li>\n",
      "  <li>\n",
      "   Organisation von Vorabnahmen, Installationen, Inbetrieb­nahmen und Abnahmen neuer Automations­anlagen für die Serien­produktion\n",
      "  </li>\n",
      "  <li>\n",
      "   Schulung der Mitarbeitenden zur Handhabung komplexer Anlagen und Maschinen\n",
      "  </li>\n",
      "  <li>\n",
      "   Optimierung der Prozesse in Fertigungs­anlagen, einschließlich Spritz­guss­maschinen und Peripherie­anlagen\n",
      "  </li>\n",
      "  <li>\n",
      "   Sicherstellung der Anlagen­verfüg­barkeit durch Behebung von Störungen und Fehlfunktionen\n",
      "  </li>\n",
      "  <li>\n",
      "   Installation, Montage, Reparatur und Instand­haltung mecha­tronischer Systeme\n",
      "  </li>\n",
      "  <li>\n",
      "   Parametrier- und Programmier­arbeiten an Anlagen und Maschinen\n",
      "  </li>\n",
      "  <li>\n",
      "   Dokumentation durchgeführter Arbeiten, Erstellung von Wartungs­protokollen sowie Aktualisierung technischer Unterlagen und Pläne im MES- bzw. ERP-System\n",
      "  </li>\n",
      " </ul>\n",
      "</div>\n",
      "\n",
      "--------------------------------------------------\n",
      "Div 7:\n",
      "<div data-ker=\"wysiwyg\" data-ker-id=\"profil\" itemprop=\"qualifications\">\n",
      " <ul>\n",
      "  <li>\n",
      "   Abgeschlossene Ausbildung als Mechatroniker (m/w/d), Industrie­elektriker (m/w/d) oder Elektroniker (m/w/d) für Automatisierungs- und System­technik bzw. eine vergleichbare Quali­fikation\n",
      "  </li>\n",
      "  <li>\n",
      "   Idealerweise praktische Erfahrung in der Kunst­stoff­spritz­guss­produktion\n",
      "  </li>\n",
      "  <li>\n",
      "   Mehrjährige Berufserfahrung in der Installation, Wartung und Reparatur elektrischer Anlagen und mecha­tronischer Systeme\n",
      "  </li>\n",
      "  <li>\n",
      "   Know-how in der Fehleranalyse und -behebung sowie Grundkenntnisse in der Programmierung von Steuerungs­systemen\n",
      "  </li>\n",
      "  <li>\n",
      "   Routinierter Umgang mit MES- und ERP-Systemen sowie MS Office\n",
      "  </li>\n",
      "  <li>\n",
      "   Gute Deutsch- und Englischkenntnisse in Wort und Schrift\n",
      "  </li>\n",
      "  <li>\n",
      "   Bereitschaft zur Weiterbildung in den Bereichen Elektro­technik, Mechanik und Automation\n",
      "  </li>\n",
      "  <li>\n",
      "   Teamfähigkeit, Zuverlässig­keit, Flexibilität und Anpassungs­fähig­keit in einem dynamischen Arbeits­umfeld\n",
      "  </li>\n",
      "  <li>\n",
      "   Hohe Lernbereitschaft und Engagement zur Verbesserung von Prozessen und Systemen\n",
      "  </li>\n",
      "  <li>\n",
      "   Freude an der Weitergabe von Wissen an Ihre Kollegen (m/w/d) und der Über­nahme neuer Aufgaben und Projekte\n",
      "  </li>\n",
      "  <li>\n",
      "   Bereitschaft zur Arbeit im Mehr­schicht­system\n",
      "  </li>\n",
      " </ul>\n",
      "</div>\n",
      "\n",
      "--------------------------------------------------\n",
      "Div 8:\n",
      "<div data-ker=\"wysiwyg\" data-ker-id=\"wir_bieten\" itemprop=\"jobBenefits\">\n",
      " <ul>\n",
      "  <li>\n",
      "   Ein erfolgreiches Familienunternehmen mit Wachstumspotenzial\n",
      "  </li>\n",
      "  <li>\n",
      "   Interessante Aufgaben in einem innovativen Umfeld\n",
      "  </li>\n",
      "  <li>\n",
      "   Ein umfassendes Einarbeitungsprogramm\n",
      "  </li>\n",
      "  <li>\n",
      "   Eine leistungsgerechte, attraktive Vergütung\n",
      "  </li>\n",
      "  <li>\n",
      "   30 Tage Urlaub\n",
      "  </li>\n",
      "  <li>\n",
      "   Fort- und Weiterbildungsangebote\n",
      "  </li>\n",
      "  <li>\n",
      "   Kostenfreie Mitarbeiterparkplätze sowie Zuschuss zum Deutschlandticket\n",
      "  </li>\n",
      "  <li>\n",
      "   Arbeitgeberunterstützte Altersvorsorge und vermögenswirksame Leistungen\n",
      "  </li>\n",
      " </ul>\n",
      "</div>\n",
      "\n",
      "--------------------------------------------------\n",
      "Div 9:\n",
      "<div data-ker=\"wysiwyg\" data-ker-id=\"firmenkontakt\" itemprop=\"contact\">\n",
      " <p>\n",
      "  Dann freuen wir uns auf Ihre aussagekräftige Bewerbung unter Angabe Ihrer Gehaltsvorstellung und des frühestmöglichen Eintrittstermins per E-Mail an\n",
      "  <a href=\"mailto:jobs@novapax.de?subject=Bewerbung%20als%20Mechatroniker%20%2F%20Elektroniker%20%28m%2Fw%2Fd%29%20Automatisierungstechnik%20f%C3%BCr%20Spritzgussfertigung\">\n",
      "   jobs@novapax.de\n",
      "  </a>\n",
      "  .\n",
      " </p>\n",
      " <p>\n",
      "  Diese Position betreut unsere Kollegin Frau Bußmann. Gerne beantwortet sie Ihre Fragen vorab telefonisch unter\n",
      "  <span class=\"no-wrap\">\n",
      "   030 70191443\n",
      "  </span>\n",
      "  .\n",
      " </p>\n",
      "</div>\n",
      "\n",
      "--------------------------------------------------\n",
      "Div 10:\n",
      "<div data-ker=\"wysiwyg\" data-ker-id=\"adresse\" itemprop=\"contact\">\n",
      " <p>\n",
      "  <b>\n",
      "   NOVAPAX Kunststofftechnik\n",
      "  </b>\n",
      "  <strong>\n",
      "   Steiner GmbH &amp; Co. KG\n",
      "  </strong>\n",
      "  <br/>\n",
      "  Schätzelbergstraße 4–10, 12099 Berlin |\n",
      "  <a href=\"https://anzeigenvorschau.net/bestmedia/img/1064226/2056378/cl/d96443e9b63fd35bc59558ceda6522d6f4113989/L3933905/JeyJvbGRsaW5rIjoiaHR0cHM6Ly93d3cubm92YXBheC5kZSIsInpsIjoiam9idGVuc29yLmNvbSJ9\" target=\"_blank\">\n",
      "   www.novapax.de\n",
      "  </a>\n",
      " </p>\n",
      "</div>\n",
      "\n",
      "--------------------------------------------------\n"
     ]
    }
   ],
   "source": [
    "soup = BeautifulSoup(json_data[\"description\"], 'html.parser')\n",
    "\n",
    "# Find all <div> tags\n",
    "div_sections = soup.find_all('div')\n",
    "\n",
    "# Print each <div> section\n",
    "for index, div in enumerate(div_sections):\n",
    "    print(f\"Div {index + 1}:\")\n",
    "    print(div.prettify())  # Using prettify for better formatting\n",
    "    print(\"-\" * 50)  # Separator for clarity"
   ]
  },
  {
   "cell_type": "code",
   "execution_count": null,
   "id": "0243ad18-82d9-4a85-a16b-acd32a850a40",
   "metadata": {},
   "outputs": [],
   "source": []
  },
  {
   "cell_type": "code",
   "execution_count": null,
   "id": "43e72e87-a8e8-4507-9f90-bdbd76388d70",
   "metadata": {},
   "outputs": [],
   "source": []
  },
  {
   "cell_type": "code",
   "execution_count": null,
   "id": "a5cfeb70-cc8e-43d2-b928-017e3092f137",
   "metadata": {},
   "outputs": [],
   "source": []
  },
  {
   "cell_type": "code",
   "execution_count": null,
   "id": "1c12c686-46e7-4c91-8c1e-66d02b2e9659",
   "metadata": {},
   "outputs": [],
   "source": []
  },
  {
   "cell_type": "code",
   "execution_count": null,
   "id": "c78866f0-3924-44e5-b1c2-73db5be3d248",
   "metadata": {},
   "outputs": [],
   "source": []
  },
  {
   "cell_type": "code",
   "execution_count": null,
   "id": "37ea2e6f-8921-48f3-9209-54f04e47d1ca",
   "metadata": {},
   "outputs": [],
   "source": []
  },
  {
   "cell_type": "code",
   "execution_count": null,
   "id": "f0a4498b-c25f-4d35-962e-8c3da66e2788",
   "metadata": {},
   "outputs": [],
   "source": []
  },
  {
   "cell_type": "code",
   "execution_count": null,
   "id": "d1339be1-c103-4cd5-85a4-f216e75d04c7",
   "metadata": {},
   "outputs": [],
   "source": []
  },
  {
   "cell_type": "code",
   "execution_count": null,
   "id": "b7b89852-e0ac-4c61-9b93-8666e65243b1",
   "metadata": {},
   "outputs": [],
   "source": []
  },
  {
   "cell_type": "code",
   "execution_count": null,
   "id": "38280607-9adc-481d-ac9d-4d64b507fbae",
   "metadata": {},
   "outputs": [],
   "source": []
  },
  {
   "cell_type": "code",
   "execution_count": null,
   "id": "f64345ef-b0cb-45b8-b584-72afde8440c3",
   "metadata": {},
   "outputs": [],
   "source": []
  }
 ],
 "metadata": {
  "kernelspec": {
   "display_name": "job-search-application",
   "language": "python",
   "name": "job-search-application"
  },
  "language_info": {
   "codemirror_mode": {
    "name": "ipython",
    "version": 3
   },
   "file_extension": ".py",
   "mimetype": "text/x-python",
   "name": "python",
   "nbconvert_exporter": "python",
   "pygments_lexer": "ipython3",
   "version": "3.12.7"
  }
 },
 "nbformat": 4,
 "nbformat_minor": 5
}
